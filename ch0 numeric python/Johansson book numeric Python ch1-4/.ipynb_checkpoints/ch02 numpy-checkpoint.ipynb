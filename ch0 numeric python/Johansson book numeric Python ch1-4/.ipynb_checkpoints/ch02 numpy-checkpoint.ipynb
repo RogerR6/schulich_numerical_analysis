{
 "cells": [
  {
   "cell_type": "markdown",
   "metadata": {
    "id": "YO0MkxG5AtbP"
   },
   "source": [
    "# Chapter 2: Vectors, matrices and multidimensional arrays"
   ]
  },
  {
   "cell_type": "markdown",
   "metadata": {
    "id": "eQDcCop2AtbZ"
   },
   "source": [
    "Robert Johansson\n",
    "\n",
    "Source code listings for [Numerical Python - Scientific Computing and Data Science Applications with Numpy, SciPy and Matplotlib](https://www.apress.com/us/book/9781484242452) (ISBN 978-1-484242-45-2)."
   ]
  },
  {
   "cell_type": "code",
   "execution_count": 623,
   "metadata": {
    "executionInfo": {
     "elapsed": 2199,
     "status": "ok",
     "timestamp": 1611069765403,
     "user": {
      "displayName": "Boris Garbuzov",
      "photoUrl": "",
      "userId": "08851466340381164023"
     },
     "user_tz": 300
    },
    "id": "F7cMLKCLAtba"
   },
   "outputs": [],
   "source": [
    "import numpy as np"
   ]
  },
  {
   "cell_type": "markdown",
   "metadata": {
    "id": "b9Zp71jkAtbb"
   },
   "source": [
    "## The NumPy array object"
   ]
  },
  {
   "cell_type": "code",
   "execution_count": 624,
   "metadata": {
    "executionInfo": {
     "elapsed": 2734,
     "status": "ok",
     "timestamp": 1611069765943,
     "user": {
      "displayName": "Boris Garbuzov",
      "photoUrl": "",
      "userId": "08851466340381164023"
     },
     "user_tz": 300
    },
    "id": "ixNRStXdAtbb"
   },
   "outputs": [],
   "source": [
    "data = np.array([[1, 2], [3, 4], [5, 6], [7, 8]])"
   ]
  },
  {
   "cell_type": "code",
   "execution_count": 625,
   "metadata": {
    "colab": {
     "base_uri": "https://localhost:8080/"
    },
    "executionInfo": {
     "elapsed": 2725,
     "status": "ok",
     "timestamp": 1611069765945,
     "user": {
      "displayName": "Boris Garbuzov",
      "photoUrl": "",
      "userId": "08851466340381164023"
     },
     "user_tz": 300
    },
    "id": "9XimzYf1Atbc",
    "outputId": "237350db-60fa-4f47-9eb1-2b40c51034ec"
   },
   "outputs": [
    {
     "data": {
      "text/plain": [
       "numpy.ndarray"
      ]
     },
     "execution_count": 625,
     "metadata": {
      "tags": []
     },
     "output_type": "execute_result"
    }
   ],
   "source": [
    "type(data)"
   ]
  },
  {
   "cell_type": "code",
   "execution_count": 626,
   "metadata": {
    "colab": {
     "base_uri": "https://localhost:8080/"
    },
    "executionInfo": {
     "elapsed": 2712,
     "status": "ok",
     "timestamp": 1611069765946,
     "user": {
      "displayName": "Boris Garbuzov",
      "photoUrl": "",
      "userId": "08851466340381164023"
     },
     "user_tz": 300
    },
    "id": "9IOuC4mhAtbd",
    "outputId": "5c7b6025-ff4c-4347-9979-c1d0579ec070"
   },
   "outputs": [
    {
     "data": {
      "text/plain": [
       "array([[1, 2],\n",
       "       [3, 4],\n",
       "       [5, 6],\n",
       "       [7, 8]])"
      ]
     },
     "execution_count": 626,
     "metadata": {
      "tags": []
     },
     "output_type": "execute_result"
    }
   ],
   "source": [
    "data"
   ]
  },
  {
   "cell_type": "code",
   "execution_count": 627,
   "metadata": {
    "colab": {
     "base_uri": "https://localhost:8080/"
    },
    "executionInfo": {
     "elapsed": 2699,
     "status": "ok",
     "timestamp": 1611069765947,
     "user": {
      "displayName": "Boris Garbuzov",
      "photoUrl": "",
      "userId": "08851466340381164023"
     },
     "user_tz": 300
    },
    "id": "1gRLoCQCAtbd",
    "outputId": "2213d17c-d74d-4146-8320-b1c2758d687e"
   },
   "outputs": [
    {
     "data": {
      "text/plain": [
       "2"
      ]
     },
     "execution_count": 627,
     "metadata": {
      "tags": []
     },
     "output_type": "execute_result"
    }
   ],
   "source": [
    "data.ndim"
   ]
  },
  {
   "cell_type": "code",
   "execution_count": 628,
   "metadata": {
    "colab": {
     "base_uri": "https://localhost:8080/"
    },
    "executionInfo": {
     "elapsed": 2686,
     "status": "ok",
     "timestamp": 1611069765948,
     "user": {
      "displayName": "Boris Garbuzov",
      "photoUrl": "",
      "userId": "08851466340381164023"
     },
     "user_tz": 300
    },
    "id": "ExdI7ttqAtbe",
    "outputId": "9d206fb6-12b8-4502-a84f-92cfde5f060f"
   },
   "outputs": [
    {
     "data": {
      "text/plain": [
       "(4, 2)"
      ]
     },
     "execution_count": 628,
     "metadata": {
      "tags": []
     },
     "output_type": "execute_result"
    }
   ],
   "source": [
    "data.shape"
   ]
  },
  {
   "cell_type": "code",
   "execution_count": 629,
   "metadata": {
    "colab": {
     "base_uri": "https://localhost:8080/"
    },
    "executionInfo": {
     "elapsed": 2671,
     "status": "ok",
     "timestamp": 1611069765950,
     "user": {
      "displayName": "Boris Garbuzov",
      "photoUrl": "",
      "userId": "08851466340381164023"
     },
     "user_tz": 300
    },
    "id": "S7o2O-EsAtbf",
    "outputId": "f6dfa889-0138-4517-9767-82d5f783026e"
   },
   "outputs": [
    {
     "data": {
      "text/plain": [
       "8"
      ]
     },
     "execution_count": 629,
     "metadata": {
      "tags": []
     },
     "output_type": "execute_result"
    }
   ],
   "source": [
    "data.size"
   ]
  },
  {
   "cell_type": "code",
   "execution_count": 630,
   "metadata": {
    "colab": {
     "base_uri": "https://localhost:8080/"
    },
    "executionInfo": {
     "elapsed": 2664,
     "status": "ok",
     "timestamp": 1611069765951,
     "user": {
      "displayName": "Boris Garbuzov",
      "photoUrl": "",
      "userId": "08851466340381164023"
     },
     "user_tz": 300
    },
    "id": "uq-rbLkDAtbf",
    "outputId": "6d1fbeb8-0324-4fb9-cd78-8c6f52be6ea8"
   },
   "outputs": [
    {
     "data": {
      "text/plain": [
       "dtype('int64')"
      ]
     },
     "execution_count": 630,
     "metadata": {
      "tags": []
     },
     "output_type": "execute_result"
    }
   ],
   "source": [
    "data.dtype"
   ]
  },
  {
   "cell_type": "code",
   "execution_count": 631,
   "metadata": {
    "colab": {
     "base_uri": "https://localhost:8080/"
    },
    "executionInfo": {
     "elapsed": 2654,
     "status": "ok",
     "timestamp": 1611069765952,
     "user": {
      "displayName": "Boris Garbuzov",
      "photoUrl": "",
      "userId": "08851466340381164023"
     },
     "user_tz": 300
    },
    "id": "Uz7Dbp7LAtbg",
    "outputId": "b2e66922-bd17-47c4-f115-47f1814a86f7"
   },
   "outputs": [
    {
     "data": {
      "text/plain": [
       "64"
      ]
     },
     "execution_count": 631,
     "metadata": {
      "tags": []
     },
     "output_type": "execute_result"
    }
   ],
   "source": [
    "data.nbytes"
   ]
  },
  {
   "cell_type": "markdown",
   "metadata": {
    "id": "n-ZiqHwIAtbg"
   },
   "source": [
    "## Data types"
   ]
  },
  {
   "cell_type": "code",
   "execution_count": 632,
   "metadata": {
    "colab": {
     "base_uri": "https://localhost:8080/"
    },
    "executionInfo": {
     "elapsed": 2637,
     "status": "ok",
     "timestamp": 1611069765953,
     "user": {
      "displayName": "Boris Garbuzov",
      "photoUrl": "",
      "userId": "08851466340381164023"
     },
     "user_tz": 300
    },
    "id": "YG968f57Atbh",
    "outputId": "c98b9e04-8afd-44f6-db21-8d9c15c0a823"
   },
   "outputs": [
    {
     "data": {
      "text/plain": [
       "array([1, 2, 3])"
      ]
     },
     "execution_count": 632,
     "metadata": {
      "tags": []
     },
     "output_type": "execute_result"
    }
   ],
   "source": [
    "np.array([1, 2, 3], dtype=np.int)"
   ]
  },
  {
   "cell_type": "code",
   "execution_count": 633,
   "metadata": {
    "colab": {
     "base_uri": "https://localhost:8080/"
    },
    "executionInfo": {
     "elapsed": 2625,
     "status": "ok",
     "timestamp": 1611069765954,
     "user": {
      "displayName": "Boris Garbuzov",
      "photoUrl": "",
      "userId": "08851466340381164023"
     },
     "user_tz": 300
    },
    "id": "pA437hAkAtbh",
    "outputId": "a21b9ba1-3672-4b66-ee35-60fb786c238d"
   },
   "outputs": [
    {
     "data": {
      "text/plain": [
       "array([1., 2., 3.])"
      ]
     },
     "execution_count": 633,
     "metadata": {
      "tags": []
     },
     "output_type": "execute_result"
    }
   ],
   "source": [
    "np.array([1, 2, 3], dtype=np.float)"
   ]
  },
  {
   "cell_type": "code",
   "execution_count": 634,
   "metadata": {
    "colab": {
     "base_uri": "https://localhost:8080/"
    },
    "executionInfo": {
     "elapsed": 2614,
     "status": "ok",
     "timestamp": 1611069765955,
     "user": {
      "displayName": "Boris Garbuzov",
      "photoUrl": "",
      "userId": "08851466340381164023"
     },
     "user_tz": 300
    },
    "id": "kwfg2x5jAtbi",
    "outputId": "135b4658-558f-4558-88e0-bdacf3732363"
   },
   "outputs": [
    {
     "data": {
      "text/plain": [
       "array([1.+0.j, 2.+0.j, 3.+0.j])"
      ]
     },
     "execution_count": 634,
     "metadata": {
      "tags": []
     },
     "output_type": "execute_result"
    }
   ],
   "source": [
    "np.array([1, 2, 3], dtype=np.complex)"
   ]
  },
  {
   "cell_type": "code",
   "execution_count": 635,
   "metadata": {
    "executionInfo": {
     "elapsed": 2606,
     "status": "ok",
     "timestamp": 1611069765956,
     "user": {
      "displayName": "Boris Garbuzov",
      "photoUrl": "",
      "userId": "08851466340381164023"
     },
     "user_tz": 300
    },
    "id": "PMl9eYsAAtbi"
   },
   "outputs": [],
   "source": [
    "data = np.array(object = [1, 2, 3], dtype=np.float)"
   ]
  },
  {
   "cell_type": "code",
   "execution_count": 636,
   "metadata": {
    "colab": {
     "base_uri": "https://localhost:8080/"
    },
    "executionInfo": {
     "elapsed": 2602,
     "status": "ok",
     "timestamp": 1611069765957,
     "user": {
      "displayName": "Boris Garbuzov",
      "photoUrl": "",
      "userId": "08851466340381164023"
     },
     "user_tz": 300
    },
    "id": "w1t8uahMAtbi",
    "outputId": "7ca9b4e1-264d-4ee6-b01c-d6f6f61af75d"
   },
   "outputs": [
    {
     "data": {
      "text/plain": [
       "array([1., 2., 3.])"
      ]
     },
     "execution_count": 636,
     "metadata": {
      "tags": []
     },
     "output_type": "execute_result"
    }
   ],
   "source": [
    "data"
   ]
  },
  {
   "cell_type": "code",
   "execution_count": 637,
   "metadata": {
    "colab": {
     "base_uri": "https://localhost:8080/"
    },
    "executionInfo": {
     "elapsed": 2586,
     "status": "ok",
     "timestamp": 1611069765958,
     "user": {
      "displayName": "Boris Garbuzov",
      "photoUrl": "",
      "userId": "08851466340381164023"
     },
     "user_tz": 300
    },
    "id": "DU5jy6ohAtbj",
    "outputId": "fee90694-1c0d-492a-ca26-c8f2446eb391"
   },
   "outputs": [
    {
     "data": {
      "text/plain": [
       "dtype('float64')"
      ]
     },
     "execution_count": 637,
     "metadata": {
      "tags": []
     },
     "output_type": "execute_result"
    }
   ],
   "source": [
    "data.dtype"
   ]
  },
  {
   "cell_type": "code",
   "execution_count": 638,
   "metadata": {
    "executionInfo": {
     "elapsed": 2579,
     "status": "ok",
     "timestamp": 1611069765958,
     "user": {
      "displayName": "Boris Garbuzov",
      "photoUrl": "",
      "userId": "08851466340381164023"
     },
     "user_tz": 300
    },
    "id": "IJB7xeLUAtbj"
   },
   "outputs": [],
   "source": [
    "data = np.array([1, 2, 3], dtype=np.int)"
   ]
  },
  {
   "cell_type": "code",
   "execution_count": 639,
   "metadata": {
    "colab": {
     "base_uri": "https://localhost:8080/"
    },
    "executionInfo": {
     "elapsed": 2751,
     "status": "ok",
     "timestamp": 1611069766135,
     "user": {
      "displayName": "Boris Garbuzov",
      "photoUrl": "",
      "userId": "08851466340381164023"
     },
     "user_tz": 300
    },
    "id": "SQw5zPMUAtbj",
    "outputId": "87504b82-4702-4d24-8cb4-cfab1222111a"
   },
   "outputs": [
    {
     "data": {
      "text/plain": [
       "dtype('int64')"
      ]
     },
     "execution_count": 639,
     "metadata": {
      "tags": []
     },
     "output_type": "execute_result"
    }
   ],
   "source": [
    "data.dtype"
   ]
  },
  {
   "cell_type": "code",
   "execution_count": 640,
   "metadata": {
    "colab": {
     "base_uri": "https://localhost:8080/"
    },
    "executionInfo": {
     "elapsed": 2738,
     "status": "ok",
     "timestamp": 1611069766136,
     "user": {
      "displayName": "Boris Garbuzov",
      "photoUrl": "",
      "userId": "08851466340381164023"
     },
     "user_tz": 300
    },
    "id": "uaUHoE6P3jYE",
    "outputId": "7a8f6b3c-c6fb-4335-ae92-b03dad2d143d"
   },
   "outputs": [
    {
     "data": {
      "text/plain": [
       "numpy.ndarray"
      ]
     },
     "execution_count": 640,
     "metadata": {
      "tags": []
     },
     "output_type": "execute_result"
    }
   ],
   "source": [
    "type(data)"
   ]
  },
  {
   "cell_type": "code",
   "execution_count": 641,
   "metadata": {
    "colab": {
     "base_uri": "https://localhost:8080/"
    },
    "executionInfo": {
     "elapsed": 2726,
     "status": "ok",
     "timestamp": 1611069766137,
     "user": {
      "displayName": "Boris Garbuzov",
      "photoUrl": "",
      "userId": "08851466340381164023"
     },
     "user_tz": 300
    },
    "id": "6TPJtoqeAtbk",
    "outputId": "0aefbfe5-0abe-4bef-dfef-10b71204a4e6"
   },
   "outputs": [
    {
     "data": {
      "text/plain": [
       "array([1, 2, 3])"
      ]
     },
     "execution_count": 641,
     "metadata": {
      "tags": []
     },
     "output_type": "execute_result"
    }
   ],
   "source": [
    "data"
   ]
  },
  {
   "cell_type": "code",
   "execution_count": 642,
   "metadata": {
    "executionInfo": {
     "elapsed": 2721,
     "status": "ok",
     "timestamp": 1611069766137,
     "user": {
      "displayName": "Boris Garbuzov",
      "photoUrl": "",
      "userId": "08851466340381164023"
     },
     "user_tz": 300
    },
    "id": "ZXp_eE-zAtbk"
   },
   "outputs": [],
   "source": [
    "data = np.array([1, 2, 3], dtype=np.float)"
   ]
  },
  {
   "cell_type": "code",
   "execution_count": 643,
   "metadata": {
    "colab": {
     "base_uri": "https://localhost:8080/"
    },
    "executionInfo": {
     "elapsed": 2714,
     "status": "ok",
     "timestamp": 1611069766138,
     "user": {
      "displayName": "Boris Garbuzov",
      "photoUrl": "",
      "userId": "08851466340381164023"
     },
     "user_tz": 300
    },
    "id": "HYb5NttSAtbk",
    "outputId": "35ab1c20-ea97-4a0e-892f-7cf6a5ce7d4b"
   },
   "outputs": [
    {
     "data": {
      "text/plain": [
       "array([1., 2., 3.])"
      ]
     },
     "execution_count": 643,
     "metadata": {
      "tags": []
     },
     "output_type": "execute_result"
    }
   ],
   "source": [
    "data"
   ]
  },
  {
   "cell_type": "code",
   "execution_count": 644,
   "metadata": {
    "colab": {
     "base_uri": "https://localhost:8080/"
    },
    "executionInfo": {
     "elapsed": 2702,
     "status": "ok",
     "timestamp": 1611069766138,
     "user": {
      "displayName": "Boris Garbuzov",
      "photoUrl": "",
      "userId": "08851466340381164023"
     },
     "user_tz": 300
    },
    "id": "hHyAUDvpAtbl",
    "outputId": "9f195543-6ed7-414b-9688-7a7306b8b768"
   },
   "outputs": [
    {
     "data": {
      "text/plain": [
       "array([1, 2, 3])"
      ]
     },
     "execution_count": 644,
     "metadata": {
      "tags": []
     },
     "output_type": "execute_result"
    }
   ],
   "source": [
    "data2 = data.astype(np.int)\n",
    "data2"
   ]
  },
  {
   "cell_type": "code",
   "execution_count": 645,
   "metadata": {
    "colab": {
     "base_uri": "https://localhost:8080/"
    },
    "executionInfo": {
     "elapsed": 2691,
     "status": "ok",
     "timestamp": 1611069766139,
     "user": {
      "displayName": "Boris Garbuzov",
      "photoUrl": "",
      "userId": "08851466340381164023"
     },
     "user_tz": 300
    },
    "id": "NixntDFz4IQw",
    "outputId": "9d94d38c-799e-4df8-d07f-7216fbbc20f9"
   },
   "outputs": [
    {
     "data": {
      "text/plain": [
       "array([1., 2., 3.])"
      ]
     },
     "execution_count": 645,
     "metadata": {
      "tags": []
     },
     "output_type": "execute_result"
    }
   ],
   "source": [
    "data"
   ]
  },
  {
   "cell_type": "code",
   "execution_count": 646,
   "metadata": {
    "executionInfo": {
     "elapsed": 2683,
     "status": "ok",
     "timestamp": 1611069766140,
     "user": {
      "displayName": "Boris Garbuzov",
      "photoUrl": "",
      "userId": "08851466340381164023"
     },
     "user_tz": 300
    },
    "id": "ecvQ3d2GAtbl"
   },
   "outputs": [],
   "source": [
    "d1 = np.array([1, 2, 3], dtype=float)"
   ]
  },
  {
   "cell_type": "code",
   "execution_count": 647,
   "metadata": {
    "executionInfo": {
     "elapsed": 2680,
     "status": "ok",
     "timestamp": 1611069766140,
     "user": {
      "displayName": "Boris Garbuzov",
      "photoUrl": "",
      "userId": "08851466340381164023"
     },
     "user_tz": 300
    },
    "id": "e8NWlPYPAtbm"
   },
   "outputs": [],
   "source": [
    "d2 = np.array([1, 2, 3], dtype=complex)"
   ]
  },
  {
   "cell_type": "code",
   "execution_count": 648,
   "metadata": {
    "colab": {
     "base_uri": "https://localhost:8080/"
    },
    "executionInfo": {
     "elapsed": 2675,
     "status": "ok",
     "timestamp": 1611069766140,
     "user": {
      "displayName": "Boris Garbuzov",
      "photoUrl": "",
      "userId": "08851466340381164023"
     },
     "user_tz": 300
    },
    "id": "H1uHPDNAAtbm",
    "outputId": "550f5c6d-3df3-42da-d6e8-99d64b32ee72"
   },
   "outputs": [
    {
     "data": {
      "text/plain": [
       "array([2.+0.j, 4.+0.j, 6.+0.j])"
      ]
     },
     "execution_count": 648,
     "metadata": {
      "tags": []
     },
     "output_type": "execute_result"
    }
   ],
   "source": [
    "d1 + d2"
   ]
  },
  {
   "cell_type": "code",
   "execution_count": 649,
   "metadata": {
    "colab": {
     "base_uri": "https://localhost:8080/"
    },
    "executionInfo": {
     "elapsed": 2661,
     "status": "ok",
     "timestamp": 1611069766141,
     "user": {
      "displayName": "Boris Garbuzov",
      "photoUrl": "",
      "userId": "08851466340381164023"
     },
     "user_tz": 300
    },
    "id": "8IlouTblAtbn",
    "outputId": "98f536db-2832-4121-bc0a-3eb5791d202f"
   },
   "outputs": [
    {
     "data": {
      "text/plain": [
       "dtype('complex128')"
      ]
     },
     "execution_count": 649,
     "metadata": {
      "tags": []
     },
     "output_type": "execute_result"
    }
   ],
   "source": [
    "(d1 + d2).dtype"
   ]
  },
  {
   "cell_type": "code",
   "execution_count": 650,
   "metadata": {
    "colab": {
     "base_uri": "https://localhost:8080/"
    },
    "executionInfo": {
     "elapsed": 2650,
     "status": "ok",
     "timestamp": 1611069766141,
     "user": {
      "displayName": "Boris Garbuzov",
      "photoUrl": "",
      "userId": "08851466340381164023"
     },
     "user_tz": 300
    },
    "id": "V5smwjc-4kQV",
    "outputId": "21769a9c-300f-425e-b8c0-04e90ef00cd9"
   },
   "outputs": [
    {
     "data": {
      "text/plain": [
       "dtype('complex128')"
      ]
     },
     "execution_count": 650,
     "metadata": {
      "tags": []
     },
     "output_type": "execute_result"
    }
   ],
   "source": [
    "d2.dtype"
   ]
  },
  {
   "cell_type": "code",
   "execution_count": 651,
   "metadata": {
    "colab": {
     "base_uri": "https://localhost:8080/"
    },
    "executionInfo": {
     "elapsed": 2644,
     "status": "ok",
     "timestamp": 1611069766141,
     "user": {
      "displayName": "Boris Garbuzov",
      "photoUrl": "",
      "userId": "08851466340381164023"
     },
     "user_tz": 300
    },
    "id": "LLlo9rw5Atbn",
    "outputId": "6f3845fa-4ebb-4c54-cd9f-84b05d8e568c"
   },
   "outputs": [
    {
     "name": "stderr",
     "output_type": "stream",
     "text": [
      "/usr/local/lib/python3.6/dist-packages/ipykernel_launcher.py:1: RuntimeWarning: invalid value encountered in sqrt\n",
      "  \"\"\"Entry point for launching an IPython kernel.\n"
     ]
    },
    {
     "data": {
      "text/plain": [
       "array([nan,  0.,  1.])"
      ]
     },
     "execution_count": 651,
     "metadata": {
      "tags": []
     },
     "output_type": "execute_result"
    }
   ],
   "source": [
    "arrayWithDummies = np.sqrt(np.array([-1, 0, 1]))\n",
    "arrayWithDummies"
   ]
  },
  {
   "cell_type": "code",
   "execution_count": 652,
   "metadata": {
    "colab": {
     "base_uri": "https://localhost:8080/"
    },
    "executionInfo": {
     "elapsed": 2642,
     "status": "ok",
     "timestamp": 1611069766141,
     "user": {
      "displayName": "Boris Garbuzov",
      "photoUrl": "",
      "userId": "08851466340381164023"
     },
     "user_tz": 300
    },
    "id": "Ci7gn3XAPOCL",
    "outputId": "8f65fb47-c373-4d07-f351-cdfd54848522"
   },
   "outputs": [
    {
     "data": {
      "text/plain": [
       "array([nan,  0.,  1.])"
      ]
     },
     "execution_count": 652,
     "metadata": {
      "tags": []
     },
     "output_type": "execute_result"
    }
   ],
   "source": [
    "np.sqrt(arrayWithDummies)"
   ]
  },
  {
   "cell_type": "code",
   "execution_count": 653,
   "metadata": {
    "colab": {
     "base_uri": "https://localhost:8080/"
    },
    "executionInfo": {
     "elapsed": 2635,
     "status": "ok",
     "timestamp": 1611069766142,
     "user": {
      "displayName": "Boris Garbuzov",
      "photoUrl": "",
      "userId": "08851466340381164023"
     },
     "user_tz": 300
    },
    "id": "YoEi444jAtbn",
    "outputId": "0e4c5f46-4820-421b-8023-4f7c01da84aa"
   },
   "outputs": [
    {
     "data": {
      "text/plain": [
       "array([0.+1.j, 0.+0.j, 1.+0.j])"
      ]
     },
     "execution_count": 653,
     "metadata": {
      "tags": []
     },
     "output_type": "execute_result"
    }
   ],
   "source": [
    "np.sqrt(np.array([-1, 0, 1], dtype=complex))"
   ]
  },
  {
   "cell_type": "markdown",
   "metadata": {
    "id": "sUYbYR4gAtbo"
   },
   "source": [
    "\n",
    "<font color='red'> redo color </font>\n",
    "\n",
    "$ \\color{red}{\\text{another way to set color}} $\n",
    "\n",
    "$\\color{red}{\\text{ciao}}$\n",
    "\n",
    "\n",
    "### Real and imaginary parts\n"
   ]
  },
  {
   "cell_type": "code",
   "execution_count": 654,
   "metadata": {
    "executionInfo": {
     "elapsed": 2626,
     "status": "ok",
     "timestamp": 1611069766142,
     "user": {
      "displayName": "Boris Garbuzov",
      "photoUrl": "",
      "userId": "08851466340381164023"
     },
     "user_tz": 300
    },
    "id": "oomCcYgeAtbo"
   },
   "outputs": [],
   "source": [
    "data = np.array([1, 2, 3], dtype=complex)"
   ]
  },
  {
   "cell_type": "code",
   "execution_count": 655,
   "metadata": {
    "colab": {
     "base_uri": "https://localhost:8080/"
    },
    "executionInfo": {
     "elapsed": 2624,
     "status": "ok",
     "timestamp": 1611069766143,
     "user": {
      "displayName": "Boris Garbuzov",
      "photoUrl": "",
      "userId": "08851466340381164023"
     },
     "user_tz": 300
    },
    "id": "rVuUipPkAtbo",
    "outputId": "c3269bff-1060-49b8-9228-bbb23b6591d1"
   },
   "outputs": [
    {
     "data": {
      "text/plain": [
       "array([1.+0.j, 2.+0.j, 3.+0.j])"
      ]
     },
     "execution_count": 655,
     "metadata": {
      "tags": []
     },
     "output_type": "execute_result"
    }
   ],
   "source": [
    "data"
   ]
  },
  {
   "cell_type": "code",
   "execution_count": 656,
   "metadata": {
    "colab": {
     "base_uri": "https://localhost:8080/"
    },
    "executionInfo": {
     "elapsed": 2820,
     "status": "ok",
     "timestamp": 1611069766347,
     "user": {
      "displayName": "Boris Garbuzov",
      "photoUrl": "",
      "userId": "08851466340381164023"
     },
     "user_tz": 300
    },
    "id": "9hkFJnrS7OlV",
    "outputId": "c5156eab-ebc8-4fc3-9c83-4d68b87927f7"
   },
   "outputs": [
    {
     "data": {
      "text/plain": [
       "(1+1j)"
      ]
     },
     "execution_count": 656,
     "metadata": {
      "tags": []
     },
     "output_type": "execute_result"
    }
   ],
   "source": [
    "1 + 1j"
   ]
  },
  {
   "cell_type": "code",
   "execution_count": 657,
   "metadata": {
    "colab": {
     "base_uri": "https://localhost:8080/"
    },
    "executionInfo": {
     "elapsed": 2812,
     "status": "ok",
     "timestamp": 1611069766347,
     "user": {
      "displayName": "Boris Garbuzov",
      "photoUrl": "",
      "userId": "08851466340381164023"
     },
     "user_tz": 300
    },
    "id": "NI5eq-yLAtbp",
    "outputId": "5e659315-7abf-42ee-ffdc-4a8c21080084"
   },
   "outputs": [
    {
     "data": {
      "text/plain": [
       "array([1., 2., 3.])"
      ]
     },
     "execution_count": 657,
     "metadata": {
      "tags": []
     },
     "output_type": "execute_result"
    }
   ],
   "source": [
    "data.real"
   ]
  },
  {
   "cell_type": "code",
   "execution_count": 658,
   "metadata": {
    "colab": {
     "base_uri": "https://localhost:8080/"
    },
    "executionInfo": {
     "elapsed": 2807,
     "status": "ok",
     "timestamp": 1611069766349,
     "user": {
      "displayName": "Boris Garbuzov",
      "photoUrl": "",
      "userId": "08851466340381164023"
     },
     "user_tz": 300
    },
    "id": "FR3KkcId70A2",
    "outputId": "333a2af9-d516-4f16-e8d4-d9c410bf6319"
   },
   "outputs": [
    {
     "data": {
      "text/plain": [
       "1.0"
      ]
     },
     "execution_count": 658,
     "metadata": {
      "tags": []
     },
     "output_type": "execute_result"
    }
   ],
   "source": [
    "(1 + 1j).real"
   ]
  },
  {
   "cell_type": "code",
   "execution_count": 659,
   "metadata": {
    "colab": {
     "base_uri": "https://localhost:8080/"
    },
    "executionInfo": {
     "elapsed": 2799,
     "status": "ok",
     "timestamp": 1611069766349,
     "user": {
      "displayName": "Boris Garbuzov",
      "photoUrl": "",
      "userId": "08851466340381164023"
     },
     "user_tz": 300
    },
    "id": "D4VJsiU7Atbp",
    "outputId": "8cadd199-5f4e-4dd3-fc38-77a53a78c919"
   },
   "outputs": [
    {
     "data": {
      "text/plain": [
       "array([0., 0., 0.])"
      ]
     },
     "execution_count": 659,
     "metadata": {
      "tags": []
     },
     "output_type": "execute_result"
    }
   ],
   "source": [
    "data.imag"
   ]
  },
  {
   "cell_type": "markdown",
   "metadata": {
    "id": "rXAnrEMiAtbp"
   },
   "source": [
    "## Creating arrays"
   ]
  },
  {
   "cell_type": "markdown",
   "metadata": {
    "id": "k7IqLmISAtbp"
   },
   "source": [
    "### Arrays created from lists and other array-like objects"
   ]
  },
  {
   "cell_type": "code",
   "execution_count": 660,
   "metadata": {
    "colab": {
     "base_uri": "https://localhost:8080/"
    },
    "executionInfo": {
     "elapsed": 2792,
     "status": "ok",
     "timestamp": 1611069766349,
     "user": {
      "displayName": "Boris Garbuzov",
      "photoUrl": "",
      "userId": "08851466340381164023"
     },
     "user_tz": 300
    },
    "id": "85X7xfeTAtbq",
    "outputId": "1ae3c684-55c5-4fce-b2da-6abf8b54a405"
   },
   "outputs": [
    {
     "data": {
      "text/plain": [
       "array([1, 2, 3, 4])"
      ]
     },
     "execution_count": 660,
     "metadata": {
      "tags": []
     },
     "output_type": "execute_result"
    }
   ],
   "source": [
    "np.array([1, 2, 3, 4])"
   ]
  },
  {
   "cell_type": "code",
   "execution_count": 661,
   "metadata": {
    "colab": {
     "base_uri": "https://localhost:8080/"
    },
    "executionInfo": {
     "elapsed": 2786,
     "status": "ok",
     "timestamp": 1611069766349,
     "user": {
      "displayName": "Boris Garbuzov",
      "photoUrl": "",
      "userId": "08851466340381164023"
     },
     "user_tz": 300
    },
    "id": "GDgjwHceAtbq",
    "outputId": "b198b086-d6dd-498a-dc59-bc7fe18ca27d"
   },
   "outputs": [
    {
     "data": {
      "text/plain": [
       "1"
      ]
     },
     "execution_count": 661,
     "metadata": {
      "tags": []
     },
     "output_type": "execute_result"
    }
   ],
   "source": [
    "data.ndim"
   ]
  },
  {
   "cell_type": "code",
   "execution_count": 662,
   "metadata": {
    "colab": {
     "base_uri": "https://localhost:8080/"
    },
    "executionInfo": {
     "elapsed": 2774,
     "status": "ok",
     "timestamp": 1611069766350,
     "user": {
      "displayName": "Boris Garbuzov",
      "photoUrl": "",
      "userId": "08851466340381164023"
     },
     "user_tz": 300
    },
    "id": "HwHxtHV8Atbq",
    "outputId": "e513c359-033e-4b86-87ed-a02823565fde"
   },
   "outputs": [
    {
     "data": {
      "text/plain": [
       "(3,)"
      ]
     },
     "execution_count": 662,
     "metadata": {
      "tags": []
     },
     "output_type": "execute_result"
    }
   ],
   "source": [
    "data.shape"
   ]
  },
  {
   "cell_type": "code",
   "execution_count": 663,
   "metadata": {
    "colab": {
     "base_uri": "https://localhost:8080/"
    },
    "executionInfo": {
     "elapsed": 2766,
     "status": "ok",
     "timestamp": 1611069766350,
     "user": {
      "displayName": "Boris Garbuzov",
      "photoUrl": "",
      "userId": "08851466340381164023"
     },
     "user_tz": 300
    },
    "id": "3mifiWE08pKx",
    "outputId": "fb0d92e6-43ac-4695-b98d-2488ced96845"
   },
   "outputs": [
    {
     "data": {
      "text/plain": [
       "tuple"
      ]
     },
     "execution_count": 663,
     "metadata": {
      "tags": []
     },
     "output_type": "execute_result"
    }
   ],
   "source": [
    "type(data.shape)"
   ]
  },
  {
   "cell_type": "code",
   "execution_count": 664,
   "metadata": {
    "colab": {
     "base_uri": "https://localhost:8080/"
    },
    "executionInfo": {
     "elapsed": 2761,
     "status": "ok",
     "timestamp": 1611069766350,
     "user": {
      "displayName": "Boris Garbuzov",
      "photoUrl": "",
      "userId": "08851466340381164023"
     },
     "user_tz": 300
    },
    "id": "i5JIx4Na8wEg",
    "outputId": "86dfbc49-0c71-4966-dbc9-2aa894132086"
   },
   "outputs": [
    {
     "data": {
      "text/plain": [
       "1"
      ]
     },
     "execution_count": 664,
     "metadata": {
      "tags": []
     },
     "output_type": "execute_result"
    }
   ],
   "source": [
    "len(data.shape)"
   ]
  },
  {
   "cell_type": "code",
   "execution_count": 665,
   "metadata": {
    "executionInfo": {
     "elapsed": 2752,
     "status": "ok",
     "timestamp": 1611069766351,
     "user": {
      "displayName": "Boris Garbuzov",
      "photoUrl": "",
      "userId": "08851466340381164023"
     },
     "user_tz": 300
    },
    "id": "J1JSOVBtAtbq"
   },
   "outputs": [],
   "source": [
    "data = np.array([[1, 2], [3, 4]])"
   ]
  },
  {
   "cell_type": "code",
   "execution_count": 666,
   "metadata": {
    "colab": {
     "base_uri": "https://localhost:8080/"
    },
    "executionInfo": {
     "elapsed": 2750,
     "status": "ok",
     "timestamp": 1611069766352,
     "user": {
      "displayName": "Boris Garbuzov",
      "photoUrl": "",
      "userId": "08851466340381164023"
     },
     "user_tz": 300
    },
    "id": "MG_V7wJwAtbr",
    "outputId": "dd2dcd46-44bf-4bd8-d38f-c5133bb4ce72"
   },
   "outputs": [
    {
     "data": {
      "text/plain": [
       "2"
      ]
     },
     "execution_count": 666,
     "metadata": {
      "tags": []
     },
     "output_type": "execute_result"
    }
   ],
   "source": [
    "data.ndim"
   ]
  },
  {
   "cell_type": "markdown",
   "metadata": {
    "id": "TPMlhVveAtbr"
   },
   "source": [
    "### Arrays filled with constant values"
   ]
  },
  {
   "cell_type": "code",
   "execution_count": 667,
   "metadata": {
    "colab": {
     "base_uri": "https://localhost:8080/"
    },
    "executionInfo": {
     "elapsed": 2743,
     "status": "ok",
     "timestamp": 1611069766352,
     "user": {
      "displayName": "Boris Garbuzov",
      "photoUrl": "",
      "userId": "08851466340381164023"
     },
     "user_tz": 300
    },
    "id": "oeEpf4n0Atbs",
    "outputId": "395858b6-1e16-4851-8b01-6eea3f335948"
   },
   "outputs": [
    {
     "data": {
      "text/plain": [
       "array([[0., 0., 0.],\n",
       "       [0., 0., 0.]])"
      ]
     },
     "execution_count": 667,
     "metadata": {
      "tags": []
     },
     "output_type": "execute_result"
    }
   ],
   "source": [
    "np.zeros((2, 3))"
   ]
  },
  {
   "cell_type": "code",
   "execution_count": 668,
   "metadata": {
    "colab": {
     "base_uri": "https://localhost:8080/"
    },
    "executionInfo": {
     "elapsed": 2737,
     "status": "ok",
     "timestamp": 1611069766352,
     "user": {
      "displayName": "Boris Garbuzov",
      "photoUrl": "",
      "userId": "08851466340381164023"
     },
     "user_tz": 300
    },
    "id": "RIn9SocFAtbs",
    "outputId": "584bcdae-6c19-4ff2-9b85-2a1754066af2"
   },
   "outputs": [
    {
     "data": {
      "text/plain": [
       "array([1., 1., 1., 1.])"
      ]
     },
     "execution_count": 668,
     "metadata": {
      "tags": []
     },
     "output_type": "execute_result"
    }
   ],
   "source": [
    "np.ones(4)"
   ]
  },
  {
   "cell_type": "code",
   "execution_count": 669,
   "metadata": {
    "executionInfo": {
     "elapsed": 2732,
     "status": "ok",
     "timestamp": 1611069766352,
     "user": {
      "displayName": "Boris Garbuzov",
      "photoUrl": "",
      "userId": "08851466340381164023"
     },
     "user_tz": 300
    },
    "id": "nVOrwxrGAtbs"
   },
   "outputs": [],
   "source": [
    "data = np.ones(4)"
   ]
  },
  {
   "cell_type": "code",
   "execution_count": 670,
   "metadata": {
    "colab": {
     "base_uri": "https://localhost:8080/"
    },
    "executionInfo": {
     "elapsed": 2730,
     "status": "ok",
     "timestamp": 1611069766353,
     "user": {
      "displayName": "Boris Garbuzov",
      "photoUrl": "",
      "userId": "08851466340381164023"
     },
     "user_tz": 300
    },
    "id": "dtars8nGAtbs",
    "outputId": "b954de0f-b613-44fd-a988-fdaaf1b04626"
   },
   "outputs": [
    {
     "data": {
      "text/plain": [
       "dtype('float64')"
      ]
     },
     "execution_count": 670,
     "metadata": {
      "tags": []
     },
     "output_type": "execute_result"
    }
   ],
   "source": [
    "data.dtype"
   ]
  },
  {
   "cell_type": "code",
   "execution_count": 671,
   "metadata": {
    "executionInfo": {
     "elapsed": 2722,
     "status": "ok",
     "timestamp": 1611069766353,
     "user": {
      "displayName": "Boris Garbuzov",
      "photoUrl": "",
      "userId": "08851466340381164023"
     },
     "user_tz": 300
    },
    "id": "bqGiYOobAtbt"
   },
   "outputs": [],
   "source": [
    "data = np.ones(4, dtype=np.int64)"
   ]
  },
  {
   "cell_type": "code",
   "execution_count": 672,
   "metadata": {
    "colab": {
     "base_uri": "https://localhost:8080/"
    },
    "executionInfo": {
     "elapsed": 2912,
     "status": "ok",
     "timestamp": 1611069766546,
     "user": {
      "displayName": "Boris Garbuzov",
      "photoUrl": "",
      "userId": "08851466340381164023"
     },
     "user_tz": 300
    },
    "id": "0D6tB-SMAtbt",
    "outputId": "ecc89ea2-1b5c-4a89-e5c8-9315781f982a"
   },
   "outputs": [
    {
     "data": {
      "text/plain": [
       "dtype('int64')"
      ]
     },
     "execution_count": 672,
     "metadata": {
      "tags": []
     },
     "output_type": "execute_result"
    }
   ],
   "source": [
    "data.dtype"
   ]
  },
  {
   "cell_type": "code",
   "execution_count": 673,
   "metadata": {
    "colab": {
     "base_uri": "https://localhost:8080/"
    },
    "executionInfo": {
     "elapsed": 2906,
     "status": "ok",
     "timestamp": 1611069766546,
     "user": {
      "displayName": "Boris Garbuzov",
      "photoUrl": "",
      "userId": "08851466340381164023"
     },
     "user_tz": 300
    },
    "id": "hp_zNOp0Atbt",
    "outputId": "3bc6d1d8-ce30-4cbc-d76b-65b713fdda73"
   },
   "outputs": [
    {
     "data": {
      "text/plain": [
       "array([5.4, 5.4, 5.4, 5.4, 5.4, 5.4, 5.4, 5.4, 5.4, 5.4])"
      ]
     },
     "execution_count": 673,
     "metadata": {
      "tags": []
     },
     "output_type": "execute_result"
    }
   ],
   "source": [
    "x1 = 5.4 * np.ones(10)\n",
    "x1"
   ]
  },
  {
   "cell_type": "code",
   "execution_count": 674,
   "metadata": {
    "colab": {
     "base_uri": "https://localhost:8080/"
    },
    "executionInfo": {
     "elapsed": 2899,
     "status": "ok",
     "timestamp": 1611069766547,
     "user": {
      "displayName": "Boris Garbuzov",
      "photoUrl": "",
      "userId": "08851466340381164023"
     },
     "user_tz": 300
    },
    "id": "Vt9HkW5IAtbt",
    "outputId": "8ac63323-203e-4c15-f17b-34ac038b1a39"
   },
   "outputs": [
    {
     "data": {
      "text/plain": [
       "array([5.4, 5.4, 5.4, 5.4, 5.4, 5.4, 5.4, 5.4, 5.4, 5.4])"
      ]
     },
     "execution_count": 674,
     "metadata": {
      "tags": []
     },
     "output_type": "execute_result"
    }
   ],
   "source": [
    "x2 = np.full(10, 5.4)\n",
    "x2"
   ]
  },
  {
   "cell_type": "code",
   "execution_count": 675,
   "metadata": {
    "colab": {
     "base_uri": "https://localhost:8080/"
    },
    "executionInfo": {
     "elapsed": 2894,
     "status": "ok",
     "timestamp": 1611069766547,
     "user": {
      "displayName": "Boris Garbuzov",
      "photoUrl": "",
      "userId": "08851466340381164023"
     },
     "user_tz": 300
    },
    "id": "5o5B7kprAtbt",
    "outputId": "cfce0b7d-57e2-4c8f-f164-8510f00f635d"
   },
   "outputs": [
    {
     "data": {
      "text/plain": [
       "array([9.9e-324, 1.5e-323, 2.0e-323, 2.5e-323, 3.0e-323])"
      ]
     },
     "execution_count": 675,
     "metadata": {
      "tags": []
     },
     "output_type": "execute_result"
    }
   ],
   "source": [
    "x1 = np.empty(5)\n",
    "x1"
   ]
  },
  {
   "cell_type": "code",
   "execution_count": 676,
   "metadata": {
    "executionInfo": {
     "elapsed": 2886,
     "status": "ok",
     "timestamp": 1611069766547,
     "user": {
      "displayName": "Boris Garbuzov",
      "photoUrl": "",
      "userId": "08851466340381164023"
     },
     "user_tz": 300
    },
    "id": "sWyR7l51Atbu"
   },
   "outputs": [],
   "source": [
    "x1.fill(3.0)"
   ]
  },
  {
   "cell_type": "code",
   "execution_count": 677,
   "metadata": {
    "colab": {
     "base_uri": "https://localhost:8080/"
    },
    "executionInfo": {
     "elapsed": 2883,
     "status": "ok",
     "timestamp": 1611069766547,
     "user": {
      "displayName": "Boris Garbuzov",
      "photoUrl": "",
      "userId": "08851466340381164023"
     },
     "user_tz": 300
    },
    "id": "wwl7A7NsAtbu",
    "outputId": "9db86222-fb70-45e7-a211-0ced120a18b1"
   },
   "outputs": [
    {
     "data": {
      "text/plain": [
       "array([3., 3., 3., 3., 3.])"
      ]
     },
     "execution_count": 677,
     "metadata": {
      "tags": []
     },
     "output_type": "execute_result"
    }
   ],
   "source": [
    "x1"
   ]
  },
  {
   "cell_type": "code",
   "execution_count": 678,
   "metadata": {
    "executionInfo": {
     "elapsed": 2876,
     "status": "ok",
     "timestamp": 1611069766548,
     "user": {
      "displayName": "Boris Garbuzov",
      "photoUrl": "",
      "userId": "08851466340381164023"
     },
     "user_tz": 300
    },
    "id": "IxbV2LzuAtbu"
   },
   "outputs": [],
   "source": [
    "x2 = np.full(5, 3.0)"
   ]
  },
  {
   "cell_type": "code",
   "execution_count": 679,
   "metadata": {
    "colab": {
     "base_uri": "https://localhost:8080/"
    },
    "executionInfo": {
     "elapsed": 2872,
     "status": "ok",
     "timestamp": 1611069766548,
     "user": {
      "displayName": "Boris Garbuzov",
      "photoUrl": "",
      "userId": "08851466340381164023"
     },
     "user_tz": 300
    },
    "id": "HyYUtXrlAtbv",
    "outputId": "3190d1fd-6536-4f73-e5a6-f5a63c618472"
   },
   "outputs": [
    {
     "data": {
      "text/plain": [
       "array([3., 3., 3., 3., 3.])"
      ]
     },
     "execution_count": 679,
     "metadata": {
      "tags": []
     },
     "output_type": "execute_result"
    }
   ],
   "source": [
    "x2"
   ]
  },
  {
   "cell_type": "markdown",
   "metadata": {
    "id": "wRXdopl9Atbv"
   },
   "source": [
    "### Arrays filled with incremental sequences"
   ]
  },
  {
   "cell_type": "code",
   "execution_count": 926,
   "metadata": {
    "colab": {
     "base_uri": "https://localhost:8080/"
    },
    "executionInfo": {
     "elapsed": 272,
     "status": "ok",
     "timestamp": 1611070213892,
     "user": {
      "displayName": "Boris Garbuzov",
      "photoUrl": "",
      "userId": "08851466340381164023"
     },
     "user_tz": 300
    },
    "id": "tX0mWkD7Atbv",
    "outputId": "5bb281e2-2342-407f-8c5b-5316e4fb249d"
   },
   "outputs": [
    {
     "data": {
      "text/plain": [
       "array([0., 1., 2., 3., 4., 5., 6., 7., 8., 9.])"
      ]
     },
     "execution_count": 926,
     "metadata": {
      "tags": []
     },
     "output_type": "execute_result"
    }
   ],
   "source": [
    "np.arange(0.0, stop=10, step=1)"
   ]
  },
  {
   "cell_type": "code",
   "execution_count": 681,
   "metadata": {
    "colab": {
     "base_uri": "https://localhost:8080/"
    },
    "executionInfo": {
     "elapsed": 2863,
     "status": "ok",
     "timestamp": 1611069766550,
     "user": {
      "displayName": "Boris Garbuzov",
      "photoUrl": "",
      "userId": "08851466340381164023"
     },
     "user_tz": 300
    },
    "id": "Fm13nHpzAtbv",
    "outputId": "37b7dd5b-c108-4eb9-b4f9-774f669091e6"
   },
   "outputs": [
    {
     "data": {
      "text/plain": [
       "array([ 0.,  1.,  2.,  3.,  4.,  5.,  6.,  7.,  8.,  9., 10.])"
      ]
     },
     "execution_count": 681,
     "metadata": {
      "tags": []
     },
     "output_type": "execute_result"
    }
   ],
   "source": [
    "np.linspace(0, 10, 11)"
   ]
  },
  {
   "cell_type": "markdown",
   "metadata": {
    "id": "a1t9iPNFAtbw"
   },
   "source": [
    "### Arrays filled with logarithmic sequences"
   ]
  },
  {
   "cell_type": "code",
   "execution_count": 682,
   "metadata": {
    "colab": {
     "base_uri": "https://localhost:8080/"
    },
    "executionInfo": {
     "elapsed": 2854,
     "status": "ok",
     "timestamp": 1611069766550,
     "user": {
      "displayName": "Boris Garbuzov",
      "photoUrl": "",
      "userId": "08851466340381164023"
     },
     "user_tz": 300
    },
    "id": "v2R16DcYAtbw",
    "outputId": "81a12af6-a39e-4d42-8a62-d65ee2f9afcf"
   },
   "outputs": [
    {
     "data": {
      "text/plain": [
       "array([  1.        ,   3.16227766,  10.        ,  31.6227766 ,\n",
       "       100.        ])"
      ]
     },
     "execution_count": 682,
     "metadata": {
      "tags": []
     },
     "output_type": "execute_result"
    }
   ],
   "source": [
    "np.logspace(start=0, stop=2, num=5)  # 5 data points between 10**0=1 to 10**2=100"
   ]
  },
  {
   "cell_type": "markdown",
   "metadata": {
    "id": "GTU4tzOJAtbw"
   },
   "source": [
    "### Mesh-grid arrays"
   ]
  },
  {
   "cell_type": "code",
   "execution_count": 683,
   "metadata": {
    "executionInfo": {
     "elapsed": 2847,
     "status": "ok",
     "timestamp": 1611069766551,
     "user": {
      "displayName": "Boris Garbuzov",
      "photoUrl": "",
      "userId": "08851466340381164023"
     },
     "user_tz": 300
    },
    "id": "kNQ4AIV8Atbw"
   },
   "outputs": [],
   "source": [
    "x = np.array([-1, 0, 1])"
   ]
  },
  {
   "cell_type": "code",
   "execution_count": 684,
   "metadata": {
    "executionInfo": {
     "elapsed": 2842,
     "status": "ok",
     "timestamp": 1611069766551,
     "user": {
      "displayName": "Boris Garbuzov",
      "photoUrl": "",
      "userId": "08851466340381164023"
     },
     "user_tz": 300
    },
    "id": "4I-JRGHqAtbx"
   },
   "outputs": [],
   "source": [
    "y = np.array([-2, 0, 2])"
   ]
  },
  {
   "cell_type": "code",
   "execution_count": 685,
   "metadata": {
    "executionInfo": {
     "elapsed": 2839,
     "status": "ok",
     "timestamp": 1611069766551,
     "user": {
      "displayName": "Boris Garbuzov",
      "photoUrl": "",
      "userId": "08851466340381164023"
     },
     "user_tz": 300
    },
    "id": "6HQ8LJc8Atbx"
   },
   "outputs": [],
   "source": [
    "X, Y = np.meshgrid(x, y)"
   ]
  },
  {
   "cell_type": "code",
   "execution_count": 686,
   "metadata": {
    "colab": {
     "base_uri": "https://localhost:8080/"
    },
    "executionInfo": {
     "elapsed": 2837,
     "status": "ok",
     "timestamp": 1611069766551,
     "user": {
      "displayName": "Boris Garbuzov",
      "photoUrl": "",
      "userId": "08851466340381164023"
     },
     "user_tz": 300
    },
    "id": "I4d5fUCnAtbx",
    "outputId": "35009706-f8ff-4366-bfb2-72fda62d76e3"
   },
   "outputs": [
    {
     "data": {
      "text/plain": [
       "array([[-1,  0,  1],\n",
       "       [-1,  0,  1],\n",
       "       [-1,  0,  1]])"
      ]
     },
     "execution_count": 686,
     "metadata": {
      "tags": []
     },
     "output_type": "execute_result"
    }
   ],
   "source": [
    "X"
   ]
  },
  {
   "cell_type": "code",
   "execution_count": 687,
   "metadata": {
    "colab": {
     "base_uri": "https://localhost:8080/"
    },
    "executionInfo": {
     "elapsed": 3000,
     "status": "ok",
     "timestamp": 1611069766721,
     "user": {
      "displayName": "Boris Garbuzov",
      "photoUrl": "",
      "userId": "08851466340381164023"
     },
     "user_tz": 300
    },
    "id": "s-nkHg3oAtbx",
    "outputId": "185d100a-ebfd-4b84-8f83-f50e2bb6da04"
   },
   "outputs": [
    {
     "data": {
      "text/plain": [
       "array([[-2, -2, -2],\n",
       "       [ 0,  0,  0],\n",
       "       [ 2,  2,  2]])"
      ]
     },
     "execution_count": 687,
     "metadata": {
      "tags": []
     },
     "output_type": "execute_result"
    }
   ],
   "source": [
    "Y"
   ]
  },
  {
   "cell_type": "code",
   "execution_count": 688,
   "metadata": {
    "executionInfo": {
     "elapsed": 2996,
     "status": "ok",
     "timestamp": 1611069766725,
     "user": {
      "displayName": "Boris Garbuzov",
      "photoUrl": "",
      "userId": "08851466340381164023"
     },
     "user_tz": 300
    },
    "id": "DJio6-wFAtby"
   },
   "outputs": [],
   "source": [
    "Z = (X + Y) ** 2"
   ]
  },
  {
   "cell_type": "code",
   "execution_count": 689,
   "metadata": {
    "colab": {
     "base_uri": "https://localhost:8080/"
    },
    "executionInfo": {
     "elapsed": 2993,
     "status": "ok",
     "timestamp": 1611069766725,
     "user": {
      "displayName": "Boris Garbuzov",
      "photoUrl": "",
      "userId": "08851466340381164023"
     },
     "user_tz": 300
    },
    "id": "AHJ4nEFSAtby",
    "outputId": "71e7913f-b065-4102-f504-96f2930558fb"
   },
   "outputs": [
    {
     "data": {
      "text/plain": [
       "array([[9, 4, 1],\n",
       "       [1, 0, 1],\n",
       "       [1, 4, 9]])"
      ]
     },
     "execution_count": 689,
     "metadata": {
      "tags": []
     },
     "output_type": "execute_result"
    }
   ],
   "source": [
    "Z"
   ]
  },
  {
   "cell_type": "code",
   "execution_count": 690,
   "metadata": {
    "colab": {
     "base_uri": "https://localhost:8080/"
    },
    "executionInfo": {
     "elapsed": 2984,
     "status": "ok",
     "timestamp": 1611069766725,
     "user": {
      "displayName": "Boris Garbuzov",
      "photoUrl": "",
      "userId": "08851466340381164023"
     },
     "user_tz": 300
    },
    "id": "yaHiGlE0AQIb",
    "outputId": "d63f67c1-d9ca-4c32-e95e-93da6b8073fa"
   },
   "outputs": [
    {
     "data": {
      "text/plain": [
       "(array([[-1,  0,  1],\n",
       "        [-1,  0,  1],\n",
       "        [-1,  0,  1]]), array([[-2, -2, -2],\n",
       "        [ 0,  0,  0],\n",
       "        [ 2,  2,  2]]))"
      ]
     },
     "execution_count": 690,
     "metadata": {
      "tags": []
     },
     "output_type": "execute_result"
    }
   ],
   "source": [
    "W = (X, Y)\n",
    "W"
   ]
  },
  {
   "cell_type": "code",
   "execution_count": 691,
   "metadata": {
    "executionInfo": {
     "elapsed": 2978,
     "status": "ok",
     "timestamp": 1611069766725,
     "user": {
      "displayName": "Boris Garbuzov",
      "photoUrl": "",
      "userId": "08851466340381164023"
     },
     "user_tz": 300
    },
    "id": "ioTH3FeyAkcC"
   },
   "outputs": [],
   "source": [
    "# How to put them in pairs?\n",
    "# Perhaps, through concatenate?"
   ]
  },
  {
   "cell_type": "markdown",
   "metadata": {
    "id": "U3AciG1WAtby"
   },
   "source": [
    "### Creating uninitialized arrays"
   ]
  },
  {
   "cell_type": "code",
   "execution_count": 692,
   "metadata": {
    "colab": {
     "base_uri": "https://localhost:8080/"
    },
    "executionInfo": {
     "elapsed": 2974,
     "status": "ok",
     "timestamp": 1611069766725,
     "user": {
      "displayName": "Boris Garbuzov",
      "photoUrl": "",
      "userId": "08851466340381164023"
     },
     "user_tz": 300
    },
    "id": "-WAM-IAZAtby",
    "outputId": "5115439d-62d7-4e85-bd3c-a74016e4deb8"
   },
   "outputs": [
    {
     "data": {
      "text/plain": [
       "array([1., 2., 3.])"
      ]
     },
     "execution_count": 692,
     "metadata": {
      "tags": []
     },
     "output_type": "execute_result"
    }
   ],
   "source": [
    "np.empty(3, dtype=np.float)"
   ]
  },
  {
   "cell_type": "markdown",
   "metadata": {
    "id": "_6FJCtn8Atbz"
   },
   "source": [
    "### Creating arrays with properties of other arrays"
   ]
  },
  {
   "cell_type": "code",
   "execution_count": 693,
   "metadata": {
    "colab": {
     "base_uri": "https://localhost:8080/"
    },
    "executionInfo": {
     "elapsed": 2969,
     "status": "ok",
     "timestamp": 1611069766726,
     "user": {
      "displayName": "Boris Garbuzov",
      "photoUrl": "",
      "userId": "08851466340381164023"
     },
     "user_tz": 300
    },
    "id": "SQoythQXAtbz",
    "outputId": "d0205660-3f29-41f6-a965-21e247dfc0dc"
   },
   "outputs": [
    {
     "data": {
      "text/plain": [
       "array([1.+0.j, 1.+0.j])"
      ]
     },
     "execution_count": 693,
     "metadata": {
      "tags": []
     },
     "output_type": "execute_result"
    }
   ],
   "source": [
    "def f(x):\n",
    "    y = np.ones_like(x)\n",
    "    # compute with x and y\n",
    "    return y\n",
    "\n",
    "f(np.array([1, 2j]))    "
   ]
  },
  {
   "cell_type": "markdown",
   "metadata": {
    "id": "G_oIpezDAtbz"
   },
   "source": [
    "### Creating matrix arrays"
   ]
  },
  {
   "cell_type": "code",
   "execution_count": 694,
   "metadata": {
    "colab": {
     "base_uri": "https://localhost:8080/"
    },
    "executionInfo": {
     "elapsed": 2962,
     "status": "ok",
     "timestamp": 1611069766726,
     "user": {
      "displayName": "Boris Garbuzov",
      "photoUrl": "",
      "userId": "08851466340381164023"
     },
     "user_tz": 300
    },
    "id": "7ars1h9MAtbz",
    "outputId": "f2ed723b-7fc7-4d85-993a-765d062310cb"
   },
   "outputs": [
    {
     "data": {
      "text/plain": [
       "array([[1., 0., 0., 0.],\n",
       "       [0., 1., 0., 0.],\n",
       "       [0., 0., 1., 0.],\n",
       "       [0., 0., 0., 1.]])"
      ]
     },
     "execution_count": 694,
     "metadata": {
      "tags": []
     },
     "output_type": "execute_result"
    }
   ],
   "source": [
    "np.identity(4)"
   ]
  },
  {
   "cell_type": "code",
   "execution_count": 695,
   "metadata": {
    "colab": {
     "base_uri": "https://localhost:8080/"
    },
    "executionInfo": {
     "elapsed": 2956,
     "status": "ok",
     "timestamp": 1611069766727,
     "user": {
      "displayName": "Boris Garbuzov",
      "photoUrl": "",
      "userId": "08851466340381164023"
     },
     "user_tz": 300
    },
    "id": "Ce8-MVFYAtb0",
    "outputId": "4a79140e-0d2d-4154-fa87-df29e7c7225f"
   },
   "outputs": [
    {
     "data": {
      "text/plain": [
       "array([[0., 1., 0.],\n",
       "       [0., 0., 1.],\n",
       "       [0., 0., 0.]])"
      ]
     },
     "execution_count": 695,
     "metadata": {
      "tags": []
     },
     "output_type": "execute_result"
    }
   ],
   "source": [
    "np.eye(3, k=1)"
   ]
  },
  {
   "cell_type": "code",
   "execution_count": 696,
   "metadata": {
    "colab": {
     "base_uri": "https://localhost:8080/"
    },
    "executionInfo": {
     "elapsed": 2950,
     "status": "ok",
     "timestamp": 1611069766727,
     "user": {
      "displayName": "Boris Garbuzov",
      "photoUrl": "",
      "userId": "08851466340381164023"
     },
     "user_tz": 300
    },
    "id": "MXmbROmeAtb0",
    "outputId": "ac51d18e-a5c5-424f-f648-112c291fa105"
   },
   "outputs": [
    {
     "data": {
      "text/plain": [
       "array([[0., 0., 0.],\n",
       "       [1., 0., 0.],\n",
       "       [0., 1., 0.]])"
      ]
     },
     "execution_count": 696,
     "metadata": {
      "tags": []
     },
     "output_type": "execute_result"
    }
   ],
   "source": [
    "np.eye(3, k=-1)"
   ]
  },
  {
   "cell_type": "code",
   "execution_count": 697,
   "metadata": {
    "colab": {
     "base_uri": "https://localhost:8080/"
    },
    "executionInfo": {
     "elapsed": 2941,
     "status": "ok",
     "timestamp": 1611069766727,
     "user": {
      "displayName": "Boris Garbuzov",
      "photoUrl": "",
      "userId": "08851466340381164023"
     },
     "user_tz": 300
    },
    "id": "DOQI8bKZAtb0",
    "outputId": "457da7d5-622e-4a8b-abbb-d71ed3cb2036"
   },
   "outputs": [
    {
     "data": {
      "text/plain": [
       "array([[ 0,  0,  0,  0],\n",
       "       [ 0,  5,  0,  0],\n",
       "       [ 0,  0, 10,  0],\n",
       "       [ 0,  0,  0, 15]])"
      ]
     },
     "execution_count": 697,
     "metadata": {
      "tags": []
     },
     "output_type": "execute_result"
    }
   ],
   "source": [
    "np.diag(np.arange(0, 20, 5))"
   ]
  },
  {
   "cell_type": "markdown",
   "metadata": {
    "id": "I2ZKl1pZAtb1"
   },
   "source": [
    "## Index and slicing"
   ]
  },
  {
   "cell_type": "code",
   "execution_count": 933,
   "metadata": {
    "colab": {
     "base_uri": "https://localhost:8080/"
    },
    "executionInfo": {
     "elapsed": 263,
     "status": "ok",
     "timestamp": 1611070980582,
     "user": {
      "displayName": "Boris Garbuzov",
      "photoUrl": "",
      "userId": "08851466340381164023"
     },
     "user_tz": 300
    },
    "id": "12wrpIjrTutT",
    "outputId": "43a12ec0-511c-40de-9430-3f49abba53d1"
   },
   "outputs": [
    {
     "data": {
      "text/plain": [
       "nan"
      ]
     },
     "execution_count": 933,
     "metadata": {
      "tags": []
     },
     "output_type": "execute_result"
    }
   ],
   "source": [
    "# None + 5 # fails\n",
    "np.nan + 5"
   ]
  },
  {
   "cell_type": "markdown",
   "metadata": {
    "id": "6j-WIdC2Atb1"
   },
   "source": [
    "### One-dimensional arrays"
   ]
  },
  {
   "cell_type": "code",
   "execution_count": 698,
   "metadata": {
    "executionInfo": {
     "elapsed": 2934,
     "status": "ok",
     "timestamp": 1611069766727,
     "user": {
      "displayName": "Boris Garbuzov",
      "photoUrl": "",
      "userId": "08851466340381164023"
     },
     "user_tz": 300
    },
    "id": "DMQSepjxAtb1"
   },
   "outputs": [],
   "source": [
    "a = np.arange(0, 11)"
   ]
  },
  {
   "cell_type": "code",
   "execution_count": 699,
   "metadata": {
    "colab": {
     "base_uri": "https://localhost:8080/"
    },
    "executionInfo": {
     "elapsed": 2932,
     "status": "ok",
     "timestamp": 1611069766728,
     "user": {
      "displayName": "Boris Garbuzov",
      "photoUrl": "",
      "userId": "08851466340381164023"
     },
     "user_tz": 300
    },
    "id": "irkQ8FecAtb1",
    "outputId": "095a7ecb-341d-4ed7-8747-658e5f688b06"
   },
   "outputs": [
    {
     "data": {
      "text/plain": [
       "array([ 0,  1,  2,  3,  4,  5,  6,  7,  8,  9, 10])"
      ]
     },
     "execution_count": 699,
     "metadata": {
      "tags": []
     },
     "output_type": "execute_result"
    }
   ],
   "source": [
    "a"
   ]
  },
  {
   "cell_type": "code",
   "execution_count": 700,
   "metadata": {
    "colab": {
     "base_uri": "https://localhost:8080/"
    },
    "executionInfo": {
     "elapsed": 2926,
     "status": "ok",
     "timestamp": 1611069766728,
     "user": {
      "displayName": "Boris Garbuzov",
      "photoUrl": "",
      "userId": "08851466340381164023"
     },
     "user_tz": 300
    },
    "id": "CMDmoiNPAtb2",
    "outputId": "9cad0619-7613-473e-96c1-0500f5cb2da5"
   },
   "outputs": [
    {
     "data": {
      "text/plain": [
       "0"
      ]
     },
     "execution_count": 700,
     "metadata": {
      "tags": []
     },
     "output_type": "execute_result"
    }
   ],
   "source": [
    "a[0]  # the first element"
   ]
  },
  {
   "cell_type": "code",
   "execution_count": 701,
   "metadata": {
    "colab": {
     "base_uri": "https://localhost:8080/"
    },
    "executionInfo": {
     "elapsed": 3118,
     "status": "ok",
     "timestamp": 1611069766928,
     "user": {
      "displayName": "Boris Garbuzov",
      "photoUrl": "",
      "userId": "08851466340381164023"
     },
     "user_tz": 300
    },
    "id": "-VzV-p4mAtb2",
    "outputId": "df686dd8-487a-486a-fecf-d9f6253036ff"
   },
   "outputs": [
    {
     "data": {
      "text/plain": [
       "10"
      ]
     },
     "execution_count": 701,
     "metadata": {
      "tags": []
     },
     "output_type": "execute_result"
    }
   ],
   "source": [
    "a[-1] # the last element"
   ]
  },
  {
   "cell_type": "code",
   "execution_count": 702,
   "metadata": {
    "colab": {
     "base_uri": "https://localhost:8080/"
    },
    "executionInfo": {
     "elapsed": 3111,
     "status": "ok",
     "timestamp": 1611069766928,
     "user": {
      "displayName": "Boris Garbuzov",
      "photoUrl": "",
      "userId": "08851466340381164023"
     },
     "user_tz": 300
    },
    "id": "YMftZ9NgAtb2",
    "outputId": "acd73edb-8703-41b7-fa22-291267f70490"
   },
   "outputs": [
    {
     "data": {
      "text/plain": [
       "4"
      ]
     },
     "execution_count": 702,
     "metadata": {
      "tags": []
     },
     "output_type": "execute_result"
    }
   ],
   "source": [
    "a[4]  # the fifth element, at index 4"
   ]
  },
  {
   "cell_type": "code",
   "execution_count": 703,
   "metadata": {
    "colab": {
     "base_uri": "https://localhost:8080/"
    },
    "executionInfo": {
     "elapsed": 3107,
     "status": "ok",
     "timestamp": 1611069766929,
     "user": {
      "displayName": "Boris Garbuzov",
      "photoUrl": "",
      "userId": "08851466340381164023"
     },
     "user_tz": 300
    },
    "id": "LzgnK4xOAtb3",
    "outputId": "49dda8e3-fac3-41f4-8eab-67832f37e957"
   },
   "outputs": [
    {
     "data": {
      "text/plain": [
       "array([1, 2, 3, 4, 5, 6, 7, 8, 9])"
      ]
     },
     "execution_count": 703,
     "metadata": {
      "tags": []
     },
     "output_type": "execute_result"
    }
   ],
   "source": [
    "a[1:-1]"
   ]
  },
  {
   "cell_type": "code",
   "execution_count": 704,
   "metadata": {
    "colab": {
     "base_uri": "https://localhost:8080/"
    },
    "executionInfo": {
     "elapsed": 3100,
     "status": "ok",
     "timestamp": 1611069766929,
     "user": {
      "displayName": "Boris Garbuzov",
      "photoUrl": "",
      "userId": "08851466340381164023"
     },
     "user_tz": 300
    },
    "id": "SpRh0tevAtb3",
    "outputId": "68e87e8f-50f6-47a4-fe58-1ea62ef33c30"
   },
   "outputs": [
    {
     "data": {
      "text/plain": [
       "array([1, 3, 5, 7, 9])"
      ]
     },
     "execution_count": 704,
     "metadata": {
      "tags": []
     },
     "output_type": "execute_result"
    }
   ],
   "source": [
    "a[1:-1:2]"
   ]
  },
  {
   "cell_type": "code",
   "execution_count": 705,
   "metadata": {
    "colab": {
     "base_uri": "https://localhost:8080/"
    },
    "executionInfo": {
     "elapsed": 3094,
     "status": "ok",
     "timestamp": 1611069766930,
     "user": {
      "displayName": "Boris Garbuzov",
      "photoUrl": "",
      "userId": "08851466340381164023"
     },
     "user_tz": 300
    },
    "id": "zFW90KBOAtb3",
    "outputId": "bf61b152-7bfe-4d0d-8f29-c974d424d4ab"
   },
   "outputs": [
    {
     "data": {
      "text/plain": [
       "array([0, 1, 2, 3, 4])"
      ]
     },
     "execution_count": 705,
     "metadata": {
      "tags": []
     },
     "output_type": "execute_result"
    }
   ],
   "source": [
    "a[:5]"
   ]
  },
  {
   "cell_type": "code",
   "execution_count": 706,
   "metadata": {
    "colab": {
     "base_uri": "https://localhost:8080/"
    },
    "executionInfo": {
     "elapsed": 3087,
     "status": "ok",
     "timestamp": 1611069766931,
     "user": {
      "displayName": "Boris Garbuzov",
      "photoUrl": "",
      "userId": "08851466340381164023"
     },
     "user_tz": 300
    },
    "id": "yCuRDlvIAtb4",
    "outputId": "a911ecc8-d35f-44e7-d3a2-5ffed28eb8f5"
   },
   "outputs": [
    {
     "data": {
      "text/plain": [
       "array([ 6,  7,  8,  9, 10])"
      ]
     },
     "execution_count": 706,
     "metadata": {
      "tags": []
     },
     "output_type": "execute_result"
    }
   ],
   "source": [
    "a[-5:]"
   ]
  },
  {
   "cell_type": "code",
   "execution_count": 707,
   "metadata": {
    "colab": {
     "base_uri": "https://localhost:8080/"
    },
    "executionInfo": {
     "elapsed": 3079,
     "status": "ok",
     "timestamp": 1611069766931,
     "user": {
      "displayName": "Boris Garbuzov",
      "photoUrl": "",
      "userId": "08851466340381164023"
     },
     "user_tz": 300
    },
    "id": "F-rC8UjtAtb4",
    "outputId": "61a9ea32-c45f-477f-87d3-80893314a2de"
   },
   "outputs": [
    {
     "data": {
      "text/plain": [
       "array([10,  8,  6,  4,  2,  0])"
      ]
     },
     "execution_count": 707,
     "metadata": {
      "tags": []
     },
     "output_type": "execute_result"
    }
   ],
   "source": [
    "a[::-2]\n"
   ]
  },
  {
   "cell_type": "code",
   "execution_count": 708,
   "metadata": {
    "colab": {
     "base_uri": "https://localhost:8080/"
    },
    "executionInfo": {
     "elapsed": 3074,
     "status": "ok",
     "timestamp": 1611069766932,
     "user": {
      "displayName": "Boris Garbuzov",
      "photoUrl": "",
      "userId": "08851466340381164023"
     },
     "user_tz": 300
    },
    "id": "h9Lyln1VFLAj",
    "outputId": "e6639ee0-e56c-4547-e594-d382e74c82b3"
   },
   "outputs": [
    {
     "data": {
      "text/plain": [
       "array([], dtype=int64)"
      ]
     },
     "execution_count": 708,
     "metadata": {
      "tags": []
     },
     "output_type": "execute_result"
    }
   ],
   "source": [
    "a[0:10:-2]"
   ]
  },
  {
   "cell_type": "code",
   "execution_count": 709,
   "metadata": {
    "colab": {
     "base_uri": "https://localhost:8080/"
    },
    "executionInfo": {
     "elapsed": 3065,
     "status": "ok",
     "timestamp": 1611069766933,
     "user": {
      "displayName": "Boris Garbuzov",
      "photoUrl": "",
      "userId": "08851466340381164023"
     },
     "user_tz": 300
    },
    "id": "WN9qXX2BFmZB",
    "outputId": "add9c7a5-a564-455e-c91c-937335cdf896"
   },
   "outputs": [
    {
     "data": {
      "text/plain": [
       "array([10,  8,  6,  4,  2])"
      ]
     },
     "execution_count": 709,
     "metadata": {
      "tags": []
     },
     "output_type": "execute_result"
    }
   ],
   "source": [
    "a[10:0:-2]"
   ]
  },
  {
   "cell_type": "markdown",
   "metadata": {
    "id": "3iGV-TeoAtb4"
   },
   "source": [
    "## Multidimensional arrays"
   ]
  },
  {
   "cell_type": "code",
   "execution_count": 710,
   "metadata": {
    "executionInfo": {
     "elapsed": 3056,
     "status": "ok",
     "timestamp": 1611069766933,
     "user": {
      "displayName": "Boris Garbuzov",
      "photoUrl": "",
      "userId": "08851466340381164023"
     },
     "user_tz": 300
    },
    "id": "kuvvGrknAtb4"
   },
   "outputs": [],
   "source": [
    "f = lambda m, n: n + 10 * m"
   ]
  },
  {
   "cell_type": "code",
   "execution_count": 711,
   "metadata": {
    "colab": {
     "base_uri": "https://localhost:8080/"
    },
    "executionInfo": {
     "elapsed": 3054,
     "status": "ok",
     "timestamp": 1611069766933,
     "user": {
      "displayName": "Boris Garbuzov",
      "photoUrl": "",
      "userId": "08851466340381164023"
     },
     "user_tz": 300
    },
    "id": "Us_3419XGHHw",
    "outputId": "69fdca47-ec68-4e16-adf7-7d750f9505a7"
   },
   "outputs": [
    {
     "data": {
      "text/plain": [
       "12"
      ]
     },
     "execution_count": 711,
     "metadata": {
      "tags": []
     },
     "output_type": "execute_result"
    }
   ],
   "source": [
    "f(1, 2)"
   ]
  },
  {
   "cell_type": "code",
   "execution_count": 712,
   "metadata": {
    "executionInfo": {
     "elapsed": 3049,
     "status": "ok",
     "timestamp": 1611069766934,
     "user": {
      "displayName": "Boris Garbuzov",
      "photoUrl": "",
      "userId": "08851466340381164023"
     },
     "user_tz": 300
    },
    "id": "NZ1L9GI9Atb5"
   },
   "outputs": [],
   "source": [
    "A = np.fromfunction(f, (6, 6), dtype=int)"
   ]
  },
  {
   "cell_type": "code",
   "execution_count": 713,
   "metadata": {
    "colab": {
     "base_uri": "https://localhost:8080/"
    },
    "executionInfo": {
     "elapsed": 3048,
     "status": "ok",
     "timestamp": 1611069766934,
     "user": {
      "displayName": "Boris Garbuzov",
      "photoUrl": "",
      "userId": "08851466340381164023"
     },
     "user_tz": 300
    },
    "id": "Gahj7u31Atb5",
    "outputId": "18787842-a2de-4d4a-93c0-5ef8d0a021e8"
   },
   "outputs": [
    {
     "data": {
      "text/plain": [
       "array([[ 0,  1,  2,  3,  4,  5],\n",
       "       [10, 11, 12, 13, 14, 15],\n",
       "       [20, 21, 22, 23, 24, 25],\n",
       "       [30, 31, 32, 33, 34, 35],\n",
       "       [40, 41, 42, 43, 44, 45],\n",
       "       [50, 51, 52, 53, 54, 55]])"
      ]
     },
     "execution_count": 713,
     "metadata": {
      "tags": []
     },
     "output_type": "execute_result"
    }
   ],
   "source": [
    "A"
   ]
  },
  {
   "cell_type": "code",
   "execution_count": 714,
   "metadata": {
    "colab": {
     "base_uri": "https://localhost:8080/"
    },
    "executionInfo": {
     "elapsed": 3198,
     "status": "ok",
     "timestamp": 1611069767092,
     "user": {
      "displayName": "Boris Garbuzov",
      "photoUrl": "",
      "userId": "08851466340381164023"
     },
     "user_tz": 300
    },
    "id": "VlrWCm2wAtb5",
    "outputId": "5fcd17ad-8293-41ed-d091-c00d6d652dd1"
   },
   "outputs": [
    {
     "data": {
      "text/plain": [
       "array([ 1, 11, 21, 31, 41, 51])"
      ]
     },
     "execution_count": 714,
     "metadata": {
      "tags": []
     },
     "output_type": "execute_result"
    }
   ],
   "source": [
    "A[:, 1]  # the second column"
   ]
  },
  {
   "cell_type": "code",
   "execution_count": 715,
   "metadata": {
    "colab": {
     "base_uri": "https://localhost:8080/"
    },
    "executionInfo": {
     "elapsed": 3190,
     "status": "ok",
     "timestamp": 1611069767092,
     "user": {
      "displayName": "Boris Garbuzov",
      "photoUrl": "",
      "userId": "08851466340381164023"
     },
     "user_tz": 300
    },
    "id": "k8u_h0uZAtb5",
    "outputId": "bf00e5d0-1cc8-46f3-e037-bdbe96cbc3ab"
   },
   "outputs": [
    {
     "data": {
      "text/plain": [
       "array([10, 11, 12, 13, 14, 15])"
      ]
     },
     "execution_count": 715,
     "metadata": {
      "tags": []
     },
     "output_type": "execute_result"
    }
   ],
   "source": [
    "A[1, :]  # the second row"
   ]
  },
  {
   "cell_type": "code",
   "execution_count": 716,
   "metadata": {
    "colab": {
     "base_uri": "https://localhost:8080/"
    },
    "executionInfo": {
     "elapsed": 3184,
     "status": "ok",
     "timestamp": 1611069767094,
     "user": {
      "displayName": "Boris Garbuzov",
      "photoUrl": "",
      "userId": "08851466340381164023"
     },
     "user_tz": 300
    },
    "id": "vfRn49IpAtb6",
    "outputId": "29adca67-1a41-4cb4-8e8a-eb1f64d91294"
   },
   "outputs": [
    {
     "data": {
      "text/plain": [
       "array([[ 0,  1,  2],\n",
       "       [10, 11, 12],\n",
       "       [20, 21, 22]])"
      ]
     },
     "execution_count": 716,
     "metadata": {
      "tags": []
     },
     "output_type": "execute_result"
    }
   ],
   "source": [
    "A[:3, :3]  # upper half diagonal block matrix"
   ]
  },
  {
   "cell_type": "code",
   "execution_count": 717,
   "metadata": {
    "colab": {
     "base_uri": "https://localhost:8080/"
    },
    "executionInfo": {
     "elapsed": 3175,
     "status": "ok",
     "timestamp": 1611069767094,
     "user": {
      "displayName": "Boris Garbuzov",
      "photoUrl": "",
      "userId": "08851466340381164023"
     },
     "user_tz": 300
    },
    "id": "45YRV_B5Atb6",
    "outputId": "c1059dd8-4f00-4555-d757-0d70d5b1d8c0"
   },
   "outputs": [
    {
     "data": {
      "text/plain": [
       "array([[30, 31, 32],\n",
       "       [40, 41, 42],\n",
       "       [50, 51, 52]])"
      ]
     },
     "execution_count": 717,
     "metadata": {
      "tags": []
     },
     "output_type": "execute_result"
    }
   ],
   "source": [
    "A[3:, :3]  # lower left off-diagonal block matrix"
   ]
  },
  {
   "cell_type": "code",
   "execution_count": 718,
   "metadata": {
    "colab": {
     "base_uri": "https://localhost:8080/"
    },
    "executionInfo": {
     "elapsed": 3170,
     "status": "ok",
     "timestamp": 1611069767095,
     "user": {
      "displayName": "Boris Garbuzov",
      "photoUrl": "",
      "userId": "08851466340381164023"
     },
     "user_tz": 300
    },
    "id": "YtlN1sRgAtb6",
    "outputId": "5c2406e9-f712-4461-ea39-c8335d33f738"
   },
   "outputs": [
    {
     "data": {
      "text/plain": [
       "array([[ 0,  2,  4],\n",
       "       [20, 22, 24],\n",
       "       [40, 42, 44]])"
      ]
     },
     "execution_count": 718,
     "metadata": {
      "tags": []
     },
     "output_type": "execute_result"
    }
   ],
   "source": [
    "A[::2, ::2]  # every second element starting from 0, 0"
   ]
  },
  {
   "cell_type": "code",
   "execution_count": 719,
   "metadata": {
    "colab": {
     "base_uri": "https://localhost:8080/"
    },
    "executionInfo": {
     "elapsed": 3166,
     "status": "ok",
     "timestamp": 1611069767096,
     "user": {
      "displayName": "Boris Garbuzov",
      "photoUrl": "",
      "userId": "08851466340381164023"
     },
     "user_tz": 300
    },
    "id": "7GpAXG9EAtb7",
    "outputId": "cdeb17f0-1404-4184-9c9f-ea94d4690d25"
   },
   "outputs": [
    {
     "data": {
      "text/plain": [
       "array([[11, 14],\n",
       "       [31, 34],\n",
       "       [51, 54]])"
      ]
     },
     "execution_count": 719,
     "metadata": {
      "tags": []
     },
     "output_type": "execute_result"
    }
   ],
   "source": [
    "A[1::2, 1::3]  # every second element starting from 1, 1\n",
    "# B: and every third element in columns"
   ]
  },
  {
   "cell_type": "markdown",
   "metadata": {
    "id": "VQZQ0I3ZAtb7"
   },
   "source": [
    "### Views"
   ]
  },
  {
   "cell_type": "code",
   "execution_count": 720,
   "metadata": {
    "executionInfo": {
     "elapsed": 3159,
     "status": "ok",
     "timestamp": 1611069767096,
     "user": {
      "displayName": "Boris Garbuzov",
      "photoUrl": "",
      "userId": "08851466340381164023"
     },
     "user_tz": 300
    },
    "id": "_Ku57q4yAtb7"
   },
   "outputs": [],
   "source": [
    "B = A[1:5, 1:5]"
   ]
  },
  {
   "cell_type": "code",
   "execution_count": 721,
   "metadata": {
    "colab": {
     "base_uri": "https://localhost:8080/"
    },
    "executionInfo": {
     "elapsed": 3157,
     "status": "ok",
     "timestamp": 1611069767097,
     "user": {
      "displayName": "Boris Garbuzov",
      "photoUrl": "",
      "userId": "08851466340381164023"
     },
     "user_tz": 300
    },
    "id": "2FUvXoq-Atb7",
    "outputId": "ed97f57f-8434-4b18-d2d6-e7743de65ae6"
   },
   "outputs": [
    {
     "data": {
      "text/plain": [
       "array([[11, 12, 13, 14],\n",
       "       [21, 22, 23, 24],\n",
       "       [31, 32, 33, 34],\n",
       "       [41, 42, 43, 44]])"
      ]
     },
     "execution_count": 721,
     "metadata": {
      "tags": []
     },
     "output_type": "execute_result"
    }
   ],
   "source": [
    "B"
   ]
  },
  {
   "cell_type": "code",
   "execution_count": 722,
   "metadata": {
    "executionInfo": {
     "elapsed": 3150,
     "status": "ok",
     "timestamp": 1611069767098,
     "user": {
      "displayName": "Boris Garbuzov",
      "photoUrl": "",
      "userId": "08851466340381164023"
     },
     "user_tz": 300
    },
    "id": "j-lZoT-pAtb8"
   },
   "outputs": [],
   "source": [
    "B[:, :] = 0"
   ]
  },
  {
   "cell_type": "code",
   "execution_count": 723,
   "metadata": {
    "colab": {
     "base_uri": "https://localhost:8080/"
    },
    "executionInfo": {
     "elapsed": 3147,
     "status": "ok",
     "timestamp": 1611069767098,
     "user": {
      "displayName": "Boris Garbuzov",
      "photoUrl": "",
      "userId": "08851466340381164023"
     },
     "user_tz": 300
    },
    "id": "dJ1UVB8hAtb8",
    "outputId": "09c77180-d809-4188-d754-fa60f38a9453"
   },
   "outputs": [
    {
     "data": {
      "text/plain": [
       "array([[ 0,  1,  2,  3,  4,  5],\n",
       "       [10,  0,  0,  0,  0, 15],\n",
       "       [20,  0,  0,  0,  0, 25],\n",
       "       [30,  0,  0,  0,  0, 35],\n",
       "       [40,  0,  0,  0,  0, 45],\n",
       "       [50, 51, 52, 53, 54, 55]])"
      ]
     },
     "execution_count": 723,
     "metadata": {
      "tags": []
     },
     "output_type": "execute_result"
    }
   ],
   "source": [
    "A"
   ]
  },
  {
   "cell_type": "code",
   "execution_count": 724,
   "metadata": {
    "executionInfo": {
     "elapsed": 3139,
     "status": "ok",
     "timestamp": 1611069767098,
     "user": {
      "displayName": "Boris Garbuzov",
      "photoUrl": "",
      "userId": "08851466340381164023"
     },
     "user_tz": 300
    },
    "id": "fBfqDIfOAtb8"
   },
   "outputs": [],
   "source": [
    "C = B[1:3, 1:3].copy()"
   ]
  },
  {
   "cell_type": "code",
   "execution_count": 725,
   "metadata": {
    "colab": {
     "base_uri": "https://localhost:8080/"
    },
    "executionInfo": {
     "elapsed": 3137,
     "status": "ok",
     "timestamp": 1611069767099,
     "user": {
      "displayName": "Boris Garbuzov",
      "photoUrl": "",
      "userId": "08851466340381164023"
     },
     "user_tz": 300
    },
    "id": "u18o81SyAtb8",
    "outputId": "1e8d734e-713b-48e3-9bf9-a6851d40b124"
   },
   "outputs": [
    {
     "data": {
      "text/plain": [
       "array([[0, 0],\n",
       "       [0, 0]])"
      ]
     },
     "execution_count": 725,
     "metadata": {
      "tags": []
     },
     "output_type": "execute_result"
    }
   ],
   "source": [
    "C"
   ]
  },
  {
   "cell_type": "code",
   "execution_count": 726,
   "metadata": {
    "executionInfo": {
     "elapsed": 3129,
     "status": "ok",
     "timestamp": 1611069767099,
     "user": {
      "displayName": "Boris Garbuzov",
      "photoUrl": "",
      "userId": "08851466340381164023"
     },
     "user_tz": 300
    },
    "id": "UNfZvlImAtb9"
   },
   "outputs": [],
   "source": [
    "C[:, :] = 1  # this does not affect B the view B[1:3, 1:3]since C is a copy of "
   ]
  },
  {
   "cell_type": "code",
   "execution_count": 727,
   "metadata": {
    "colab": {
     "base_uri": "https://localhost:8080/"
    },
    "executionInfo": {
     "elapsed": 3303,
     "status": "ok",
     "timestamp": 1611069767275,
     "user": {
      "displayName": "Boris Garbuzov",
      "photoUrl": "",
      "userId": "08851466340381164023"
     },
     "user_tz": 300
    },
    "id": "HdMD1_qpAtb9",
    "outputId": "19c8a36b-e3a7-4db7-a6b7-fea5f6026641"
   },
   "outputs": [
    {
     "data": {
      "text/plain": [
       "array([[1, 1],\n",
       "       [1, 1]])"
      ]
     },
     "execution_count": 727,
     "metadata": {
      "tags": []
     },
     "output_type": "execute_result"
    }
   ],
   "source": [
    "C"
   ]
  },
  {
   "cell_type": "code",
   "execution_count": 728,
   "metadata": {
    "colab": {
     "base_uri": "https://localhost:8080/"
    },
    "executionInfo": {
     "elapsed": 3298,
     "status": "ok",
     "timestamp": 1611069767277,
     "user": {
      "displayName": "Boris Garbuzov",
      "photoUrl": "",
      "userId": "08851466340381164023"
     },
     "user_tz": 300
    },
    "id": "BDy0WYC3Atb9",
    "outputId": "1bc09685-3394-41bf-e6ee-1a31747adec0"
   },
   "outputs": [
    {
     "data": {
      "text/plain": [
       "array([[0, 0, 0, 0],\n",
       "       [0, 0, 0, 0],\n",
       "       [0, 0, 0, 0],\n",
       "       [0, 0, 0, 0]])"
      ]
     },
     "execution_count": 728,
     "metadata": {
      "tags": []
     },
     "output_type": "execute_result"
    }
   ],
   "source": [
    "B"
   ]
  },
  {
   "cell_type": "markdown",
   "metadata": {
    "id": "fnx6ZnJwAtb9"
   },
   "source": [
    "### Fancy indexing and Boolean-valued indexing"
   ]
  },
  {
   "cell_type": "code",
   "execution_count": 729,
   "metadata": {
    "executionInfo": {
     "elapsed": 3290,
     "status": "ok",
     "timestamp": 1611069767277,
     "user": {
      "displayName": "Boris Garbuzov",
      "photoUrl": "",
      "userId": "08851466340381164023"
     },
     "user_tz": 300
    },
    "id": "KLf96CJhAtb-"
   },
   "outputs": [],
   "source": [
    "A = np.linspace(0, 1, 11)"
   ]
  },
  {
   "cell_type": "code",
   "execution_count": 730,
   "metadata": {
    "colab": {
     "base_uri": "https://localhost:8080/"
    },
    "executionInfo": {
     "elapsed": 3287,
     "status": "ok",
     "timestamp": 1611069767277,
     "user": {
      "displayName": "Boris Garbuzov",
      "photoUrl": "",
      "userId": "08851466340381164023"
     },
     "user_tz": 300
    },
    "id": "3iMmND8RAtb-",
    "outputId": "15a21214-3920-42f4-f8f2-145de8d3469d"
   },
   "outputs": [
    {
     "data": {
      "text/plain": [
       "array([0. , 0.2, 0.4])"
      ]
     },
     "execution_count": 730,
     "metadata": {
      "tags": []
     },
     "output_type": "execute_result"
    }
   ],
   "source": [
    "A[np.array([0, 2, 4])]"
   ]
  },
  {
   "cell_type": "code",
   "execution_count": 731,
   "metadata": {
    "colab": {
     "base_uri": "https://localhost:8080/"
    },
    "executionInfo": {
     "elapsed": 3281,
     "status": "ok",
     "timestamp": 1611069767277,
     "user": {
      "displayName": "Boris Garbuzov",
      "photoUrl": "",
      "userId": "08851466340381164023"
     },
     "user_tz": 300
    },
    "id": "pSthYw_iAtb-",
    "outputId": "0f2033e8-a89a-4e36-c903-e09d43bbf4dc"
   },
   "outputs": [
    {
     "data": {
      "text/plain": [
       "array([0. , 0.2, 0.4])"
      ]
     },
     "execution_count": 731,
     "metadata": {
      "tags": []
     },
     "output_type": "execute_result"
    }
   ],
   "source": [
    "A[[0, 2, 4]]"
   ]
  },
  {
   "cell_type": "code",
   "execution_count": 732,
   "metadata": {
    "colab": {
     "base_uri": "https://localhost:8080/"
    },
    "executionInfo": {
     "elapsed": 3276,
     "status": "ok",
     "timestamp": 1611069767278,
     "user": {
      "displayName": "Boris Garbuzov",
      "photoUrl": "",
      "userId": "08851466340381164023"
     },
     "user_tz": 300
    },
    "id": "XgCTaUGQAtb-",
    "outputId": "6fb3cebe-cd5d-4083-ba0c-6e38dfc5eabf"
   },
   "outputs": [
    {
     "data": {
      "text/plain": [
       "array([False, False, False, False, False, False,  True,  True,  True,\n",
       "        True,  True])"
      ]
     },
     "execution_count": 732,
     "metadata": {
      "tags": []
     },
     "output_type": "execute_result"
    }
   ],
   "source": [
    "A > 0.5 "
   ]
  },
  {
   "cell_type": "code",
   "execution_count": 733,
   "metadata": {
    "colab": {
     "base_uri": "https://localhost:8080/"
    },
    "executionInfo": {
     "elapsed": 3270,
     "status": "ok",
     "timestamp": 1611069767278,
     "user": {
      "displayName": "Boris Garbuzov",
      "photoUrl": "",
      "userId": "08851466340381164023"
     },
     "user_tz": 300
    },
    "id": "I7DqgdZ5KEqb",
    "outputId": "79be8800-361d-40d3-e737-62cabd6fff4e"
   },
   "outputs": [
    {
     "data": {
      "text/plain": [
       "array([0.6, 0.7, 0.8, 0.9, 1. ])"
      ]
     },
     "execution_count": 733,
     "metadata": {
      "tags": []
     },
     "output_type": "execute_result"
    }
   ],
   "source": [
    "A[[False, False, False, False, False, False,  True,  True,  True, True,  True]]"
   ]
  },
  {
   "cell_type": "code",
   "execution_count": 734,
   "metadata": {
    "colab": {
     "base_uri": "https://localhost:8080/"
    },
    "executionInfo": {
     "elapsed": 3260,
     "status": "ok",
     "timestamp": 1611069767278,
     "user": {
      "displayName": "Boris Garbuzov",
      "photoUrl": "",
      "userId": "08851466340381164023"
     },
     "user_tz": 300
    },
    "id": "HN6wNXHyAtb_",
    "outputId": "7be10fbd-4842-4321-99cb-b1bd87f59c59"
   },
   "outputs": [
    {
     "data": {
      "text/plain": [
       "array([0.6, 0.7, 0.8, 0.9, 1. ])"
      ]
     },
     "execution_count": 734,
     "metadata": {
      "tags": []
     },
     "output_type": "execute_result"
    }
   ],
   "source": [
    "A[A > 0.5]"
   ]
  },
  {
   "cell_type": "code",
   "execution_count": 735,
   "metadata": {
    "executionInfo": {
     "elapsed": 3251,
     "status": "ok",
     "timestamp": 1611069767278,
     "user": {
      "displayName": "Boris Garbuzov",
      "photoUrl": "",
      "userId": "08851466340381164023"
     },
     "user_tz": 300
    },
    "id": "xZ7yfCNQAtb_"
   },
   "outputs": [],
   "source": [
    "A = np.arange(10)"
   ]
  },
  {
   "cell_type": "code",
   "execution_count": 736,
   "metadata": {
    "colab": {
     "base_uri": "https://localhost:8080/"
    },
    "executionInfo": {
     "elapsed": 3248,
     "status": "ok",
     "timestamp": 1611069767279,
     "user": {
      "displayName": "Boris Garbuzov",
      "photoUrl": "",
      "userId": "08851466340381164023"
     },
     "user_tz": 300
    },
    "id": "UkFO_bNfAtb_",
    "outputId": "0d63ecfd-0263-49b9-cc25-50ee01992a78"
   },
   "outputs": [
    {
     "data": {
      "text/plain": [
       "array([0, 1, 2, 3, 4, 5, 6, 7, 8, 9])"
      ]
     },
     "execution_count": 736,
     "metadata": {
      "tags": []
     },
     "output_type": "execute_result"
    }
   ],
   "source": [
    "A"
   ]
  },
  {
   "cell_type": "code",
   "execution_count": 737,
   "metadata": {
    "executionInfo": {
     "elapsed": 3243,
     "status": "ok",
     "timestamp": 1611069767279,
     "user": {
      "displayName": "Boris Garbuzov",
      "photoUrl": "",
      "userId": "08851466340381164023"
     },
     "user_tz": 300
    },
    "id": "BFdzg0w1AtcA"
   },
   "outputs": [],
   "source": [
    "indices = [2, 4, 6]"
   ]
  },
  {
   "cell_type": "code",
   "execution_count": 738,
   "metadata": {
    "executionInfo": {
     "elapsed": 3241,
     "status": "ok",
     "timestamp": 1611069767279,
     "user": {
      "displayName": "Boris Garbuzov",
      "photoUrl": "",
      "userId": "08851466340381164023"
     },
     "user_tz": 300
    },
    "id": "ZInLhvJRAtcA"
   },
   "outputs": [],
   "source": [
    "B = A[indices]"
   ]
  },
  {
   "cell_type": "code",
   "execution_count": 739,
   "metadata": {
    "colab": {
     "base_uri": "https://localhost:8080/"
    },
    "executionInfo": {
     "elapsed": 3548,
     "status": "ok",
     "timestamp": 1611069767590,
     "user": {
      "displayName": "Boris Garbuzov",
      "photoUrl": "",
      "userId": "08851466340381164023"
     },
     "user_tz": 300
    },
    "id": "MN131i5ZLpky",
    "outputId": "96fc97c4-192b-42d9-9ec6-43e7cca21ae0"
   },
   "outputs": [
    {
     "data": {
      "text/plain": [
       "(3,)"
      ]
     },
     "execution_count": 739,
     "metadata": {
      "tags": []
     },
     "output_type": "execute_result"
    }
   ],
   "source": [
    "B.shape"
   ]
  },
  {
   "cell_type": "code",
   "execution_count": 740,
   "metadata": {
    "colab": {
     "base_uri": "https://localhost:8080/"
    },
    "executionInfo": {
     "elapsed": 3539,
     "status": "ok",
     "timestamp": 1611069767591,
     "user": {
      "displayName": "Boris Garbuzov",
      "photoUrl": "",
      "userId": "08851466340381164023"
     },
     "user_tz": 300
    },
    "id": "-yf5aboEKqWa",
    "outputId": "4a891696-e48e-458f-a707-d033749459f1"
   },
   "outputs": [
    {
     "data": {
      "text/plain": [
       "array([1, 2, 3])"
      ]
     },
     "execution_count": 740,
     "metadata": {
      "tags": []
     },
     "output_type": "execute_result"
    }
   ],
   "source": [
    "A[[1, 2, 3]]"
   ]
  },
  {
   "cell_type": "markdown",
   "metadata": {
    "id": "W0_akL8gMP8Y"
   },
   "source": [
    "If A is a list, then the transfer is by reference, and all we do with B, will happen to A. \n",
    "If A is np.ndarray, then the transfer is by copy, and B will be independent of A.\n",
    "Indexes may be of any type. \n",
    "It matters, if the subject of copying A is numpy or simple numeric type.  \n"
   ]
  },
  {
   "cell_type": "code",
   "execution_count": 741,
   "metadata": {
    "executionInfo": {
     "elapsed": 3533,
     "status": "ok",
     "timestamp": 1611069767591,
     "user": {
      "displayName": "Boris Garbuzov",
      "photoUrl": "",
      "userId": "08851466340381164023"
     },
     "user_tz": 300
    },
    "id": "uYZ5imkMAtcA"
   },
   "outputs": [],
   "source": [
    "B[0] = -1  # this does not affect A"
   ]
  },
  {
   "cell_type": "code",
   "execution_count": 742,
   "metadata": {
    "colab": {
     "base_uri": "https://localhost:8080/"
    },
    "executionInfo": {
     "elapsed": 3532,
     "status": "ok",
     "timestamp": 1611069767592,
     "user": {
      "displayName": "Boris Garbuzov",
      "photoUrl": "",
      "userId": "08851466340381164023"
     },
     "user_tz": 300
    },
    "id": "1GTYD5Y6AtcA",
    "outputId": "2b8cfc49-a658-4535-9a29-033526ac0248"
   },
   "outputs": [
    {
     "data": {
      "text/plain": [
       "array([0, 1, 2, 3, 4, 5, 6, 7, 8, 9])"
      ]
     },
     "execution_count": 742,
     "metadata": {
      "tags": []
     },
     "output_type": "execute_result"
    }
   ],
   "source": [
    "A"
   ]
  },
  {
   "cell_type": "code",
   "execution_count": 743,
   "metadata": {
    "executionInfo": {
     "elapsed": 3526,
     "status": "ok",
     "timestamp": 1611069767592,
     "user": {
      "displayName": "Boris Garbuzov",
      "photoUrl": "",
      "userId": "08851466340381164023"
     },
     "user_tz": 300
    },
    "id": "pKus0C7qAtcA"
   },
   "outputs": [],
   "source": [
    "A[indices] = -1"
   ]
  },
  {
   "cell_type": "code",
   "execution_count": 744,
   "metadata": {
    "colab": {
     "base_uri": "https://localhost:8080/"
    },
    "executionInfo": {
     "elapsed": 3523,
     "status": "ok",
     "timestamp": 1611069767592,
     "user": {
      "displayName": "Boris Garbuzov",
      "photoUrl": "",
      "userId": "08851466340381164023"
     },
     "user_tz": 300
    },
    "id": "qfnKLXp1AtcB",
    "outputId": "354dfe20-e7ae-40f1-c6d7-17d5a1363dfc"
   },
   "outputs": [
    {
     "data": {
      "text/plain": [
       "array([ 0,  1, -1,  3, -1,  5, -1,  7,  8,  9])"
      ]
     },
     "execution_count": 744,
     "metadata": {
      "tags": []
     },
     "output_type": "execute_result"
    }
   ],
   "source": [
    "A"
   ]
  },
  {
   "cell_type": "code",
   "execution_count": 745,
   "metadata": {
    "executionInfo": {
     "elapsed": 3516,
     "status": "ok",
     "timestamp": 1611069767594,
     "user": {
      "displayName": "Boris Garbuzov",
      "photoUrl": "",
      "userId": "08851466340381164023"
     },
     "user_tz": 300
    },
    "id": "QG38DB1wAtcB"
   },
   "outputs": [],
   "source": [
    "A = np.arange(10)"
   ]
  },
  {
   "cell_type": "code",
   "execution_count": 746,
   "metadata": {
    "executionInfo": {
     "elapsed": 3513,
     "status": "ok",
     "timestamp": 1611069767594,
     "user": {
      "displayName": "Boris Garbuzov",
      "photoUrl": "",
      "userId": "08851466340381164023"
     },
     "user_tz": 300
    },
    "id": "dqev9m4MAtcB"
   },
   "outputs": [],
   "source": [
    "B = A[A > 5]"
   ]
  },
  {
   "cell_type": "code",
   "execution_count": 747,
   "metadata": {
    "executionInfo": {
     "elapsed": 3511,
     "status": "ok",
     "timestamp": 1611069767594,
     "user": {
      "displayName": "Boris Garbuzov",
      "photoUrl": "",
      "userId": "08851466340381164023"
     },
     "user_tz": 300
    },
    "id": "gvIsO9v8AtcC"
   },
   "outputs": [],
   "source": [
    "B[0] = -1  # this does not affect A"
   ]
  },
  {
   "cell_type": "code",
   "execution_count": 748,
   "metadata": {
    "colab": {
     "base_uri": "https://localhost:8080/"
    },
    "executionInfo": {
     "elapsed": 3508,
     "status": "ok",
     "timestamp": 1611069767594,
     "user": {
      "displayName": "Boris Garbuzov",
      "photoUrl": "",
      "userId": "08851466340381164023"
     },
     "user_tz": 300
    },
    "id": "wP6L3nsDAtcC",
    "outputId": "44750683-13a3-4ac9-84ef-1b8c6fd2068f"
   },
   "outputs": [
    {
     "data": {
      "text/plain": [
       "array([0, 1, 2, 3, 4, 5, 6, 7, 8, 9])"
      ]
     },
     "execution_count": 748,
     "metadata": {
      "tags": []
     },
     "output_type": "execute_result"
    }
   ],
   "source": [
    "A"
   ]
  },
  {
   "cell_type": "code",
   "execution_count": 749,
   "metadata": {
    "executionInfo": {
     "elapsed": 3501,
     "status": "ok",
     "timestamp": 1611069767595,
     "user": {
      "displayName": "Boris Garbuzov",
      "photoUrl": "",
      "userId": "08851466340381164023"
     },
     "user_tz": 300
    },
    "id": "DJd7FE-dAtcD"
   },
   "outputs": [],
   "source": [
    "A[A > 5] = -1"
   ]
  },
  {
   "cell_type": "code",
   "execution_count": 750,
   "metadata": {
    "colab": {
     "base_uri": "https://localhost:8080/"
    },
    "executionInfo": {
     "elapsed": 3497,
     "status": "ok",
     "timestamp": 1611069767595,
     "user": {
      "displayName": "Boris Garbuzov",
      "photoUrl": "",
      "userId": "08851466340381164023"
     },
     "user_tz": 300
    },
    "id": "xtOBRaHSAtcD",
    "outputId": "09ae8a4d-20c9-4941-d8e0-d87306a7d712"
   },
   "outputs": [
    {
     "data": {
      "text/plain": [
       "array([ 0,  1,  2,  3,  4,  5, -1, -1, -1, -1])"
      ]
     },
     "execution_count": 750,
     "metadata": {
      "tags": []
     },
     "output_type": "execute_result"
    }
   ],
   "source": [
    "A"
   ]
  },
  {
   "cell_type": "markdown",
   "metadata": {
    "id": "_ZzDTU3gAtcE"
   },
   "source": [
    "## Reshaping and resizing"
   ]
  },
  {
   "cell_type": "code",
   "execution_count": 751,
   "metadata": {
    "executionInfo": {
     "elapsed": 3491,
     "status": "ok",
     "timestamp": 1611069767596,
     "user": {
      "displayName": "Boris Garbuzov",
      "photoUrl": "",
      "userId": "08851466340381164023"
     },
     "user_tz": 300
    },
    "id": "ixnUqJUAAtcE"
   },
   "outputs": [],
   "source": [
    "data = np.array([[1, 2], [3, 4]])"
   ]
  },
  {
   "cell_type": "code",
   "execution_count": 752,
   "metadata": {
    "colab": {
     "base_uri": "https://localhost:8080/"
    },
    "executionInfo": {
     "elapsed": 3829,
     "status": "ok",
     "timestamp": 1611069767939,
     "user": {
      "displayName": "Boris Garbuzov",
      "photoUrl": "",
      "userId": "08851466340381164023"
     },
     "user_tz": 300
    },
    "id": "pswJw71bAtcE",
    "outputId": "5afca9da-ea60-46fd-f774-93e0b3f11390"
   },
   "outputs": [
    {
     "data": {
      "text/plain": [
       "array([[1, 2, 3, 4]])"
      ]
     },
     "execution_count": 752,
     "metadata": {
      "tags": []
     },
     "output_type": "execute_result"
    }
   ],
   "source": [
    "np.reshape(data, (1, 4))"
   ]
  },
  {
   "cell_type": "code",
   "execution_count": 753,
   "metadata": {
    "colab": {
     "base_uri": "https://localhost:8080/"
    },
    "executionInfo": {
     "elapsed": 3823,
     "status": "ok",
     "timestamp": 1611069767939,
     "user": {
      "displayName": "Boris Garbuzov",
      "photoUrl": "",
      "userId": "08851466340381164023"
     },
     "user_tz": 300
    },
    "id": "6LRgJMy0AtcF",
    "outputId": "811c2dbe-2a0e-409f-9691-76a59971d638"
   },
   "outputs": [
    {
     "data": {
      "text/plain": [
       "array([1, 2, 3, 4])"
      ]
     },
     "execution_count": 753,
     "metadata": {
      "tags": []
     },
     "output_type": "execute_result"
    }
   ],
   "source": [
    "data.reshape(4,)\n",
    "data.reshape(4)"
   ]
  },
  {
   "cell_type": "code",
   "execution_count": 754,
   "metadata": {
    "colab": {
     "base_uri": "https://localhost:8080/"
    },
    "executionInfo": {
     "elapsed": 3818,
     "status": "ok",
     "timestamp": 1611069767940,
     "user": {
      "displayName": "Boris Garbuzov",
      "photoUrl": "",
      "userId": "08851466340381164023"
     },
     "user_tz": 300
    },
    "id": "IJoR3ekVUMKk",
    "outputId": "dc7491d4-f3fa-4138-986d-a6ad22332498"
   },
   "outputs": [
    {
     "data": {
      "text/plain": [
       "array([1, 2, 3, 4])"
      ]
     },
     "execution_count": 754,
     "metadata": {
      "tags": []
     },
     "output_type": "execute_result"
    }
   ],
   "source": [
    "data.reshape([4])"
   ]
  },
  {
   "cell_type": "code",
   "execution_count": 755,
   "metadata": {
    "executionInfo": {
     "elapsed": 3803,
     "status": "ok",
     "timestamp": 1611069767940,
     "user": {
      "displayName": "Boris Garbuzov",
      "photoUrl": "",
      "userId": "08851466340381164023"
     },
     "user_tz": 300
    },
    "id": "Rf1F9iycUkmE"
   },
   "outputs": [],
   "source": [
    "# data.reshape([[4]]) \n",
    "# unlike tuple, in list we can not use nested square brackets\n",
    "# Only round brackets. "
   ]
  },
  {
   "cell_type": "code",
   "execution_count": 756,
   "metadata": {
    "colab": {
     "base_uri": "https://localhost:8080/"
    },
    "executionInfo": {
     "elapsed": 3800,
     "status": "ok",
     "timestamp": 1611069767940,
     "user": {
      "displayName": "Boris Garbuzov",
      "photoUrl": "",
      "userId": "08851466340381164023"
     },
     "user_tz": 300
    },
    "id": "9JqmRHewUZGw",
    "outputId": "4abca910-f21e-41e2-fb0b-ece31b9e2811"
   },
   "outputs": [
    {
     "data": {
      "text/plain": [
       "array([1, 2, 3, 4])"
      ]
     },
     "execution_count": 756,
     "metadata": {
      "tags": []
     },
     "output_type": "execute_result"
    }
   ],
   "source": [
    "data.reshape((4))"
   ]
  },
  {
   "cell_type": "code",
   "execution_count": 757,
   "metadata": {
    "colab": {
     "base_uri": "https://localhost:8080/"
    },
    "executionInfo": {
     "elapsed": 3794,
     "status": "ok",
     "timestamp": 1611069767941,
     "user": {
      "displayName": "Boris Garbuzov",
      "photoUrl": "",
      "userId": "08851466340381164023"
     },
     "user_tz": 300
    },
    "id": "a5e00C-_Ud-0",
    "outputId": "1821356a-d20b-4b99-c8dd-d8f90888f678"
   },
   "outputs": [
    {
     "data": {
      "text/plain": [
       "array([1, 2, 3, 4])"
      ]
     },
     "execution_count": 757,
     "metadata": {
      "tags": []
     },
     "output_type": "execute_result"
    }
   ],
   "source": [
    "data.reshape(((4)))"
   ]
  },
  {
   "cell_type": "code",
   "execution_count": 758,
   "metadata": {
    "executionInfo": {
     "elapsed": 3789,
     "status": "ok",
     "timestamp": 1611069767942,
     "user": {
      "displayName": "Boris Garbuzov",
      "photoUrl": "",
      "userId": "08851466340381164023"
     },
     "user_tz": 300
    },
    "id": "P5qdc8D5AtcF"
   },
   "outputs": [],
   "source": [
    "data = np.array([[1, 2], [3, 4]])"
   ]
  },
  {
   "cell_type": "code",
   "execution_count": 759,
   "metadata": {
    "colab": {
     "base_uri": "https://localhost:8080/"
    },
    "executionInfo": {
     "elapsed": 3787,
     "status": "ok",
     "timestamp": 1611069767942,
     "user": {
      "displayName": "Boris Garbuzov",
      "photoUrl": "",
      "userId": "08851466340381164023"
     },
     "user_tz": 300
    },
    "id": "RoMRLc-LAtcF",
    "outputId": "857fa6eb-43b5-4065-9ee4-5cba75263736"
   },
   "outputs": [
    {
     "data": {
      "text/plain": [
       "array([[1, 2],\n",
       "       [3, 4]])"
      ]
     },
     "execution_count": 759,
     "metadata": {
      "tags": []
     },
     "output_type": "execute_result"
    }
   ],
   "source": [
    "data"
   ]
  },
  {
   "cell_type": "code",
   "execution_count": 760,
   "metadata": {
    "colab": {
     "base_uri": "https://localhost:8080/"
    },
    "executionInfo": {
     "elapsed": 3779,
     "status": "ok",
     "timestamp": 1611069767942,
     "user": {
      "displayName": "Boris Garbuzov",
      "photoUrl": "",
      "userId": "08851466340381164023"
     },
     "user_tz": 300
    },
    "id": "3j04tCs4AtcG",
    "outputId": "aa29f655-a91e-472f-fda4-d7b76f944316"
   },
   "outputs": [
    {
     "data": {
      "text/plain": [
       "array([1, 2, 3, 4])"
      ]
     },
     "execution_count": 760,
     "metadata": {
      "tags": []
     },
     "output_type": "execute_result"
    }
   ],
   "source": [
    "data.flatten()"
   ]
  },
  {
   "cell_type": "code",
   "execution_count": 761,
   "metadata": {
    "colab": {
     "base_uri": "https://localhost:8080/"
    },
    "executionInfo": {
     "elapsed": 3771,
     "status": "ok",
     "timestamp": 1611069767942,
     "user": {
      "displayName": "Boris Garbuzov",
      "photoUrl": "",
      "userId": "08851466340381164023"
     },
     "user_tz": 300
    },
    "id": "pahPMCi3AtcG",
    "outputId": "4fcf4558-aab0-41af-9f95-c7472516bc6b"
   },
   "outputs": [
    {
     "data": {
      "text/plain": [
       "(4,)"
      ]
     },
     "execution_count": 761,
     "metadata": {
      "tags": []
     },
     "output_type": "execute_result"
    }
   ],
   "source": [
    "data.flatten().shape"
   ]
  },
  {
   "cell_type": "code",
   "execution_count": 762,
   "metadata": {
    "executionInfo": {
     "elapsed": 3764,
     "status": "ok",
     "timestamp": 1611069767942,
     "user": {
      "displayName": "Boris Garbuzov",
      "photoUrl": "",
      "userId": "08851466340381164023"
     },
     "user_tz": 300
    },
    "id": "WWrxhnaBAtcH"
   },
   "outputs": [],
   "source": [
    "data = np.arange(0, 5)"
   ]
  },
  {
   "cell_type": "code",
   "execution_count": 763,
   "metadata": {
    "executionInfo": {
     "elapsed": 3763,
     "status": "ok",
     "timestamp": 1611069767942,
     "user": {
      "displayName": "Boris Garbuzov",
      "photoUrl": "",
      "userId": "08851466340381164023"
     },
     "user_tz": 300
    },
    "id": "g1bFFhUtAtcH"
   },
   "outputs": [],
   "source": [
    "column = data[:, np.newaxis]"
   ]
  },
  {
   "cell_type": "code",
   "execution_count": 764,
   "metadata": {
    "colab": {
     "base_uri": "https://localhost:8080/"
    },
    "executionInfo": {
     "elapsed": 3762,
     "status": "ok",
     "timestamp": 1611069767943,
     "user": {
      "displayName": "Boris Garbuzov",
      "photoUrl": "",
      "userId": "08851466340381164023"
     },
     "user_tz": 300
    },
    "id": "y5WkDAJnAtcI",
    "outputId": "b4d37cc1-4b9a-46a2-8f5a-fac6b93def44"
   },
   "outputs": [
    {
     "data": {
      "text/plain": [
       "array([[0],\n",
       "       [1],\n",
       "       [2],\n",
       "       [3],\n",
       "       [4]])"
      ]
     },
     "execution_count": 764,
     "metadata": {
      "tags": []
     },
     "output_type": "execute_result"
    }
   ],
   "source": [
    "column"
   ]
  },
  {
   "cell_type": "code",
   "execution_count": 765,
   "metadata": {
    "executionInfo": {
     "elapsed": 3754,
     "status": "ok",
     "timestamp": 1611069767943,
     "user": {
      "displayName": "Boris Garbuzov",
      "photoUrl": "",
      "userId": "08851466340381164023"
     },
     "user_tz": 300
    },
    "id": "WpVYx5WpAtcI"
   },
   "outputs": [],
   "source": [
    "row = data[np.newaxis, :]"
   ]
  },
  {
   "cell_type": "code",
   "execution_count": 766,
   "metadata": {
    "colab": {
     "base_uri": "https://localhost:8080/"
    },
    "executionInfo": {
     "elapsed": 3750,
     "status": "ok",
     "timestamp": 1611069767943,
     "user": {
      "displayName": "Boris Garbuzov",
      "photoUrl": "",
      "userId": "08851466340381164023"
     },
     "user_tz": 300
    },
    "id": "_Qty3mNjAtcI",
    "outputId": "8b35b0d0-873d-4b2a-eca6-ccdd0da0b4a3"
   },
   "outputs": [
    {
     "data": {
      "text/plain": [
       "array([[0, 1, 2, 3, 4]])"
      ]
     },
     "execution_count": 766,
     "metadata": {
      "tags": []
     },
     "output_type": "execute_result"
    }
   ],
   "source": [
    "row"
   ]
  },
  {
   "cell_type": "code",
   "execution_count": 767,
   "metadata": {
    "executionInfo": {
     "elapsed": 3746,
     "status": "ok",
     "timestamp": 1611069767944,
     "user": {
      "displayName": "Boris Garbuzov",
      "photoUrl": "",
      "userId": "08851466340381164023"
     },
     "user_tz": 300
    },
    "id": "v_3WVQNvAtcL"
   },
   "outputs": [],
   "source": [
    "data = np.arange(5)"
   ]
  },
  {
   "cell_type": "code",
   "execution_count": 768,
   "metadata": {
    "colab": {
     "base_uri": "https://localhost:8080/"
    },
    "executionInfo": {
     "elapsed": 3744,
     "status": "ok",
     "timestamp": 1611069767945,
     "user": {
      "displayName": "Boris Garbuzov",
      "photoUrl": "",
      "userId": "08851466340381164023"
     },
     "user_tz": 300
    },
    "id": "Wq1DMouoAtcL",
    "outputId": "8c5ce4d8-79d5-46ad-bd79-7589ca78181a"
   },
   "outputs": [
    {
     "data": {
      "text/plain": [
       "array([0, 1, 2, 3, 4])"
      ]
     },
     "execution_count": 768,
     "metadata": {
      "tags": []
     },
     "output_type": "execute_result"
    }
   ],
   "source": [
    "data"
   ]
  },
  {
   "cell_type": "markdown",
   "metadata": {
    "id": "KMof3NOSVkx3"
   },
   "source": [
    "$\\color{red}{\\text{Stopped here}}$"
   ]
  },
  {
   "cell_type": "code",
   "execution_count": 769,
   "metadata": {
    "colab": {
     "base_uri": "https://localhost:8080/"
    },
    "executionInfo": {
     "elapsed": 3739,
     "status": "ok",
     "timestamp": 1611069767946,
     "user": {
      "displayName": "Boris Garbuzov",
      "photoUrl": "",
      "userId": "08851466340381164023"
     },
     "user_tz": 300
    },
    "id": "p2zczqPiAtcL",
    "outputId": "b7117dc7-4643-4021-b148-cbe9eaa1273a"
   },
   "outputs": [
    {
     "data": {
      "text/plain": [
       "array([[0, 1, 2, 3, 4],\n",
       "       [0, 1, 2, 3, 4],\n",
       "       [0, 1, 2, 3, 4]])"
      ]
     },
     "execution_count": 769,
     "metadata": {
      "tags": []
     },
     "output_type": "execute_result"
    }
   ],
   "source": [
    "np.vstack((data, data, data))"
   ]
  },
  {
   "cell_type": "code",
   "execution_count": 770,
   "metadata": {
    "executionInfo": {
     "elapsed": 3733,
     "status": "ok",
     "timestamp": 1611069767948,
     "user": {
      "displayName": "Boris Garbuzov",
      "photoUrl": "",
      "userId": "08851466340381164023"
     },
     "user_tz": 300
    },
    "id": "sLcUTuVJAtcM"
   },
   "outputs": [],
   "source": [
    "data = np.arange(5)"
   ]
  },
  {
   "cell_type": "code",
   "execution_count": 771,
   "metadata": {
    "colab": {
     "base_uri": "https://localhost:8080/"
    },
    "executionInfo": {
     "elapsed": 3729,
     "status": "ok",
     "timestamp": 1611069767948,
     "user": {
      "displayName": "Boris Garbuzov",
      "photoUrl": "",
      "userId": "08851466340381164023"
     },
     "user_tz": 300
    },
    "id": "QZwNgr5FAtcM",
    "outputId": "d09c4847-7076-4c5f-dfe7-35a7a9b3dd11"
   },
   "outputs": [
    {
     "data": {
      "text/plain": [
       "array([0, 1, 2, 3, 4])"
      ]
     },
     "execution_count": 771,
     "metadata": {
      "tags": []
     },
     "output_type": "execute_result"
    }
   ],
   "source": [
    "data"
   ]
  },
  {
   "cell_type": "code",
   "execution_count": 772,
   "metadata": {
    "colab": {
     "base_uri": "https://localhost:8080/"
    },
    "executionInfo": {
     "elapsed": 3725,
     "status": "ok",
     "timestamp": 1611069767949,
     "user": {
      "displayName": "Boris Garbuzov",
      "photoUrl": "",
      "userId": "08851466340381164023"
     },
     "user_tz": 300
    },
    "id": "oOayGXDLAtcM",
    "outputId": "7664503e-5a03-4727-8b90-649885b038c2"
   },
   "outputs": [
    {
     "data": {
      "text/plain": [
       "array([0, 1, 2, 3, 4, 0, 1, 2, 3, 4, 0, 1, 2, 3, 4])"
      ]
     },
     "execution_count": 772,
     "metadata": {
      "tags": []
     },
     "output_type": "execute_result"
    }
   ],
   "source": [
    "np.hstack((data, data, data))"
   ]
  },
  {
   "cell_type": "code",
   "execution_count": 773,
   "metadata": {
    "colab": {
     "base_uri": "https://localhost:8080/"
    },
    "executionInfo": {
     "elapsed": 3716,
     "status": "ok",
     "timestamp": 1611069767949,
     "user": {
      "displayName": "Boris Garbuzov",
      "photoUrl": "",
      "userId": "08851466340381164023"
     },
     "user_tz": 300
    },
    "id": "ySadu8PyAtcN",
    "outputId": "1de56b6c-ed69-409f-c938-94a206235af3"
   },
   "outputs": [
    {
     "data": {
      "text/plain": [
       "array([[0],\n",
       "       [1],\n",
       "       [2],\n",
       "       [3],\n",
       "       [4]])"
      ]
     },
     "execution_count": 773,
     "metadata": {
      "tags": []
     },
     "output_type": "execute_result"
    }
   ],
   "source": [
    "data = data[:, np.newaxis]\n",
    "data"
   ]
  },
  {
   "cell_type": "code",
   "execution_count": 774,
   "metadata": {
    "colab": {
     "base_uri": "https://localhost:8080/"
    },
    "executionInfo": {
     "elapsed": 3709,
     "status": "ok",
     "timestamp": 1611069767949,
     "user": {
      "displayName": "Boris Garbuzov",
      "photoUrl": "",
      "userId": "08851466340381164023"
     },
     "user_tz": 300
    },
    "id": "xlmQGm0oAtcN",
    "outputId": "66eb7624-6c7c-41e4-b71c-1da7c9f447a9"
   },
   "outputs": [
    {
     "data": {
      "text/plain": [
       "array([[0, 0, 0],\n",
       "       [1, 1, 1],\n",
       "       [2, 2, 2],\n",
       "       [3, 3, 3],\n",
       "       [4, 4, 4]])"
      ]
     },
     "execution_count": 774,
     "metadata": {
      "tags": []
     },
     "output_type": "execute_result"
    }
   ],
   "source": [
    "np.hstack((data, data, data))"
   ]
  },
  {
   "cell_type": "markdown",
   "metadata": {
    "id": "SHcHb-nnAtcN"
   },
   "source": [
    "## Vectorized expressions"
   ]
  },
  {
   "cell_type": "markdown",
   "metadata": {
    "id": "6Zajx8n7AtcO"
   },
   "source": [
    "### Arithmetic operations"
   ]
  },
  {
   "cell_type": "code",
   "execution_count": 775,
   "metadata": {
    "executionInfo": {
     "elapsed": 3702,
     "status": "ok",
     "timestamp": 1611069767949,
     "user": {
      "displayName": "Boris Garbuzov",
      "photoUrl": "",
      "userId": "08851466340381164023"
     },
     "user_tz": 300
    },
    "id": "CuBOvoXfAtcO"
   },
   "outputs": [],
   "source": [
    "x = np.array([[1, 2], [3, 4]]) "
   ]
  },
  {
   "cell_type": "code",
   "execution_count": 776,
   "metadata": {
    "executionInfo": {
     "elapsed": 3701,
     "status": "ok",
     "timestamp": 1611069767949,
     "user": {
      "displayName": "Boris Garbuzov",
      "photoUrl": "",
      "userId": "08851466340381164023"
     },
     "user_tz": 300
    },
    "id": "5Dcp-xMUAtcO"
   },
   "outputs": [],
   "source": [
    "y = np.array([[5, 6], [7, 8]])"
   ]
  },
  {
   "cell_type": "code",
   "execution_count": 777,
   "metadata": {
    "colab": {
     "base_uri": "https://localhost:8080/"
    },
    "executionInfo": {
     "elapsed": 3700,
     "status": "ok",
     "timestamp": 1611069767950,
     "user": {
      "displayName": "Boris Garbuzov",
      "photoUrl": "",
      "userId": "08851466340381164023"
     },
     "user_tz": 300
    },
    "id": "zmPg18qPAtcP",
    "outputId": "b73f3c4f-c9df-413c-b219-963b061733e1"
   },
   "outputs": [
    {
     "data": {
      "text/plain": [
       "array([[ 6,  8],\n",
       "       [10, 12]])"
      ]
     },
     "execution_count": 777,
     "metadata": {
      "tags": []
     },
     "output_type": "execute_result"
    }
   ],
   "source": [
    "x + y"
   ]
  },
  {
   "cell_type": "code",
   "execution_count": 778,
   "metadata": {
    "colab": {
     "base_uri": "https://localhost:8080/"
    },
    "executionInfo": {
     "elapsed": 3694,
     "status": "ok",
     "timestamp": 1611069767950,
     "user": {
      "displayName": "Boris Garbuzov",
      "photoUrl": "",
      "userId": "08851466340381164023"
     },
     "user_tz": 300
    },
    "id": "iv5OvfxsAtcQ",
    "outputId": "eae25f4f-780c-4ce8-ef27-271093eab975"
   },
   "outputs": [
    {
     "data": {
      "text/plain": [
       "array([[4, 4],\n",
       "       [4, 4]])"
      ]
     },
     "execution_count": 778,
     "metadata": {
      "tags": []
     },
     "output_type": "execute_result"
    }
   ],
   "source": [
    "y - x"
   ]
  },
  {
   "cell_type": "code",
   "execution_count": 779,
   "metadata": {
    "colab": {
     "base_uri": "https://localhost:8080/"
    },
    "executionInfo": {
     "elapsed": 3689,
     "status": "ok",
     "timestamp": 1611069767951,
     "user": {
      "displayName": "Boris Garbuzov",
      "photoUrl": "",
      "userId": "08851466340381164023"
     },
     "user_tz": 300
    },
    "id": "udQSm16zAtcQ",
    "outputId": "57d796e3-911a-4fb7-c9b9-0ee9b7a9e31d"
   },
   "outputs": [
    {
     "data": {
      "text/plain": [
       "array([[ 5, 12],\n",
       "       [21, 32]])"
      ]
     },
     "execution_count": 779,
     "metadata": {
      "tags": []
     },
     "output_type": "execute_result"
    }
   ],
   "source": [
    "x * y"
   ]
  },
  {
   "cell_type": "code",
   "execution_count": 780,
   "metadata": {
    "colab": {
     "base_uri": "https://localhost:8080/"
    },
    "executionInfo": {
     "elapsed": 3898,
     "status": "ok",
     "timestamp": 1611069768166,
     "user": {
      "displayName": "Boris Garbuzov",
      "photoUrl": "",
      "userId": "08851466340381164023"
     },
     "user_tz": 300
    },
    "id": "cb85IxO3AtcR",
    "outputId": "f5d90efa-0586-4eba-bee9-0c90f464ae80"
   },
   "outputs": [
    {
     "data": {
      "text/plain": [
       "array([[5.        , 3.        ],\n",
       "       [2.33333333, 2.        ]])"
      ]
     },
     "execution_count": 780,
     "metadata": {
      "tags": []
     },
     "output_type": "execute_result"
    }
   ],
   "source": [
    "y / x"
   ]
  },
  {
   "cell_type": "code",
   "execution_count": 781,
   "metadata": {
    "colab": {
     "base_uri": "https://localhost:8080/"
    },
    "executionInfo": {
     "elapsed": 3893,
     "status": "ok",
     "timestamp": 1611069768167,
     "user": {
      "displayName": "Boris Garbuzov",
      "photoUrl": "",
      "userId": "08851466340381164023"
     },
     "user_tz": 300
    },
    "id": "S-rsmyMnAtcR",
    "outputId": "35d98565-70b8-4e6a-d792-9f3725801a8a"
   },
   "outputs": [
    {
     "data": {
      "text/plain": [
       "array([[2, 4],\n",
       "       [6, 8]])"
      ]
     },
     "execution_count": 781,
     "metadata": {
      "tags": []
     },
     "output_type": "execute_result"
    }
   ],
   "source": [
    "x * 2"
   ]
  },
  {
   "cell_type": "code",
   "execution_count": 782,
   "metadata": {
    "colab": {
     "base_uri": "https://localhost:8080/"
    },
    "executionInfo": {
     "elapsed": 3883,
     "status": "ok",
     "timestamp": 1611069768167,
     "user": {
      "displayName": "Boris Garbuzov",
      "photoUrl": "",
      "userId": "08851466340381164023"
     },
     "user_tz": 300
    },
    "id": "YGXuhBCLAtcR",
    "outputId": "37f866b8-67db-417a-d4ec-29310dc4c681"
   },
   "outputs": [
    {
     "data": {
      "text/plain": [
       "array([[ 2,  4],\n",
       "       [ 8, 16]])"
      ]
     },
     "execution_count": 782,
     "metadata": {
      "tags": []
     },
     "output_type": "execute_result"
    }
   ],
   "source": [
    "2 ** x"
   ]
  },
  {
   "cell_type": "code",
   "execution_count": 783,
   "metadata": {
    "colab": {
     "base_uri": "https://localhost:8080/"
    },
    "executionInfo": {
     "elapsed": 3875,
     "status": "ok",
     "timestamp": 1611069768167,
     "user": {
      "displayName": "Boris Garbuzov",
      "photoUrl": "",
      "userId": "08851466340381164023"
     },
     "user_tz": 300
    },
    "id": "hxEQG7wwAtcS",
    "outputId": "50315b58-ab9c-449b-f528-20e3ca16dc52"
   },
   "outputs": [
    {
     "data": {
      "text/plain": [
       "array([[2.5, 3. ],\n",
       "       [3.5, 4. ]])"
      ]
     },
     "execution_count": 783,
     "metadata": {
      "tags": []
     },
     "output_type": "execute_result"
    }
   ],
   "source": [
    "y / 2"
   ]
  },
  {
   "cell_type": "code",
   "execution_count": 784,
   "metadata": {
    "colab": {
     "base_uri": "https://localhost:8080/"
    },
    "executionInfo": {
     "elapsed": 3870,
     "status": "ok",
     "timestamp": 1611069768168,
     "user": {
      "displayName": "Boris Garbuzov",
      "photoUrl": "",
      "userId": "08851466340381164023"
     },
     "user_tz": 300
    },
    "id": "dVkk_dx2AtcS",
    "outputId": "3866a599-8602-4a28-e751-a00cc55830b7"
   },
   "outputs": [
    {
     "data": {
      "text/plain": [
       "dtype('float64')"
      ]
     },
     "execution_count": 784,
     "metadata": {
      "tags": []
     },
     "output_type": "execute_result"
    }
   ],
   "source": [
    "(y / 2).dtype"
   ]
  },
  {
   "cell_type": "code",
   "execution_count": 785,
   "metadata": {
    "executionInfo": {
     "elapsed": 3865,
     "status": "ok",
     "timestamp": 1611069768168,
     "user": {
      "displayName": "Boris Garbuzov",
      "photoUrl": "",
      "userId": "08851466340381164023"
     },
     "user_tz": 300
    },
    "id": "eMZAXuVJAtcT"
   },
   "outputs": [],
   "source": [
    "x = np.array([1, 2, 3, 4]).reshape(2,2)"
   ]
  },
  {
   "cell_type": "code",
   "execution_count": 786,
   "metadata": {
    "executionInfo": {
     "elapsed": 3863,
     "status": "ok",
     "timestamp": 1611069768169,
     "user": {
      "displayName": "Boris Garbuzov",
      "photoUrl": "",
      "userId": "08851466340381164023"
     },
     "user_tz": 300
    },
    "id": "ufXGAvGAAtcT"
   },
   "outputs": [],
   "source": [
    "z = np.array([1, 2, 3, 4])"
   ]
  },
  {
   "cell_type": "code",
   "execution_count": 787,
   "metadata": {
    "executionInfo": {
     "elapsed": 3860,
     "status": "ok",
     "timestamp": 1611069768169,
     "user": {
      "displayName": "Boris Garbuzov",
      "photoUrl": "",
      "userId": "08851466340381164023"
     },
     "user_tz": 300
    },
    "id": "4Khzjun0AtcU"
   },
   "outputs": [],
   "source": [
    "# x / z"
   ]
  },
  {
   "cell_type": "code",
   "execution_count": 788,
   "metadata": {
    "executionInfo": {
     "elapsed": 3857,
     "status": "ok",
     "timestamp": 1611069768169,
     "user": {
      "displayName": "Boris Garbuzov",
      "photoUrl": "",
      "userId": "08851466340381164023"
     },
     "user_tz": 300
    },
    "id": "sDZUnGfgAtcU"
   },
   "outputs": [],
   "source": [
    "z = np.array([[2, 4]])"
   ]
  },
  {
   "cell_type": "code",
   "execution_count": 789,
   "metadata": {
    "colab": {
     "base_uri": "https://localhost:8080/"
    },
    "executionInfo": {
     "elapsed": 3854,
     "status": "ok",
     "timestamp": 1611069768169,
     "user": {
      "displayName": "Boris Garbuzov",
      "photoUrl": "",
      "userId": "08851466340381164023"
     },
     "user_tz": 300
    },
    "id": "PTSfAQXvAtcU",
    "outputId": "f03a4bcd-8105-4b0e-ce82-2c469a1210df"
   },
   "outputs": [
    {
     "data": {
      "text/plain": [
       "array([[2, 4]])"
      ]
     },
     "execution_count": 789,
     "metadata": {
      "tags": []
     },
     "output_type": "execute_result"
    }
   ],
   "source": [
    "z"
   ]
  },
  {
   "cell_type": "code",
   "execution_count": 790,
   "metadata": {
    "colab": {
     "base_uri": "https://localhost:8080/"
    },
    "executionInfo": {
     "elapsed": 3848,
     "status": "ok",
     "timestamp": 1611069768169,
     "user": {
      "displayName": "Boris Garbuzov",
      "photoUrl": "",
      "userId": "08851466340381164023"
     },
     "user_tz": 300
    },
    "id": "zJ5riobQAtcV",
    "outputId": "ea502205-6a6c-494a-c2bf-9bc720c1c6c9"
   },
   "outputs": [
    {
     "data": {
      "text/plain": [
       "(1, 2)"
      ]
     },
     "execution_count": 790,
     "metadata": {
      "tags": []
     },
     "output_type": "execute_result"
    }
   ],
   "source": [
    "z.shape"
   ]
  },
  {
   "cell_type": "code",
   "execution_count": 791,
   "metadata": {
    "colab": {
     "base_uri": "https://localhost:8080/"
    },
    "executionInfo": {
     "elapsed": 3843,
     "status": "ok",
     "timestamp": 1611069768170,
     "user": {
      "displayName": "Boris Garbuzov",
      "photoUrl": "",
      "userId": "08851466340381164023"
     },
     "user_tz": 300
    },
    "id": "l96TH-CMAtcV",
    "outputId": "ea273cab-e440-458e-8b30-608a3f3a2ff2"
   },
   "outputs": [
    {
     "data": {
      "text/plain": [
       "array([[0.5, 0.5],\n",
       "       [1.5, 1. ]])"
      ]
     },
     "execution_count": 791,
     "metadata": {
      "tags": []
     },
     "output_type": "execute_result"
    }
   ],
   "source": [
    "x / z"
   ]
  },
  {
   "cell_type": "code",
   "execution_count": 792,
   "metadata": {
    "executionInfo": {
     "elapsed": 3837,
     "status": "ok",
     "timestamp": 1611069768170,
     "user": {
      "displayName": "Boris Garbuzov",
      "photoUrl": "",
      "userId": "08851466340381164023"
     },
     "user_tz": 300
    },
    "id": "2MusvDJ3AtcV"
   },
   "outputs": [],
   "source": [
    "zz = np.concatenate([z, z], axis=0)"
   ]
  },
  {
   "cell_type": "code",
   "execution_count": 793,
   "metadata": {
    "colab": {
     "base_uri": "https://localhost:8080/"
    },
    "executionInfo": {
     "elapsed": 3835,
     "status": "ok",
     "timestamp": 1611069768170,
     "user": {
      "displayName": "Boris Garbuzov",
      "photoUrl": "",
      "userId": "08851466340381164023"
     },
     "user_tz": 300
    },
    "id": "pBcOFN9bAtcW",
    "outputId": "79722ff9-0996-4cf6-a548-72323ec8651e"
   },
   "outputs": [
    {
     "data": {
      "text/plain": [
       "array([[2, 4],\n",
       "       [2, 4]])"
      ]
     },
     "execution_count": 793,
     "metadata": {
      "tags": []
     },
     "output_type": "execute_result"
    }
   ],
   "source": [
    "zz"
   ]
  },
  {
   "cell_type": "code",
   "execution_count": 794,
   "metadata": {
    "colab": {
     "base_uri": "https://localhost:8080/"
    },
    "executionInfo": {
     "elapsed": 3829,
     "status": "ok",
     "timestamp": 1611069768170,
     "user": {
      "displayName": "Boris Garbuzov",
      "photoUrl": "",
      "userId": "08851466340381164023"
     },
     "user_tz": 300
    },
    "id": "uORwlTSxAtcW",
    "outputId": "9e51911e-31de-47ac-f50d-8ce910d8d653"
   },
   "outputs": [
    {
     "data": {
      "text/plain": [
       "array([[0.5, 0.5],\n",
       "       [1.5, 1. ]])"
      ]
     },
     "execution_count": 794,
     "metadata": {
      "tags": []
     },
     "output_type": "execute_result"
    }
   ],
   "source": [
    "x / zz"
   ]
  },
  {
   "cell_type": "code",
   "execution_count": 795,
   "metadata": {
    "executionInfo": {
     "elapsed": 3820,
     "status": "ok",
     "timestamp": 1611069768171,
     "user": {
      "displayName": "Boris Garbuzov",
      "photoUrl": "",
      "userId": "08851466340381164023"
     },
     "user_tz": 300
    },
    "id": "tSCXqf4BAtcW"
   },
   "outputs": [],
   "source": [
    "z = np.array([[2], [4]])"
   ]
  },
  {
   "cell_type": "code",
   "execution_count": 796,
   "metadata": {
    "colab": {
     "base_uri": "https://localhost:8080/"
    },
    "executionInfo": {
     "elapsed": 3817,
     "status": "ok",
     "timestamp": 1611069768171,
     "user": {
      "displayName": "Boris Garbuzov",
      "photoUrl": "",
      "userId": "08851466340381164023"
     },
     "user_tz": 300
    },
    "id": "llxZ0nYdAtcX",
    "outputId": "bb7f535d-4959-4577-bb34-9e3765cd7f24"
   },
   "outputs": [
    {
     "data": {
      "text/plain": [
       "(2, 1)"
      ]
     },
     "execution_count": 796,
     "metadata": {
      "tags": []
     },
     "output_type": "execute_result"
    }
   ],
   "source": [
    "z.shape"
   ]
  },
  {
   "cell_type": "code",
   "execution_count": 797,
   "metadata": {
    "colab": {
     "base_uri": "https://localhost:8080/"
    },
    "executionInfo": {
     "elapsed": 3812,
     "status": "ok",
     "timestamp": 1611069768172,
     "user": {
      "displayName": "Boris Garbuzov",
      "photoUrl": "",
      "userId": "08851466340381164023"
     },
     "user_tz": 300
    },
    "id": "dLbctX5gAtcX",
    "outputId": "7d3fe0c7-9c08-43cf-b698-35b85e2b5b2e"
   },
   "outputs": [
    {
     "data": {
      "text/plain": [
       "array([[0.5 , 1.  ],\n",
       "       [0.75, 1.  ]])"
      ]
     },
     "execution_count": 797,
     "metadata": {
      "tags": []
     },
     "output_type": "execute_result"
    }
   ],
   "source": [
    "x / z"
   ]
  },
  {
   "cell_type": "code",
   "execution_count": 798,
   "metadata": {
    "executionInfo": {
     "elapsed": 3806,
     "status": "ok",
     "timestamp": 1611069768172,
     "user": {
      "displayName": "Boris Garbuzov",
      "photoUrl": "",
      "userId": "08851466340381164023"
     },
     "user_tz": 300
    },
    "id": "3MhqsvqXAtcY"
   },
   "outputs": [],
   "source": [
    "zz = np.concatenate([z, z], axis=1)"
   ]
  },
  {
   "cell_type": "code",
   "execution_count": 799,
   "metadata": {
    "colab": {
     "base_uri": "https://localhost:8080/"
    },
    "executionInfo": {
     "elapsed": 3805,
     "status": "ok",
     "timestamp": 1611069768172,
     "user": {
      "displayName": "Boris Garbuzov",
      "photoUrl": "",
      "userId": "08851466340381164023"
     },
     "user_tz": 300
    },
    "id": "qPscvdHzAtcY",
    "outputId": "2f66ca14-2034-4f8f-cc5e-565ac0d5cf48"
   },
   "outputs": [
    {
     "data": {
      "text/plain": [
       "array([[2, 2],\n",
       "       [4, 4]])"
      ]
     },
     "execution_count": 799,
     "metadata": {
      "tags": []
     },
     "output_type": "execute_result"
    }
   ],
   "source": [
    "zz"
   ]
  },
  {
   "cell_type": "code",
   "execution_count": 800,
   "metadata": {
    "colab": {
     "base_uri": "https://localhost:8080/"
    },
    "executionInfo": {
     "elapsed": 3799,
     "status": "ok",
     "timestamp": 1611069768172,
     "user": {
      "displayName": "Boris Garbuzov",
      "photoUrl": "",
      "userId": "08851466340381164023"
     },
     "user_tz": 300
    },
    "id": "Lmzs7m6fAtcZ",
    "outputId": "b9c3c465-4085-43db-c688-a50add203a39"
   },
   "outputs": [
    {
     "data": {
      "text/plain": [
       "array([[0.5 , 1.  ],\n",
       "       [0.75, 1.  ]])"
      ]
     },
     "execution_count": 800,
     "metadata": {
      "tags": []
     },
     "output_type": "execute_result"
    }
   ],
   "source": [
    "x / zz"
   ]
  },
  {
   "cell_type": "code",
   "execution_count": 801,
   "metadata": {
    "colab": {
     "base_uri": "https://localhost:8080/"
    },
    "executionInfo": {
     "elapsed": 3792,
     "status": "ok",
     "timestamp": 1611069768172,
     "user": {
      "displayName": "Boris Garbuzov",
      "photoUrl": "",
      "userId": "08851466340381164023"
     },
     "user_tz": 300
    },
    "id": "uEGaOcnyAtca",
    "outputId": "78ac7ba6-3ae4-4c66-cb27-bf73cefa4fb8"
   },
   "outputs": [
    {
     "data": {
      "text/plain": [
       "array([[ 6,  9],\n",
       "       [ 9, 12]])"
      ]
     },
     "execution_count": 801,
     "metadata": {
      "tags": []
     },
     "output_type": "execute_result"
    }
   ],
   "source": [
    "x = np.array([[1, 3], [2, 4]])\n",
    "x = x + y\n",
    "x"
   ]
  },
  {
   "cell_type": "code",
   "execution_count": 802,
   "metadata": {
    "colab": {
     "base_uri": "https://localhost:8080/"
    },
    "executionInfo": {
     "elapsed": 3787,
     "status": "ok",
     "timestamp": 1611069768173,
     "user": {
      "displayName": "Boris Garbuzov",
      "photoUrl": "",
      "userId": "08851466340381164023"
     },
     "user_tz": 300
    },
    "id": "ZTOBZsW2Atcb",
    "outputId": "e007d20c-b512-419c-dc42-aec6cf49adf2"
   },
   "outputs": [
    {
     "data": {
      "text/plain": [
       "array([[ 6,  9],\n",
       "       [ 9, 12]])"
      ]
     },
     "execution_count": 802,
     "metadata": {
      "tags": []
     },
     "output_type": "execute_result"
    }
   ],
   "source": [
    "x = np.array([[1, 3], [2, 4]])\n",
    "x += y\n",
    "x"
   ]
  },
  {
   "cell_type": "markdown",
   "metadata": {
    "id": "CO3jccljAtcb"
   },
   "source": [
    "### Elementwise functions"
   ]
  },
  {
   "cell_type": "code",
   "execution_count": 803,
   "metadata": {
    "executionInfo": {
     "elapsed": 3975,
     "status": "ok",
     "timestamp": 1611069768370,
     "user": {
      "displayName": "Boris Garbuzov",
      "photoUrl": "",
      "userId": "08851466340381164023"
     },
     "user_tz": 300
    },
    "id": "TUdkVtUqAtcb"
   },
   "outputs": [],
   "source": [
    "x = np.linspace(-1, 1, 11)"
   ]
  },
  {
   "cell_type": "code",
   "execution_count": 804,
   "metadata": {
    "colab": {
     "base_uri": "https://localhost:8080/"
    },
    "executionInfo": {
     "elapsed": 3971,
     "status": "ok",
     "timestamp": 1611069768370,
     "user": {
      "displayName": "Boris Garbuzov",
      "photoUrl": "",
      "userId": "08851466340381164023"
     },
     "user_tz": 300
    },
    "id": "jYmQikgxAtcc",
    "outputId": "293b37ca-5791-4962-e9cf-c39f094d8e55"
   },
   "outputs": [
    {
     "data": {
      "text/plain": [
       "array([-1. , -0.8, -0.6, -0.4, -0.2,  0. ,  0.2,  0.4,  0.6,  0.8,  1. ])"
      ]
     },
     "execution_count": 804,
     "metadata": {
      "tags": []
     },
     "output_type": "execute_result"
    }
   ],
   "source": [
    "x"
   ]
  },
  {
   "cell_type": "code",
   "execution_count": 805,
   "metadata": {
    "executionInfo": {
     "elapsed": 3964,
     "status": "ok",
     "timestamp": 1611069768371,
     "user": {
      "displayName": "Boris Garbuzov",
      "photoUrl": "",
      "userId": "08851466340381164023"
     },
     "user_tz": 300
    },
    "id": "INfH60vqAtcc"
   },
   "outputs": [],
   "source": [
    "y = np.sin(np.pi * x)"
   ]
  },
  {
   "cell_type": "code",
   "execution_count": 806,
   "metadata": {
    "colab": {
     "base_uri": "https://localhost:8080/"
    },
    "executionInfo": {
     "elapsed": 3962,
     "status": "ok",
     "timestamp": 1611069768371,
     "user": {
      "displayName": "Boris Garbuzov",
      "photoUrl": "",
      "userId": "08851466340381164023"
     },
     "user_tz": 300
    },
    "id": "8qVrJxthAtcc",
    "outputId": "adbb4dc7-930e-4944-f913-e66abdd92fec"
   },
   "outputs": [
    {
     "data": {
      "text/plain": [
       "array([-0.    , -0.5878, -0.9511, -0.9511, -0.5878,  0.    ,  0.5878,\n",
       "        0.9511,  0.9511,  0.5878,  0.    ])"
      ]
     },
     "execution_count": 806,
     "metadata": {
      "tags": []
     },
     "output_type": "execute_result"
    }
   ],
   "source": [
    "np.round(y, decimals=4)"
   ]
  },
  {
   "cell_type": "code",
   "execution_count": 807,
   "metadata": {
    "colab": {
     "base_uri": "https://localhost:8080/"
    },
    "executionInfo": {
     "elapsed": 3957,
     "status": "ok",
     "timestamp": 1611069768371,
     "user": {
      "displayName": "Boris Garbuzov",
      "photoUrl": "",
      "userId": "08851466340381164023"
     },
     "user_tz": 300
    },
    "id": "LPllaaoLAtcc",
    "outputId": "bb2b4dc2-8882-491c-fa0e-5625822ed236"
   },
   "outputs": [
    {
     "data": {
      "text/plain": [
       "array([1., 1., 1., 1., 1., 1., 1., 1., 1., 1., 1.])"
      ]
     },
     "execution_count": 807,
     "metadata": {
      "tags": []
     },
     "output_type": "execute_result"
    }
   ],
   "source": [
    "np.add(np.sin(x) ** 2, np.cos(x) ** 2)"
   ]
  },
  {
   "cell_type": "code",
   "execution_count": 808,
   "metadata": {
    "colab": {
     "base_uri": "https://localhost:8080/"
    },
    "executionInfo": {
     "elapsed": 3952,
     "status": "ok",
     "timestamp": 1611069768372,
     "user": {
      "displayName": "Boris Garbuzov",
      "photoUrl": "",
      "userId": "08851466340381164023"
     },
     "user_tz": 300
    },
    "id": "EWldBXhdAtcd",
    "outputId": "0d7bccd8-a5fe-4d85-ae22-5145e01a925e"
   },
   "outputs": [
    {
     "data": {
      "text/plain": [
       "array([1., 1., 1., 1., 1., 1., 1., 1., 1., 1., 1.])"
      ]
     },
     "execution_count": 808,
     "metadata": {
      "tags": []
     },
     "output_type": "execute_result"
    }
   ],
   "source": [
    "np.sin(x) ** 2 + np.cos(x) ** 2"
   ]
  },
  {
   "cell_type": "code",
   "execution_count": 809,
   "metadata": {
    "executionInfo": {
     "elapsed": 3947,
     "status": "ok",
     "timestamp": 1611069768373,
     "user": {
      "displayName": "Boris Garbuzov",
      "photoUrl": "",
      "userId": "08851466340381164023"
     },
     "user_tz": 300
    },
    "id": "by-ZI7_gAtcd"
   },
   "outputs": [],
   "source": [
    "def heaviside(x):\n",
    "    return 1 if x > 0 else 0"
   ]
  },
  {
   "cell_type": "code",
   "execution_count": 810,
   "metadata": {
    "colab": {
     "base_uri": "https://localhost:8080/"
    },
    "executionInfo": {
     "elapsed": 3945,
     "status": "ok",
     "timestamp": 1611069768374,
     "user": {
      "displayName": "Boris Garbuzov",
      "photoUrl": "",
      "userId": "08851466340381164023"
     },
     "user_tz": 300
    },
    "id": "pq6Ub05qAtcd",
    "outputId": "84a03385-277a-473d-d6e6-8eca187db1d0"
   },
   "outputs": [
    {
     "data": {
      "text/plain": [
       "0"
      ]
     },
     "execution_count": 810,
     "metadata": {
      "tags": []
     },
     "output_type": "execute_result"
    }
   ],
   "source": [
    "heaviside(-1)"
   ]
  },
  {
   "cell_type": "code",
   "execution_count": 811,
   "metadata": {
    "colab": {
     "base_uri": "https://localhost:8080/"
    },
    "executionInfo": {
     "elapsed": 3939,
     "status": "ok",
     "timestamp": 1611069768375,
     "user": {
      "displayName": "Boris Garbuzov",
      "photoUrl": "",
      "userId": "08851466340381164023"
     },
     "user_tz": 300
    },
    "id": "fs3PW13sAtce",
    "outputId": "1e518d1f-3561-4324-faf8-fb7ce22b0d2d"
   },
   "outputs": [
    {
     "data": {
      "text/plain": [
       "1"
      ]
     },
     "execution_count": 811,
     "metadata": {
      "tags": []
     },
     "output_type": "execute_result"
    }
   ],
   "source": [
    "heaviside(1.5)"
   ]
  },
  {
   "cell_type": "code",
   "execution_count": 812,
   "metadata": {
    "executionInfo": {
     "elapsed": 3932,
     "status": "ok",
     "timestamp": 1611069768375,
     "user": {
      "displayName": "Boris Garbuzov",
      "photoUrl": "",
      "userId": "08851466340381164023"
     },
     "user_tz": 300
    },
    "id": "G2gYMfyaAtce"
   },
   "outputs": [],
   "source": [
    "x = np.linspace(-5, 5, 11)"
   ]
  },
  {
   "cell_type": "code",
   "execution_count": 813,
   "metadata": {
    "executionInfo": {
     "elapsed": 3931,
     "status": "ok",
     "timestamp": 1611069768376,
     "user": {
      "displayName": "Boris Garbuzov",
      "photoUrl": "",
      "userId": "08851466340381164023"
     },
     "user_tz": 300
    },
    "id": "LAHRNmsGAtce"
   },
   "outputs": [],
   "source": [
    "# heaviside(x)"
   ]
  },
  {
   "cell_type": "code",
   "execution_count": 814,
   "metadata": {
    "executionInfo": {
     "elapsed": 3929,
     "status": "ok",
     "timestamp": 1611069768376,
     "user": {
      "displayName": "Boris Garbuzov",
      "photoUrl": "",
      "userId": "08851466340381164023"
     },
     "user_tz": 300
    },
    "id": "h4t7YH8UAtcf"
   },
   "outputs": [],
   "source": [
    "heaviside = np.vectorize(heaviside)"
   ]
  },
  {
   "cell_type": "code",
   "execution_count": 815,
   "metadata": {
    "colab": {
     "base_uri": "https://localhost:8080/"
    },
    "executionInfo": {
     "elapsed": 3928,
     "status": "ok",
     "timestamp": 1611069768376,
     "user": {
      "displayName": "Boris Garbuzov",
      "photoUrl": "",
      "userId": "08851466340381164023"
     },
     "user_tz": 300
    },
    "id": "A_lDjhbVAtcf",
    "outputId": "a86e91e7-7f43-4f51-bdfd-8527f5970c3d"
   },
   "outputs": [
    {
     "data": {
      "text/plain": [
       "array([0, 0, 0, 0, 0, 0, 1, 1, 1, 1, 1])"
      ]
     },
     "execution_count": 815,
     "metadata": {
      "tags": []
     },
     "output_type": "execute_result"
    }
   ],
   "source": [
    "heaviside(x)"
   ]
  },
  {
   "cell_type": "code",
   "execution_count": 816,
   "metadata": {
    "executionInfo": {
     "elapsed": 3922,
     "status": "ok",
     "timestamp": 1611069768376,
     "user": {
      "displayName": "Boris Garbuzov",
      "photoUrl": "",
      "userId": "08851466340381164023"
     },
     "user_tz": 300
    },
    "id": "oT9ugDOcAtcf"
   },
   "outputs": [],
   "source": [
    "def heaviside(x):\n",
    "    return 1.0 * (x > 0)"
   ]
  },
  {
   "cell_type": "markdown",
   "metadata": {
    "id": "UlY5ikKAAtcf"
   },
   "source": [
    "### Aggregate functions"
   ]
  },
  {
   "cell_type": "code",
   "execution_count": 817,
   "metadata": {
    "executionInfo": {
     "elapsed": 3922,
     "status": "ok",
     "timestamp": 1611069768378,
     "user": {
      "displayName": "Boris Garbuzov",
      "photoUrl": "",
      "userId": "08851466340381164023"
     },
     "user_tz": 300
    },
    "id": "Yr8jTGd5Atcg"
   },
   "outputs": [],
   "source": [
    "data = np.random.normal(size=(15,15))"
   ]
  },
  {
   "cell_type": "code",
   "execution_count": 818,
   "metadata": {
    "colab": {
     "base_uri": "https://localhost:8080/"
    },
    "executionInfo": {
     "elapsed": 3919,
     "status": "ok",
     "timestamp": 1611069768378,
     "user": {
      "displayName": "Boris Garbuzov",
      "photoUrl": "",
      "userId": "08851466340381164023"
     },
     "user_tz": 300
    },
    "id": "ttl84B9kAtcg",
    "outputId": "8709e7e0-13da-47a6-b676-6b7386ab9229"
   },
   "outputs": [
    {
     "data": {
      "text/plain": [
       "0.017487375791322392"
      ]
     },
     "execution_count": 818,
     "metadata": {
      "tags": []
     },
     "output_type": "execute_result"
    }
   ],
   "source": [
    "np.mean(data)"
   ]
  },
  {
   "cell_type": "code",
   "execution_count": 819,
   "metadata": {
    "colab": {
     "base_uri": "https://localhost:8080/"
    },
    "executionInfo": {
     "elapsed": 3910,
     "status": "ok",
     "timestamp": 1611069768378,
     "user": {
      "displayName": "Boris Garbuzov",
      "photoUrl": "",
      "userId": "08851466340381164023"
     },
     "user_tz": 300
    },
    "id": "zEHotDwCAtcg",
    "outputId": "a9068496-7880-425c-c2cb-a5ecb6fd4bbd"
   },
   "outputs": [
    {
     "data": {
      "text/plain": [
       "0.017487375791322392"
      ]
     },
     "execution_count": 819,
     "metadata": {
      "tags": []
     },
     "output_type": "execute_result"
    }
   ],
   "source": [
    "data.mean()"
   ]
  },
  {
   "cell_type": "code",
   "execution_count": 820,
   "metadata": {
    "executionInfo": {
     "elapsed": 3902,
     "status": "ok",
     "timestamp": 1611069768378,
     "user": {
      "displayName": "Boris Garbuzov",
      "photoUrl": "",
      "userId": "08851466340381164023"
     },
     "user_tz": 300
    },
    "id": "ImmC4ZqlAtch"
   },
   "outputs": [],
   "source": [
    "data = np.random.normal(size=(5, 10, 15))"
   ]
  },
  {
   "cell_type": "code",
   "execution_count": 821,
   "metadata": {
    "colab": {
     "base_uri": "https://localhost:8080/"
    },
    "executionInfo": {
     "elapsed": 3899,
     "status": "ok",
     "timestamp": 1611069768379,
     "user": {
      "displayName": "Boris Garbuzov",
      "photoUrl": "",
      "userId": "08851466340381164023"
     },
     "user_tz": 300
    },
    "id": "eDh2a8feAtch",
    "outputId": "fe3a3b29-5a88-4efc-caa1-90f3caa715b6"
   },
   "outputs": [
    {
     "data": {
      "text/plain": [
       "(10, 15)"
      ]
     },
     "execution_count": 821,
     "metadata": {
      "tags": []
     },
     "output_type": "execute_result"
    }
   ],
   "source": [
    "data.sum(axis=0).shape"
   ]
  },
  {
   "cell_type": "code",
   "execution_count": 822,
   "metadata": {
    "colab": {
     "base_uri": "https://localhost:8080/"
    },
    "executionInfo": {
     "elapsed": 3892,
     "status": "ok",
     "timestamp": 1611069768379,
     "user": {
      "displayName": "Boris Garbuzov",
      "photoUrl": "",
      "userId": "08851466340381164023"
     },
     "user_tz": 300
    },
    "id": "RVsxVqfTAtci",
    "outputId": "e2bdfb38-33fd-4c6a-ac21-36a77eba0f42"
   },
   "outputs": [
    {
     "data": {
      "text/plain": [
       "(10,)"
      ]
     },
     "execution_count": 822,
     "metadata": {
      "tags": []
     },
     "output_type": "execute_result"
    }
   ],
   "source": [
    "data.sum(axis=(0, 2)).shape"
   ]
  },
  {
   "cell_type": "code",
   "execution_count": 823,
   "metadata": {
    "colab": {
     "base_uri": "https://localhost:8080/"
    },
    "executionInfo": {
     "elapsed": 4089,
     "status": "ok",
     "timestamp": 1611069768584,
     "user": {
      "displayName": "Boris Garbuzov",
      "photoUrl": "",
      "userId": "08851466340381164023"
     },
     "user_tz": 300
    },
    "id": "S-riT4rXAtci",
    "outputId": "61944dc4-b16e-4a7e-a152-1704b3433b53"
   },
   "outputs": [
    {
     "data": {
      "text/plain": [
       "-6.441612745525994"
      ]
     },
     "execution_count": 823,
     "metadata": {
      "tags": []
     },
     "output_type": "execute_result"
    }
   ],
   "source": [
    "data.sum()"
   ]
  },
  {
   "cell_type": "code",
   "execution_count": 824,
   "metadata": {
    "executionInfo": {
     "elapsed": 4084,
     "status": "ok",
     "timestamp": 1611069768585,
     "user": {
      "displayName": "Boris Garbuzov",
      "photoUrl": "",
      "userId": "08851466340381164023"
     },
     "user_tz": 300
    },
    "id": "M-qqKPaTAtci"
   },
   "outputs": [],
   "source": [
    "data = np.arange(1,10).reshape(3,3)"
   ]
  },
  {
   "cell_type": "code",
   "execution_count": 825,
   "metadata": {
    "colab": {
     "base_uri": "https://localhost:8080/"
    },
    "executionInfo": {
     "elapsed": 4082,
     "status": "ok",
     "timestamp": 1611069768586,
     "user": {
      "displayName": "Boris Garbuzov",
      "photoUrl": "",
      "userId": "08851466340381164023"
     },
     "user_tz": 300
    },
    "id": "C06IWQqYAtcj",
    "outputId": "65ed1e5a-8cdd-43df-a367-fd7a51b4f594"
   },
   "outputs": [
    {
     "data": {
      "text/plain": [
       "array([[1, 2, 3],\n",
       "       [4, 5, 6],\n",
       "       [7, 8, 9]])"
      ]
     },
     "execution_count": 825,
     "metadata": {
      "tags": []
     },
     "output_type": "execute_result"
    }
   ],
   "source": [
    "data"
   ]
  },
  {
   "cell_type": "code",
   "execution_count": 826,
   "metadata": {
    "colab": {
     "base_uri": "https://localhost:8080/"
    },
    "executionInfo": {
     "elapsed": 4076,
     "status": "ok",
     "timestamp": 1611069768586,
     "user": {
      "displayName": "Boris Garbuzov",
      "photoUrl": "",
      "userId": "08851466340381164023"
     },
     "user_tz": 300
    },
    "id": "F2OttcOUAtck",
    "outputId": "9c491282-acf0-4679-e3fd-e028fc7b20af"
   },
   "outputs": [
    {
     "data": {
      "text/plain": [
       "45"
      ]
     },
     "execution_count": 826,
     "metadata": {
      "tags": []
     },
     "output_type": "execute_result"
    }
   ],
   "source": [
    "data.sum()"
   ]
  },
  {
   "cell_type": "code",
   "execution_count": 827,
   "metadata": {
    "colab": {
     "base_uri": "https://localhost:8080/"
    },
    "executionInfo": {
     "elapsed": 4070,
     "status": "ok",
     "timestamp": 1611069768586,
     "user": {
      "displayName": "Boris Garbuzov",
      "photoUrl": "",
      "userId": "08851466340381164023"
     },
     "user_tz": 300
    },
    "id": "i6yDxPEJAtck",
    "outputId": "1bbb23c8-f412-4eee-d733-509cacd20c69"
   },
   "outputs": [
    {
     "data": {
      "text/plain": [
       "array([12, 15, 18])"
      ]
     },
     "execution_count": 827,
     "metadata": {
      "tags": []
     },
     "output_type": "execute_result"
    }
   ],
   "source": [
    "data.sum(axis=0)"
   ]
  },
  {
   "cell_type": "code",
   "execution_count": 828,
   "metadata": {
    "colab": {
     "base_uri": "https://localhost:8080/"
    },
    "executionInfo": {
     "elapsed": 4065,
     "status": "ok",
     "timestamp": 1611069768587,
     "user": {
      "displayName": "Boris Garbuzov",
      "photoUrl": "",
      "userId": "08851466340381164023"
     },
     "user_tz": 300
    },
    "id": "4n7224wWAtcl",
    "outputId": "132d5b7e-91ff-4435-97db-64290e30e9e6"
   },
   "outputs": [
    {
     "data": {
      "text/plain": [
       "array([ 6, 15, 24])"
      ]
     },
     "execution_count": 828,
     "metadata": {
      "tags": []
     },
     "output_type": "execute_result"
    }
   ],
   "source": [
    "data.sum(axis=1)"
   ]
  },
  {
   "cell_type": "markdown",
   "metadata": {
    "id": "Bpq_QdCJAtcs"
   },
   "source": [
    "### Boolean arrays and conditional expressions"
   ]
  },
  {
   "cell_type": "code",
   "execution_count": 829,
   "metadata": {
    "executionInfo": {
     "elapsed": 4058,
     "status": "ok",
     "timestamp": 1611069768587,
     "user": {
      "displayName": "Boris Garbuzov",
      "photoUrl": "",
      "userId": "08851466340381164023"
     },
     "user_tz": 300
    },
    "id": "osQDjoDpAtcs"
   },
   "outputs": [],
   "source": [
    "a = np.array([1, 2, 3, 4])"
   ]
  },
  {
   "cell_type": "code",
   "execution_count": 830,
   "metadata": {
    "executionInfo": {
     "elapsed": 4055,
     "status": "ok",
     "timestamp": 1611069768588,
     "user": {
      "displayName": "Boris Garbuzov",
      "photoUrl": "",
      "userId": "08851466340381164023"
     },
     "user_tz": 300
    },
    "id": "BiZ3Q8M1Atcs"
   },
   "outputs": [],
   "source": [
    "b = np.array([4, 3, 2, 1])"
   ]
  },
  {
   "cell_type": "code",
   "execution_count": 831,
   "metadata": {
    "colab": {
     "base_uri": "https://localhost:8080/"
    },
    "executionInfo": {
     "elapsed": 4051,
     "status": "ok",
     "timestamp": 1611069768588,
     "user": {
      "displayName": "Boris Garbuzov",
      "photoUrl": "",
      "userId": "08851466340381164023"
     },
     "user_tz": 300
    },
    "id": "lsFAKRQSAtct",
    "outputId": "ecbb6405-4c0f-44a8-bc2f-201d381b27bb"
   },
   "outputs": [
    {
     "data": {
      "text/plain": [
       "array([ True,  True, False, False])"
      ]
     },
     "execution_count": 831,
     "metadata": {
      "tags": []
     },
     "output_type": "execute_result"
    }
   ],
   "source": [
    "a < b"
   ]
  },
  {
   "cell_type": "code",
   "execution_count": 832,
   "metadata": {
    "colab": {
     "base_uri": "https://localhost:8080/"
    },
    "executionInfo": {
     "elapsed": 4045,
     "status": "ok",
     "timestamp": 1611069768589,
     "user": {
      "displayName": "Boris Garbuzov",
      "photoUrl": "",
      "userId": "08851466340381164023"
     },
     "user_tz": 300
    },
    "id": "ZCLTmZGkAtct",
    "outputId": "689e283a-fa7c-4166-c9a0-f6521301753e"
   },
   "outputs": [
    {
     "data": {
      "text/plain": [
       "False"
      ]
     },
     "execution_count": 832,
     "metadata": {
      "tags": []
     },
     "output_type": "execute_result"
    }
   ],
   "source": [
    "np.all(a < b)"
   ]
  },
  {
   "cell_type": "code",
   "execution_count": 833,
   "metadata": {
    "colab": {
     "base_uri": "https://localhost:8080/"
    },
    "executionInfo": {
     "elapsed": 4039,
     "status": "ok",
     "timestamp": 1611069768590,
     "user": {
      "displayName": "Boris Garbuzov",
      "photoUrl": "",
      "userId": "08851466340381164023"
     },
     "user_tz": 300
    },
    "id": "2U8Zc1V4Atct",
    "outputId": "56c166a2-c9df-48e7-8c62-fbd60cc6387d"
   },
   "outputs": [
    {
     "data": {
      "text/plain": [
       "True"
      ]
     },
     "execution_count": 833,
     "metadata": {
      "tags": []
     },
     "output_type": "execute_result"
    }
   ],
   "source": [
    "np.any(a < b)"
   ]
  },
  {
   "cell_type": "code",
   "execution_count": 834,
   "metadata": {
    "colab": {
     "base_uri": "https://localhost:8080/"
    },
    "executionInfo": {
     "elapsed": 4032,
     "status": "ok",
     "timestamp": 1611069768590,
     "user": {
      "displayName": "Boris Garbuzov",
      "photoUrl": "",
      "userId": "08851466340381164023"
     },
     "user_tz": 300
    },
    "id": "W56yer1mAtcu",
    "outputId": "e62c8003-0267-4a82-f3ed-fec39abd687d"
   },
   "outputs": [
    {
     "name": "stdout",
     "output_type": "stream",
     "text": [
      "Some elements in a are smaller than their corresponding elemment in b\n"
     ]
    }
   ],
   "source": [
    "if np.all(a < b):\n",
    "    print(\"All elements in a are smaller than their corresponding element in b\")\n",
    "elif np.any(a < b):\n",
    "    print(\"Some elements in a are smaller than their corresponding elemment in b\")\n",
    "else:\n",
    "    print(\"All elements in b are smaller than their corresponding element in a\")"
   ]
  },
  {
   "cell_type": "code",
   "execution_count": 835,
   "metadata": {
    "executionInfo": {
     "elapsed": 4025,
     "status": "ok",
     "timestamp": 1611069768590,
     "user": {
      "displayName": "Boris Garbuzov",
      "photoUrl": "",
      "userId": "08851466340381164023"
     },
     "user_tz": 300
    },
    "id": "1SMIFJcrAtcu"
   },
   "outputs": [],
   "source": [
    "x = np.array([-2, -1, 0, 1, 2])"
   ]
  },
  {
   "cell_type": "code",
   "execution_count": 836,
   "metadata": {
    "colab": {
     "base_uri": "https://localhost:8080/"
    },
    "executionInfo": {
     "elapsed": 4023,
     "status": "ok",
     "timestamp": 1611069768591,
     "user": {
      "displayName": "Boris Garbuzov",
      "photoUrl": "",
      "userId": "08851466340381164023"
     },
     "user_tz": 300
    },
    "id": "FqST0GACAtcu",
    "outputId": "43a27d6c-17ce-433b-cc7f-3026ba78763e"
   },
   "outputs": [
    {
     "data": {
      "text/plain": [
       "array([False, False, False,  True,  True])"
      ]
     },
     "execution_count": 836,
     "metadata": {
      "tags": []
     },
     "output_type": "execute_result"
    }
   ],
   "source": [
    "x > 0"
   ]
  },
  {
   "cell_type": "code",
   "execution_count": 837,
   "metadata": {
    "colab": {
     "base_uri": "https://localhost:8080/"
    },
    "executionInfo": {
     "elapsed": 4191,
     "status": "ok",
     "timestamp": 1611069768765,
     "user": {
      "displayName": "Boris Garbuzov",
      "photoUrl": "",
      "userId": "08851466340381164023"
     },
     "user_tz": 300
    },
    "id": "65WcyefZAtcu",
    "outputId": "9ad30e31-4dfe-4ed8-a422-800361cf381a"
   },
   "outputs": [
    {
     "data": {
      "text/plain": [
       "array([0, 0, 0, 1, 1])"
      ]
     },
     "execution_count": 837,
     "metadata": {
      "tags": []
     },
     "output_type": "execute_result"
    }
   ],
   "source": [
    "1 * (x > 0)"
   ]
  },
  {
   "cell_type": "code",
   "execution_count": 838,
   "metadata": {
    "colab": {
     "base_uri": "https://localhost:8080/"
    },
    "executionInfo": {
     "elapsed": 4186,
     "status": "ok",
     "timestamp": 1611069768767,
     "user": {
      "displayName": "Boris Garbuzov",
      "photoUrl": "",
      "userId": "08851466340381164023"
     },
     "user_tz": 300
    },
    "id": "Ar7NxPYBAtcv",
    "outputId": "49df905a-7504-4f48-ad68-8a67774892da"
   },
   "outputs": [
    {
     "data": {
      "text/plain": [
       "array([0, 0, 0, 1, 2])"
      ]
     },
     "execution_count": 838,
     "metadata": {
      "tags": []
     },
     "output_type": "execute_result"
    }
   ],
   "source": [
    "x * (x > 0)"
   ]
  },
  {
   "cell_type": "code",
   "execution_count": 839,
   "metadata": {
    "executionInfo": {
     "elapsed": 4180,
     "status": "ok",
     "timestamp": 1611069768767,
     "user": {
      "displayName": "Boris Garbuzov",
      "photoUrl": "",
      "userId": "08851466340381164023"
     },
     "user_tz": 300
    },
    "id": "07CCRnqEAtcv"
   },
   "outputs": [],
   "source": [
    "def pulse(x, position, height, width):\n",
    "    return height * (x >= position) * (x <= (position + width))"
   ]
  },
  {
   "cell_type": "code",
   "execution_count": 840,
   "metadata": {
    "executionInfo": {
     "elapsed": 4178,
     "status": "ok",
     "timestamp": 1611069768767,
     "user": {
      "displayName": "Boris Garbuzov",
      "photoUrl": "",
      "userId": "08851466340381164023"
     },
     "user_tz": 300
    },
    "id": "WHJW54zxAtcv"
   },
   "outputs": [],
   "source": [
    "x = np.linspace(-5, 5, 11)"
   ]
  },
  {
   "cell_type": "code",
   "execution_count": 841,
   "metadata": {
    "colab": {
     "base_uri": "https://localhost:8080/"
    },
    "executionInfo": {
     "elapsed": 4175,
     "status": "ok",
     "timestamp": 1611069768767,
     "user": {
      "displayName": "Boris Garbuzov",
      "photoUrl": "",
      "userId": "08851466340381164023"
     },
     "user_tz": 300
    },
    "id": "ocq0SZhtAtcw",
    "outputId": "9be1f71f-1084-46b7-9659-db1137c5ee78"
   },
   "outputs": [
    {
     "data": {
      "text/plain": [
       "array([0, 0, 0, 1, 1, 1, 1, 1, 1, 0, 0])"
      ]
     },
     "execution_count": 841,
     "metadata": {
      "tags": []
     },
     "output_type": "execute_result"
    }
   ],
   "source": [
    "pulse(x, position=-2, height=1, width=5)"
   ]
  },
  {
   "cell_type": "code",
   "execution_count": 842,
   "metadata": {
    "colab": {
     "base_uri": "https://localhost:8080/"
    },
    "executionInfo": {
     "elapsed": 4165,
     "status": "ok",
     "timestamp": 1611069768767,
     "user": {
      "displayName": "Boris Garbuzov",
      "photoUrl": "",
      "userId": "08851466340381164023"
     },
     "user_tz": 300
    },
    "id": "WtlUUIkSAtcw",
    "outputId": "18fbf982-9c9a-4bec-bf11-b79d27c7cf25"
   },
   "outputs": [
    {
     "data": {
      "text/plain": [
       "array([0, 0, 0, 0, 0, 0, 1, 1, 1, 1, 1])"
      ]
     },
     "execution_count": 842,
     "metadata": {
      "tags": []
     },
     "output_type": "execute_result"
    }
   ],
   "source": [
    "pulse(x, position=1, height=1, width=5)"
   ]
  },
  {
   "cell_type": "code",
   "execution_count": 843,
   "metadata": {
    "executionInfo": {
     "elapsed": 4160,
     "status": "ok",
     "timestamp": 1611069768768,
     "user": {
      "displayName": "Boris Garbuzov",
      "photoUrl": "",
      "userId": "08851466340381164023"
     },
     "user_tz": 300
    },
    "id": "TKxEYuonAtcx"
   },
   "outputs": [],
   "source": [
    "def pulse(x, position, height, width):\n",
    "    return height * np.logical_and(x >= position, x <= (position + width))"
   ]
  },
  {
   "cell_type": "code",
   "execution_count": 844,
   "metadata": {
    "executionInfo": {
     "elapsed": 4155,
     "status": "ok",
     "timestamp": 1611069768768,
     "user": {
      "displayName": "Boris Garbuzov",
      "photoUrl": "",
      "userId": "08851466340381164023"
     },
     "user_tz": 300
    },
    "id": "ggep2uX7Atcx"
   },
   "outputs": [],
   "source": [
    "x = np.linspace(-4, 4, 9)"
   ]
  },
  {
   "cell_type": "code",
   "execution_count": 845,
   "metadata": {
    "colab": {
     "base_uri": "https://localhost:8080/"
    },
    "executionInfo": {
     "elapsed": 4154,
     "status": "ok",
     "timestamp": 1611069768769,
     "user": {
      "displayName": "Boris Garbuzov",
      "photoUrl": "",
      "userId": "08851466340381164023"
     },
     "user_tz": 300
    },
    "id": "KPk7HYXwAtcx",
    "outputId": "6ffdc0d5-dd37-4b73-bc26-0491e8ead724"
   },
   "outputs": [
    {
     "data": {
      "text/plain": [
       "array([16.,  9.,  4.,  1.,  0.,  1.,  8., 27., 64.])"
      ]
     },
     "execution_count": 845,
     "metadata": {
      "tags": []
     },
     "output_type": "execute_result"
    }
   ],
   "source": [
    "np.where(x < 0, x**2, x**3)"
   ]
  },
  {
   "cell_type": "code",
   "execution_count": 846,
   "metadata": {
    "colab": {
     "base_uri": "https://localhost:8080/"
    },
    "executionInfo": {
     "elapsed": 4147,
     "status": "ok",
     "timestamp": 1611069768769,
     "user": {
      "displayName": "Boris Garbuzov",
      "photoUrl": "",
      "userId": "08851466340381164023"
     },
     "user_tz": 300
    },
    "id": "udW6RDHKAtcy",
    "outputId": "1609a0c1-6bec-42c3-9f27-08e218235c5f"
   },
   "outputs": [
    {
     "data": {
      "text/plain": [
       "array([ 16.,   9.,   4.,  -1.,   0.,   1.,  16.,  81., 256.])"
      ]
     },
     "execution_count": 846,
     "metadata": {
      "tags": []
     },
     "output_type": "execute_result"
    }
   ],
   "source": [
    "np.select([x < -1, x < 2, x >= 2],\n",
    "          [x**2  , x**3 , x**4])"
   ]
  },
  {
   "cell_type": "code",
   "execution_count": 847,
   "metadata": {
    "colab": {
     "base_uri": "https://localhost:8080/"
    },
    "executionInfo": {
     "elapsed": 4135,
     "status": "ok",
     "timestamp": 1611069768769,
     "user": {
      "displayName": "Boris Garbuzov",
      "photoUrl": "",
      "userId": "08851466340381164023"
     },
     "user_tz": 300
    },
    "id": "iTCKuFeJAtcy",
    "outputId": "e177941d-edd8-4d61-a91b-1141cd68e00b"
   },
   "outputs": [
    {
     "data": {
      "text/plain": [
       "array([ 16.,   9.,   4.,  -1.,   0.,   1.,  16.,  81., 256.])"
      ]
     },
     "execution_count": 847,
     "metadata": {
      "tags": []
     },
     "output_type": "execute_result"
    }
   ],
   "source": [
    "np.choose([0, 0, 0, 1, 1, 1, 2, 2, 2], \n",
    "          [x**2,    x**3,    x**4])"
   ]
  },
  {
   "cell_type": "code",
   "execution_count": 848,
   "metadata": {
    "colab": {
     "base_uri": "https://localhost:8080/"
    },
    "executionInfo": {
     "elapsed": 4128,
     "status": "ok",
     "timestamp": 1611069768769,
     "user": {
      "displayName": "Boris Garbuzov",
      "photoUrl": "",
      "userId": "08851466340381164023"
     },
     "user_tz": 300
    },
    "id": "B9DG2TXeZdtO",
    "outputId": "436edecc-6a66-44cd-f2b2-a3a0d5398eb7"
   },
   "outputs": [
    {
     "data": {
      "text/plain": [
       "array([256.,  81.,  16.,   1.,   0.,   1.,   8.,  27.,  64.])"
      ]
     },
     "execution_count": 848,
     "metadata": {
      "tags": []
     },
     "output_type": "execute_result"
    }
   ],
   "source": [
    "np.choose([2, 2, 2, 0, 0, 0, 1, 1, 1],\n",
    "          [x**2,    x**3,    x**4])"
   ]
  },
  {
   "cell_type": "code",
   "execution_count": 848,
   "metadata": {
    "executionInfo": {
     "elapsed": 4122,
     "status": "ok",
     "timestamp": 1611069768769,
     "user": {
      "displayName": "Boris Garbuzov",
      "photoUrl": "",
      "userId": "08851466340381164023"
     },
     "user_tz": 300
    },
    "id": "Egt1AJ3NZSaW"
   },
   "outputs": [],
   "source": []
  },
  {
   "cell_type": "code",
   "execution_count": 849,
   "metadata": {
    "colab": {
     "base_uri": "https://localhost:8080/"
    },
    "executionInfo": {
     "elapsed": 4121,
     "status": "ok",
     "timestamp": 1611069768770,
     "user": {
      "displayName": "Boris Garbuzov",
      "photoUrl": "",
      "userId": "08851466340381164023"
     },
     "user_tz": 300
    },
    "id": "goZj9RUcAtcz",
    "outputId": "6b70776c-8302-480e-c898-cb7f24146c03"
   },
   "outputs": [
    {
     "data": {
      "text/plain": [
       "array([-4., -3.,  3.,  4.])"
      ]
     },
     "execution_count": 849,
     "metadata": {
      "tags": []
     },
     "output_type": "execute_result"
    }
   ],
   "source": [
    "x[abs(x) > 2]"
   ]
  },
  {
   "cell_type": "code",
   "execution_count": 850,
   "metadata": {
    "colab": {
     "base_uri": "https://localhost:8080/"
    },
    "executionInfo": {
     "elapsed": 4295,
     "status": "ok",
     "timestamp": 1611069768949,
     "user": {
      "displayName": "Boris Garbuzov",
      "photoUrl": "",
      "userId": "08851466340381164023"
     },
     "user_tz": 300
    },
    "id": "PBKb_gZRAtcz",
    "outputId": "b24a2563-b9a3-4126-98b9-c069a7954cb6"
   },
   "outputs": [
    {
     "data": {
      "text/plain": [
       "(array([0, 1, 7, 8]),)"
      ]
     },
     "execution_count": 850,
     "metadata": {
      "tags": []
     },
     "output_type": "execute_result"
    }
   ],
   "source": [
    "np.nonzero(abs(x) > 2)"
   ]
  },
  {
   "cell_type": "code",
   "execution_count": 851,
   "metadata": {
    "colab": {
     "base_uri": "https://localhost:8080/"
    },
    "executionInfo": {
     "elapsed": 4287,
     "status": "ok",
     "timestamp": 1611069768950,
     "user": {
      "displayName": "Boris Garbuzov",
      "photoUrl": "",
      "userId": "08851466340381164023"
     },
     "user_tz": 300
    },
    "id": "LQ34jgpmAtcz",
    "outputId": "65e02adf-68f7-4265-e4ec-919de8983d2f"
   },
   "outputs": [
    {
     "data": {
      "text/plain": [
       "array([-4., -3.,  3.,  4.])"
      ]
     },
     "execution_count": 851,
     "metadata": {
      "tags": []
     },
     "output_type": "execute_result"
    }
   ],
   "source": [
    "x[np.nonzero(abs(x) > 2)]"
   ]
  },
  {
   "cell_type": "markdown",
   "metadata": {
    "id": "sVspf2a0Atc0"
   },
   "source": [
    "# Set operations"
   ]
  },
  {
   "cell_type": "code",
   "execution_count": 852,
   "metadata": {
    "executionInfo": {
     "elapsed": 4281,
     "status": "ok",
     "timestamp": 1611069768951,
     "user": {
      "displayName": "Boris Garbuzov",
      "photoUrl": "",
      "userId": "08851466340381164023"
     },
     "user_tz": 300
    },
    "id": "AxYYgLZdAtc0"
   },
   "outputs": [],
   "source": [
    "a = np.unique([1,2,3,3])"
   ]
  },
  {
   "cell_type": "code",
   "execution_count": 853,
   "metadata": {
    "executionInfo": {
     "elapsed": 4279,
     "status": "ok",
     "timestamp": 1611069768951,
     "user": {
      "displayName": "Boris Garbuzov",
      "photoUrl": "",
      "userId": "08851466340381164023"
     },
     "user_tz": 300
    },
    "id": "EPhRvhilAtc0"
   },
   "outputs": [],
   "source": [
    "b = np.unique([2,3,4,4,5,6,5])"
   ]
  },
  {
   "cell_type": "code",
   "execution_count": 854,
   "metadata": {
    "colab": {
     "base_uri": "https://localhost:8080/"
    },
    "executionInfo": {
     "elapsed": 4276,
     "status": "ok",
     "timestamp": 1611069768952,
     "user": {
      "displayName": "Boris Garbuzov",
      "photoUrl": "",
      "userId": "08851466340381164023"
     },
     "user_tz": 300
    },
    "id": "SS6xDHTjAtc0",
    "outputId": "013f05f8-32a7-482f-a3a0-6e84c1c3112c"
   },
   "outputs": [
    {
     "data": {
      "text/plain": [
       "array([False,  True,  True])"
      ]
     },
     "execution_count": 854,
     "metadata": {
      "tags": []
     },
     "output_type": "execute_result"
    }
   ],
   "source": [
    "np.in1d(a, b)"
   ]
  },
  {
   "cell_type": "code",
   "execution_count": 855,
   "metadata": {
    "colab": {
     "base_uri": "https://localhost:8080/"
    },
    "executionInfo": {
     "elapsed": 4270,
     "status": "ok",
     "timestamp": 1611069768952,
     "user": {
      "displayName": "Boris Garbuzov",
      "photoUrl": "",
      "userId": "08851466340381164023"
     },
     "user_tz": 300
    },
    "id": "VuSBpdrSAtc1",
    "outputId": "99337c28-24b9-4532-ec01-0830fb70f183"
   },
   "outputs": [
    {
     "data": {
      "text/plain": [
       "True"
      ]
     },
     "execution_count": 855,
     "metadata": {
      "tags": []
     },
     "output_type": "execute_result"
    }
   ],
   "source": [
    "1 in a"
   ]
  },
  {
   "cell_type": "code",
   "execution_count": 856,
   "metadata": {
    "colab": {
     "base_uri": "https://localhost:8080/"
    },
    "executionInfo": {
     "elapsed": 4264,
     "status": "ok",
     "timestamp": 1611069768952,
     "user": {
      "displayName": "Boris Garbuzov",
      "photoUrl": "",
      "userId": "08851466340381164023"
     },
     "user_tz": 300
    },
    "id": "t6i5nwgwAtc1",
    "outputId": "2d6223e7-8770-442d-bc10-8cb45a224cf3"
   },
   "outputs": [
    {
     "data": {
      "text/plain": [
       "False"
      ]
     },
     "execution_count": 856,
     "metadata": {
      "tags": []
     },
     "output_type": "execute_result"
    }
   ],
   "source": [
    "1 in b"
   ]
  },
  {
   "cell_type": "code",
   "execution_count": 857,
   "metadata": {
    "colab": {
     "base_uri": "https://localhost:8080/"
    },
    "executionInfo": {
     "elapsed": 4257,
     "status": "ok",
     "timestamp": 1611069768952,
     "user": {
      "displayName": "Boris Garbuzov",
      "photoUrl": "",
      "userId": "08851466340381164023"
     },
     "user_tz": 300
    },
    "id": "usK5nXEbAtc1",
    "outputId": "09bca087-e72a-46fb-8f04-200347bdd430"
   },
   "outputs": [
    {
     "data": {
      "text/plain": [
       "False"
      ]
     },
     "execution_count": 857,
     "metadata": {
      "tags": []
     },
     "output_type": "execute_result"
    }
   ],
   "source": [
    "np.all(np.in1d(a, b))"
   ]
  },
  {
   "cell_type": "code",
   "execution_count": 858,
   "metadata": {
    "colab": {
     "base_uri": "https://localhost:8080/"
    },
    "executionInfo": {
     "elapsed": 4251,
     "status": "ok",
     "timestamp": 1611069768952,
     "user": {
      "displayName": "Boris Garbuzov",
      "photoUrl": "",
      "userId": "08851466340381164023"
     },
     "user_tz": 300
    },
    "id": "z3ztDuxgAtc1",
    "outputId": "038e21c8-2731-4609-c7e7-ca4b67cf037f"
   },
   "outputs": [
    {
     "data": {
      "text/plain": [
       "array([1, 2, 3, 4, 5, 6])"
      ]
     },
     "execution_count": 858,
     "metadata": {
      "tags": []
     },
     "output_type": "execute_result"
    }
   ],
   "source": [
    "np.union1d(a, b)"
   ]
  },
  {
   "cell_type": "code",
   "execution_count": 859,
   "metadata": {
    "colab": {
     "base_uri": "https://localhost:8080/"
    },
    "executionInfo": {
     "elapsed": 4245,
     "status": "ok",
     "timestamp": 1611069768953,
     "user": {
      "displayName": "Boris Garbuzov",
      "photoUrl": "",
      "userId": "08851466340381164023"
     },
     "user_tz": 300
    },
    "id": "GnGd7LRaAtc2",
    "outputId": "403c3294-e11d-4e42-ffa0-36c7626ff905"
   },
   "outputs": [
    {
     "data": {
      "text/plain": [
       "array([2, 3])"
      ]
     },
     "execution_count": 859,
     "metadata": {
      "tags": []
     },
     "output_type": "execute_result"
    }
   ],
   "source": [
    "np.intersect1d(a, b)"
   ]
  },
  {
   "cell_type": "code",
   "execution_count": 860,
   "metadata": {
    "colab": {
     "base_uri": "https://localhost:8080/"
    },
    "executionInfo": {
     "elapsed": 4237,
     "status": "ok",
     "timestamp": 1611069768954,
     "user": {
      "displayName": "Boris Garbuzov",
      "photoUrl": "",
      "userId": "08851466340381164023"
     },
     "user_tz": 300
    },
    "id": "2b0oSZ_DAtc2",
    "outputId": "cd96b3d8-a4c8-4219-f436-d892db87f632"
   },
   "outputs": [
    {
     "data": {
      "text/plain": [
       "array([1])"
      ]
     },
     "execution_count": 860,
     "metadata": {
      "tags": []
     },
     "output_type": "execute_result"
    }
   ],
   "source": [
    "np.setdiff1d(a, b)"
   ]
  },
  {
   "cell_type": "code",
   "execution_count": 861,
   "metadata": {
    "colab": {
     "base_uri": "https://localhost:8080/"
    },
    "executionInfo": {
     "elapsed": 4230,
     "status": "ok",
     "timestamp": 1611069768955,
     "user": {
      "displayName": "Boris Garbuzov",
      "photoUrl": "",
      "userId": "08851466340381164023"
     },
     "user_tz": 300
    },
    "id": "ZgS2PolzAtc3",
    "outputId": "2c2c5067-b3ce-4b29-f825-d6da0a729642"
   },
   "outputs": [
    {
     "data": {
      "text/plain": [
       "array([4, 5, 6])"
      ]
     },
     "execution_count": 861,
     "metadata": {
      "tags": []
     },
     "output_type": "execute_result"
    }
   ],
   "source": [
    "np.setdiff1d(b, a)"
   ]
  },
  {
   "cell_type": "markdown",
   "metadata": {
    "id": "nP6i99aHAtc3"
   },
   "source": [
    "### Operations on arrays"
   ]
  },
  {
   "cell_type": "code",
   "execution_count": 862,
   "metadata": {
    "executionInfo": {
     "elapsed": 4224,
     "status": "ok",
     "timestamp": 1611069768955,
     "user": {
      "displayName": "Boris Garbuzov",
      "photoUrl": "",
      "userId": "08851466340381164023"
     },
     "user_tz": 300
    },
    "id": "5Wytg677Atc3"
   },
   "outputs": [],
   "source": [
    "data = np.arange(9).reshape(3, 3)"
   ]
  },
  {
   "cell_type": "code",
   "execution_count": 863,
   "metadata": {
    "colab": {
     "base_uri": "https://localhost:8080/"
    },
    "executionInfo": {
     "elapsed": 4220,
     "status": "ok",
     "timestamp": 1611069768955,
     "user": {
      "displayName": "Boris Garbuzov",
      "photoUrl": "",
      "userId": "08851466340381164023"
     },
     "user_tz": 300
    },
    "id": "pD5Ab2yaAtc3",
    "outputId": "4bdd8758-845a-4b26-d224-f28acadf6fa7"
   },
   "outputs": [
    {
     "data": {
      "text/plain": [
       "array([[0, 1, 2],\n",
       "       [3, 4, 5],\n",
       "       [6, 7, 8]])"
      ]
     },
     "execution_count": 863,
     "metadata": {
      "tags": []
     },
     "output_type": "execute_result"
    }
   ],
   "source": [
    "data"
   ]
  },
  {
   "cell_type": "code",
   "execution_count": 864,
   "metadata": {
    "colab": {
     "base_uri": "https://localhost:8080/"
    },
    "executionInfo": {
     "elapsed": 4374,
     "status": "ok",
     "timestamp": 1611069769115,
     "user": {
      "displayName": "Boris Garbuzov",
      "photoUrl": "",
      "userId": "08851466340381164023"
     },
     "user_tz": 300
    },
    "id": "nAYi6OgIAtc4",
    "outputId": "beda072c-4e8f-40aa-f488-c1814fc1ba2e"
   },
   "outputs": [
    {
     "data": {
      "text/plain": [
       "array([[0, 3, 6],\n",
       "       [1, 4, 7],\n",
       "       [2, 5, 8]])"
      ]
     },
     "execution_count": 864,
     "metadata": {
      "tags": []
     },
     "output_type": "execute_result"
    }
   ],
   "source": [
    "np.transpose(data)"
   ]
  },
  {
   "cell_type": "code",
   "execution_count": 865,
   "metadata": {
    "executionInfo": {
     "elapsed": 4368,
     "status": "ok",
     "timestamp": 1611069769115,
     "user": {
      "displayName": "Boris Garbuzov",
      "photoUrl": "",
      "userId": "08851466340381164023"
     },
     "user_tz": 300
    },
    "id": "OLufOeFDAtc4"
   },
   "outputs": [],
   "source": [
    "data = np.random.randn(1, 2, 3, 4, 5)"
   ]
  },
  {
   "cell_type": "code",
   "execution_count": 866,
   "metadata": {
    "colab": {
     "base_uri": "https://localhost:8080/"
    },
    "executionInfo": {
     "elapsed": 4364,
     "status": "ok",
     "timestamp": 1611069769115,
     "user": {
      "displayName": "Boris Garbuzov",
      "photoUrl": "",
      "userId": "08851466340381164023"
     },
     "user_tz": 300
    },
    "id": "piJmUJEoAtc4",
    "outputId": "b95b9eb1-ff83-47ac-f1dc-d13ec7b1a5e8"
   },
   "outputs": [
    {
     "data": {
      "text/plain": [
       "(1, 2, 3, 4, 5)"
      ]
     },
     "execution_count": 866,
     "metadata": {
      "tags": []
     },
     "output_type": "execute_result"
    }
   ],
   "source": [
    "data.shape"
   ]
  },
  {
   "cell_type": "code",
   "execution_count": 867,
   "metadata": {
    "colab": {
     "base_uri": "https://localhost:8080/"
    },
    "executionInfo": {
     "elapsed": 4358,
     "status": "ok",
     "timestamp": 1611069769115,
     "user": {
      "displayName": "Boris Garbuzov",
      "photoUrl": "",
      "userId": "08851466340381164023"
     },
     "user_tz": 300
    },
    "id": "C0WEe_prAtc5",
    "outputId": "a9a1c61e-c4fb-4f9b-d4dd-cff16b64ac57"
   },
   "outputs": [
    {
     "data": {
      "text/plain": [
       "(5, 4, 3, 2, 1)"
      ]
     },
     "execution_count": 867,
     "metadata": {
      "tags": []
     },
     "output_type": "execute_result"
    }
   ],
   "source": [
    "data.T.shape"
   ]
  },
  {
   "cell_type": "markdown",
   "metadata": {
    "id": "A8FPBbE_Atc5"
   },
   "source": [
    "## Matrix and vector operations"
   ]
  },
  {
   "cell_type": "code",
   "execution_count": 868,
   "metadata": {
    "executionInfo": {
     "elapsed": 4353,
     "status": "ok",
     "timestamp": 1611069769116,
     "user": {
      "displayName": "Boris Garbuzov",
      "photoUrl": "",
      "userId": "08851466340381164023"
     },
     "user_tz": 300
    },
    "id": "bDLscafFAtc5"
   },
   "outputs": [],
   "source": [
    "A = np.arange(1, 7).reshape(2, 3)"
   ]
  },
  {
   "cell_type": "code",
   "execution_count": 869,
   "metadata": {
    "colab": {
     "base_uri": "https://localhost:8080/"
    },
    "executionInfo": {
     "elapsed": 4350,
     "status": "ok",
     "timestamp": 1611069769116,
     "user": {
      "displayName": "Boris Garbuzov",
      "photoUrl": "",
      "userId": "08851466340381164023"
     },
     "user_tz": 300
    },
    "id": "eW5T8pXTAtc6",
    "outputId": "dad3cb4f-dd11-4f3b-bef9-64033f09b068"
   },
   "outputs": [
    {
     "data": {
      "text/plain": [
       "array([[1, 2, 3],\n",
       "       [4, 5, 6]])"
      ]
     },
     "execution_count": 869,
     "metadata": {
      "tags": []
     },
     "output_type": "execute_result"
    }
   ],
   "source": [
    "A"
   ]
  },
  {
   "cell_type": "code",
   "execution_count": 870,
   "metadata": {
    "executionInfo": {
     "elapsed": 4346,
     "status": "ok",
     "timestamp": 1611069769117,
     "user": {
      "displayName": "Boris Garbuzov",
      "photoUrl": "",
      "userId": "08851466340381164023"
     },
     "user_tz": 300
    },
    "id": "ZrZtexM4Atc6"
   },
   "outputs": [],
   "source": [
    "B = np.arange(1, 7).reshape(3, 2)"
   ]
  },
  {
   "cell_type": "code",
   "execution_count": 871,
   "metadata": {
    "colab": {
     "base_uri": "https://localhost:8080/"
    },
    "executionInfo": {
     "elapsed": 4342,
     "status": "ok",
     "timestamp": 1611069769117,
     "user": {
      "displayName": "Boris Garbuzov",
      "photoUrl": "",
      "userId": "08851466340381164023"
     },
     "user_tz": 300
    },
    "id": "Fgyl7E31Atc6",
    "outputId": "f8fd6a13-c876-47cb-e78b-a282eb5dce9c"
   },
   "outputs": [
    {
     "data": {
      "text/plain": [
       "array([[1, 2],\n",
       "       [3, 4],\n",
       "       [5, 6]])"
      ]
     },
     "execution_count": 871,
     "metadata": {
      "tags": []
     },
     "output_type": "execute_result"
    }
   ],
   "source": [
    "B"
   ]
  },
  {
   "cell_type": "code",
   "execution_count": 872,
   "metadata": {
    "colab": {
     "base_uri": "https://localhost:8080/"
    },
    "executionInfo": {
     "elapsed": 4332,
     "status": "ok",
     "timestamp": 1611069769117,
     "user": {
      "displayName": "Boris Garbuzov",
      "photoUrl": "",
      "userId": "08851466340381164023"
     },
     "user_tz": 300
    },
    "id": "3v-AFlfvAtc6",
    "outputId": "f01ff735-71e6-4b39-9157-9499aaf10901"
   },
   "outputs": [
    {
     "data": {
      "text/plain": [
       "array([[22, 28],\n",
       "       [49, 64]])"
      ]
     },
     "execution_count": 872,
     "metadata": {
      "tags": []
     },
     "output_type": "execute_result"
    }
   ],
   "source": [
    "np.dot(A, B)"
   ]
  },
  {
   "cell_type": "code",
   "execution_count": 873,
   "metadata": {
    "colab": {
     "base_uri": "https://localhost:8080/"
    },
    "executionInfo": {
     "elapsed": 4325,
     "status": "ok",
     "timestamp": 1611069769117,
     "user": {
      "displayName": "Boris Garbuzov",
      "photoUrl": "",
      "userId": "08851466340381164023"
     },
     "user_tz": 300
    },
    "id": "DkmlNWVCAtc7",
    "outputId": "330962f3-d540-4ccc-d1c2-dac084a12711"
   },
   "outputs": [
    {
     "data": {
      "text/plain": [
       "array([[ 9, 12, 15],\n",
       "       [19, 26, 33],\n",
       "       [29, 40, 51]])"
      ]
     },
     "execution_count": 873,
     "metadata": {
      "tags": []
     },
     "output_type": "execute_result"
    }
   ],
   "source": [
    "np.dot(B, A)"
   ]
  },
  {
   "cell_type": "code",
   "execution_count": 874,
   "metadata": {
    "executionInfo": {
     "elapsed": 4320,
     "status": "ok",
     "timestamp": 1611069769118,
     "user": {
      "displayName": "Boris Garbuzov",
      "photoUrl": "",
      "userId": "08851466340381164023"
     },
     "user_tz": 300
    },
    "id": "V-s8KzMpAtc7"
   },
   "outputs": [],
   "source": [
    "A = np.arange(9).reshape(3, 3)"
   ]
  },
  {
   "cell_type": "code",
   "execution_count": 875,
   "metadata": {
    "colab": {
     "base_uri": "https://localhost:8080/"
    },
    "executionInfo": {
     "elapsed": 4317,
     "status": "ok",
     "timestamp": 1611069769118,
     "user": {
      "displayName": "Boris Garbuzov",
      "photoUrl": "",
      "userId": "08851466340381164023"
     },
     "user_tz": 300
    },
    "id": "-aQCR4MFAtc7",
    "outputId": "00257636-4e50-4697-9d75-627c1587d7eb"
   },
   "outputs": [
    {
     "data": {
      "text/plain": [
       "array([[0, 1, 2],\n",
       "       [3, 4, 5],\n",
       "       [6, 7, 8]])"
      ]
     },
     "execution_count": 875,
     "metadata": {
      "tags": []
     },
     "output_type": "execute_result"
    }
   ],
   "source": [
    "A"
   ]
  },
  {
   "cell_type": "code",
   "execution_count": 876,
   "metadata": {
    "executionInfo": {
     "elapsed": 4312,
     "status": "ok",
     "timestamp": 1611069769118,
     "user": {
      "displayName": "Boris Garbuzov",
      "photoUrl": "",
      "userId": "08851466340381164023"
     },
     "user_tz": 300
    },
    "id": "UvjXaUlkAtc7"
   },
   "outputs": [],
   "source": [
    "x = np.arange(3)"
   ]
  },
  {
   "cell_type": "code",
   "execution_count": 877,
   "metadata": {
    "colab": {
     "base_uri": "https://localhost:8080/"
    },
    "executionInfo": {
     "elapsed": 4460,
     "status": "ok",
     "timestamp": 1611069769268,
     "user": {
      "displayName": "Boris Garbuzov",
      "photoUrl": "",
      "userId": "08851466340381164023"
     },
     "user_tz": 300
    },
    "id": "ZKDkDe6qAtc8",
    "outputId": "9fd2b077-b7ce-4a2b-f18b-9842980384cd"
   },
   "outputs": [
    {
     "data": {
      "text/plain": [
       "array([0, 1, 2])"
      ]
     },
     "execution_count": 877,
     "metadata": {
      "tags": []
     },
     "output_type": "execute_result"
    }
   ],
   "source": [
    "x"
   ]
  },
  {
   "cell_type": "code",
   "execution_count": 878,
   "metadata": {
    "colab": {
     "base_uri": "https://localhost:8080/"
    },
    "executionInfo": {
     "elapsed": 4453,
     "status": "ok",
     "timestamp": 1611069769269,
     "user": {
      "displayName": "Boris Garbuzov",
      "photoUrl": "",
      "userId": "08851466340381164023"
     },
     "user_tz": 300
    },
    "id": "COayVjjUAtc8",
    "outputId": "085501e6-9f3e-4ba9-e029-90ae4c6de5ba"
   },
   "outputs": [
    {
     "data": {
      "text/plain": [
       "array([ 5, 14, 23])"
      ]
     },
     "execution_count": 878,
     "metadata": {
      "tags": []
     },
     "output_type": "execute_result"
    }
   ],
   "source": [
    "np.dot(A, x)"
   ]
  },
  {
   "cell_type": "code",
   "execution_count": 879,
   "metadata": {
    "colab": {
     "base_uri": "https://localhost:8080/"
    },
    "executionInfo": {
     "elapsed": 4448,
     "status": "ok",
     "timestamp": 1611069769269,
     "user": {
      "displayName": "Boris Garbuzov",
      "photoUrl": "",
      "userId": "08851466340381164023"
     },
     "user_tz": 300
    },
    "id": "AaWMGirHAtc8",
    "outputId": "ffce2f29-0a38-4af4-9f3e-b47eba90f770"
   },
   "outputs": [
    {
     "data": {
      "text/plain": [
       "array([ 5, 14, 23])"
      ]
     },
     "execution_count": 879,
     "metadata": {
      "tags": []
     },
     "output_type": "execute_result"
    }
   ],
   "source": [
    "A.dot(x)"
   ]
  },
  {
   "cell_type": "code",
   "execution_count": 880,
   "metadata": {
    "executionInfo": {
     "elapsed": 4443,
     "status": "ok",
     "timestamp": 1611069769270,
     "user": {
      "displayName": "Boris Garbuzov",
      "photoUrl": "",
      "userId": "08851466340381164023"
     },
     "user_tz": 300
    },
    "id": "1Vbbpuu4Atc9"
   },
   "outputs": [],
   "source": [
    "A = np.random.rand(3,3)\n",
    "B = np.random.rand(3,3)"
   ]
  },
  {
   "cell_type": "code",
   "execution_count": 881,
   "metadata": {
    "colab": {
     "base_uri": "https://localhost:8080/"
    },
    "executionInfo": {
     "elapsed": 4441,
     "status": "ok",
     "timestamp": 1611069769270,
     "user": {
      "displayName": "Boris Garbuzov",
      "photoUrl": "",
      "userId": "08851466340381164023"
     },
     "user_tz": 300
    },
    "id": "7oSyWAD9Atc9",
    "outputId": "79d09f24-c6b6-4ad5-e482-2ae8fb4f37a5"
   },
   "outputs": [
    {
     "data": {
      "text/plain": [
       "array([[ 0.63949057, -0.43461199,  3.04527512],\n",
       "       [ 0.29751114,  1.83386468, -1.48395349],\n",
       "       [ 0.24761149,  1.28901497, -1.01809767]])"
      ]
     },
     "execution_count": 881,
     "metadata": {
      "tags": []
     },
     "output_type": "execute_result"
    }
   ],
   "source": [
    "Ap = B @ A @ np.linalg.inv(B)\n",
    "Ap"
   ]
  },
  {
   "cell_type": "code",
   "execution_count": 882,
   "metadata": {
    "colab": {
     "base_uri": "https://localhost:8080/"
    },
    "executionInfo": {
     "elapsed": 4436,
     "status": "ok",
     "timestamp": 1611069769271,
     "user": {
      "displayName": "Boris Garbuzov",
      "photoUrl": "",
      "userId": "08851466340381164023"
     },
     "user_tz": 300
    },
    "id": "pzFhjuDwAtc9",
    "outputId": "e94a17f3-5423-4355-87ae-ccf229694c6e"
   },
   "outputs": [
    {
     "data": {
      "text/plain": [
       "array([[ 0.63949057, -0.43461199,  3.04527512],\n",
       "       [ 0.29751114,  1.83386468, -1.48395349],\n",
       "       [ 0.24761149,  1.28901497, -1.01809767]])"
      ]
     },
     "execution_count": 882,
     "metadata": {
      "tags": []
     },
     "output_type": "execute_result"
    }
   ],
   "source": [
    "Ap = np.dot(B, np.dot(A, np.linalg.inv(B)))\n",
    "Ap"
   ]
  },
  {
   "cell_type": "code",
   "execution_count": 883,
   "metadata": {
    "colab": {
     "base_uri": "https://localhost:8080/"
    },
    "executionInfo": {
     "elapsed": 4428,
     "status": "ok",
     "timestamp": 1611069769271,
     "user": {
      "displayName": "Boris Garbuzov",
      "photoUrl": "",
      "userId": "08851466340381164023"
     },
     "user_tz": 300
    },
    "id": "6078HBKaAtc9",
    "outputId": "065f19d5-1efe-4a53-b9de-afd3641ac579"
   },
   "outputs": [
    {
     "data": {
      "text/plain": [
       "array([[ 0.63949057, -0.43461199,  3.04527512],\n",
       "       [ 0.29751114,  1.83386468, -1.48395349],\n",
       "       [ 0.24761149,  1.28901497, -1.01809767]])"
      ]
     },
     "execution_count": 883,
     "metadata": {
      "tags": []
     },
     "output_type": "execute_result"
    }
   ],
   "source": [
    "Ap = B.dot(A.dot(np.linalg.inv(B)))\n",
    "Ap"
   ]
  },
  {
   "cell_type": "code",
   "execution_count": 884,
   "metadata": {
    "executionInfo": {
     "elapsed": 4421,
     "status": "ok",
     "timestamp": 1611069769272,
     "user": {
      "displayName": "Boris Garbuzov",
      "photoUrl": "",
      "userId": "08851466340381164023"
     },
     "user_tz": 300
    },
    "id": "Lb5sHBlAAtc-"
   },
   "outputs": [],
   "source": [
    "A = np.matrix(A)"
   ]
  },
  {
   "cell_type": "code",
   "execution_count": 885,
   "metadata": {
    "executionInfo": {
     "elapsed": 4419,
     "status": "ok",
     "timestamp": 1611069769272,
     "user": {
      "displayName": "Boris Garbuzov",
      "photoUrl": "",
      "userId": "08851466340381164023"
     },
     "user_tz": 300
    },
    "id": "QkNP40vrAtc-"
   },
   "outputs": [],
   "source": [
    "B = np.matrix(B)"
   ]
  },
  {
   "cell_type": "code",
   "execution_count": 886,
   "metadata": {
    "executionInfo": {
     "elapsed": 4582,
     "status": "ok",
     "timestamp": 1611069769438,
     "user": {
      "displayName": "Boris Garbuzov",
      "photoUrl": "",
      "userId": "08851466340381164023"
     },
     "user_tz": 300
    },
    "id": "s_6b3ik0Atc-"
   },
   "outputs": [],
   "source": [
    "Ap = B * A * B.I"
   ]
  },
  {
   "cell_type": "code",
   "execution_count": 887,
   "metadata": {
    "colab": {
     "base_uri": "https://localhost:8080/"
    },
    "executionInfo": {
     "elapsed": 4582,
     "status": "ok",
     "timestamp": 1611069769439,
     "user": {
      "displayName": "Boris Garbuzov",
      "photoUrl": "",
      "userId": "08851466340381164023"
     },
     "user_tz": 300
    },
    "id": "KDBgUKwHb3tN",
    "outputId": "db4ae9a6-91c4-4130-887f-0859fe17ce32"
   },
   "outputs": [
    {
     "data": {
      "text/plain": [
       "matrix([[0.51517699, 0.66318219, 0.23793191],\n",
       "        [0.02822448, 0.29324119, 0.24712921],\n",
       "        [0.00879724, 0.24578672, 0.19993735]])"
      ]
     },
     "execution_count": 887,
     "metadata": {
      "tags": []
     },
     "output_type": "execute_result"
    }
   ],
   "source": [
    "B"
   ]
  },
  {
   "cell_type": "code",
   "execution_count": 888,
   "metadata": {
    "colab": {
     "base_uri": "https://localhost:8080/"
    },
    "executionInfo": {
     "elapsed": 4578,
     "status": "ok",
     "timestamp": 1611069769441,
     "user": {
      "displayName": "Boris Garbuzov",
      "photoUrl": "",
      "userId": "08851466340381164023"
     },
     "user_tz": 300
    },
    "id": "Yay8D-4db6PW",
    "outputId": "47f33cae-f78e-4b8d-ea2f-8bde8af9fe0b"
   },
   "outputs": [
    {
     "data": {
      "text/plain": [
       "matrix([[  0.89781899,  31.51805682, -40.02579934],\n",
       "        [  1.4752663 , -42.91321436,  51.28654451],\n",
       "        [ -1.85307646,  51.36722338, -56.2848075 ]])"
      ]
     },
     "execution_count": 888,
     "metadata": {
      "tags": []
     },
     "output_type": "execute_result"
    }
   ],
   "source": [
    "B.I"
   ]
  },
  {
   "cell_type": "code",
   "execution_count": 889,
   "metadata": {
    "executionInfo": {
     "elapsed": 4572,
     "status": "ok",
     "timestamp": 1611069769442,
     "user": {
      "displayName": "Boris Garbuzov",
      "photoUrl": "",
      "userId": "08851466340381164023"
     },
     "user_tz": 300
    },
    "id": "SfzAezOvAtc-"
   },
   "outputs": [],
   "source": [
    "A = np.asmatrix(A)"
   ]
  },
  {
   "cell_type": "code",
   "execution_count": 890,
   "metadata": {
    "executionInfo": {
     "elapsed": 4568,
     "status": "ok",
     "timestamp": 1611069769442,
     "user": {
      "displayName": "Boris Garbuzov",
      "photoUrl": "",
      "userId": "08851466340381164023"
     },
     "user_tz": 300
    },
    "id": "IM3gWX9vAtc-"
   },
   "outputs": [],
   "source": [
    "B = np.asmatrix(B)"
   ]
  },
  {
   "cell_type": "code",
   "execution_count": 891,
   "metadata": {
    "executionInfo": {
     "elapsed": 4565,
     "status": "ok",
     "timestamp": 1611069769442,
     "user": {
      "displayName": "Boris Garbuzov",
      "photoUrl": "",
      "userId": "08851466340381164023"
     },
     "user_tz": 300
    },
    "id": "VqWjGMjgAtc_"
   },
   "outputs": [],
   "source": [
    "Ap = B * A * B.I"
   ]
  },
  {
   "cell_type": "code",
   "execution_count": 892,
   "metadata": {
    "executionInfo": {
     "elapsed": 4563,
     "status": "ok",
     "timestamp": 1611069769443,
     "user": {
      "displayName": "Boris Garbuzov",
      "photoUrl": "",
      "userId": "08851466340381164023"
     },
     "user_tz": 300
    },
    "id": "w0YLseX_Atc_"
   },
   "outputs": [],
   "source": [
    "Ap = np.asarray(Ap)"
   ]
  },
  {
   "cell_type": "code",
   "execution_count": 893,
   "metadata": {
    "colab": {
     "base_uri": "https://localhost:8080/"
    },
    "executionInfo": {
     "elapsed": 4561,
     "status": "ok",
     "timestamp": 1611069769443,
     "user": {
      "displayName": "Boris Garbuzov",
      "photoUrl": "",
      "userId": "08851466340381164023"
     },
     "user_tz": 300
    },
    "id": "G8jyJ6lZAtc_",
    "outputId": "67a47ea3-2fcd-4f58-f6cd-f606a036c06d"
   },
   "outputs": [
    {
     "data": {
      "text/plain": [
       "array([[ 0.63949057, -0.43461199,  3.04527512],\n",
       "       [ 0.29751114,  1.83386468, -1.48395349],\n",
       "       [ 0.24761149,  1.28901497, -1.01809767]])"
      ]
     },
     "execution_count": 893,
     "metadata": {
      "tags": []
     },
     "output_type": "execute_result"
    }
   ],
   "source": [
    "Ap"
   ]
  },
  {
   "cell_type": "code",
   "execution_count": 894,
   "metadata": {
    "colab": {
     "base_uri": "https://localhost:8080/"
    },
    "executionInfo": {
     "elapsed": 4557,
     "status": "ok",
     "timestamp": 1611069769444,
     "user": {
      "displayName": "Boris Garbuzov",
      "photoUrl": "",
      "userId": "08851466340381164023"
     },
     "user_tz": 300
    },
    "id": "7zHuHwbQAtc_",
    "outputId": "4129aa27-00be-44ba-bb09-260ec65aa55e"
   },
   "outputs": [
    {
     "data": {
      "text/plain": [
       "5"
      ]
     },
     "execution_count": 894,
     "metadata": {
      "tags": []
     },
     "output_type": "execute_result"
    }
   ],
   "source": [
    "np.inner(x, x)"
   ]
  },
  {
   "cell_type": "code",
   "execution_count": 895,
   "metadata": {
    "colab": {
     "base_uri": "https://localhost:8080/"
    },
    "executionInfo": {
     "elapsed": 4551,
     "status": "ok",
     "timestamp": 1611069769445,
     "user": {
      "displayName": "Boris Garbuzov",
      "photoUrl": "",
      "userId": "08851466340381164023"
     },
     "user_tz": 300
    },
    "id": "BhDZb1ZeAtc_",
    "outputId": "4adbd229-7e6d-4547-b268-41d01f5af7af"
   },
   "outputs": [
    {
     "data": {
      "text/plain": [
       "5"
      ]
     },
     "execution_count": 895,
     "metadata": {
      "tags": []
     },
     "output_type": "execute_result"
    }
   ],
   "source": [
    "np.dot(x, x)"
   ]
  },
  {
   "cell_type": "code",
   "execution_count": 896,
   "metadata": {
    "executionInfo": {
     "elapsed": 4735,
     "status": "ok",
     "timestamp": 1611069769635,
     "user": {
      "displayName": "Boris Garbuzov",
      "photoUrl": "",
      "userId": "08851466340381164023"
     },
     "user_tz": 300
    },
    "id": "iyEuFVP7AtdA"
   },
   "outputs": [],
   "source": [
    "y = x[:, np.newaxis]"
   ]
  },
  {
   "cell_type": "code",
   "execution_count": 897,
   "metadata": {
    "colab": {
     "base_uri": "https://localhost:8080/"
    },
    "executionInfo": {
     "elapsed": 4733,
     "status": "ok",
     "timestamp": 1611069769635,
     "user": {
      "displayName": "Boris Garbuzov",
      "photoUrl": "",
      "userId": "08851466340381164023"
     },
     "user_tz": 300
    },
    "id": "5V4G5tyKAtdA",
    "outputId": "47b62d95-f927-4b3f-f5e0-fdc9933d0146"
   },
   "outputs": [
    {
     "data": {
      "text/plain": [
       "array([[0],\n",
       "       [1],\n",
       "       [2]])"
      ]
     },
     "execution_count": 897,
     "metadata": {
      "tags": []
     },
     "output_type": "execute_result"
    }
   ],
   "source": [
    "y"
   ]
  },
  {
   "cell_type": "code",
   "execution_count": 898,
   "metadata": {
    "colab": {
     "base_uri": "https://localhost:8080/"
    },
    "executionInfo": {
     "elapsed": 4725,
     "status": "ok",
     "timestamp": 1611069769635,
     "user": {
      "displayName": "Boris Garbuzov",
      "photoUrl": "",
      "userId": "08851466340381164023"
     },
     "user_tz": 300
    },
    "id": "m9I6gOUxAtdA",
    "outputId": "003a649c-6885-43f9-cdd9-8edcff151140"
   },
   "outputs": [
    {
     "data": {
      "text/plain": [
       "array([[5]])"
      ]
     },
     "execution_count": 898,
     "metadata": {
      "tags": []
     },
     "output_type": "execute_result"
    }
   ],
   "source": [
    "np.dot(y.T, y)"
   ]
  },
  {
   "cell_type": "code",
   "execution_count": 899,
   "metadata": {
    "executionInfo": {
     "elapsed": 4718,
     "status": "ok",
     "timestamp": 1611069769636,
     "user": {
      "displayName": "Boris Garbuzov",
      "photoUrl": "",
      "userId": "08851466340381164023"
     },
     "user_tz": 300
    },
    "id": "AL7jFHufAtdA"
   },
   "outputs": [],
   "source": [
    "x = np.array([1, 2, 3])"
   ]
  },
  {
   "cell_type": "code",
   "execution_count": 900,
   "metadata": {
    "colab": {
     "base_uri": "https://localhost:8080/"
    },
    "executionInfo": {
     "elapsed": 4717,
     "status": "ok",
     "timestamp": 1611069769637,
     "user": {
      "displayName": "Boris Garbuzov",
      "photoUrl": "",
      "userId": "08851466340381164023"
     },
     "user_tz": 300
    },
    "id": "1ZRJdlEtAtdA",
    "outputId": "65859555-72ec-4885-916d-ec8fafcdaf76"
   },
   "outputs": [
    {
     "data": {
      "text/plain": [
       "array([[1, 2, 3],\n",
       "       [2, 4, 6],\n",
       "       [3, 6, 9]])"
      ]
     },
     "execution_count": 900,
     "metadata": {
      "tags": []
     },
     "output_type": "execute_result"
    }
   ],
   "source": [
    "np.outer(x, x) "
   ]
  },
  {
   "cell_type": "code",
   "execution_count": 901,
   "metadata": {
    "colab": {
     "base_uri": "https://localhost:8080/"
    },
    "executionInfo": {
     "elapsed": 4711,
     "status": "ok",
     "timestamp": 1611069769637,
     "user": {
      "displayName": "Boris Garbuzov",
      "photoUrl": "",
      "userId": "08851466340381164023"
     },
     "user_tz": 300
    },
    "id": "mKVxpY5NAtdB",
    "outputId": "8b69030a-67bd-4475-de7c-43a39873bee7"
   },
   "outputs": [
    {
     "data": {
      "text/plain": [
       "array([1, 2, 3, 2, 4, 6, 3, 6, 9])"
      ]
     },
     "execution_count": 901,
     "metadata": {
      "tags": []
     },
     "output_type": "execute_result"
    }
   ],
   "source": [
    "np.kron(x, x) "
   ]
  },
  {
   "cell_type": "code",
   "execution_count": 902,
   "metadata": {
    "colab": {
     "base_uri": "https://localhost:8080/"
    },
    "executionInfo": {
     "elapsed": 4705,
     "status": "ok",
     "timestamp": 1611069769637,
     "user": {
      "displayName": "Boris Garbuzov",
      "photoUrl": "",
      "userId": "08851466340381164023"
     },
     "user_tz": 300
    },
    "id": "kKiQREV0AtdB",
    "outputId": "3c852531-6c1c-48f2-ce6b-6b48d0e0a13b"
   },
   "outputs": [
    {
     "data": {
      "text/plain": [
       "array([[1, 2, 3],\n",
       "       [2, 4, 6],\n",
       "       [3, 6, 9]])"
      ]
     },
     "execution_count": 902,
     "metadata": {
      "tags": []
     },
     "output_type": "execute_result"
    }
   ],
   "source": [
    "np.kron(x[:, np.newaxis], x[np.newaxis, :])"
   ]
  },
  {
   "cell_type": "code",
   "execution_count": 903,
   "metadata": {
    "colab": {
     "base_uri": "https://localhost:8080/"
    },
    "executionInfo": {
     "elapsed": 4698,
     "status": "ok",
     "timestamp": 1611069769637,
     "user": {
      "displayName": "Boris Garbuzov",
      "photoUrl": "",
      "userId": "08851466340381164023"
     },
     "user_tz": 300
    },
    "id": "Y2DZ7MVSAtdB",
    "outputId": "8d651486-e6b3-48e3-b48b-d13187408124"
   },
   "outputs": [
    {
     "data": {
      "text/plain": [
       "array([[1., 0., 1., 0.],\n",
       "       [0., 1., 0., 1.],\n",
       "       [1., 0., 1., 0.],\n",
       "       [0., 1., 0., 1.]])"
      ]
     },
     "execution_count": 903,
     "metadata": {
      "tags": []
     },
     "output_type": "execute_result"
    }
   ],
   "source": [
    "np.kron(np.ones((2,2)), np.identity(2))"
   ]
  },
  {
   "cell_type": "code",
   "execution_count": 904,
   "metadata": {
    "colab": {
     "base_uri": "https://localhost:8080/"
    },
    "executionInfo": {
     "elapsed": 4693,
     "status": "ok",
     "timestamp": 1611069769638,
     "user": {
      "displayName": "Boris Garbuzov",
      "photoUrl": "",
      "userId": "08851466340381164023"
     },
     "user_tz": 300
    },
    "id": "gMxaGxOMd3R-",
    "outputId": "173f3b7d-1e9d-4b1d-fe93-75848fd05754"
   },
   "outputs": [
    {
     "data": {
      "text/plain": [
       "array([[1., 0.],\n",
       "       [0., 1.]])"
      ]
     },
     "execution_count": 904,
     "metadata": {
      "tags": []
     },
     "output_type": "execute_result"
    }
   ],
   "source": [
    "np.identity(2)"
   ]
  },
  {
   "cell_type": "code",
   "execution_count": 905,
   "metadata": {
    "colab": {
     "base_uri": "https://localhost:8080/"
    },
    "executionInfo": {
     "elapsed": 4685,
     "status": "ok",
     "timestamp": 1611069769638,
     "user": {
      "displayName": "Boris Garbuzov",
      "photoUrl": "",
      "userId": "08851466340381164023"
     },
     "user_tz": 300
    },
    "id": "ksiXvOttAtdB",
    "outputId": "e3c7bb26-9862-4682-d08c-7d45f38f376f"
   },
   "outputs": [
    {
     "data": {
      "text/plain": [
       "array([[1., 1., 0., 0.],\n",
       "       [1., 1., 0., 0.],\n",
       "       [0., 0., 1., 1.],\n",
       "       [0., 0., 1., 1.]])"
      ]
     },
     "execution_count": 905,
     "metadata": {
      "tags": []
     },
     "output_type": "execute_result"
    }
   ],
   "source": [
    "np.kron(np.identity(2), np.ones((2,2)))"
   ]
  },
  {
   "cell_type": "code",
   "execution_count": 906,
   "metadata": {
    "colab": {
     "base_uri": "https://localhost:8080/"
    },
    "executionInfo": {
     "elapsed": 4676,
     "status": "ok",
     "timestamp": 1611069769638,
     "user": {
      "displayName": "Boris Garbuzov",
      "photoUrl": "",
      "userId": "08851466340381164023"
     },
     "user_tz": 300
    },
    "id": "DESy-fl9d8Hm",
    "outputId": "5a04a778-e91f-4f54-b852-7ab2d6038933"
   },
   "outputs": [
    {
     "data": {
      "text/plain": [
       "array([[1., 1.],\n",
       "       [1., 1.]])"
      ]
     },
     "execution_count": 906,
     "metadata": {
      "tags": []
     },
     "output_type": "execute_result"
    }
   ],
   "source": [
    "np.ones((2,2))"
   ]
  },
  {
   "cell_type": "code",
   "execution_count": 907,
   "metadata": {
    "executionInfo": {
     "elapsed": 4669,
     "status": "ok",
     "timestamp": 1611069769638,
     "user": {
      "displayName": "Boris Garbuzov",
      "photoUrl": "",
      "userId": "08851466340381164023"
     },
     "user_tz": 300
    },
    "id": "0U9Ge8iqAtdC"
   },
   "outputs": [],
   "source": [
    "x = np.array([1, 2, 3, 4])"
   ]
  },
  {
   "cell_type": "code",
   "execution_count": 908,
   "metadata": {
    "executionInfo": {
     "elapsed": 4666,
     "status": "ok",
     "timestamp": 1611069769638,
     "user": {
      "displayName": "Boris Garbuzov",
      "photoUrl": "",
      "userId": "08851466340381164023"
     },
     "user_tz": 300
    },
    "id": "f0KRiM2OAtdC"
   },
   "outputs": [],
   "source": [
    "y = np.array([5, 6, 7, 8])"
   ]
  },
  {
   "cell_type": "code",
   "execution_count": 909,
   "metadata": {
    "colab": {
     "base_uri": "https://localhost:8080/"
    },
    "executionInfo": {
     "elapsed": 4666,
     "status": "ok",
     "timestamp": 1611069769639,
     "user": {
      "displayName": "Boris Garbuzov",
      "photoUrl": "",
      "userId": "08851466340381164023"
     },
     "user_tz": 300
    },
    "id": "kWDISlcJAtdC",
    "outputId": "65660e7d-693b-4359-8d68-0bd5f3fe4a61"
   },
   "outputs": [
    {
     "data": {
      "text/plain": [
       "70"
      ]
     },
     "execution_count": 909,
     "metadata": {
      "tags": []
     },
     "output_type": "execute_result"
    }
   ],
   "source": [
    "np.einsum(\"n,n\", x, y)"
   ]
  },
  {
   "cell_type": "code",
   "execution_count": 910,
   "metadata": {
    "colab": {
     "base_uri": "https://localhost:8080/"
    },
    "executionInfo": {
     "elapsed": 4660,
     "status": "ok",
     "timestamp": 1611069769639,
     "user": {
      "displayName": "Boris Garbuzov",
      "photoUrl": "",
      "userId": "08851466340381164023"
     },
     "user_tz": 300
    },
    "id": "-mcNTwxfAtdD",
    "outputId": "16654f49-1ccb-4be1-80a0-2c4d226f4c14"
   },
   "outputs": [
    {
     "data": {
      "text/plain": [
       "70"
      ]
     },
     "execution_count": 910,
     "metadata": {
      "tags": []
     },
     "output_type": "execute_result"
    }
   ],
   "source": [
    "np.inner(x, y)"
   ]
  },
  {
   "cell_type": "code",
   "execution_count": 911,
   "metadata": {
    "executionInfo": {
     "elapsed": 4833,
     "status": "ok",
     "timestamp": 1611069769818,
     "user": {
      "displayName": "Boris Garbuzov",
      "photoUrl": "",
      "userId": "08851466340381164023"
     },
     "user_tz": 300
    },
    "id": "p8501zwoAtdD"
   },
   "outputs": [],
   "source": [
    "A = np.arange(9).reshape(3, 3)"
   ]
  },
  {
   "cell_type": "code",
   "execution_count": 912,
   "metadata": {
    "executionInfo": {
     "elapsed": 4832,
     "status": "ok",
     "timestamp": 1611069769820,
     "user": {
      "displayName": "Boris Garbuzov",
      "photoUrl": "",
      "userId": "08851466340381164023"
     },
     "user_tz": 300
    },
    "id": "PeyYJSnpAtdD"
   },
   "outputs": [],
   "source": [
    "B = A.T"
   ]
  },
  {
   "cell_type": "code",
   "execution_count": 913,
   "metadata": {
    "colab": {
     "base_uri": "https://localhost:8080/"
    },
    "executionInfo": {
     "elapsed": 4828,
     "status": "ok",
     "timestamp": 1611069769820,
     "user": {
      "displayName": "Boris Garbuzov",
      "photoUrl": "",
      "userId": "08851466340381164023"
     },
     "user_tz": 300
    },
    "id": "lfx6dcEfAtdD",
    "outputId": "b2cb84d3-af7d-48e0-8248-97a59529c7e4"
   },
   "outputs": [
    {
     "data": {
      "text/plain": [
       "array([[  5,  14,  23],\n",
       "       [ 14,  50,  86],\n",
       "       [ 23,  86, 149]])"
      ]
     },
     "execution_count": 913,
     "metadata": {
      "tags": []
     },
     "output_type": "execute_result"
    }
   ],
   "source": [
    "np.einsum(\"mk,kn\", A, B)"
   ]
  },
  {
   "cell_type": "code",
   "execution_count": 914,
   "metadata": {
    "colab": {
     "base_uri": "https://localhost:8080/"
    },
    "executionInfo": {
     "elapsed": 4822,
     "status": "ok",
     "timestamp": 1611069769820,
     "user": {
      "displayName": "Boris Garbuzov",
      "photoUrl": "",
      "userId": "08851466340381164023"
     },
     "user_tz": 300
    },
    "id": "XoH7SPrEAtdE",
    "outputId": "d5e51c33-0595-42f9-e1df-022456a9a631"
   },
   "outputs": [
    {
     "data": {
      "text/plain": [
       "True"
      ]
     },
     "execution_count": 914,
     "metadata": {
      "tags": []
     },
     "output_type": "execute_result"
    }
   ],
   "source": [
    "np.alltrue(np.einsum(\"mk,kn\", A, B) == np.dot(A, B))"
   ]
  },
  {
   "cell_type": "code",
   "execution_count": 915,
   "metadata": {
    "colab": {
     "base_uri": "https://localhost:8080/"
    },
    "executionInfo": {
     "elapsed": 4815,
     "status": "ok",
     "timestamp": 1611069769820,
     "user": {
      "displayName": "Boris Garbuzov",
      "photoUrl": "",
      "userId": "08851466340381164023"
     },
     "user_tz": 300
    },
    "id": "D3wS9M4aKo9-",
    "outputId": "20149173-beea-4d3c-9a37-330dbba31c55"
   },
   "outputs": [
    {
     "name": "stdout",
     "output_type": "stream",
     "text": [
      "9\n"
     ]
    }
   ],
   "source": [
    " import numpy as np\n",
    " num = np.array([[1,2,3],[4,5,6],[7,8,9]])\n",
    " print(num[2][2])"
   ]
  },
  {
   "cell_type": "code",
   "execution_count": 916,
   "metadata": {
    "colab": {
     "base_uri": "https://localhost:8080/"
    },
    "executionInfo": {
     "elapsed": 4808,
     "status": "ok",
     "timestamp": 1611069769820,
     "user": {
      "displayName": "Boris Garbuzov",
      "photoUrl": "",
      "userId": "08851466340381164023"
     },
     "user_tz": 300
    },
    "id": "wJPzKhqhKqhd",
    "outputId": "e0722800-619a-4447-ae84-62b82f7cfcd2"
   },
   "outputs": [
    {
     "data": {
      "text/plain": [
       "array([[0, 1, 2],\n",
       "       [3, 4, 5],\n",
       "       [6, 7, 8]])"
      ]
     },
     "execution_count": 916,
     "metadata": {
      "tags": []
     },
     "output_type": "execute_result"
    }
   ],
   "source": [
    "np.arange(0,9).reshape(3,3)"
   ]
  },
  {
   "cell_type": "code",
   "execution_count": 917,
   "metadata": {
    "colab": {
     "base_uri": "https://localhost:8080/"
    },
    "executionInfo": {
     "elapsed": 4801,
     "status": "ok",
     "timestamp": 1611069769821,
     "user": {
      "displayName": "Boris Garbuzov",
      "photoUrl": "",
      "userId": "08851466340381164023"
     },
     "user_tz": 300
    },
    "id": "lUagwOyKKqoB",
    "outputId": "0c24e31e-def9-42ae-d743-9d6cea0f5062"
   },
   "outputs": [
    {
     "data": {
      "text/plain": [
       "0.6995318120916251"
      ]
     },
     "execution_count": 917,
     "metadata": {
      "tags": []
     },
     "output_type": "execute_result"
    }
   ],
   "source": [
    "np.random.rand()"
   ]
  },
  {
   "cell_type": "code",
   "execution_count": 918,
   "metadata": {
    "colab": {
     "base_uri": "https://localhost:8080/"
    },
    "executionInfo": {
     "elapsed": 4791,
     "status": "ok",
     "timestamp": 1611069769821,
     "user": {
      "displayName": "Boris Garbuzov",
      "photoUrl": "",
      "userId": "08851466340381164023"
     },
     "user_tz": 300
    },
    "id": "Fr-HBmkNKquF",
    "outputId": "cb6f30f9-92ee-4c9a-e8be-1880c33e4c04"
   },
   "outputs": [
    {
     "data": {
      "text/plain": [
       "14"
      ]
     },
     "execution_count": 918,
     "metadata": {
      "tags": []
     },
     "output_type": "execute_result"
    }
   ],
   "source": [
    "f = np.array([1,2])\n",
    "g = np.array([4,5])\n",
    "np.dot(f, g)"
   ]
  },
  {
   "cell_type": "code",
   "execution_count": 919,
   "metadata": {
    "colab": {
     "base_uri": "https://localhost:8080/"
    },
    "executionInfo": {
     "elapsed": 4785,
     "status": "ok",
     "timestamp": 1611069769822,
     "user": {
      "displayName": "Boris Garbuzov",
      "photoUrl": "",
      "userId": "08851466340381164023"
     },
     "user_tz": 300
    },
    "id": "-m5MQK59Kqz9",
    "outputId": "54e76357-af0e-4387-b49c-5c137ac33f89"
   },
   "outputs": [
    {
     "name": "stdout",
     "output_type": "stream",
     "text": [
      "[[1 4 7]\n",
      " [2 5 8]]\n"
     ]
    }
   ],
   "source": [
    "aa= np.array([[1,2],[4,5],[7,8]])\n",
    "bb=np.transpose(aa,(1,0))\n",
    "print(bb)"
   ]
  },
  {
   "cell_type": "code",
   "execution_count": 920,
   "metadata": {
    "colab": {
     "base_uri": "https://localhost:8080/"
    },
    "executionInfo": {
     "elapsed": 4778,
     "status": "ok",
     "timestamp": 1611069769822,
     "user": {
      "displayName": "Boris Garbuzov",
      "photoUrl": "",
      "userId": "08851466340381164023"
     },
     "user_tz": 300
    },
    "id": "-ifhCz0DKpaH",
    "outputId": "6c70aeab-061d-4f32-b46f-60b48cfe5cb6"
   },
   "outputs": [
    {
     "data": {
      "text/plain": [
       "array([1, 3, 5, 7, 9])"
      ]
     },
     "execution_count": 920,
     "metadata": {
      "tags": []
     },
     "output_type": "execute_result"
    }
   ],
   "source": [
    "arr = np.array([0, 1, 2, 3, 4, 5, 6, 7, 8, 9])\n",
    "arr[arr % 2 == 1]"
   ]
  },
  {
   "cell_type": "code",
   "execution_count": 921,
   "metadata": {
    "colab": {
     "base_uri": "https://localhost:8080/"
    },
    "executionInfo": {
     "elapsed": 4770,
     "status": "ok",
     "timestamp": 1611069769822,
     "user": {
      "displayName": "Boris Garbuzov",
      "photoUrl": "",
      "userId": "08851466340381164023"
     },
     "user_tz": 300
    },
    "id": "MUnoHyHyKpgq",
    "outputId": "c7154f6b-9c53-4879-966b-85b7ef8a3a50"
   },
   "outputs": [
    {
     "data": {
      "text/plain": [
       "array([0, 1, 0, 1, 0, 1, 0, 1, 0, 1])"
      ]
     },
     "execution_count": 921,
     "metadata": {
      "tags": []
     },
     "output_type": "execute_result"
    }
   ],
   "source": [
    "arr%2"
   ]
  },
  {
   "cell_type": "code",
   "execution_count": 921,
   "metadata": {
    "executionInfo": {
     "elapsed": 4764,
     "status": "ok",
     "timestamp": 1611069769822,
     "user": {
      "displayName": "Boris Garbuzov",
      "photoUrl": "",
      "userId": "08851466340381164023"
     },
     "user_tz": 300
    },
    "id": "xRom9MdnReWT"
   },
   "outputs": [],
   "source": []
  }
 ],
 "metadata": {
  "colab": {
   "collapsed_sections": [],
   "name": "ch02 numpy.ipynb",
   "provenance": []
  },
  "kernelspec": {
   "display_name": "Python 3",
   "language": "python",
   "name": "python3"
  },
  "language_info": {
   "codemirror_mode": {
    "name": "ipython",
    "version": 3
   },
   "file_extension": ".py",
   "mimetype": "text/x-python",
   "name": "python",
   "nbconvert_exporter": "python",
   "pygments_lexer": "ipython3",
   "version": "3.7.3"
  }
 },
 "nbformat": 4,
 "nbformat_minor": 1
}
