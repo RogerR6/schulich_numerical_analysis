{
 "cells": [
  {
   "cell_type": "markdown",
   "metadata": {
    "id": "FusNfS-ETZbk"
   },
   "source": [
    "# Chapter 3: Symbolic computing"
   ]
  },
  {
   "cell_type": "markdown",
   "metadata": {
    "id": "IVJEd0efTZbl"
   },
   "source": [
    "Robert Johansson\n",
    "\n",
    "Source code listings for [Numerical Python - Scientific Computing and Data Science Applications with Numpy, SciPy and Matplotlib](https://www.apress.com/us/book/9781484242452) (ISBN 978-1-484242-45-2)."
   ]
  },
  {
   "cell_type": "code",
   "execution_count": 1,
   "metadata": {
    "executionInfo": {
     "elapsed": 2331,
     "status": "ok",
     "timestamp": 1611071767069,
     "user": {
      "displayName": "Boris Garbuzov",
      "photoUrl": "",
      "userId": "08851466340381164023"
     },
     "user_tz": 300
    },
    "id": "k4VqUhKrTZbl"
   },
   "outputs": [],
   "source": [
    "import sympy"
   ]
  },
  {
   "cell_type": "code",
   "execution_count": 2,
   "metadata": {
    "executionInfo": {
     "elapsed": 3084,
     "status": "ok",
     "timestamp": 1611071767824,
     "user": {
      "displayName": "Boris Garbuzov",
      "photoUrl": "",
      "userId": "08851466340381164023"
     },
     "user_tz": 300
    },
    "id": "1vTwVZRITZbm"
   },
   "outputs": [],
   "source": [
    "sympy.init_printing()"
   ]
  },
  {
   "cell_type": "code",
   "execution_count": 3,
   "metadata": {
    "executionInfo": {
     "elapsed": 3082,
     "status": "ok",
     "timestamp": 1611071767826,
     "user": {
      "displayName": "Boris Garbuzov",
      "photoUrl": "",
      "userId": "08851466340381164023"
     },
     "user_tz": 300
    },
    "id": "8zzaB_n4TZbm"
   },
   "outputs": [],
   "source": [
    "from sympy import I, pi, oo"
   ]
  },
  {
   "cell_type": "code",
   "execution_count": 4,
   "metadata": {
    "executionInfo": {
     "elapsed": 3080,
     "status": "ok",
     "timestamp": 1611071767827,
     "user": {
      "displayName": "Boris Garbuzov",
      "photoUrl": "",
      "userId": "08851466340381164023"
     },
     "user_tz": 300
    },
    "id": "gTwLwQqETZbm"
   },
   "outputs": [],
   "source": [
    "x = sympy.Symbol(\"x\")"
   ]
  },
  {
   "cell_type": "code",
   "execution_count": 5,
   "metadata": {
    "colab": {
     "base_uri": "https://localhost:8080/",
     "height": 39
    },
    "executionInfo": {
     "elapsed": 3213,
     "status": "ok",
     "timestamp": 1611071768020,
     "user": {
      "displayName": "Boris Garbuzov",
      "photoUrl": "",
      "userId": "08851466340381164023"
     },
     "user_tz": 300
    },
    "id": "vqAjpCVbwWqR",
    "outputId": "951434de-a40c-4b8a-9a8b-39a42b0c61c3"
   },
   "outputs": [
    {
     "data": {
      "image/png": "[encoded data removed]",
      "text/latex": [
       "$$x$$"
      ],
      "text/plain": [
       "x"
      ]
     },
     "execution_count": 5,
     "metadata": {},
     "output_type": "execute_result"
    }
   ],
   "source": [
    "x"
   ]
  },
  {
   "cell_type": "code",
   "execution_count": 6,
   "metadata": {
    "executionInfo": {
     "elapsed": 3214,
     "status": "ok",
     "timestamp": 1611071768022,
     "user": {
      "displayName": "Boris Garbuzov",
      "photoUrl": "",
      "userId": "08851466340381164023"
     },
     "user_tz": 300
    },
    "id": "ypoBupBrTZbm"
   },
   "outputs": [],
   "source": [
    "y = sympy.Symbol(\"y\", real=True)"
   ]
  },
  {
   "cell_type": "code",
   "execution_count": 7,
   "metadata": {
    "colab": {
     "base_uri": "https://localhost:8080/"
    },
    "executionInfo": {
     "elapsed": 3205,
     "status": "ok",
     "timestamp": 1611071768023,
     "user": {
      "displayName": "Boris Garbuzov",
      "photoUrl": "",
      "userId": "08851466340381164023"
     },
     "user_tz": 300
    },
    "id": "xMJT0IW6TZbm",
    "outputId": "8a166dac-6702-47e2-e118-4514899e39dc"
   },
   "outputs": [
    {
     "data": {
      "text/plain": [
       "True"
      ]
     },
     "execution_count": 7,
     "metadata": {},
     "output_type": "execute_result"
    }
   ],
   "source": [
    "y.is_real"
   ]
  },
  {
   "cell_type": "code",
   "execution_count": 8,
   "metadata": {
    "executionInfo": {
     "elapsed": 3206,
     "status": "ok",
     "timestamp": 1611071768028,
     "user": {
      "displayName": "Boris Garbuzov",
      "photoUrl": "",
      "userId": "08851466340381164023"
     },
     "user_tz": 300
    },
    "id": "WZ_pYfKEwqT2"
   },
   "outputs": [],
   "source": [
    "x.is_real"
   ]
  },
  {
   "cell_type": "code",
   "execution_count": 9,
   "metadata": {
    "colab": {
     "base_uri": "https://localhost:8080/"
    },
    "executionInfo": {
     "elapsed": 3186,
     "status": "ok",
     "timestamp": 1611071768030,
     "user": {
      "displayName": "Boris Garbuzov",
      "photoUrl": "",
      "userId": "08851466340381164023"
     },
     "user_tz": 300
    },
    "id": "BjTXwsxSTZbo",
    "outputId": "99537537-7c14-4b3e-de3c-fa52b9212d65"
   },
   "outputs": [
    {
     "data": {
      "text/plain": [
       "True"
      ]
     },
     "execution_count": 9,
     "metadata": {},
     "output_type": "execute_result"
    }
   ],
   "source": [
    "x.is_real is None"
   ]
  },
  {
   "cell_type": "code",
   "execution_count": 10,
   "metadata": {
    "colab": {
     "base_uri": "https://localhost:8080/"
    },
    "executionInfo": {
     "elapsed": 3176,
     "status": "ok",
     "timestamp": 1611071768033,
     "user": {
      "displayName": "Boris Garbuzov",
      "photoUrl": "",
      "userId": "08851466340381164023"
     },
     "user_tz": 300
    },
    "id": "q53EerNYTZbo",
    "outputId": "806feb5b-d47f-4a9d-f553-38a6fc908a57"
   },
   "outputs": [
    {
     "data": {
      "text/plain": [
       "False"
      ]
     },
     "execution_count": 10,
     "metadata": {},
     "output_type": "execute_result"
    }
   ],
   "source": [
    "sympy.Symbol(\"z\", imaginary=True).is_real"
   ]
  },
  {
   "cell_type": "code",
   "execution_count": 11,
   "metadata": {
    "executionInfo": {
     "elapsed": 3174,
     "status": "ok",
     "timestamp": 1611071768035,
     "user": {
      "displayName": "Boris Garbuzov",
      "photoUrl": "",
      "userId": "08851466340381164023"
     },
     "user_tz": 300
    },
    "id": "lRufCMPhTZbp"
   },
   "outputs": [],
   "source": [
    "x = sympy.Symbol(\"x\")"
   ]
  },
  {
   "cell_type": "code",
   "execution_count": 12,
   "metadata": {
    "executionInfo": {
     "elapsed": 3173,
     "status": "ok",
     "timestamp": 1611071768037,
     "user": {
      "displayName": "Boris Garbuzov",
      "photoUrl": "",
      "userId": "08851466340381164023"
     },
     "user_tz": 300
    },
    "id": "5G62LVi_TZbp"
   },
   "outputs": [],
   "source": [
    "y = sympy.Symbol(\"y\", positive=True)"
   ]
  },
  {
   "cell_type": "code",
   "execution_count": 13,
   "metadata": {
    "colab": {
     "base_uri": "https://localhost:8080/",
     "height": 38
    },
    "executionInfo": {
     "elapsed": 3164,
     "status": "ok",
     "timestamp": 1611071768037,
     "user": {
      "displayName": "Boris Garbuzov",
      "photoUrl": "",
      "userId": "08851466340381164023"
     },
     "user_tz": 300
    },
    "id": "wyTIf1krTZbp",
    "outputId": "faea3bc9-8444-49fd-add5-eaf2221d515e"
   },
   "outputs": [
    {
     "data": {
      "image/png": "[encoded data removed]",
      "text/latex": [
       "$$\\sqrt{x^{2}}$$"
      ],
      "text/plain": [
       "   ____\n",
       "  ╱  2 \n",
       "╲╱  x  "
      ]
     },
     "execution_count": 13,
     "metadata": {},
     "output_type": "execute_result"
    }
   ],
   "source": [
    "sympy.sqrt(x ** 2)"
   ]
  },
  {
   "cell_type": "code",
   "execution_count": 14,
   "metadata": {
    "colab": {
     "base_uri": "https://localhost:8080/",
     "height": 39
    },
    "executionInfo": {
     "elapsed": 3151,
     "status": "ok",
     "timestamp": 1611071768038,
     "user": {
      "displayName": "Boris Garbuzov",
      "photoUrl": "",
      "userId": "08851466340381164023"
     },
     "user_tz": 300
    },
    "id": "BB2Koox1TZbp",
    "outputId": "453813f4-e8fc-49b6-cf49-e0783f840815"
   },
   "outputs": [
    {
     "data": {
      "image/png": "[encoded data removed]",
      "text/latex": [
       "$$y$$"
      ],
      "text/plain": [
       "y"
      ]
     },
     "execution_count": 14,
     "metadata": {},
     "output_type": "execute_result"
    }
   ],
   "source": [
    "sympy.sqrt(y ** 2)"
   ]
  },
  {
   "cell_type": "code",
   "execution_count": 15,
   "metadata": {
    "executionInfo": {
     "elapsed": 3332,
     "status": "ok",
     "timestamp": 1611071768222,
     "user": {
      "displayName": "Boris Garbuzov",
      "photoUrl": "",
      "userId": "08851466340381164023"
     },
     "user_tz": 300
    },
    "id": "Td36F4qSTZbp"
   },
   "outputs": [],
   "source": [
    "n1, n2, n3 = sympy.Symbol(\"n\"), sympy.Symbol(\"n\", integer=True), sympy.Symbol(\"n\", odd=True)"
   ]
  },
  {
   "cell_type": "code",
   "execution_count": 16,
   "metadata": {
    "colab": {
     "base_uri": "https://localhost:8080/",
     "height": 39
    },
    "executionInfo": {
     "elapsed": 3321,
     "status": "ok",
     "timestamp": 1611071768224,
     "user": {
      "displayName": "Boris Garbuzov",
      "photoUrl": "",
      "userId": "08851466340381164023"
     },
     "user_tz": 300
    },
    "id": "aCwIVw9eTZbp",
    "outputId": "14179b32-fd22-47cd-97cd-6024042ce4e4"
   },
   "outputs": [
    {
     "data": {
      "image/png": "[encoded data removed]",
      "text/latex": [
       "$$\\cos{\\left (\\pi n \\right )}$$"
      ],
      "text/plain": [
       "cos(π⋅n)"
      ]
     },
     "execution_count": 16,
     "metadata": {},
     "output_type": "execute_result"
    }
   ],
   "source": [
    "sympy.cos(n1 * pi)"
   ]
  },
  {
   "cell_type": "code",
   "execution_count": 17,
   "metadata": {
    "colab": {
     "base_uri": "https://localhost:8080/",
     "height": 37
    },
    "executionInfo": {
     "elapsed": 3311,
     "status": "ok",
     "timestamp": 1611071768225,
     "user": {
      "displayName": "Boris Garbuzov",
      "photoUrl": "",
      "userId": "08851466340381164023"
     },
     "user_tz": 300
    },
    "id": "QL9pF691TZbp",
    "outputId": "45a2e5e6-f602-4061-bbf1-38a46149ef71"
   },
   "outputs": [
    {
     "data": {
      "image/png": "[encoded data removed]",
      "text/latex": [
       "$$\\left(-1\\right)^{n}$$"
      ],
      "text/plain": [
       "    n\n",
       "(-1) "
      ]
     },
     "execution_count": 17,
     "metadata": {},
     "output_type": "execute_result"
    }
   ],
   "source": [
    "sympy.cos(n2 * pi)"
   ]
  },
  {
   "cell_type": "code",
   "execution_count": 18,
   "metadata": {
    "colab": {
     "base_uri": "https://localhost:8080/",
     "height": 37
    },
    "executionInfo": {
     "elapsed": 3296,
     "status": "ok",
     "timestamp": 1611071768226,
     "user": {
      "displayName": "Boris Garbuzov",
      "photoUrl": "",
      "userId": "08851466340381164023"
     },
     "user_tz": 300
    },
    "id": "3PvYhKR1TZbp",
    "outputId": "90853bf2-df03-4100-9ba8-c84715dc9987"
   },
   "outputs": [
    {
     "data": {
      "image/png": "[encoded data removed]",
      "text/latex": [
       "$$-1$$"
      ],
      "text/plain": [
       "-1"
      ]
     },
     "execution_count": 18,
     "metadata": {},
     "output_type": "execute_result"
    }
   ],
   "source": [
    "sympy.cos(n3 * pi)"
   ]
  },
  {
   "cell_type": "code",
   "execution_count": 19,
   "metadata": {
    "executionInfo": {
     "elapsed": 3296,
     "status": "ok",
     "timestamp": 1611071768227,
     "user": {
      "displayName": "Boris Garbuzov",
      "photoUrl": "",
      "userId": "08851466340381164023"
     },
     "user_tz": 300
    },
    "id": "YKe0q_DrTZbq"
   },
   "outputs": [],
   "source": [
    "a, b, c = sympy.symbols(\"a, b, c\", negative=True)"
   ]
  },
  {
   "cell_type": "code",
   "execution_count": 20,
   "metadata": {
    "executionInfo": {
     "elapsed": 3295,
     "status": "ok",
     "timestamp": 1611071768227,
     "user": {
      "displayName": "Boris Garbuzov",
      "photoUrl": "",
      "userId": "08851466340381164023"
     },
     "user_tz": 300
    },
    "id": "tEgVR_8zTZbq"
   },
   "outputs": [],
   "source": [
    "d, e, f = sympy.symbols(\"d, e, f\", positive=True)"
   ]
  },
  {
   "cell_type": "markdown",
   "metadata": {
    "id": "Fns69fowTZbq"
   },
   "source": [
    "## Numbers"
   ]
  },
  {
   "cell_type": "code",
   "execution_count": 21,
   "metadata": {
    "executionInfo": {
     "elapsed": 3295,
     "status": "ok",
     "timestamp": 1611071768229,
     "user": {
      "displayName": "Boris Garbuzov",
      "photoUrl": "",
      "userId": "08851466340381164023"
     },
     "user_tz": 300
    },
    "id": "_A6Uw-OGTZbq"
   },
   "outputs": [],
   "source": [
    "i = sympy.Integer(19)"
   ]
  },
  {
   "cell_type": "code",
   "execution_count": 22,
   "metadata": {
    "colab": {
     "base_uri": "https://localhost:8080/",
     "height": 36
    },
    "executionInfo": {
     "elapsed": 3517,
     "status": "ok",
     "timestamp": 1611071768460,
     "user": {
      "displayName": "Boris Garbuzov",
      "photoUrl": "",
      "userId": "08851466340381164023"
     },
     "user_tz": 300
    },
    "id": "tu6xTFv7TZbq",
    "outputId": "2aa76440-52ab-48cd-c208-11f8ff1303e1"
   },
   "outputs": [
    {
     "data": {
      "text/plain": [
       "\"i = 19 [type <class 'sympy.core.numbers.Integer'>]\""
      ]
     },
     "execution_count": 22,
     "metadata": {},
     "output_type": "execute_result"
    }
   ],
   "source": [
    "\"i = {} [type {}]\".format(i, type(i))"
   ]
  },
  {
   "cell_type": "code",
   "execution_count": 23,
   "metadata": {
    "colab": {
     "base_uri": "https://localhost:8080/"
    },
    "executionInfo": {
     "elapsed": 3504,
     "status": "ok",
     "timestamp": 1611071768460,
     "user": {
      "displayName": "Boris Garbuzov",
      "photoUrl": "",
      "userId": "08851466340381164023"
     },
     "user_tz": 300
    },
    "id": "nOsv_44HTZbq",
    "outputId": "f990fba8-df91-4b02-b586-787b4b4de53b"
   },
   "outputs": [
    {
     "data": {
      "text/plain": [
       "(True, True, True)"
      ]
     },
     "execution_count": 23,
     "metadata": {},
     "output_type": "execute_result"
    }
   ],
   "source": [
    "i.is_Integer, i.is_real, i.is_odd"
   ]
  },
  {
   "cell_type": "code",
   "execution_count": 24,
   "metadata": {
    "executionInfo": {
     "elapsed": 3502,
     "status": "ok",
     "timestamp": 1611071768461,
     "user": {
      "displayName": "Boris Garbuzov",
      "photoUrl": "",
      "userId": "08851466340381164023"
     },
     "user_tz": 300
    },
    "id": "WXmiST2LTZbq"
   },
   "outputs": [],
   "source": [
    "f = sympy.Float(2.3)"
   ]
  },
  {
   "cell_type": "code",
   "execution_count": 25,
   "metadata": {
    "colab": {
     "base_uri": "https://localhost:8080/",
     "height": 36
    },
    "executionInfo": {
     "elapsed": 3489,
     "status": "ok",
     "timestamp": 1611071768461,
     "user": {
      "displayName": "Boris Garbuzov",
      "photoUrl": "",
      "userId": "08851466340381164023"
     },
     "user_tz": 300
    },
    "id": "Esw0QTs_TZbq",
    "outputId": "50c4a38e-ed5e-4f83-ff1e-501740abea99"
   },
   "outputs": [
    {
     "data": {
      "text/plain": [
       "\"f = 2.30000000000000 [type <class 'sympy.core.numbers.Float'>]\""
      ]
     },
     "execution_count": 25,
     "metadata": {},
     "output_type": "execute_result"
    }
   ],
   "source": [
    "\"f = {} [type {}]\".format(f, type(f))"
   ]
  },
  {
   "cell_type": "code",
   "execution_count": 26,
   "metadata": {
    "colab": {
     "base_uri": "https://localhost:8080/"
    },
    "executionInfo": {
     "elapsed": 3482,
     "status": "ok",
     "timestamp": 1611071768462,
     "user": {
      "displayName": "Boris Garbuzov",
      "photoUrl": "",
      "userId": "08851466340381164023"
     },
     "user_tz": 300
    },
    "id": "ymvLZUguTZbq",
    "outputId": "a0151af3-b7b7-4cf7-fe83-d13e0114cfb3"
   },
   "outputs": [
    {
     "data": {
      "text/plain": [
       "(False, True, False)"
      ]
     },
     "execution_count": 26,
     "metadata": {},
     "output_type": "execute_result"
    }
   ],
   "source": [
    "f.is_Integer, f.is_real, f.is_odd"
   ]
  },
  {
   "cell_type": "code",
   "execution_count": 27,
   "metadata": {
    "executionInfo": {
     "elapsed": 3480,
     "status": "ok",
     "timestamp": 1611071768463,
     "user": {
      "displayName": "Boris Garbuzov",
      "photoUrl": "",
      "userId": "08851466340381164023"
     },
     "user_tz": 300
    },
    "id": "gYPPnqtRTZbq"
   },
   "outputs": [],
   "source": [
    "i, f = sympy.sympify(19), sympy.sympify(2.3)"
   ]
  },
  {
   "cell_type": "code",
   "execution_count": 28,
   "metadata": {
    "colab": {
     "base_uri": "https://localhost:8080/"
    },
    "executionInfo": {
     "elapsed": 3473,
     "status": "ok",
     "timestamp": 1611071768463,
     "user": {
      "displayName": "Boris Garbuzov",
      "photoUrl": "",
      "userId": "08851466340381164023"
     },
     "user_tz": 300
    },
    "id": "cMMQIqw_TZbq",
    "outputId": "14a3c665-7b7a-4b71-ed31-a8ce538ae153"
   },
   "outputs": [
    {
     "data": {
      "text/plain": [
       "sympy.core.numbers.Integer"
      ]
     },
     "execution_count": 28,
     "metadata": {},
     "output_type": "execute_result"
    }
   ],
   "source": [
    "type(i)"
   ]
  },
  {
   "cell_type": "code",
   "execution_count": 29,
   "metadata": {
    "colab": {
     "base_uri": "https://localhost:8080/"
    },
    "executionInfo": {
     "elapsed": 3458,
     "status": "ok",
     "timestamp": 1611071768463,
     "user": {
      "displayName": "Boris Garbuzov",
      "photoUrl": "",
      "userId": "08851466340381164023"
     },
     "user_tz": 300
    },
    "id": "FbJaj-gPTZbq",
    "outputId": "b641fb32-0bc6-4c12-b173-ebe0cfa40ee4"
   },
   "outputs": [
    {
     "data": {
      "text/plain": [
       "sympy.core.numbers.Float"
      ]
     },
     "execution_count": 29,
     "metadata": {},
     "output_type": "execute_result"
    }
   ],
   "source": [
    "type(f)"
   ]
  },
  {
   "cell_type": "code",
   "execution_count": 30,
   "metadata": {
    "executionInfo": {
     "elapsed": 3455,
     "status": "ok",
     "timestamp": 1611071768463,
     "user": {
      "displayName": "Boris Garbuzov",
      "photoUrl": "",
      "userId": "08851466340381164023"
     },
     "user_tz": 300
    },
    "id": "X-PNSpTXTZbr"
   },
   "outputs": [],
   "source": [
    "n = sympy.Symbol(\"n\", integer=True)"
   ]
  },
  {
   "cell_type": "code",
   "execution_count": 31,
   "metadata": {
    "colab": {
     "base_uri": "https://localhost:8080/"
    },
    "executionInfo": {
     "elapsed": 3448,
     "status": "ok",
     "timestamp": 1611071768465,
     "user": {
      "displayName": "Boris Garbuzov",
      "photoUrl": "",
      "userId": "08851466340381164023"
     },
     "user_tz": 300
    },
    "id": "8Gt1S8hvTZbr",
    "outputId": "2a2a172e-7a76-4615-93e6-3ab726e338d9"
   },
   "outputs": [
    {
     "data": {
      "text/plain": [
       "(True, False, None, True)"
      ]
     },
     "execution_count": 31,
     "metadata": {},
     "output_type": "execute_result"
    }
   ],
   "source": [
    "n.is_integer, n.is_Integer, n.is_positive, n.is_Symbol"
   ]
  },
  {
   "cell_type": "code",
   "execution_count": 32,
   "metadata": {
    "colab": {
     "base_uri": "https://localhost:8080/",
     "height": 37
    },
    "executionInfo": {
     "elapsed": 3435,
     "status": "ok",
     "timestamp": 1611071768465,
     "user": {
      "displayName": "Boris Garbuzov",
      "photoUrl": "",
      "userId": "08851466340381164023"
     },
     "user_tz": 300
    },
    "id": "dr7fsRPMTZbr",
    "outputId": "c80c9bc1-4f9b-4438-8571-11756248d464"
   },
   "outputs": [
    {
     "data": {
      "image/png": "[encoded data removed]",
      "text/latex": [
       "$$19$$"
      ],
      "text/plain": [
       "19"
      ]
     },
     "execution_count": 32,
     "metadata": {},
     "output_type": "execute_result"
    }
   ],
   "source": [
    "i = sympy.Integer(19)\n",
    "i"
   ]
  },
  {
   "cell_type": "code",
   "execution_count": 33,
   "metadata": {
    "colab": {
     "base_uri": "https://localhost:8080/"
    },
    "executionInfo": {
     "elapsed": 3424,
     "status": "ok",
     "timestamp": 1611071768465,
     "user": {
      "displayName": "Boris Garbuzov",
      "photoUrl": "",
      "userId": "08851466340381164023"
     },
     "user_tz": 300
    },
    "id": "DhQMXhQyTZbr",
    "outputId": "99ec10d2-30df-4f37-b4d9-880b1ec03a12"
   },
   "outputs": [
    {
     "data": {
      "text/plain": [
       "(True, True, True, False)"
      ]
     },
     "execution_count": 33,
     "metadata": {},
     "output_type": "execute_result"
    }
   ],
   "source": [
    "i.is_integer, i.is_Integer, i.is_positive, i.is_Symbol"
   ]
  },
  {
   "cell_type": "code",
   "execution_count": 34,
   "metadata": {
    "colab": {
     "base_uri": "https://localhost:8080/",
     "height": 37
    },
    "executionInfo": {
     "elapsed": 3408,
     "status": "ok",
     "timestamp": 1611071768465,
     "user": {
      "displayName": "Boris Garbuzov",
      "photoUrl": "",
      "userId": "08851466340381164023"
     },
     "user_tz": 300
    },
    "id": "Iuedp0DMTZbr",
    "outputId": "462e870d-6d51-4af6-bcd2-767696206369"
   },
   "outputs": [
    {
     "data": {
      "image/png": "[encoded data removed]",
      "text/latex": [
       "$$8663234049605954426644038200675212212900743262211018069459689001$$"
      ],
      "text/plain": [
       "8663234049605954426644038200675212212900743262211018069459689001"
      ]
     },
     "execution_count": 34,
     "metadata": {},
     "output_type": "execute_result"
    }
   ],
   "source": [
    "i ** 50"
   ]
  },
  {
   "cell_type": "code",
   "execution_count": 35,
   "metadata": {
    "colab": {
     "base_uri": "https://localhost:8080/",
     "height": 57
    },
    "executionInfo": {
     "elapsed": 3604,
     "status": "ok",
     "timestamp": 1611071768673,
     "user": {
      "displayName": "Boris Garbuzov",
      "photoUrl": "",
      "userId": "08851466340381164023"
     },
     "user_tz": 300
    },
    "id": "VT5Szt4vTZbr",
    "outputId": "40b3f845-9b66-43f2-eb41-08a97709485c"
   },
   "outputs": [
    {
     "data": {
      "image/png": "[encoded data removed]",
      "text/latex": [
       "$$93326215443944152681699238856266700490715968264381621468592963895217599993229915608941463976156518286253697920827223758251185210916864000000000000000000000000$$"
      ],
      "text/plain": [
       "933262154439441526816992388562667004907159682643816214685929638952175999932299\n",
       "156089414639761565182862536979208272237582511852109168640000000000000000000000\n",
       "00"
      ]
     },
     "execution_count": 35,
     "metadata": {},
     "output_type": "execute_result"
    }
   ],
   "source": [
    "sympy.factorial(100)"
   ]
  },
  {
   "cell_type": "code",
   "execution_count": 36,
   "metadata": {
    "colab": {
     "base_uri": "https://localhost:8080/",
     "height": 36
    },
    "executionInfo": {
     "elapsed": 3588,
     "status": "ok",
     "timestamp": 1611071768674,
     "user": {
      "displayName": "Boris Garbuzov",
      "photoUrl": "",
      "userId": "08851466340381164023"
     },
     "user_tz": 300
    },
    "id": "TASesouPTZbr",
    "outputId": "65313b60-a5e2-4d58-bb97-d77a966857b5"
   },
   "outputs": [
    {
     "data": {
      "text/plain": [
       "'0.2999999999999999888977698'"
      ]
     },
     "execution_count": 36,
     "metadata": {},
     "output_type": "execute_result"
    }
   ],
   "source": [
    "\"%.25f\" % 0.3  # create a string represention with 25 decimals"
   ]
  },
  {
   "cell_type": "code",
   "execution_count": 37,
   "metadata": {
    "colab": {
     "base_uri": "https://localhost:8080/",
     "height": 37
    },
    "executionInfo": {
     "elapsed": 3579,
     "status": "ok",
     "timestamp": 1611071768677,
     "user": {
      "displayName": "Boris Garbuzov",
      "photoUrl": "",
      "userId": "08851466340381164023"
     },
     "user_tz": 300
    },
    "id": "XYeIRdvVTZbr",
    "outputId": "d1388e31-6022-4403-dc8c-4ecc17e4e304"
   },
   "outputs": [
    {
     "data": {
      "image/png": "[encoded data removed]",
      "text/latex": [
       "$$0.2999999999999999888977698$$"
      ],
      "text/plain": [
       "0.2999999999999999888977698"
      ]
     },
     "execution_count": 37,
     "metadata": {},
     "output_type": "execute_result"
    }
   ],
   "source": [
    "sympy.Float(0.3, 25)"
   ]
  },
  {
   "cell_type": "code",
   "execution_count": 38,
   "metadata": {
    "colab": {
     "base_uri": "https://localhost:8080/",
     "height": 37
    },
    "executionInfo": {
     "elapsed": 3571,
     "status": "ok",
     "timestamp": 1611071768677,
     "user": {
      "displayName": "Boris Garbuzov",
      "photoUrl": "",
      "userId": "08851466340381164023"
     },
     "user_tz": 300
    },
    "id": "g9Bac0xdTZbr",
    "outputId": "0ba309f8-b542-47b2-bb72-1f7124f6076a"
   },
   "outputs": [
    {
     "data": {
      "image/png": "[encoded data removed]",
      "text/latex": [
       "$$0.3$$"
      ],
      "text/plain": [
       "0.3000000000000000000000000"
      ]
     },
     "execution_count": 38,
     "metadata": {},
     "output_type": "execute_result"
    }
   ],
   "source": [
    "sympy.Float('0.3', 25)"
   ]
  },
  {
   "cell_type": "code",
   "execution_count": 39,
   "metadata": {
    "colab": {
     "base_uri": "https://localhost:8080/",
     "height": 37
    },
    "executionInfo": {
     "elapsed": 3558,
     "status": "ok",
     "timestamp": 1611071768678,
     "user": {
      "displayName": "Boris Garbuzov",
      "photoUrl": "",
      "userId": "08851466340381164023"
     },
     "user_tz": 300
    },
    "id": "fJobaaAG-ANK",
    "outputId": "c19af9f0-b56e-4341-c5c2-1b32789ad9c6"
   },
   "outputs": [
    {
     "data": {
      "image/png": "[encoded data removed]",
      "text/latex": [
       "$$0.3$$"
      ],
      "text/plain": [
       "0.3000000000000000000000000"
      ]
     },
     "execution_count": 39,
     "metadata": {},
     "output_type": "execute_result"
    }
   ],
   "source": [
    "sympy.Float('3/10', 25)"
   ]
  },
  {
   "cell_type": "code",
   "execution_count": 40,
   "metadata": {
    "colab": {
     "base_uri": "https://localhost:8080/",
     "height": 37
    },
    "executionInfo": {
     "elapsed": 3545,
     "status": "ok",
     "timestamp": 1611071768678,
     "user": {
      "displayName": "Boris Garbuzov",
      "photoUrl": "",
      "userId": "08851466340381164023"
     },
     "user_tz": 300
    },
    "id": "s5njuVe5-G_L",
    "outputId": "7f54e96c-47e3-4b69-bc09-a225ebedd96f"
   },
   "outputs": [
    {
     "data": {
      "image/png": "[encoded data removed]",
      "text/latex": [
       "$$0.2999999999999999888977698$$"
      ],
      "text/plain": [
       "0.2999999999999999888977698"
      ]
     },
     "execution_count": 40,
     "metadata": {},
     "output_type": "execute_result"
    }
   ],
   "source": [
    "sympy.Float(3/10, 25)"
   ]
  },
  {
   "cell_type": "markdown",
   "metadata": {
    "id": "gLg_Wk04TZbs"
   },
   "source": [
    "### Rationals"
   ]
  },
  {
   "cell_type": "code",
   "execution_count": 41,
   "metadata": {
    "colab": {
     "base_uri": "https://localhost:8080/",
     "height": 38
    },
    "executionInfo": {
     "elapsed": 3539,
     "status": "ok",
     "timestamp": 1611071768679,
     "user": {
      "displayName": "Boris Garbuzov",
      "photoUrl": "",
      "userId": "08851466340381164023"
     },
     "user_tz": 300
    },
    "id": "F_JksZUfTZbs",
    "outputId": "7fb0cd49-44f3-4990-f076-18d74fb97604"
   },
   "outputs": [
    {
     "data": {
      "image/png": "[encoded data removed]",
      "text/latex": [
       "$$\\frac{11}{13}$$"
      ],
      "text/plain": [
       "11\n",
       "──\n",
       "13"
      ]
     },
     "execution_count": 41,
     "metadata": {},
     "output_type": "execute_result"
    }
   ],
   "source": [
    "sympy.Rational(11, 13)"
   ]
  },
  {
   "cell_type": "code",
   "execution_count": 42,
   "metadata": {
    "executionInfo": {
     "elapsed": 3537,
     "status": "ok",
     "timestamp": 1611071768680,
     "user": {
      "displayName": "Boris Garbuzov",
      "photoUrl": "",
      "userId": "08851466340381164023"
     },
     "user_tz": 300
    },
    "id": "shw18f3ETZbs"
   },
   "outputs": [],
   "source": [
    "r1 = sympy.Rational(2, 3)"
   ]
  },
  {
   "cell_type": "code",
   "execution_count": 43,
   "metadata": {
    "executionInfo": {
     "elapsed": 3536,
     "status": "ok",
     "timestamp": 1611071768681,
     "user": {
      "displayName": "Boris Garbuzov",
      "photoUrl": "",
      "userId": "08851466340381164023"
     },
     "user_tz": 300
    },
    "id": "FcT_69yqTZbs"
   },
   "outputs": [],
   "source": [
    "r2 = sympy.Rational(4, 5)"
   ]
  },
  {
   "cell_type": "code",
   "execution_count": 44,
   "metadata": {
    "colab": {
     "base_uri": "https://localhost:8080/",
     "height": 38
    },
    "executionInfo": {
     "elapsed": 3799,
     "status": "ok",
     "timestamp": 1611071768956,
     "user": {
      "displayName": "Boris Garbuzov",
      "photoUrl": "",
      "userId": "08851466340381164023"
     },
     "user_tz": 300
    },
    "id": "4opBxeBbTZbs",
    "outputId": "a522c716-928d-4036-8399-39cd43a165e2"
   },
   "outputs": [
    {
     "data": {
      "image/png": "[encoded data removed]",
      "text/latex": [
       "$$\\frac{8}{15}$$"
      ],
      "text/plain": [
       "8/15"
      ]
     },
     "execution_count": 44,
     "metadata": {},
     "output_type": "execute_result"
    }
   ],
   "source": [
    "r1 * r2"
   ]
  },
  {
   "cell_type": "code",
   "execution_count": 45,
   "metadata": {
    "colab": {
     "base_uri": "https://localhost:8080/",
     "height": 38
    },
    "executionInfo": {
     "elapsed": 3789,
     "status": "ok",
     "timestamp": 1611071768957,
     "user": {
      "displayName": "Boris Garbuzov",
      "photoUrl": "",
      "userId": "08851466340381164023"
     },
     "user_tz": 300
    },
    "id": "C6n2ZPtVTZbs",
    "outputId": "28b6f12b-b56c-4769-cb1e-faac987c4b75"
   },
   "outputs": [
    {
     "data": {
      "image/png": "[encoded data removed]",
      "text/latex": [
       "$$\\frac{5}{6}$$"
      ],
      "text/plain": [
       "5/6"
      ]
     },
     "execution_count": 45,
     "metadata": {},
     "output_type": "execute_result"
    }
   ],
   "source": [
    "r1 / r2"
   ]
  },
  {
   "cell_type": "markdown",
   "metadata": {
    "id": "87gEOL2QTZbs"
   },
   "source": [
    "### Functions"
   ]
  },
  {
   "cell_type": "code",
   "execution_count": 46,
   "metadata": {
    "executionInfo": {
     "elapsed": 3789,
     "status": "ok",
     "timestamp": 1611071768959,
     "user": {
      "displayName": "Boris Garbuzov",
      "photoUrl": "",
      "userId": "08851466340381164023"
     },
     "user_tz": 300
    },
    "id": "UtvaPEgsTZbs"
   },
   "outputs": [],
   "source": [
    "x, y, z = sympy.symbols(\"x, y, z\")"
   ]
  },
  {
   "cell_type": "code",
   "execution_count": 47,
   "metadata": {
    "executionInfo": {
     "elapsed": 3788,
     "status": "ok",
     "timestamp": 1611071768960,
     "user": {
      "displayName": "Boris Garbuzov",
      "photoUrl": "",
      "userId": "08851466340381164023"
     },
     "user_tz": 300
    },
    "id": "hQystmqdTZbs"
   },
   "outputs": [],
   "source": [
    "f = sympy.Function(\"f\")"
   ]
  },
  {
   "cell_type": "code",
   "execution_count": 48,
   "metadata": {
    "colab": {
     "base_uri": "https://localhost:8080/"
    },
    "executionInfo": {
     "elapsed": 3781,
     "status": "ok",
     "timestamp": 1611071768962,
     "user": {
      "displayName": "Boris Garbuzov",
      "photoUrl": "",
      "userId": "08851466340381164023"
     },
     "user_tz": 300
    },
    "id": "XT1JxFvVTZbs",
    "outputId": "07612772-b08f-46fc-e378-c6009ca7a145"
   },
   "outputs": [
    {
     "data": {
      "text/plain": [
       "sympy.core.function.UndefinedFunction"
      ]
     },
     "execution_count": 48,
     "metadata": {},
     "output_type": "execute_result"
    }
   ],
   "source": [
    "type(f)"
   ]
  },
  {
   "cell_type": "code",
   "execution_count": 49,
   "metadata": {
    "colab": {
     "base_uri": "https://localhost:8080/",
     "height": 39
    },
    "executionInfo": {
     "elapsed": 3766,
     "status": "ok",
     "timestamp": 1611071768963,
     "user": {
      "displayName": "Boris Garbuzov",
      "photoUrl": "",
      "userId": "08851466340381164023"
     },
     "user_tz": 300
    },
    "id": "V7Al1FouTZbs",
    "outputId": "0e639236-7d1e-47ad-f3c9-7a7fd13bf471"
   },
   "outputs": [
    {
     "data": {
      "image/png": "[encoded data removed]",
      "text/latex": [
       "$$f{\\left (x \\right )}$$"
      ],
      "text/plain": [
       "f(x)"
      ]
     },
     "execution_count": 49,
     "metadata": {},
     "output_type": "execute_result"
    }
   ],
   "source": [
    "f(x)"
   ]
  },
  {
   "cell_type": "code",
   "execution_count": 50,
   "metadata": {
    "colab": {
     "base_uri": "https://localhost:8080/"
    },
    "executionInfo": {
     "elapsed": 3750,
     "status": "ok",
     "timestamp": 1611071768963,
     "user": {
      "displayName": "Boris Garbuzov",
      "photoUrl": "",
      "userId": "08851466340381164023"
     },
     "user_tz": 300
    },
    "id": "GFe_FGNh_cyf",
    "outputId": "735a0f3d-a169-47c9-c611-43df57bbbb6a"
   },
   "outputs": [
    {
     "data": {
      "text/plain": [
       "f"
      ]
     },
     "execution_count": 50,
     "metadata": {},
     "output_type": "execute_result"
    }
   ],
   "source": [
    "type(f(x))"
   ]
  },
  {
   "cell_type": "code",
   "execution_count": 51,
   "metadata": {
    "colab": {
     "base_uri": "https://localhost:8080/"
    },
    "executionInfo": {
     "elapsed": 3752,
     "status": "ok",
     "timestamp": 1611071768972,
     "user": {
      "displayName": "Boris Garbuzov",
      "photoUrl": "",
      "userId": "08851466340381164023"
     },
     "user_tz": 300
    },
    "id": "O9_IZmCi_ren",
    "outputId": "357d8110-13a6-4362-b322-96213e5d3e1b"
   },
   "outputs": [
    {
     "data": {
      "text/plain": [
       "sympy.core.function.UndefinedFunction"
      ]
     },
     "execution_count": 51,
     "metadata": {},
     "output_type": "execute_result"
    }
   ],
   "source": [
    "type(f)"
   ]
  },
  {
   "cell_type": "code",
   "execution_count": 52,
   "metadata": {
    "executionInfo": {
     "elapsed": 3751,
     "status": "ok",
     "timestamp": 1611071768973,
     "user": {
      "displayName": "Boris Garbuzov",
      "photoUrl": "",
      "userId": "08851466340381164023"
     },
     "user_tz": 300
    },
    "id": "a50ze7amTZbs"
   },
   "outputs": [],
   "source": [
    "g = sympy.Function(\"g\")(x, y, z)"
   ]
  },
  {
   "cell_type": "code",
   "execution_count": 53,
   "metadata": {
    "colab": {
     "base_uri": "https://localhost:8080/",
     "height": 39
    },
    "executionInfo": {
     "elapsed": 3735,
     "status": "ok",
     "timestamp": 1611071768973,
     "user": {
      "displayName": "Boris Garbuzov",
      "photoUrl": "",
      "userId": "08851466340381164023"
     },
     "user_tz": 300
    },
    "id": "6S7m9A5ATZbs",
    "outputId": "42bce0aa-3220-4d38-8f37-3bd01a62a23e"
   },
   "outputs": [
    {
     "data": {
      "image/png": "[encoded data removed]",
      "text/latex": [
       "$$g{\\left (x,y,z \\right )}$$"
      ],
      "text/plain": [
       "g(x, y, z)"
      ]
     },
     "execution_count": 53,
     "metadata": {},
     "output_type": "execute_result"
    }
   ],
   "source": [
    "g"
   ]
  },
  {
   "cell_type": "code",
   "execution_count": 54,
   "metadata": {
    "executionInfo": {
     "elapsed": 3732,
     "status": "ok",
     "timestamp": 1611071768973,
     "user": {
      "displayName": "Boris Garbuzov",
      "photoUrl": "",
      "userId": "08851466340381164023"
     },
     "user_tz": 300
    },
    "id": "9wDjhd3X_4xu"
   },
   "outputs": [],
   "source": [
    "#dir(g)\n",
    "# g.invert()"
   ]
  },
  {
   "cell_type": "code",
   "execution_count": 55,
   "metadata": {
    "colab": {
     "base_uri": "https://localhost:8080/",
     "height": 39
    },
    "executionInfo": {
     "elapsed": 3724,
     "status": "ok",
     "timestamp": 1611071768974,
     "user": {
      "displayName": "Boris Garbuzov",
      "photoUrl": "",
      "userId": "08851466340381164023"
     },
     "user_tz": 300
    },
    "id": "_njKFpQETZbs",
    "outputId": "be6ecedc-d38e-4363-d523-1a07780d8825"
   },
   "outputs": [
    {
     "data": {
      "image/png": "[encoded data removed]",
      "text/latex": [
       "$$\\left\\{x, y, z\\right\\}$$"
      ],
      "text/plain": [
       "{x, y, z}"
      ]
     },
     "execution_count": 55,
     "metadata": {},
     "output_type": "execute_result"
    }
   ],
   "source": [
    "g.free_symbols"
   ]
  },
  {
   "cell_type": "code",
   "execution_count": 56,
   "metadata": {
    "colab": {
     "base_uri": "https://localhost:8080/"
    },
    "executionInfo": {
     "elapsed": 3717,
     "status": "ok",
     "timestamp": 1611071768974,
     "user": {
      "displayName": "Boris Garbuzov",
      "photoUrl": "",
      "userId": "08851466340381164023"
     },
     "user_tz": 300
    },
    "id": "g4r7MKe0TZbt",
    "outputId": "435e3385-f842-43fd-e0cd-a66153bb1961"
   },
   "outputs": [
    {
     "data": {
      "text/plain": [
       "sin"
      ]
     },
     "execution_count": 56,
     "metadata": {},
     "output_type": "execute_result"
    }
   ],
   "source": [
    "mySin = sympy.sin\n",
    "mySin"
   ]
  },
  {
   "cell_type": "code",
   "execution_count": 57,
   "metadata": {
    "colab": {
     "base_uri": "https://localhost:8080/"
    },
    "executionInfo": {
     "elapsed": 3710,
     "status": "ok",
     "timestamp": 1611071768974,
     "user": {
      "displayName": "Boris Garbuzov",
      "photoUrl": "",
      "userId": "08851466340381164023"
     },
     "user_tz": 300
    },
    "id": "OECtfjWKBACk",
    "outputId": "159c8002-a685-4bfc-83c9-5ddcbfd481ea"
   },
   "outputs": [
    {
     "data": {
      "text/plain": [
       "<function sympy.core.expr.Expr.invert(self, g, *gens, **args)>"
      ]
     },
     "execution_count": 57,
     "metadata": {},
     "output_type": "execute_result"
    }
   ],
   "source": [
    "mySin.invert"
   ]
  },
  {
   "cell_type": "code",
   "execution_count": 58,
   "metadata": {
    "colab": {
     "base_uri": "https://localhost:8080/",
     "height": 39
    },
    "executionInfo": {
     "elapsed": 4050,
     "status": "ok",
     "timestamp": 1611071769325,
     "user": {
      "displayName": "Boris Garbuzov",
      "photoUrl": "",
      "userId": "08851466340381164023"
     },
     "user_tz": 300
    },
    "id": "UMSW85FCTZbt",
    "outputId": "85754c02-5276-46bd-fe75-56a3d044e587"
   },
   "outputs": [
    {
     "data": {
      "image/png": "[encoded data removed]",
      "text/latex": [
       "$$\\sin{\\left (x \\right )}$$"
      ],
      "text/plain": [
       "sin(x)"
      ]
     },
     "execution_count": 58,
     "metadata": {},
     "output_type": "execute_result"
    }
   ],
   "source": [
    "sympy.sin(x)"
   ]
  },
  {
   "cell_type": "code",
   "execution_count": 59,
   "metadata": {
    "colab": {
     "base_uri": "https://localhost:8080/",
     "height": 37
    },
    "executionInfo": {
     "elapsed": 4039,
     "status": "ok",
     "timestamp": 1611071769325,
     "user": {
      "displayName": "Boris Garbuzov",
      "photoUrl": "",
      "userId": "08851466340381164023"
     },
     "user_tz": 300
    },
    "id": "XJ1RhN7RTZbt",
    "outputId": "517ede9b-5fa9-40ce-93c3-b26f4ff7c201"
   },
   "outputs": [
    {
     "data": {
      "image/png": "[encoded data removed]",
      "text/latex": [
       "$$-1$$"
      ],
      "text/plain": [
       "-1"
      ]
     },
     "execution_count": 59,
     "metadata": {},
     "output_type": "execute_result"
    }
   ],
   "source": [
    "sympy.sin(pi * 1.5)"
   ]
  },
  {
   "cell_type": "code",
   "execution_count": 60,
   "metadata": {
    "executionInfo": {
     "elapsed": 4037,
     "status": "ok",
     "timestamp": 1611071769328,
     "user": {
      "displayName": "Boris Garbuzov",
      "photoUrl": "",
      "userId": "08851466340381164023"
     },
     "user_tz": 300
    },
    "id": "XebuRPaTTZbt"
   },
   "outputs": [],
   "source": [
    "n = sympy.Symbol(\"n\", integer=True)"
   ]
  },
  {
   "cell_type": "code",
   "execution_count": 61,
   "metadata": {
    "colab": {
     "base_uri": "https://localhost:8080/",
     "height": 37
    },
    "executionInfo": {
     "elapsed": 4029,
     "status": "ok",
     "timestamp": 1611071769329,
     "user": {
      "displayName": "Boris Garbuzov",
      "photoUrl": "",
      "userId": "08851466340381164023"
     },
     "user_tz": 300
    },
    "id": "TUjNdyV7TZbt",
    "outputId": "31c699f3-1f57-4e6e-c722-4c27dfe186d4"
   },
   "outputs": [
    {
     "data": {
      "image/png": "[encoded data removed]",
      "text/latex": [
       "$$0$$"
      ],
      "text/plain": [
       "0"
      ]
     },
     "execution_count": 61,
     "metadata": {},
     "output_type": "execute_result"
    }
   ],
   "source": [
    "sympy.sin(pi * n)"
   ]
  },
  {
   "cell_type": "code",
   "execution_count": 62,
   "metadata": {
    "executionInfo": {
     "elapsed": 4028,
     "status": "ok",
     "timestamp": 1611071769329,
     "user": {
      "displayName": "Boris Garbuzov",
      "photoUrl": "",
      "userId": "08851466340381164023"
     },
     "user_tz": 300
    },
    "id": "Ym3jC52STZbt"
   },
   "outputs": [],
   "source": [
    "h = sympy.Lambda(x, x**2)"
   ]
  },
  {
   "cell_type": "code",
   "execution_count": 63,
   "metadata": {
    "colab": {
     "base_uri": "https://localhost:8080/",
     "height": 39
    },
    "executionInfo": {
     "elapsed": 4016,
     "status": "ok",
     "timestamp": 1611071769330,
     "user": {
      "displayName": "Boris Garbuzov",
      "photoUrl": "",
      "userId": "08851466340381164023"
     },
     "user_tz": 300
    },
    "id": "aGLtgo62TZbt",
    "outputId": "a8e1cab0-9289-4e67-9e14-72c1c2e65a9f"
   },
   "outputs": [
    {
     "data": {
      "image/png": "[encoded data removed]",
      "text/latex": [
       "$$\\left( x \\mapsto x^{2} \\right)$$"
      ],
      "text/plain": [
       "     2\n",
       "x ↦ x "
      ]
     },
     "execution_count": 63,
     "metadata": {},
     "output_type": "execute_result"
    }
   ],
   "source": [
    "h"
   ]
  },
  {
   "cell_type": "code",
   "execution_count": 64,
   "metadata": {
    "colab": {
     "base_uri": "https://localhost:8080/",
     "height": 37
    },
    "executionInfo": {
     "elapsed": 4009,
     "status": "ok",
     "timestamp": 1611071769331,
     "user": {
      "displayName": "Boris Garbuzov",
      "photoUrl": "",
      "userId": "08851466340381164023"
     },
     "user_tz": 300
    },
    "id": "rtdOVKKQTZbt",
    "outputId": "cbde2b76-8dbc-4bdf-f52d-cba6763c3225"
   },
   "outputs": [
    {
     "data": {
      "image/png": "[encoded data removed]",
      "text/latex": [
       "$$25$$"
      ],
      "text/plain": [
       "25"
      ]
     },
     "execution_count": 64,
     "metadata": {},
     "output_type": "execute_result"
    }
   ],
   "source": [
    "h(5)"
   ]
  },
  {
   "cell_type": "code",
   "execution_count": 65,
   "metadata": {
    "colab": {
     "base_uri": "https://localhost:8080/",
     "height": 39
    },
    "executionInfo": {
     "elapsed": 4000,
     "status": "ok",
     "timestamp": 1611071769332,
     "user": {
      "displayName": "Boris Garbuzov",
      "photoUrl": "",
      "userId": "08851466340381164023"
     },
     "user_tz": 300
    },
    "id": "PR4udKyJTZbt",
    "outputId": "bd4df339-72bf-4f65-c965-653bf8f2e600"
   },
   "outputs": [
    {
     "data": {
      "image/png": "[encoded data removed]",
      "text/latex": [
       "$$\\left(x + 1\\right)^{2}$$"
      ],
      "text/plain": [
       "       2\n",
       "(x + 1) "
      ]
     },
     "execution_count": 65,
     "metadata": {},
     "output_type": "execute_result"
    }
   ],
   "source": [
    "h(1+x)"
   ]
  },
  {
   "cell_type": "code",
   "execution_count": 66,
   "metadata": {
    "colab": {
     "base_uri": "https://localhost:8080/",
     "height": 39
    },
    "executionInfo": {
     "elapsed": 285,
     "status": "ok",
     "timestamp": 1611072378485,
     "user": {
      "displayName": "Boris Garbuzov",
      "photoUrl": "",
      "userId": "08851466340381164023"
     },
     "user_tz": 300
    },
    "id": "uTKUTihsZX0p",
    "outputId": "b3d10d6e-b703-4976-c795-cb484166c0ae"
   },
   "outputs": [
    {
     "data": {
      "image/png": "[encoded data removed]",
      "text/latex": [
       "$$1$$"
      ],
      "text/plain": [
       "1"
      ]
     },
     "execution_count": 66,
     "metadata": {},
     "output_type": "execute_result"
    }
   ],
   "source": [
    "h(1)"
   ]
  },
  {
   "cell_type": "code",
   "execution_count": 67,
   "metadata": {
    "colab": {
     "base_uri": "https://localhost:8080/"
    },
    "executionInfo": {
     "elapsed": 3986,
     "status": "ok",
     "timestamp": 1611071769332,
     "user": {
      "displayName": "Boris Garbuzov",
      "photoUrl": "",
      "userId": "08851466340381164023"
     },
     "user_tz": 300
    },
    "id": "pCnlRXkbBeN1",
    "outputId": "36de606e-ee3a-492d-c2a2-98cfd6de2baf"
   },
   "outputs": [
    {
     "data": {
      "text/plain": [
       "<bound method Expr.invert of Lambda(x, x**2)>"
      ]
     },
     "execution_count": 67,
     "metadata": {},
     "output_type": "execute_result"
    }
   ],
   "source": [
    "h.invert"
   ]
  },
  {
   "cell_type": "markdown",
   "metadata": {
    "id": "h9pGk3l9TZbt"
   },
   "source": [
    "### Expressions"
   ]
  },
  {
   "cell_type": "code",
   "execution_count": 68,
   "metadata": {
    "executionInfo": {
     "elapsed": 3985,
     "status": "ok",
     "timestamp": 1611071769332,
     "user": {
      "displayName": "Boris Garbuzov",
      "photoUrl": "",
      "userId": "08851466340381164023"
     },
     "user_tz": 300
    },
    "id": "6fdEH6jWTZbt"
   },
   "outputs": [],
   "source": [
    "x = sympy.Symbol(\"x\")"
   ]
  },
  {
   "cell_type": "code",
   "execution_count": 69,
   "metadata": {
    "executionInfo": {
     "elapsed": 3986,
     "status": "ok",
     "timestamp": 1611071769334,
     "user": {
      "displayName": "Boris Garbuzov",
      "photoUrl": "",
      "userId": "08851466340381164023"
     },
     "user_tz": 300
    },
    "id": "XjI3YwG0TZbt"
   },
   "outputs": [],
   "source": [
    "e = 1 + 4 * x**2 + 5 * x**3"
   ]
  },
  {
   "cell_type": "code",
   "execution_count": 70,
   "metadata": {
    "colab": {
     "base_uri": "https://localhost:8080/",
     "height": 39
    },
    "executionInfo": {
     "elapsed": 3973,
     "status": "ok",
     "timestamp": 1611071769334,
     "user": {
      "displayName": "Boris Garbuzov",
      "photoUrl": "",
      "userId": "08851466340381164023"
     },
     "user_tz": 300
    },
    "id": "QV1VqnpBTZbt",
    "outputId": "c1db5684-aa69-407e-becf-35769c2c2bca"
   },
   "outputs": [
    {
     "data": {
      "image/png": "[encoded data removed]",
      "text/latex": [
       "$$5 x^{3} + 4 x^{2} + 1$$"
      ],
      "text/plain": [
       "   3      2    \n",
       "5⋅x  + 4⋅x  + 1"
      ]
     },
     "execution_count": 70,
     "metadata": {},
     "output_type": "execute_result"
    }
   ],
   "source": [
    "e"
   ]
  },
  {
   "cell_type": "code",
   "execution_count": 71,
   "metadata": {
    "colab": {
     "base_uri": "https://localhost:8080/",
     "height": 39
    },
    "executionInfo": {
     "elapsed": 3963,
     "status": "ok",
     "timestamp": 1611071769334,
     "user": {
      "displayName": "Boris Garbuzov",
      "photoUrl": "",
      "userId": "08851466340381164023"
     },
     "user_tz": 300
    },
    "id": "Ov16sDH9TZbu",
    "outputId": "bd1b9afc-0205-4b78-cc5c-d4cfa280db51"
   },
   "outputs": [
    {
     "data": {
      "image/png": "[encoded data removed]",
      "text/latex": [
       "$$\\left ( 1, \\quad 4 x^{2}, \\quad 5 x^{3}\\right )$$"
      ],
      "text/plain": [
       "⎛      2     3⎞\n",
       "⎝1, 4⋅x , 5⋅x ⎠"
      ]
     },
     "execution_count": 71,
     "metadata": {},
     "output_type": "execute_result"
    }
   ],
   "source": [
    "e.args"
   ]
  },
  {
   "cell_type": "code",
   "execution_count": 72,
   "metadata": {
    "colab": {
     "base_uri": "https://localhost:8080/",
     "height": 39
    },
    "executionInfo": {
     "elapsed": 3955,
     "status": "ok",
     "timestamp": 1611071769335,
     "user": {
      "displayName": "Boris Garbuzov",
      "photoUrl": "",
      "userId": "08851466340381164023"
     },
     "user_tz": 300
    },
    "id": "zhIaCsYpTZbu",
    "outputId": "41f63255-39e6-4638-d935-48d4d4cc4e44"
   },
   "outputs": [
    {
     "data": {
      "image/png": "[encoded data removed]",
      "text/latex": [
       "$$4 x^{2}$$"
      ],
      "text/plain": [
       "   2\n",
       "4⋅x "
      ]
     },
     "execution_count": 72,
     "metadata": {},
     "output_type": "execute_result"
    }
   ],
   "source": [
    "e.args[1]"
   ]
  },
  {
   "cell_type": "code",
   "execution_count": 73,
   "metadata": {
    "colab": {
     "base_uri": "https://localhost:8080/",
     "height": 39
    },
    "executionInfo": {
     "elapsed": 3948,
     "status": "ok",
     "timestamp": 1611071769335,
     "user": {
      "displayName": "Boris Garbuzov",
      "photoUrl": "",
      "userId": "08851466340381164023"
     },
     "user_tz": 300
    },
    "id": "OnhUfhh4TZbu",
    "outputId": "c8d2da75-1a33-488b-9feb-c38d4eed29f0"
   },
   "outputs": [
    {
     "data": {
      "image/png": "[encoded data removed]",
      "text/latex": [
       "$$x^{2}$$"
      ],
      "text/plain": [
       " 2\n",
       "x "
      ]
     },
     "execution_count": 73,
     "metadata": {},
     "output_type": "execute_result"
    }
   ],
   "source": [
    "e.args[1].args[1]"
   ]
  },
  {
   "cell_type": "code",
   "execution_count": 74,
   "metadata": {
    "colab": {
     "base_uri": "https://localhost:8080/",
     "height": 37
    },
    "executionInfo": {
     "elapsed": 3938,
     "status": "ok",
     "timestamp": 1611071769336,
     "user": {
      "displayName": "Boris Garbuzov",
      "photoUrl": "",
      "userId": "08851466340381164023"
     },
     "user_tz": 300
    },
    "id": "JsbLGuRjCfz8",
    "outputId": "3b69d93a-5ac9-4ef5-d4e7-cfb9da70b30c"
   },
   "outputs": [
    {
     "data": {
      "image/png": "[encoded data removed]",
      "text/latex": [
       "$$4$$"
      ],
      "text/plain": [
       "4"
      ]
     },
     "execution_count": 74,
     "metadata": {},
     "output_type": "execute_result"
    }
   ],
   "source": [
    "e.args[1].args[0]"
   ]
  },
  {
   "cell_type": "code",
   "execution_count": 75,
   "metadata": {
    "executionInfo": {
     "elapsed": 4208,
     "status": "ok",
     "timestamp": 1611071769608,
     "user": {
      "displayName": "Boris Garbuzov",
      "photoUrl": "",
      "userId": "08851466340381164023"
     },
     "user_tz": 300
    },
    "id": "A4RthoW4CrWm"
   },
   "outputs": [],
   "source": [
    "# e.args[1].args[2]\n",
    "# tuple index out of range"
   ]
  },
  {
   "cell_type": "code",
   "execution_count": 76,
   "metadata": {
    "colab": {
     "base_uri": "https://localhost:8080/",
     "height": 39
    },
    "executionInfo": {
     "elapsed": 4203,
     "status": "ok",
     "timestamp": 1611071769610,
     "user": {
      "displayName": "Boris Garbuzov",
      "photoUrl": "",
      "userId": "08851466340381164023"
     },
     "user_tz": 300
    },
    "id": "AqVjEFYpTZbu",
    "outputId": "90913a04-27f4-49d1-f8c7-a20da526a9ea"
   },
   "outputs": [
    {
     "data": {
      "image/png": "[encoded data removed]",
      "text/latex": [
       "$$x$$"
      ],
      "text/plain": [
       "x"
      ]
     },
     "execution_count": 76,
     "metadata": {},
     "output_type": "execute_result"
    }
   ],
   "source": [
    "e.args[1].args[1].args[0]"
   ]
  },
  {
   "cell_type": "code",
   "execution_count": 77,
   "metadata": {
    "colab": {
     "base_uri": "https://localhost:8080/",
     "height": 37
    },
    "executionInfo": {
     "elapsed": 4193,
     "status": "ok",
     "timestamp": 1611071769610,
     "user": {
      "displayName": "Boris Garbuzov",
      "photoUrl": "",
      "userId": "08851466340381164023"
     },
     "user_tz": 300
    },
    "id": "87rFLpFlTZbu",
    "outputId": "91c990e3-a722-426e-b027-12d1fd362a3e"
   },
   "outputs": [
    {
     "data": {
      "image/png": "[encoded data removed]",
      "text/latex": [
       "$$\\left ( \\right )$$"
      ],
      "text/plain": [
       "()"
      ]
     },
     "execution_count": 77,
     "metadata": {},
     "output_type": "execute_result"
    }
   ],
   "source": [
    "e.args[1].args[1].args[0].args"
   ]
  },
  {
   "cell_type": "markdown",
   "metadata": {
    "id": "lBOhwCanTZbu"
   },
   "source": [
    "## Simplification"
   ]
  },
  {
   "cell_type": "code",
   "execution_count": 78,
   "metadata": {
    "executionInfo": {
     "elapsed": 4193,
     "status": "ok",
     "timestamp": 1611071769611,
     "user": {
      "displayName": "Boris Garbuzov",
      "photoUrl": "",
      "userId": "08851466340381164023"
     },
     "user_tz": 300
    },
    "id": "AHi70jfvTZbu"
   },
   "outputs": [],
   "source": [
    "expr = 2 * (x**2 - x) - x * (x + 1)"
   ]
  },
  {
   "cell_type": "code",
   "execution_count": 79,
   "metadata": {
    "colab": {
     "base_uri": "https://localhost:8080/",
     "height": 39
    },
    "executionInfo": {
     "elapsed": 4185,
     "status": "ok",
     "timestamp": 1611071769611,
     "user": {
      "displayName": "Boris Garbuzov",
      "photoUrl": "",
      "userId": "08851466340381164023"
     },
     "user_tz": 300
    },
    "id": "_DEGlxgqTZbu",
    "outputId": "a8986aee-87db-466b-eab2-fdceff8cd14d"
   },
   "outputs": [
    {
     "data": {
      "image/png": "[encoded data removed]",
      "text/latex": [
       "$$2 x^{2} - x \\left(x + 1\\right) - 2 x$$"
      ],
      "text/plain": [
       "   2                  \n",
       "2⋅x  - x⋅(x + 1) - 2⋅x"
      ]
     },
     "execution_count": 79,
     "metadata": {},
     "output_type": "execute_result"
    }
   ],
   "source": [
    "expr"
   ]
  },
  {
   "cell_type": "code",
   "execution_count": 80,
   "metadata": {
    "colab": {
     "base_uri": "https://localhost:8080/",
     "height": 39
    },
    "executionInfo": {
     "elapsed": 4174,
     "status": "ok",
     "timestamp": 1611071769612,
     "user": {
      "displayName": "Boris Garbuzov",
      "photoUrl": "",
      "userId": "08851466340381164023"
     },
     "user_tz": 300
    },
    "id": "lzMMOgncTZbu",
    "outputId": "c7928327-a2f5-4ed7-ae8b-592245137970"
   },
   "outputs": [
    {
     "data": {
      "image/png": "[encoded data removed]",
      "text/latex": [
       "$$x \\left(x - 3\\right)$$"
      ],
      "text/plain": [
       "x⋅(x - 3)"
      ]
     },
     "execution_count": 80,
     "metadata": {},
     "output_type": "execute_result"
    }
   ],
   "source": [
    "sympy.simplify(expr)"
   ]
  },
  {
   "cell_type": "code",
   "execution_count": 81,
   "metadata": {
    "colab": {
     "base_uri": "https://localhost:8080/",
     "height": 58
    },
    "executionInfo": {
     "elapsed": 286,
     "status": "ok",
     "timestamp": 1611072490737,
     "user": {
      "displayName": "Boris Garbuzov",
      "photoUrl": "",
      "userId": "08851466340381164023"
     },
     "user_tz": 300
    },
    "id": "qknhNX9XZx5C",
    "outputId": "8d8f1756-d70c-4421-897e-923a0ade7b56"
   },
   "outputs": [
    {
     "data": {
      "image/png": "[encoded data removed]",
      "text/latex": [
       "$$0$$"
      ],
      "text/plain": [
       "0"
      ]
     },
     "execution_count": 81,
     "metadata": {},
     "output_type": "execute_result"
    }
   ],
   "source": [
    "sympy.simplify(x - x)"
   ]
  },
  {
   "cell_type": "code",
   "execution_count": 82,
   "metadata": {
    "colab": {
     "base_uri": "https://localhost:8080/",
     "height": 37
    },
    "executionInfo": {
     "elapsed": 293,
     "status": "ok",
     "timestamp": 1611072567862,
     "user": {
      "displayName": "Boris Garbuzov",
      "photoUrl": "",
      "userId": "08851466340381164023"
     },
     "user_tz": 300
    },
    "id": "PRNhKIz8aClH",
    "outputId": "d90f9f65-4d8f-4c66-9c3c-88587d35d039"
   },
   "outputs": [
    {
     "data": {
      "image/png": "[encoded data removed]",
      "text/latex": [
       "$$0$$"
      ],
      "text/plain": [
       "0"
      ]
     },
     "execution_count": 82,
     "metadata": {},
     "output_type": "execute_result"
    }
   ],
   "source": [
    "sympy.simplify(1 - 1)"
   ]
  },
  {
   "cell_type": "code",
   "execution_count": 83,
   "metadata": {
    "colab": {
     "base_uri": "https://localhost:8080/",
     "height": 39
    },
    "executionInfo": {
     "elapsed": 4161,
     "status": "ok",
     "timestamp": 1611071769612,
     "user": {
      "displayName": "Boris Garbuzov",
      "photoUrl": "",
      "userId": "08851466340381164023"
     },
     "user_tz": 300
    },
    "id": "LUbQhbP4TZbu",
    "outputId": "820e2f53-7c1d-4759-b084-4303f0df7264"
   },
   "outputs": [
    {
     "data": {
      "image/png": "[encoded data removed]",
      "text/latex": [
       "$$x \\left(x - 3\\right)$$"
      ],
      "text/plain": [
       "x⋅(x - 3)"
      ]
     },
     "execution_count": 83,
     "metadata": {},
     "output_type": "execute_result"
    }
   ],
   "source": [
    "expr.simplify()"
   ]
  },
  {
   "cell_type": "code",
   "execution_count": 84,
   "metadata": {
    "colab": {
     "base_uri": "https://localhost:8080/",
     "height": 39
    },
    "executionInfo": {
     "elapsed": 4152,
     "status": "ok",
     "timestamp": 1611071769612,
     "user": {
      "displayName": "Boris Garbuzov",
      "photoUrl": "",
      "userId": "08851466340381164023"
     },
     "user_tz": 300
    },
    "id": "H3prsP-3TZbu",
    "outputId": "f005590d-5ae7-4062-8990-441951725c98"
   },
   "outputs": [
    {
     "data": {
      "image/png": "[encoded data removed]",
      "text/latex": [
       "$$2 x^{2} - x \\left(x + 1\\right) - 2 x$$"
      ],
      "text/plain": [
       "   2                  \n",
       "2⋅x  - x⋅(x + 1) - 2⋅x"
      ]
     },
     "execution_count": 84,
     "metadata": {},
     "output_type": "execute_result"
    }
   ],
   "source": [
    "expr"
   ]
  },
  {
   "cell_type": "code",
   "execution_count": 85,
   "metadata": {
    "executionInfo": {
     "elapsed": 4150,
     "status": "ok",
     "timestamp": 1611071769612,
     "user": {
      "displayName": "Boris Garbuzov",
      "photoUrl": "",
      "userId": "08851466340381164023"
     },
     "user_tz": 300
    },
    "id": "kZpTO4NbTZbv"
   },
   "outputs": [],
   "source": [
    "expr = 2 * sympy.cos(x) * sympy.sin(x)"
   ]
  },
  {
   "cell_type": "code",
   "execution_count": 86,
   "metadata": {
    "colab": {
     "base_uri": "https://localhost:8080/",
     "height": 39
    },
    "executionInfo": {
     "elapsed": 4143,
     "status": "ok",
     "timestamp": 1611071769613,
     "user": {
      "displayName": "Boris Garbuzov",
      "photoUrl": "",
      "userId": "08851466340381164023"
     },
     "user_tz": 300
    },
    "id": "Zxh59RnSTZbv",
    "outputId": "86f3834a-9b8e-4b53-8d4b-a2a7dcb3bec4"
   },
   "outputs": [
    {
     "data": {
      "image/png": "[encoded data removed]",
      "text/latex": [
       "$$2 \\sin{\\left (x \\right )} \\cos{\\left (x \\right )}$$"
      ],
      "text/plain": [
       "2⋅sin(x)⋅cos(x)"
      ]
     },
     "execution_count": 86,
     "metadata": {},
     "output_type": "execute_result"
    }
   ],
   "source": [
    "expr"
   ]
  },
  {
   "cell_type": "code",
   "execution_count": 87,
   "metadata": {
    "colab": {
     "base_uri": "https://localhost:8080/",
     "height": 39
    },
    "executionInfo": {
     "elapsed": 4128,
     "status": "ok",
     "timestamp": 1611071769613,
     "user": {
      "displayName": "Boris Garbuzov",
      "photoUrl": "",
      "userId": "08851466340381164023"
     },
     "user_tz": 300
    },
    "id": "mmKxIECBTZbv",
    "outputId": "ab1f13cc-5913-4c7d-becc-0ea5f880a7e5"
   },
   "outputs": [
    {
     "data": {
      "image/png": "[encoded data removed]",
      "text/latex": [
       "$$\\sin{\\left (2 x \\right )}$$"
      ],
      "text/plain": [
       "sin(2⋅x)"
      ]
     },
     "execution_count": 87,
     "metadata": {},
     "output_type": "execute_result"
    }
   ],
   "source": [
    "sympy.trigsimp(expr)"
   ]
  },
  {
   "cell_type": "code",
   "execution_count": 88,
   "metadata": {
    "executionInfo": {
     "elapsed": 4126,
     "status": "ok",
     "timestamp": 1611071769613,
     "user": {
      "displayName": "Boris Garbuzov",
      "photoUrl": "",
      "userId": "08851466340381164023"
     },
     "user_tz": 300
    },
    "id": "KVhuzn7TTZbv"
   },
   "outputs": [],
   "source": [
    "expr = sympy.exp(x) * sympy.exp(y)"
   ]
  },
  {
   "cell_type": "code",
   "execution_count": 89,
   "metadata": {
    "colab": {
     "base_uri": "https://localhost:8080/",
     "height": 39
    },
    "executionInfo": {
     "elapsed": 4116,
     "status": "ok",
     "timestamp": 1611071769613,
     "user": {
      "displayName": "Boris Garbuzov",
      "photoUrl": "",
      "userId": "08851466340381164023"
     },
     "user_tz": 300
    },
    "id": "Nw647LcbTZbv",
    "outputId": "74aa9ac5-f212-474b-d3b6-7f6686932e70"
   },
   "outputs": [
    {
     "data": {
      "image/png": "[encoded data removed]",
      "text/latex": [
       "$$e^{x} e^{y}$$"
      ],
      "text/plain": [
       " x  y\n",
       "ℯ ⋅ℯ "
      ]
     },
     "execution_count": 89,
     "metadata": {},
     "output_type": "execute_result"
    }
   ],
   "source": [
    "expr"
   ]
  },
  {
   "cell_type": "code",
   "execution_count": 90,
   "metadata": {
    "colab": {
     "base_uri": "https://localhost:8080/",
     "height": 39
    },
    "executionInfo": {
     "elapsed": 4109,
     "status": "ok",
     "timestamp": 1611071769614,
     "user": {
      "displayName": "Boris Garbuzov",
      "photoUrl": "",
      "userId": "08851466340381164023"
     },
     "user_tz": 300
    },
    "id": "sW11tQ6dTZbv",
    "outputId": "06dedfa5-d1c3-47e4-962e-d138e8c4dbc4"
   },
   "outputs": [
    {
     "data": {
      "image/png": "[encoded data removed]",
      "text/latex": [
       "$$e^{x + y}$$"
      ],
      "text/plain": [
       " x + y\n",
       "ℯ     "
      ]
     },
     "execution_count": 90,
     "metadata": {},
     "output_type": "execute_result"
    }
   ],
   "source": [
    "sympy.powsimp(expr)"
   ]
  },
  {
   "cell_type": "markdown",
   "metadata": {
    "id": "cwdG2M4gTZbv"
   },
   "source": [
    "## Expand"
   ]
  },
  {
   "cell_type": "code",
   "execution_count": 91,
   "metadata": {
    "executionInfo": {
     "elapsed": 4701,
     "status": "ok",
     "timestamp": 1611071770207,
     "user": {
      "displayName": "Boris Garbuzov",
      "photoUrl": "",
      "userId": "08851466340381164023"
     },
     "user_tz": 300
    },
    "id": "KSSqcXs9TZbv"
   },
   "outputs": [],
   "source": [
    "expr = (x + 1) * (x + 2)"
   ]
  },
  {
   "cell_type": "code",
   "execution_count": 92,
   "metadata": {
    "colab": {
     "base_uri": "https://localhost:8080/",
     "height": 39
    },
    "executionInfo": {
     "elapsed": 4687,
     "status": "ok",
     "timestamp": 1611071770208,
     "user": {
      "displayName": "Boris Garbuzov",
      "photoUrl": "",
      "userId": "08851466340381164023"
     },
     "user_tz": 300
    },
    "id": "QnDtMq9tTZbv",
    "outputId": "124cf419-5ecc-4227-c113-c0dec52c9215"
   },
   "outputs": [
    {
     "data": {
      "image/png": "[encoded data removed]",
      "text/latex": [
       "$$x^{2} + 3 x + 2$$"
      ],
      "text/plain": [
       " 2          \n",
       "x  + 3⋅x + 2"
      ]
     },
     "execution_count": 92,
     "metadata": {},
     "output_type": "execute_result"
    }
   ],
   "source": [
    "sympy.expand(expr)"
   ]
  },
  {
   "cell_type": "code",
   "execution_count": 93,
   "metadata": {
    "colab": {
     "base_uri": "https://localhost:8080/",
     "height": 39
    },
    "executionInfo": {
     "elapsed": 4679,
     "status": "ok",
     "timestamp": 1611071770211,
     "user": {
      "displayName": "Boris Garbuzov",
      "photoUrl": "",
      "userId": "08851466340381164023"
     },
     "user_tz": 300
    },
    "id": "0uP61iPnTZbv",
    "outputId": "d140b0b4-f018-4c2b-ceae-ff84e6e82f7e"
   },
   "outputs": [
    {
     "data": {
      "image/png": "[encoded data removed]",
      "text/latex": [
       "$$\\sin{\\left (x \\right )} \\cos{\\left (y \\right )} + \\sin{\\left (y \\right )} \\cos{\\left (x \\right )}$$"
      ],
      "text/plain": [
       "sin(x)⋅cos(y) + sin(y)⋅cos(x)"
      ]
     },
     "execution_count": 93,
     "metadata": {},
     "output_type": "execute_result"
    }
   ],
   "source": [
    "sympy.sin(x + y).expand(trig=True)"
   ]
  },
  {
   "cell_type": "code",
   "execution_count": 94,
   "metadata": {
    "executionInfo": {
     "elapsed": 4678,
     "status": "ok",
     "timestamp": 1611071770211,
     "user": {
      "displayName": "Boris Garbuzov",
      "photoUrl": "",
      "userId": "08851466340381164023"
     },
     "user_tz": 300
    },
    "id": "LjS7IRYYTZbv"
   },
   "outputs": [],
   "source": [
    "a, b = sympy.symbols(\"a, b\", positive=True)"
   ]
  },
  {
   "cell_type": "code",
   "execution_count": 95,
   "metadata": {
    "colab": {
     "base_uri": "https://localhost:8080/",
     "height": 39
    },
    "executionInfo": {
     "elapsed": 4669,
     "status": "ok",
     "timestamp": 1611071770211,
     "user": {
      "displayName": "Boris Garbuzov",
      "photoUrl": "",
      "userId": "08851466340381164023"
     },
     "user_tz": 300
    },
    "id": "Zooql2H_TZbv",
    "outputId": "3e1c627d-7a83-40e7-f89c-bf10bb6de358"
   },
   "outputs": [
    {
     "data": {
      "image/png": "[encoded data removed]",
      "text/latex": [
       "$$\\log{\\left (a \\right )} + \\log{\\left (b \\right )}$$"
      ],
      "text/plain": [
       "log(a) + log(b)"
      ]
     },
     "execution_count": 95,
     "metadata": {},
     "output_type": "execute_result"
    }
   ],
   "source": [
    "sympy.log(a * b).expand(log=True)"
   ]
  },
  {
   "cell_type": "code",
   "execution_count": 96,
   "metadata": {
    "colab": {
     "base_uri": "https://localhost:8080/",
     "height": 39
    },
    "executionInfo": {
     "elapsed": 4658,
     "status": "ok",
     "timestamp": 1611071770212,
     "user": {
      "displayName": "Boris Garbuzov",
      "photoUrl": "",
      "userId": "08851466340381164023"
     },
     "user_tz": 300
    },
    "id": "9ykOPwVdTZbw",
    "outputId": "b13ffb3d-92f6-4414-ffe7-676bbf38ac7b"
   },
   "outputs": [
    {
     "data": {
      "image/png": "[encoded data removed]",
      "text/latex": [
       "$$i e^{b} \\sin{\\left (a \\right )} + e^{b} \\cos{\\left (a \\right )}$$"
      ],
      "text/plain": [
       "   b           b       \n",
       "ⅈ⋅ℯ ⋅sin(a) + ℯ ⋅cos(a)"
      ]
     },
     "execution_count": 96,
     "metadata": {},
     "output_type": "execute_result"
    }
   ],
   "source": [
    "sympy.exp(I*a + b).expand(complex=True)"
   ]
  },
  {
   "cell_type": "code",
   "execution_count": 97,
   "metadata": {
    "colab": {
     "base_uri": "https://localhost:8080/",
     "height": 39
    },
    "executionInfo": {
     "elapsed": 4648,
     "status": "ok",
     "timestamp": 1611071770213,
     "user": {
      "displayName": "Boris Garbuzov",
      "photoUrl": "",
      "userId": "08851466340381164023"
     },
     "user_tz": 300
    },
    "id": "hYYoKJVFTZbw",
    "outputId": "713a7715-5bd4-4ceb-e552-ef3174a08a3e"
   },
   "outputs": [
    {
     "data": {
      "image/png": "[encoded data removed]",
      "text/latex": [
       "$$a^{x} b^{x}$$"
      ],
      "text/plain": [
       " x  x\n",
       "a ⋅b "
      ]
     },
     "execution_count": 97,
     "metadata": {},
     "output_type": "execute_result"
    }
   ],
   "source": [
    "sympy.expand((a * b)**x, power_exp=True)"
   ]
  },
  {
   "cell_type": "code",
   "execution_count": 98,
   "metadata": {
    "colab": {
     "base_uri": "https://localhost:8080/",
     "height": 39
    },
    "executionInfo": {
     "elapsed": 4639,
     "status": "ok",
     "timestamp": 1611071770214,
     "user": {
      "displayName": "Boris Garbuzov",
      "photoUrl": "",
      "userId": "08851466340381164023"
     },
     "user_tz": 300
    },
    "id": "UbNFKfHPTZbw",
    "outputId": "be4b2c48-27cb-42e8-ab90-4fcccc154358"
   },
   "outputs": [
    {
     "data": {
      "image/png": "[encoded data removed]",
      "text/latex": [
       "$$e^{i a x} e^{- i b x}$$"
      ],
      "text/plain": [
       " ⅈ⋅a⋅x  -ⅈ⋅b⋅x\n",
       "ℯ     ⋅ℯ      "
      ]
     },
     "execution_count": 98,
     "metadata": {},
     "output_type": "execute_result"
    }
   ],
   "source": [
    "sympy.exp(I*(a-b)*x).expand(power_exp=True)"
   ]
  },
  {
   "cell_type": "markdown",
   "metadata": {
    "id": "bhSZTJzcTZbw"
   },
   "source": [
    "## Factor"
   ]
  },
  {
   "cell_type": "code",
   "execution_count": 99,
   "metadata": {
    "colab": {
     "base_uri": "https://localhost:8080/",
     "height": 39
    },
    "executionInfo": {
     "elapsed": 4627,
     "status": "ok",
     "timestamp": 1611071770214,
     "user": {
      "displayName": "Boris Garbuzov",
      "photoUrl": "",
      "userId": "08851466340381164023"
     },
     "user_tz": 300
    },
    "id": "dfrwKYcOTZbw",
    "outputId": "2d5ff54d-f304-4759-cf6d-8222181b9438"
   },
   "outputs": [
    {
     "data": {
      "image/png": "[encoded data removed]",
      "text/latex": [
       "$$\\left(x - 1\\right) \\left(x + 1\\right)$$"
      ],
      "text/plain": [
       "(x - 1)⋅(x + 1)"
      ]
     },
     "execution_count": 99,
     "metadata": {},
     "output_type": "execute_result"
    }
   ],
   "source": [
    "sympy.factor(x**2 - 1)"
   ]
  },
  {
   "cell_type": "code",
   "execution_count": 100,
   "metadata": {
    "colab": {
     "base_uri": "https://localhost:8080/",
     "height": 39
    },
    "executionInfo": {
     "elapsed": 4615,
     "status": "ok",
     "timestamp": 1611071770215,
     "user": {
      "displayName": "Boris Garbuzov",
      "photoUrl": "",
      "userId": "08851466340381164023"
     },
     "user_tz": 300
    },
    "id": "9HkYRz62TZbw",
    "outputId": "92f7c62c-e8fc-465f-b2f9-d101c30b5e96"
   },
   "outputs": [
    {
     "data": {
      "image/png": "[encoded data removed]",
      "text/latex": [
       "$$x \\left(\\sin{\\left (z \\right )} + \\cos{\\left (y \\right )}\\right)$$"
      ],
      "text/plain": [
       "x⋅(sin(z) + cos(y))"
      ]
     },
     "execution_count": 100,
     "metadata": {},
     "output_type": "execute_result"
    }
   ],
   "source": [
    "sympy.factor(x * sympy.cos(y) + sympy.sin(z) * x)"
   ]
  },
  {
   "cell_type": "code",
   "execution_count": 101,
   "metadata": {
    "colab": {
     "base_uri": "https://localhost:8080/",
     "height": 38
    },
    "executionInfo": {
     "elapsed": 4606,
     "status": "ok",
     "timestamp": 1611071770215,
     "user": {
      "displayName": "Boris Garbuzov",
      "photoUrl": "",
      "userId": "08851466340381164023"
     },
     "user_tz": 300
    },
    "id": "rxa1OBMCTZbw",
    "outputId": "beceba5e-6b28-4699-a672-1b1358fa84cd"
   },
   "outputs": [
    {
     "data": {
      "image/png": "[encoded data removed]",
      "text/latex": [
       "$$\\log{\\left (\\frac{a}{b} \\right )}$$"
      ],
      "text/plain": [
       "   ⎛a⎞\n",
       "log⎜─⎟\n",
       "   ⎝b⎠"
      ]
     },
     "execution_count": 101,
     "metadata": {},
     "output_type": "execute_result"
    }
   ],
   "source": [
    "sympy.logcombine(sympy.log(a) - sympy.log(b))"
   ]
  },
  {
   "cell_type": "code",
   "execution_count": 102,
   "metadata": {
    "colab": {
     "base_uri": "https://localhost:8080/",
     "height": 39
    },
    "executionInfo": {
     "elapsed": 4592,
     "status": "ok",
     "timestamp": 1611071770215,
     "user": {
      "displayName": "Boris Garbuzov",
      "photoUrl": "",
      "userId": "08851466340381164023"
     },
     "user_tz": 300
    },
    "id": "bzysENEfTZbw",
    "outputId": "d179e32d-7478-45b1-b1ad-7aa863517a73"
   },
   "outputs": [
    {
     "data": {
      "image/png": "[encoded data removed]",
      "text/latex": [
       "$$x y z + x + y$$"
      ],
      "text/plain": [
       "x⋅y⋅z + x + y"
      ]
     },
     "execution_count": 102,
     "metadata": {},
     "output_type": "execute_result"
    }
   ],
   "source": [
    "expr = x + y + x * y * z\n",
    "expr"
   ]
  },
  {
   "cell_type": "code",
   "execution_count": 103,
   "metadata": {
    "colab": {
     "base_uri": "https://localhost:8080/",
     "height": 39
    },
    "executionInfo": {
     "elapsed": 4579,
     "status": "ok",
     "timestamp": 1611071770217,
     "user": {
      "displayName": "Boris Garbuzov",
      "photoUrl": "",
      "userId": "08851466340381164023"
     },
     "user_tz": 300
    },
    "id": "5Fc801o3TZbw",
    "outputId": "91e9980e-cd65-47b7-c05d-586a4720aae8"
   },
   "outputs": [
    {
     "data": {
      "image/png": "[encoded data removed]",
      "text/latex": [
       "$$x y z + x + y$$"
      ],
      "text/plain": [
       "x⋅y⋅z + x + y"
      ]
     },
     "execution_count": 103,
     "metadata": {},
     "output_type": "execute_result"
    }
   ],
   "source": [
    "expr.factor()"
   ]
  },
  {
   "cell_type": "code",
   "execution_count": 104,
   "metadata": {
    "colab": {
     "base_uri": "https://localhost:8080/",
     "height": 39
    },
    "executionInfo": {
     "elapsed": 4949,
     "status": "ok",
     "timestamp": 1611071770597,
     "user": {
      "displayName": "Boris Garbuzov",
      "photoUrl": "",
      "userId": "08851466340381164023"
     },
     "user_tz": 300
    },
    "id": "2NcV_QOWTZbw",
    "outputId": "2c57f11f-76b6-4218-f8ba-fcb08a39d3ca"
   },
   "outputs": [
    {
     "data": {
      "image/png": "[encoded data removed]",
      "text/latex": [
       "$$x \\left(y z + 1\\right) + y$$"
      ],
      "text/plain": [
       "x⋅(y⋅z + 1) + y"
      ]
     },
     "execution_count": 104,
     "metadata": {},
     "output_type": "execute_result"
    }
   ],
   "source": [
    "expr.collect(x)"
   ]
  },
  {
   "cell_type": "code",
   "execution_count": 105,
   "metadata": {
    "colab": {
     "base_uri": "https://localhost:8080/",
     "height": 39
    },
    "executionInfo": {
     "elapsed": 4938,
     "status": "ok",
     "timestamp": 1611071770597,
     "user": {
      "displayName": "Boris Garbuzov",
      "photoUrl": "",
      "userId": "08851466340381164023"
     },
     "user_tz": 300
    },
    "id": "IeQAgfsTTZbx",
    "outputId": "683f7946-0194-4b14-89d5-d67eed66d797"
   },
   "outputs": [
    {
     "data": {
      "image/png": "[encoded data removed]",
      "text/latex": [
       "$$x + y \\left(x z + 1\\right)$$"
      ],
      "text/plain": [
       "x + y⋅(x⋅z + 1)"
      ]
     },
     "execution_count": 105,
     "metadata": {},
     "output_type": "execute_result"
    }
   ],
   "source": [
    "expr.collect(y)"
   ]
  },
  {
   "cell_type": "code",
   "execution_count": 106,
   "metadata": {
    "executionInfo": {
     "elapsed": 4937,
     "status": "ok",
     "timestamp": 1611071770598,
     "user": {
      "displayName": "Boris Garbuzov",
      "photoUrl": "",
      "userId": "08851466340381164023"
     },
     "user_tz": 300
    },
    "id": "usb9IC3_TZbx"
   },
   "outputs": [],
   "source": [
    "expr = sympy.cos(x + y) + sympy.sin(x - y)"
   ]
  },
  {
   "cell_type": "code",
   "execution_count": 107,
   "metadata": {
    "colab": {
     "base_uri": "https://localhost:8080/",
     "height": 39
    },
    "executionInfo": {
     "elapsed": 4932,
     "status": "ok",
     "timestamp": 1611071770599,
     "user": {
      "displayName": "Boris Garbuzov",
      "photoUrl": "",
      "userId": "08851466340381164023"
     },
     "user_tz": 300
    },
    "id": "9_c_U1nmTZbx",
    "outputId": "3d71ed3d-aabe-4906-b964-0e246de975fb"
   },
   "outputs": [
    {
     "data": {
      "image/png": "[encoded data removed]",
      "text/latex": [
       "$$\\left(\\sin{\\left (x \\right )} + \\cos{\\left (x \\right )}\\right) \\left(- \\sin{\\left (y \\right )} + \\cos{\\left (y \\right )}\\right)$$"
      ],
      "text/plain": [
       "(sin(x) + cos(x))⋅(-sin(y) + cos(y))"
      ]
     },
     "execution_count": 107,
     "metadata": {},
     "output_type": "execute_result"
    }
   ],
   "source": [
    "expr.expand(trig=True).collect([sympy.cos(x), sympy.sin(x)]).collect(sympy.cos(y) - sympy.sin(y))"
   ]
  },
  {
   "cell_type": "markdown",
   "metadata": {
    "id": "v3rGP9NETZbx"
   },
   "source": [
    "### Together, apart, cancel"
   ]
  },
  {
   "cell_type": "code",
   "execution_count": 108,
   "metadata": {
    "colab": {
     "base_uri": "https://localhost:8080/",
     "height": 39
    },
    "executionInfo": {
     "elapsed": 4918,
     "status": "ok",
     "timestamp": 1611071770600,
     "user": {
      "displayName": "Boris Garbuzov",
      "photoUrl": "",
      "userId": "08851466340381164023"
     },
     "user_tz": 300
    },
    "id": "IAVKEmCcTZbx",
    "outputId": "bd0b9a49-8eb7-44c5-b018-f1dd0fb49cf6"
   },
   "outputs": [
    {
     "data": {
      "image/png": "[encoded data removed]",
      "text/latex": [
       "$$- \\frac{1}{x + 2} + \\frac{1}{x + 1}$$"
      ],
      "text/plain": [
       "    1       1  \n",
       "- ───── + ─────\n",
       "  x + 2   x + 1"
      ]
     },
     "execution_count": 108,
     "metadata": {},
     "output_type": "execute_result"
    }
   ],
   "source": [
    "sympy.apart(1/(x**2 + 3*x + 2), x)"
   ]
  },
  {
   "cell_type": "code",
   "execution_count": 109,
   "metadata": {
    "colab": {
     "base_uri": "https://localhost:8080/",
     "height": 41
    },
    "executionInfo": {
     "elapsed": 4906,
     "status": "ok",
     "timestamp": 1611071770600,
     "user": {
      "displayName": "Boris Garbuzov",
      "photoUrl": "",
      "userId": "08851466340381164023"
     },
     "user_tz": 300
    },
    "id": "bQyvsJTuTZbx",
    "outputId": "2f9dfdfa-9540-41b1-88fa-a54e20c73d36"
   },
   "outputs": [
    {
     "data": {
      "image/png": "[encoded data removed]",
      "text/latex": [
       "$$\\frac{y + 1}{y \\left(x + 1\\right)}$$"
      ],
      "text/plain": [
       "  y + 1  \n",
       "─────────\n",
       "y⋅(x + 1)"
      ]
     },
     "execution_count": 109,
     "metadata": {},
     "output_type": "execute_result"
    }
   ],
   "source": [
    "sympy.together(1 / (y * x + y) + 1 / (1+x))"
   ]
  },
  {
   "cell_type": "code",
   "execution_count": 110,
   "metadata": {
    "colab": {
     "base_uri": "https://localhost:8080/",
     "height": 39
    },
    "executionInfo": {
     "elapsed": 4898,
     "status": "ok",
     "timestamp": 1611071770601,
     "user": {
      "displayName": "Boris Garbuzov",
      "photoUrl": "",
      "userId": "08851466340381164023"
     },
     "user_tz": 300
    },
    "id": "lD6MVz7PTZbx",
    "outputId": "8a109918-db7f-42d8-dd8a-8df96130bd56"
   },
   "outputs": [
    {
     "data": {
      "image/png": "[encoded data removed]",
      "text/latex": [
       "$$\\frac{1}{x + 1}$$"
      ],
      "text/plain": [
       "  1  \n",
       "─────\n",
       "x + 1"
      ]
     },
     "execution_count": 110,
     "metadata": {},
     "output_type": "execute_result"
    }
   ],
   "source": [
    "sympy.cancel(y / (y * x + y))"
   ]
  },
  {
   "cell_type": "markdown",
   "metadata": {
    "id": "ooddFf-4TZbx"
   },
   "source": [
    "### Substitutions"
   ]
  },
  {
   "cell_type": "code",
   "execution_count": 111,
   "metadata": {
    "executionInfo": {
     "elapsed": 4897,
     "status": "ok",
     "timestamp": 1611071770602,
     "user": {
      "displayName": "Boris Garbuzov",
      "photoUrl": "",
      "userId": "08851466340381164023"
     },
     "user_tz": 300
    },
    "id": "7tpxcnVSGY3V"
   },
   "outputs": [],
   "source": [
    "x, y = sympy.symbols(\"x, y\")"
   ]
  },
  {
   "cell_type": "code",
   "execution_count": 112,
   "metadata": {
    "colab": {
     "base_uri": "https://localhost:8080/",
     "height": 39
    },
    "executionInfo": {
     "elapsed": 4883,
     "status": "ok",
     "timestamp": 1611071770603,
     "user": {
      "displayName": "Boris Garbuzov",
      "photoUrl": "",
      "userId": "08851466340381164023"
     },
     "user_tz": 300
    },
    "id": "txUmcijuTZbx",
    "outputId": "057dec56-9810-447e-9699-7996c3d76d00"
   },
   "outputs": [
    {
     "data": {
      "image/png": "[encoded data removed]",
      "text/latex": [
       "$$2 y$$"
      ],
      "text/plain": [
       "2⋅y"
      ]
     },
     "execution_count": 112,
     "metadata": {},
     "output_type": "execute_result"
    }
   ],
   "source": [
    "(x + y).subs(x, y)"
   ]
  },
  {
   "cell_type": "code",
   "execution_count": 113,
   "metadata": {
    "colab": {
     "base_uri": "https://localhost:8080/",
     "height": 39
    },
    "executionInfo": {
     "elapsed": 4873,
     "status": "ok",
     "timestamp": 1611071770603,
     "user": {
      "displayName": "Boris Garbuzov",
      "photoUrl": "",
      "userId": "08851466340381164023"
     },
     "user_tz": 300
    },
    "id": "2B6Fp993GuRT",
    "outputId": "8046114e-50f6-4988-94cd-cfbda07626ef"
   },
   "outputs": [
    {
     "data": {
      "image/png": "[encoded data removed]",
      "text/latex": [
       "$$2 x$$"
      ],
      "text/plain": [
       "2⋅x"
      ]
     },
     "execution_count": 113,
     "metadata": {},
     "output_type": "execute_result"
    }
   ],
   "source": [
    "(x + y).subs(y, x)"
   ]
  },
  {
   "cell_type": "code",
   "execution_count": 114,
   "metadata": {
    "colab": {
     "base_uri": "https://localhost:8080/",
     "height": 37
    },
    "executionInfo": {
     "elapsed": 4864,
     "status": "ok",
     "timestamp": 1611071770604,
     "user": {
      "displayName": "Boris Garbuzov",
      "photoUrl": "",
      "userId": "08851466340381164023"
     },
     "user_tz": 300
    },
    "id": "TxYaiR5pHC6i",
    "outputId": "9b5398f9-72f0-400d-b73f-a5b058e71e1d"
   },
   "outputs": [
    {
     "data": {
      "image/png": "[encoded data removed]",
      "text/latex": [
       "$$3$$"
      ],
      "text/plain": [
       "3"
      ]
     },
     "execution_count": 114,
     "metadata": {},
     "output_type": "execute_result"
    }
   ],
   "source": [
    "subDict = {x : 1, y : 2}\n",
    "(x + y).subs(subDict)"
   ]
  },
  {
   "cell_type": "code",
   "execution_count": 115,
   "metadata": {
    "colab": {
     "base_uri": "https://localhost:8080/",
     "height": 39
    },
    "executionInfo": {
     "elapsed": 4853,
     "status": "ok",
     "timestamp": 1611071770605,
     "user": {
      "displayName": "Boris Garbuzov",
      "photoUrl": "",
      "userId": "08851466340381164023"
     },
     "user_tz": 300
    },
    "id": "GxW2qj2cTZby",
    "outputId": "94d1fe20-5c93-410e-e19c-858aae00aef8"
   },
   "outputs": [
    {
     "data": {
      "image/png": "[encoded data removed]",
      "text/latex": [
       "$$\\sin{\\left (y e^{y} \\right )}$$"
      ],
      "text/plain": [
       "   ⎛   y⎞\n",
       "sin⎝y⋅ℯ ⎠"
      ]
     },
     "execution_count": 115,
     "metadata": {},
     "output_type": "execute_result"
    }
   ],
   "source": [
    "sympy.sin(x * sympy.exp(x)).subs(x, y)"
   ]
  },
  {
   "cell_type": "code",
   "execution_count": 116,
   "metadata": {
    "colab": {
     "base_uri": "https://localhost:8080/",
     "height": 39
    },
    "executionInfo": {
     "elapsed": 4842,
     "status": "ok",
     "timestamp": 1611071770606,
     "user": {
      "displayName": "Boris Garbuzov",
      "photoUrl": "",
      "userId": "08851466340381164023"
     },
     "user_tz": 300
    },
    "id": "pmlwoyOLTZby",
    "outputId": "f4058459-0112-422c-eb28-b738324ce088"
   },
   "outputs": [
    {
     "data": {
      "image/png": "[encoded data removed]",
      "text/latex": [
       "$$\\cos{\\left (y e^{y} \\right )}$$"
      ],
      "text/plain": [
       "   ⎛   y⎞\n",
       "cos⎝y⋅ℯ ⎠"
      ]
     },
     "execution_count": 116,
     "metadata": {},
     "output_type": "execute_result"
    }
   ],
   "source": [
    "sympy.sin(x * z).subs({z: sympy.exp(y), x: y, sympy.sin: sympy.cos})"
   ]
  },
  {
   "cell_type": "code",
   "execution_count": 117,
   "metadata": {
    "executionInfo": {
     "elapsed": 4841,
     "status": "ok",
     "timestamp": 1611071770607,
     "user": {
      "displayName": "Boris Garbuzov",
      "photoUrl": "",
      "userId": "08851466340381164023"
     },
     "user_tz": 300
    },
    "id": "KlpAMDneTZby"
   },
   "outputs": [],
   "source": [
    "expr = x * y + z**2 *x"
   ]
  },
  {
   "cell_type": "code",
   "execution_count": 118,
   "metadata": {
    "executionInfo": {
     "elapsed": 4841,
     "status": "ok",
     "timestamp": 1611071770608,
     "user": {
      "displayName": "Boris Garbuzov",
      "photoUrl": "",
      "userId": "08851466340381164023"
     },
     "user_tz": 300
    },
    "id": "IZJjqM9KTZby"
   },
   "outputs": [],
   "source": [
    "values = {x: 1.25, y: 0.4, z: 3.2}"
   ]
  },
  {
   "cell_type": "code",
   "execution_count": 119,
   "metadata": {
    "colab": {
     "base_uri": "https://localhost:8080/",
     "height": 37
    },
    "executionInfo": {
     "elapsed": 4834,
     "status": "ok",
     "timestamp": 1611071770608,
     "user": {
      "displayName": "Boris Garbuzov",
      "photoUrl": "",
      "userId": "08851466340381164023"
     },
     "user_tz": 300
    },
    "id": "U6Ah6AuXTZby",
    "outputId": "22012798-4edd-49b4-a582-d31b39766ee4"
   },
   "outputs": [
    {
     "data": {
      "image/png": "[encoded data removed]",
      "text/latex": [
       "$$13.3$$"
      ],
      "text/plain": [
       "13.3000000000000"
      ]
     },
     "execution_count": 119,
     "metadata": {},
     "output_type": "execute_result"
    }
   ],
   "source": [
    "expr.subs(values)"
   ]
  },
  {
   "cell_type": "markdown",
   "metadata": {
    "id": "8jmjIft5TZby"
   },
   "source": [
    "## Numerical evaluation"
   ]
  },
  {
   "cell_type": "code",
   "execution_count": 120,
   "metadata": {
    "colab": {
     "base_uri": "https://localhost:8080/",
     "height": 39
    },
    "executionInfo": {
     "elapsed": 4829,
     "status": "ok",
     "timestamp": 1611071770611,
     "user": {
      "displayName": "Boris Garbuzov",
      "photoUrl": "",
      "userId": "08851466340381164023"
     },
     "user_tz": 300
    },
    "id": "Dpe0TCnXTZby",
    "outputId": "e53580b3-be21-4269-b03a-d12893f3dcf1"
   },
   "outputs": [
    {
     "data": {
      "image/png": "[encoded data removed]",
      "text/latex": [
       "$$1 + \\pi$$"
      ],
      "text/plain": [
       "1 + π"
      ]
     },
     "execution_count": 120,
     "metadata": {},
     "output_type": "execute_result"
    }
   ],
   "source": [
    "1 + sympy.pi"
   ]
  },
  {
   "cell_type": "code",
   "execution_count": 121,
   "metadata": {
    "colab": {
     "base_uri": "https://localhost:8080/",
     "height": 37
    },
    "executionInfo": {
     "elapsed": 4820,
     "status": "ok",
     "timestamp": 1611071770611,
     "user": {
      "displayName": "Boris Garbuzov",
      "photoUrl": "",
      "userId": "08851466340381164023"
     },
     "user_tz": 300
    },
    "id": "jYEkpxW3IDlH",
    "outputId": "d98538bb-8e7c-454c-d098-e037ba99a6ca"
   },
   "outputs": [
    {
     "data": {
      "image/png": "[encoded data removed]",
      "text/latex": [
       "$$4.141592653589793$$"
      ],
      "text/plain": [
       "4.141592653589793"
      ]
     },
     "execution_count": 121,
     "metadata": {},
     "output_type": "execute_result"
    }
   ],
   "source": [
    "import math\n",
    "1 + math.pi"
   ]
  },
  {
   "cell_type": "code",
   "execution_count": 122,
   "metadata": {
    "colab": {
     "base_uri": "https://localhost:8080/",
     "height": 37
    },
    "executionInfo": {
     "elapsed": 4807,
     "status": "ok",
     "timestamp": 1611071770612,
     "user": {
      "displayName": "Boris Garbuzov",
      "photoUrl": "",
      "userId": "08851466340381164023"
     },
     "user_tz": 300
    },
    "id": "c3DXfJI6HpKq",
    "outputId": "10ce5138-edfe-412c-9028-b34f671085de"
   },
   "outputs": [
    {
     "data": {
      "image/png": "[encoded data removed]",
      "text/latex": [
       "$$4.14159265358979$$"
      ],
      "text/plain": [
       "4.14159265358979"
      ]
     },
     "execution_count": 122,
     "metadata": {},
     "output_type": "execute_result"
    }
   ],
   "source": [
    "sympy.N(1 + pi)"
   ]
  },
  {
   "cell_type": "code",
   "execution_count": 123,
   "metadata": {
    "colab": {
     "base_uri": "https://localhost:8080/",
     "height": 37
    },
    "executionInfo": {
     "elapsed": 4799,
     "status": "ok",
     "timestamp": 1611071770613,
     "user": {
      "displayName": "Boris Garbuzov",
      "photoUrl": "",
      "userId": "08851466340381164023"
     },
     "user_tz": 300
    },
    "id": "CGNzv5QWTZby",
    "outputId": "752da75a-3ea5-436b-a5d0-bc8f62ba7c08"
   },
   "outputs": [
    {
     "data": {
      "image/png": "[encoded data removed]",
      "text/latex": [
       "$$3.1415926535897932384626433832795028841971693993751$$"
      ],
      "text/plain": [
       "3.1415926535897932384626433832795028841971693993751"
      ]
     },
     "execution_count": 123,
     "metadata": {},
     "output_type": "execute_result"
    }
   ],
   "source": [
    "sympy.N(pi, 50)"
   ]
  },
  {
   "cell_type": "code",
   "execution_count": 124,
   "metadata": {
    "colab": {
     "base_uri": "https://localhost:8080/",
     "height": 39
    },
    "executionInfo": {
     "elapsed": 4792,
     "status": "ok",
     "timestamp": 1611071770614,
     "user": {
      "displayName": "Boris Garbuzov",
      "photoUrl": "",
      "userId": "08851466340381164023"
     },
     "user_tz": 300
    },
    "id": "9ZVA5pcgTZby",
    "outputId": "1b7b77f8-ad96-4cb0-f1ae-f70f34326599"
   },
   "outputs": [
    {
     "data": {
      "image/png": "[encoded data removed]",
      "text/latex": [
       "$$x + 0.3183099$$"
      ],
      "text/plain": [
       "x + 0.3183099"
      ]
     },
     "execution_count": 124,
     "metadata": {},
     "output_type": "execute_result"
    }
   ],
   "source": [
    "(x + 1/pi).evalf(7)"
   ]
  },
  {
   "cell_type": "code",
   "execution_count": 125,
   "metadata": {
    "executionInfo": {
     "elapsed": 5167,
     "status": "ok",
     "timestamp": 1611071770991,
     "user": {
      "displayName": "Boris Garbuzov",
      "photoUrl": "",
      "userId": "08851466340381164023"
     },
     "user_tz": 300
    },
    "id": "v568tM4NTZbz"
   },
   "outputs": [],
   "source": [
    "expr = sympy.sin(pi * x * sympy.exp(x))"
   ]
  },
  {
   "cell_type": "code",
   "execution_count": 126,
   "metadata": {
    "colab": {
     "base_uri": "https://localhost:8080/",
     "height": 37
    },
    "executionInfo": {
     "elapsed": 5157,
     "status": "ok",
     "timestamp": 1611071770992,
     "user": {
      "displayName": "Boris Garbuzov",
      "photoUrl": "",
      "userId": "08851466340381164023"
     },
     "user_tz": 300
    },
    "id": "EYv2C_olTZbz",
    "outputId": "865ca25a-898f-4223-ad5a-97208c172c09"
   },
   "outputs": [
    {
     "data": {
      "image/png": "[encoded data removed]",
      "text/latex": [
       "$$\\left [ 0, \\quad 0.774, \\quad 0.642, \\quad 0.722, \\quad 0.944, \\quad 0.205, \\quad 0.974, \\quad 0.977, \\quad -0.87, \\quad -0.695\\right ]$$"
      ],
      "text/plain": [
       "[0, 0.774, 0.642, 0.722, 0.944, 0.205, 0.974, 0.977, -0.87, -0.695]"
      ]
     },
     "execution_count": 126,
     "metadata": {},
     "output_type": "execute_result"
    }
   ],
   "source": [
    "[expr.subs(x, xx).evalf(3) for xx in range(0, 10)]"
   ]
  },
  {
   "cell_type": "code",
   "execution_count": 127,
   "metadata": {
    "executionInfo": {
     "elapsed": 5157,
     "status": "ok",
     "timestamp": 1611071770994,
     "user": {
      "displayName": "Boris Garbuzov",
      "photoUrl": "",
      "userId": "08851466340381164023"
     },
     "user_tz": 300
    },
    "id": "0eS92xMYTZbz"
   },
   "outputs": [],
   "source": [
    "expr_func = sympy.lambdify(x, expr = expr)"
   ]
  },
  {
   "cell_type": "code",
   "execution_count": 128,
   "metadata": {
    "executionInfo": {
     "elapsed": 5158,
     "status": "ok",
     "timestamp": 1611071770996,
     "user": {
      "displayName": "Boris Garbuzov",
      "photoUrl": "",
      "userId": "08851466340381164023"
     },
     "user_tz": 300
    },
    "id": "tOGPED3uKy5I"
   },
   "outputs": [],
   "source": [
    "# ?sympy.lambdify()"
   ]
  },
  {
   "cell_type": "code",
   "execution_count": 129,
   "metadata": {
    "colab": {
     "base_uri": "https://localhost:8080/",
     "height": 37
    },
    "executionInfo": {
     "elapsed": 5150,
     "status": "ok",
     "timestamp": 1611071770999,
     "user": {
      "displayName": "Boris Garbuzov",
      "photoUrl": "",
      "userId": "08851466340381164023"
     },
     "user_tz": 300
    },
    "id": "2dTq5el8TZbz",
    "outputId": "de968ef8-e86b-46ff-fa15-a456b26efd76"
   },
   "outputs": [
    {
     "data": {
      "image/png": "[encoded data removed]",
      "text/latex": [
       "$$0.773942685266709$$"
      ],
      "text/plain": [
       "0.773942685266709"
      ]
     },
     "execution_count": 129,
     "metadata": {},
     "output_type": "execute_result"
    }
   ],
   "source": [
    "expr_func(1.0)"
   ]
  },
  {
   "cell_type": "code",
   "execution_count": 130,
   "metadata": {
    "executionInfo": {
     "elapsed": 5150,
     "status": "ok",
     "timestamp": 1611071771001,
     "user": {
      "displayName": "Boris Garbuzov",
      "photoUrl": "",
      "userId": "08851466340381164023"
     },
     "user_tz": 300
    },
    "id": "cMmKFR8zTZbz"
   },
   "outputs": [],
   "source": [
    "expr_func = sympy.lambdify(x, expr, 'numpy')"
   ]
  },
  {
   "cell_type": "code",
   "execution_count": 131,
   "metadata": {
    "executionInfo": {
     "elapsed": 5150,
     "status": "ok",
     "timestamp": 1611071771002,
     "user": {
      "displayName": "Boris Garbuzov",
      "photoUrl": "",
      "userId": "08851466340381164023"
     },
     "user_tz": 300
    },
    "id": "orU-U4nqTZbz"
   },
   "outputs": [],
   "source": [
    "import numpy as np"
   ]
  },
  {
   "cell_type": "code",
   "execution_count": 132,
   "metadata": {
    "executionInfo": {
     "elapsed": 5149,
     "status": "ok",
     "timestamp": 1611071771002,
     "user": {
      "displayName": "Boris Garbuzov",
      "photoUrl": "",
      "userId": "08851466340381164023"
     },
     "user_tz": 300
    },
    "id": "17UtXjzaTZbz"
   },
   "outputs": [],
   "source": [
    "xvalues = np.arange(0, 10)"
   ]
  },
  {
   "cell_type": "code",
   "execution_count": 133,
   "metadata": {
    "colab": {
     "base_uri": "https://localhost:8080/"
    },
    "executionInfo": {
     "elapsed": 5144,
     "status": "ok",
     "timestamp": 1611071771003,
     "user": {
      "displayName": "Boris Garbuzov",
      "photoUrl": "",
      "userId": "08851466340381164023"
     },
     "user_tz": 300
    },
    "id": "bn8htB2QTZbz",
    "outputId": "7043f194-aab4-4635-b9eb-a59d012d29c3"
   },
   "outputs": [
    {
     "data": {
      "text/plain": [
       "array([ 0.        ,  0.77394269,  0.64198244,  0.72163867,  0.94361635,\n",
       "        0.20523391,  0.97398794,  0.97734066, -0.87034418, -0.69512687])"
      ]
     },
     "execution_count": 133,
     "metadata": {},
     "output_type": "execute_result"
    }
   ],
   "source": [
    "expr_func(xvalues)"
   ]
  },
  {
   "cell_type": "markdown",
   "metadata": {
    "id": "RUXHM9P0TZbz"
   },
   "source": [
    "## Calculus"
   ]
  },
  {
   "cell_type": "code",
   "execution_count": 134,
   "metadata": {
    "executionInfo": {
     "elapsed": 5142,
     "status": "ok",
     "timestamp": 1611071771003,
     "user": {
      "displayName": "Boris Garbuzov",
      "photoUrl": "",
      "userId": "08851466340381164023"
     },
     "user_tz": 300
    },
    "id": "NfVb-bFqTZbz"
   },
   "outputs": [],
   "source": [
    "f = sympy.Function('f')(x)"
   ]
  },
  {
   "cell_type": "code",
   "execution_count": 135,
   "metadata": {
    "colab": {
     "base_uri": "https://localhost:8080/",
     "height": 39
    },
    "executionInfo": {
     "elapsed": 5132,
     "status": "ok",
     "timestamp": 1611071771004,
     "user": {
      "displayName": "Boris Garbuzov",
      "photoUrl": "",
      "userId": "08851466340381164023"
     },
     "user_tz": 300
    },
    "id": "-DBYhPaKTZbz",
    "outputId": "2e73795a-3d0a-4902-a602-5278fdb3002f"
   },
   "outputs": [
    {
     "data": {
      "image/png": "[encoded data removed]",
      "text/latex": [
       "$$\\frac{d}{d x} f{\\left (x \\right )}$$"
      ],
      "text/plain": [
       "d       \n",
       "──(f(x))\n",
       "dx      "
      ]
     },
     "execution_count": 135,
     "metadata": {},
     "output_type": "execute_result"
    }
   ],
   "source": [
    "sympy.diff(f, x)"
   ]
  },
  {
   "cell_type": "code",
   "execution_count": 136,
   "metadata": {
    "colab": {
     "base_uri": "https://localhost:8080/",
     "height": 40
    },
    "executionInfo": {
     "elapsed": 5123,
     "status": "ok",
     "timestamp": 1611071771004,
     "user": {
      "displayName": "Boris Garbuzov",
      "photoUrl": "",
      "userId": "08851466340381164023"
     },
     "user_tz": 300
    },
    "id": "dwhrXwMbTZb0",
    "outputId": "529fa258-e064-4960-de84-91ec469b2dbd"
   },
   "outputs": [
    {
     "data": {
      "image/png": "[encoded data removed]",
      "text/latex": [
       "$$\\frac{d^{2}}{d x^{2}} f{\\left (x \\right )}$$"
      ],
      "text/plain": [
       "  2      \n",
       " d       \n",
       "───(f(x))\n",
       "  2      \n",
       "dx       "
      ]
     },
     "execution_count": 136,
     "metadata": {},
     "output_type": "execute_result"
    }
   ],
   "source": [
    "sympy.diff(f, x, x)"
   ]
  },
  {
   "cell_type": "code",
   "execution_count": 137,
   "metadata": {
    "colab": {
     "base_uri": "https://localhost:8080/",
     "height": 40
    },
    "executionInfo": {
     "elapsed": 5577,
     "status": "ok",
     "timestamp": 1611071771465,
     "user": {
      "displayName": "Boris Garbuzov",
      "photoUrl": "",
      "userId": "08851466340381164023"
     },
     "user_tz": 300
    },
    "id": "gA8qEXhFTZb0",
    "outputId": "dc134047-27c2-4b44-ee0d-8447f24a3641"
   },
   "outputs": [
    {
     "data": {
      "image/png": "[encoded data removed]",
      "text/latex": [
       "$$\\frac{d^{3}}{d x^{3}} f{\\left (x \\right )}$$"
      ],
      "text/plain": [
       "  3      \n",
       " d       \n",
       "───(f(x))\n",
       "  3      \n",
       "dx       "
      ]
     },
     "execution_count": 137,
     "metadata": {},
     "output_type": "execute_result"
    }
   ],
   "source": [
    "sympy.diff(f, x, 3)"
   ]
  },
  {
   "cell_type": "code",
   "execution_count": 138,
   "metadata": {
    "executionInfo": {
     "elapsed": 5577,
     "status": "ok",
     "timestamp": 1611071771467,
     "user": {
      "displayName": "Boris Garbuzov",
      "photoUrl": "",
      "userId": "08851466340381164023"
     },
     "user_tz": 300
    },
    "id": "CUwiArd5TZb0"
   },
   "outputs": [],
   "source": [
    "g = sympy.Function('g')(x, y)"
   ]
  },
  {
   "cell_type": "code",
   "execution_count": 139,
   "metadata": {
    "colab": {
     "base_uri": "https://localhost:8080/",
     "height": 42
    },
    "executionInfo": {
     "elapsed": 5571,
     "status": "ok",
     "timestamp": 1611071771468,
     "user": {
      "displayName": "Boris Garbuzov",
      "photoUrl": "",
      "userId": "08851466340381164023"
     },
     "user_tz": 300
    },
    "id": "2m9FGJDQTZb0",
    "outputId": "8f7903ea-4f5c-4963-b441-9ba5a6c3f40c"
   },
   "outputs": [
    {
     "data": {
      "image/png": "[encoded data removed]",
      "text/latex": [
       "$$\\frac{\\partial^{2}}{\\partial y\\partial x} g{\\left (x,y \\right )}$$"
      ],
      "text/plain": [
       "   2          \n",
       "  ∂           \n",
       "─────(g(x, y))\n",
       "∂y ∂x         "
      ]
     },
     "execution_count": 139,
     "metadata": {},
     "output_type": "execute_result"
    }
   ],
   "source": [
    "g.diff(x, y)"
   ]
  },
  {
   "cell_type": "code",
   "execution_count": 140,
   "metadata": {
    "colab": {
     "base_uri": "https://localhost:8080/",
     "height": 42
    },
    "executionInfo": {
     "elapsed": 5563,
     "status": "ok",
     "timestamp": 1611071771469,
     "user": {
      "displayName": "Boris Garbuzov",
      "photoUrl": "",
      "userId": "08851466340381164023"
     },
     "user_tz": 300
    },
    "id": "NCAPWQXATZb0",
    "outputId": "e08cfe9f-09a4-4095-ed57-990ae90fac8d"
   },
   "outputs": [
    {
     "data": {
      "image/png": "[encoded data removed]",
      "text/latex": [
       "$$\\frac{\\partial^{5}}{\\partial y^{2}\\partial x^{3}} g{\\left (x,y \\right )}$$"
      ],
      "text/plain": [
       "    5           \n",
       "   ∂            \n",
       "───────(g(x, y))\n",
       "  2   3         \n",
       "∂y  ∂x          "
      ]
     },
     "execution_count": 140,
     "metadata": {},
     "output_type": "execute_result"
    }
   ],
   "source": [
    "g.diff(x, 3, y, 2)         # equivalent to s.diff(g, x, x, x, y, y)"
   ]
  },
  {
   "cell_type": "code",
   "execution_count": 141,
   "metadata": {
    "executionInfo": {
     "elapsed": 5562,
     "status": "ok",
     "timestamp": 1611071771469,
     "user": {
      "displayName": "Boris Garbuzov",
      "photoUrl": "",
      "userId": "08851466340381164023"
     },
     "user_tz": 300
    },
    "id": "TScdFf1gTZb0"
   },
   "outputs": [],
   "source": [
    "expr = x**4 + x**3 + x**2 + x + 1"
   ]
  },
  {
   "cell_type": "code",
   "execution_count": 142,
   "metadata": {
    "colab": {
     "base_uri": "https://localhost:8080/",
     "height": 39
    },
    "executionInfo": {
     "elapsed": 5548,
     "status": "ok",
     "timestamp": 1611071771470,
     "user": {
      "displayName": "Boris Garbuzov",
      "photoUrl": "",
      "userId": "08851466340381164023"
     },
     "user_tz": 300
    },
    "id": "wx-CCDCCTZb0",
    "outputId": "51e9aa5c-6dbf-4fd5-e7af-e8503a8809ec"
   },
   "outputs": [
    {
     "data": {
      "image/png": "[encoded data removed]",
      "text/latex": [
       "$$4 x^{3} + 3 x^{2} + 2 x + 1$$"
      ],
      "text/plain": [
       "   3      2          \n",
       "4⋅x  + 3⋅x  + 2⋅x + 1"
      ]
     },
     "execution_count": 142,
     "metadata": {},
     "output_type": "execute_result"
    }
   ],
   "source": [
    "expr.diff(x)"
   ]
  },
  {
   "cell_type": "code",
   "execution_count": 143,
   "metadata": {
    "colab": {
     "base_uri": "https://localhost:8080/",
     "height": 39
    },
    "executionInfo": {
     "elapsed": 5540,
     "status": "ok",
     "timestamp": 1611071771471,
     "user": {
      "displayName": "Boris Garbuzov",
      "photoUrl": "",
      "userId": "08851466340381164023"
     },
     "user_tz": 300
    },
    "id": "6l0ndoaSTZb0",
    "outputId": "416fda02-2b5e-4b0d-f231-35dc685a4228"
   },
   "outputs": [
    {
     "data": {
      "image/png": "[encoded data removed]",
      "text/latex": [
       "$$2 \\left(6 x^{2} + 3 x + 1\\right)$$"
      ],
      "text/plain": [
       "  ⎛   2          ⎞\n",
       "2⋅⎝6⋅x  + 3⋅x + 1⎠"
      ]
     },
     "execution_count": 143,
     "metadata": {},
     "output_type": "execute_result"
    }
   ],
   "source": [
    "expr.diff(x, x)"
   ]
  },
  {
   "cell_type": "code",
   "execution_count": 144,
   "metadata": {
    "colab": {
     "base_uri": "https://localhost:8080/",
     "height": 39
    },
    "executionInfo": {
     "elapsed": 5533,
     "status": "ok",
     "timestamp": 1611071771472,
     "user": {
      "displayName": "Boris Garbuzov",
      "photoUrl": "",
      "userId": "08851466340381164023"
     },
     "user_tz": 300
    },
    "id": "Z3jjtsc3TZb0",
    "outputId": "1dc38ce7-5ab4-4683-ff1d-dc567f4a01f8"
   },
   "outputs": [
    {
     "data": {
      "image/png": "[encoded data removed]",
      "text/latex": [
       "$$y^{2} \\left(x + 1\\right)^{3} \\left(z - 1\\right)$$"
      ],
      "text/plain": [
       " 2        3        \n",
       "y ⋅(x + 1) ⋅(z - 1)"
      ]
     },
     "execution_count": 144,
     "metadata": {},
     "output_type": "execute_result"
    }
   ],
   "source": [
    "expr = (x + 1)**3 * y ** 2 * (z - 1)\n",
    "expr"
   ]
  },
  {
   "cell_type": "code",
   "execution_count": 145,
   "metadata": {
    "colab": {
     "base_uri": "https://localhost:8080/",
     "height": 39
    },
    "executionInfo": {
     "elapsed": 5524,
     "status": "ok",
     "timestamp": 1611071771472,
     "user": {
      "displayName": "Boris Garbuzov",
      "photoUrl": "",
      "userId": "08851466340381164023"
     },
     "user_tz": 300
    },
    "id": "K-Ssdt0VTZb0",
    "outputId": "4f7a675d-1881-459e-80c1-9a4c71aed6cc"
   },
   "outputs": [
    {
     "data": {
      "image/png": "[encoded data removed]",
      "text/latex": [
       "$$6 y \\left(x + 1\\right)^{2}$$"
      ],
      "text/plain": [
       "           2\n",
       "6⋅y⋅(x + 1) "
      ]
     },
     "execution_count": 145,
     "metadata": {},
     "output_type": "execute_result"
    }
   ],
   "source": [
    "expr.diff(x, y, z)"
   ]
  },
  {
   "cell_type": "code",
   "execution_count": 146,
   "metadata": {
    "colab": {
     "base_uri": "https://localhost:8080/",
     "height": 39
    },
    "executionInfo": {
     "elapsed": 5512,
     "status": "ok",
     "timestamp": 1611071771473,
     "user": {
      "displayName": "Boris Garbuzov",
      "photoUrl": "",
      "userId": "08851466340381164023"
     },
     "user_tz": 300
    },
    "id": "FVgPaJwSTZb1",
    "outputId": "b15283e9-828f-4f43-ca9f-80ff7dc4ef2d"
   },
   "outputs": [
    {
     "data": {
      "image/png": "[encoded data removed]",
      "text/latex": [
       "$$\\sin{\\left (x y \\right )} \\cos{\\left (\\frac{x}{2} \\right )}$$"
      ],
      "text/plain": [
       "            ⎛x⎞\n",
       "sin(x⋅y)⋅cos⎜─⎟\n",
       "            ⎝2⎠"
      ]
     },
     "execution_count": 146,
     "metadata": {},
     "output_type": "execute_result"
    }
   ],
   "source": [
    "expr = sympy.sin(x * y) * sympy.cos(x / 2)\n",
    "expr"
   ]
  },
  {
   "cell_type": "code",
   "execution_count": 147,
   "metadata": {
    "colab": {
     "base_uri": "https://localhost:8080/",
     "height": 39
    },
    "executionInfo": {
     "elapsed": 5506,
     "status": "ok",
     "timestamp": 1611071771474,
     "user": {
      "displayName": "Boris Garbuzov",
      "photoUrl": "",
      "userId": "08851466340381164023"
     },
     "user_tz": 300
    },
    "id": "lD_eshKkTZb1",
    "outputId": "39fb8d36-5faa-44ec-952d-9fedbf17a877"
   },
   "outputs": [
    {
     "data": {
      "image/png": "[encoded data removed]",
      "text/latex": [
       "$$y \\cos{\\left (\\frac{x}{2} \\right )} \\cos{\\left (x y \\right )} - \\frac{\\sin{\\left (\\frac{x}{2} \\right )} \\sin{\\left (x y \\right )}}{2}$$"
      ],
      "text/plain": [
       "                       ⎛x⎞         \n",
       "                    sin⎜─⎟⋅sin(x⋅y)\n",
       "     ⎛x⎞               ⎝2⎠         \n",
       "y⋅cos⎜─⎟⋅cos(x⋅y) - ───────────────\n",
       "     ⎝2⎠                   2       "
      ]
     },
     "execution_count": 147,
     "metadata": {},
     "output_type": "execute_result"
    }
   ],
   "source": [
    "expr.diff(x)"
   ]
  },
  {
   "cell_type": "code",
   "execution_count": 148,
   "metadata": {
    "colab": {
     "base_uri": "https://localhost:8080/",
     "height": 48
    },
    "executionInfo": {
     "elapsed": 5493,
     "status": "ok",
     "timestamp": 1611071771475,
     "user": {
      "displayName": "Boris Garbuzov",
      "photoUrl": "",
      "userId": "08851466340381164023"
     },
     "user_tz": 300
    },
    "id": "rNi62e-XTZb1",
    "outputId": "eaf1b978-daab-4fef-b654-f733619a0525"
   },
   "outputs": [
    {
     "data": {
      "image/png": "[encoded data removed]",
      "text/latex": [
       "$$\\frac{2^{x} \\sqrt{\\pi}}{\\Gamma\\left(- \\frac{x}{2} + \\frac{1}{2}\\right)}$$"
      ],
      "text/plain": [
       "   x      \n",
       "  2 ⋅√π   \n",
       "──────────\n",
       " ⎛  x   1⎞\n",
       "Γ⎜- ─ + ─⎟\n",
       " ⎝  2   2⎠"
      ]
     },
     "execution_count": 148,
     "metadata": {},
     "output_type": "execute_result"
    }
   ],
   "source": [
    "expr = sympy.special.polynomials.hermite(x, 0)\n",
    "expr"
   ]
  },
  {
   "cell_type": "code",
   "execution_count": 149,
   "metadata": {
    "colab": {
     "base_uri": "https://localhost:8080/",
     "height": 53
    },
    "executionInfo": {
     "elapsed": 5969,
     "status": "ok",
     "timestamp": 1611071771961,
     "user": {
      "displayName": "Boris Garbuzov",
      "photoUrl": "",
      "userId": "08851466340381164023"
     },
     "user_tz": 300
    },
    "id": "yhCbvEsANiO2",
    "outputId": "6b7b3fb9-91c0-458c-a524-b2fa9b01164b"
   },
   "outputs": [
    {
     "data": {
      "image/png": "[encoded data removed]",
      "text/latex": [
       "$$\\frac{2^{x} \\sqrt{\\pi} \\operatorname{polygamma}{\\left (0,- \\frac{x}{2} + \\frac{1}{2} \\right )}}{2 \\Gamma\\left(- \\frac{x}{2} + \\frac{1}{2}\\right)} + \\frac{2^{x} \\sqrt{\\pi} \\log{\\left (2 \\right )}}{\\Gamma\\left(- \\frac{x}{2} + \\frac{1}{2}\\right)}$$"
      ],
      "text/plain": [
       " x             ⎛     x   1⎞               \n",
       "2 ⋅√π⋅polygamma⎜0, - ─ + ─⎟    x          \n",
       "               ⎝     2   2⎠   2 ⋅√π⋅log(2)\n",
       "─────────────────────────── + ────────────\n",
       "           ⎛  x   1⎞            ⎛  x   1⎞ \n",
       "        2⋅Γ⎜- ─ + ─⎟           Γ⎜- ─ + ─⎟ \n",
       "           ⎝  2   2⎠            ⎝  2   2⎠ "
      ]
     },
     "execution_count": 149,
     "metadata": {},
     "output_type": "execute_result"
    }
   ],
   "source": [
    "expr.diff(x)"
   ]
  },
  {
   "cell_type": "code",
   "execution_count": 150,
   "metadata": {
    "colab": {
     "base_uri": "https://localhost:8080/",
     "height": 53
    },
    "executionInfo": {
     "elapsed": 5959,
     "status": "ok",
     "timestamp": 1611071771964,
     "user": {
      "displayName": "Boris Garbuzov",
      "photoUrl": "",
      "userId": "08851466340381164023"
     },
     "user_tz": 300
    },
    "id": "2US1paHFTZb1",
    "outputId": "d712a6b6-ee7e-4eea-a041-66c6a2ea2f36"
   },
   "outputs": [
    {
     "data": {
      "image/png": "[encoded data removed]",
      "text/latex": [
       "$$\\frac{2^{x} \\sqrt{\\pi} \\operatorname{polygamma}{\\left (0,- \\frac{x}{2} + \\frac{1}{2} \\right )}}{2 \\Gamma\\left(- \\frac{x}{2} + \\frac{1}{2}\\right)} + \\frac{2^{x} \\sqrt{\\pi} \\log{\\left (2 \\right )}}{\\Gamma\\left(- \\frac{x}{2} + \\frac{1}{2}\\right)}$$"
      ],
      "text/plain": [
       " x             ⎛     x   1⎞               \n",
       "2 ⋅√π⋅polygamma⎜0, - ─ + ─⎟    x          \n",
       "               ⎝     2   2⎠   2 ⋅√π⋅log(2)\n",
       "─────────────────────────── + ────────────\n",
       "           ⎛  x   1⎞            ⎛  x   1⎞ \n",
       "        2⋅Γ⎜- ─ + ─⎟           Γ⎜- ─ + ─⎟ \n",
       "           ⎝  2   2⎠            ⎝  2   2⎠ "
      ]
     },
     "execution_count": 150,
     "metadata": {},
     "output_type": "execute_result"
    }
   ],
   "source": [
    "expr.diff(x).doit()"
   ]
  },
  {
   "cell_type": "code",
   "execution_count": 151,
   "metadata": {
    "colab": {
     "base_uri": "https://localhost:8080/",
     "height": 39
    },
    "executionInfo": {
     "elapsed": 5951,
     "status": "ok",
     "timestamp": 1611071771965,
     "user": {
      "displayName": "Boris Garbuzov",
      "photoUrl": "",
      "userId": "08851466340381164023"
     },
     "user_tz": 300
    },
    "id": "A3FbBelgTZb1",
    "outputId": "9267089b-8d87-4a26-ed20-1c161f2dc73a"
   },
   "outputs": [
    {
     "data": {
      "image/png": "[encoded data removed]",
      "text/latex": [
       "$$\\frac{d}{d x} e^{\\cos{\\left (x \\right )}}$$"
      ],
      "text/plain": [
       "d ⎛ cos(x)⎞\n",
       "──⎝ℯ      ⎠\n",
       "dx         "
      ]
     },
     "execution_count": 151,
     "metadata": {},
     "output_type": "execute_result"
    }
   ],
   "source": [
    "d = sympy.Derivative(sympy.exp(sympy.cos(x)), x)\n",
    "d"
   ]
  },
  {
   "cell_type": "code",
   "execution_count": 152,
   "metadata": {
    "colab": {
     "base_uri": "https://localhost:8080/",
     "height": 39
    },
    "executionInfo": {
     "elapsed": 5939,
     "status": "ok",
     "timestamp": 1611071771966,
     "user": {
      "displayName": "Boris Garbuzov",
      "photoUrl": "",
      "userId": "08851466340381164023"
     },
     "user_tz": 300
    },
    "id": "FnUe8JxqTZb1",
    "outputId": "177d04a2-98b0-49f4-cc79-e70b8d8b7ddc"
   },
   "outputs": [
    {
     "data": {
      "image/png": "[encoded data removed]",
      "text/latex": [
       "$$- e^{\\cos{\\left (x \\right )}} \\sin{\\left (x \\right )}$$"
      ],
      "text/plain": [
       "  cos(x)       \n",
       "-ℯ      ⋅sin(x)"
      ]
     },
     "execution_count": 152,
     "metadata": {},
     "output_type": "execute_result"
    }
   ],
   "source": [
    "d.doit()"
   ]
  },
  {
   "cell_type": "markdown",
   "metadata": {
    "id": "DhxKXmOrTZb1"
   },
   "source": [
    "## Integrals"
   ]
  },
  {
   "cell_type": "code",
   "execution_count": 153,
   "metadata": {
    "executionInfo": {
     "elapsed": 5937,
     "status": "ok",
     "timestamp": 1611071771967,
     "user": {
      "displayName": "Boris Garbuzov",
      "photoUrl": "",
      "userId": "08851466340381164023"
     },
     "user_tz": 300
    },
    "id": "B8G8Rpm1TZb1"
   },
   "outputs": [],
   "source": [
    "a, b = sympy.symbols(\"a, b\")\n",
    "x, y = sympy.symbols('x, y')\n",
    "f = sympy.Function('f')(x)"
   ]
  },
  {
   "cell_type": "code",
   "execution_count": 154,
   "metadata": {
    "colab": {
     "base_uri": "https://localhost:8080/",
     "height": 39
    },
    "executionInfo": {
     "elapsed": 7045,
     "status": "ok",
     "timestamp": 1611071773086,
     "user": {
      "displayName": "Boris Garbuzov",
      "photoUrl": "",
      "userId": "08851466340381164023"
     },
     "user_tz": 300
    },
    "id": "AOtKGhWVTZb1",
    "outputId": "faf93016-62f0-4640-f086-fa915bfb6dbd"
   },
   "outputs": [
    {
     "data": {
      "image/png": "[encoded data removed]",
      "text/latex": [
       "$$\\int f{\\left (x \\right )}\\, dx$$"
      ],
      "text/plain": [
       "⌠        \n",
       "⎮ f(x) dx\n",
       "⌡        "
      ]
     },
     "execution_count": 154,
     "metadata": {},
     "output_type": "execute_result"
    }
   ],
   "source": [
    "sympy.integrate(f)"
   ]
  },
  {
   "cell_type": "code",
   "execution_count": 155,
   "metadata": {
    "colab": {
     "base_uri": "https://localhost:8080/",
     "height": 41
    },
    "executionInfo": {
     "elapsed": 7032,
     "status": "ok",
     "timestamp": 1611071773087,
     "user": {
      "displayName": "Boris Garbuzov",
      "photoUrl": "",
      "userId": "08851466340381164023"
     },
     "user_tz": 300
    },
    "id": "l5F9PQA0TZb1",
    "outputId": "666ab5e7-0a12-4cb5-a346-461d531e247e"
   },
   "outputs": [
    {
     "data": {
      "image/png": "[encoded data removed]",
      "text/latex": [
       "$$\\int_{a}^{b} f{\\left (x \\right )}\\, dx$$"
      ],
      "text/plain": [
       "b        \n",
       "⌠        \n",
       "⎮ f(x) dx\n",
       "⌡        \n",
       "a        "
      ]
     },
     "execution_count": 155,
     "metadata": {},
     "output_type": "execute_result"
    }
   ],
   "source": [
    "sympy.integrate(f, (x, a, b))"
   ]
  },
  {
   "cell_type": "code",
   "execution_count": 156,
   "metadata": {
    "colab": {
     "base_uri": "https://localhost:8080/",
     "height": 39
    },
    "executionInfo": {
     "elapsed": 7022,
     "status": "ok",
     "timestamp": 1611071773088,
     "user": {
      "displayName": "Boris Garbuzov",
      "photoUrl": "",
      "userId": "08851466340381164023"
     },
     "user_tz": 300
    },
    "id": "j0Po7IQATZb2",
    "outputId": "cd94b6bf-7692-415c-dd1f-e6857099c9bb"
   },
   "outputs": [
    {
     "data": {
      "image/png": "[encoded data removed]",
      "text/latex": [
       "$$- \\cos{\\left (x \\right )}$$"
      ],
      "text/plain": [
       "-cos(x)"
      ]
     },
     "execution_count": 156,
     "metadata": {},
     "output_type": "execute_result"
    }
   ],
   "source": [
    "sympy.integrate(sympy.sin(x), x)"
   ]
  },
  {
   "cell_type": "code",
   "execution_count": 157,
   "metadata": {
    "colab": {
     "base_uri": "https://localhost:8080/",
     "height": 39
    },
    "executionInfo": {
     "elapsed": 7012,
     "status": "ok",
     "timestamp": 1611071773090,
     "user": {
      "displayName": "Boris Garbuzov",
      "photoUrl": "",
      "userId": "08851466340381164023"
     },
     "user_tz": 300
    },
    "id": "gmIkt6m7TZb2",
    "outputId": "e94f94a3-7965-40f5-ddd4-1c4aa9415baa"
   },
   "outputs": [
    {
     "data": {
      "image/png": "[encoded data removed]",
      "text/latex": [
       "$$\\cos{\\left (a \\right )} - \\cos{\\left (b \\right )}$$"
      ],
      "text/plain": [
       "cos(a) - cos(b)"
      ]
     },
     "execution_count": 157,
     "metadata": {},
     "output_type": "execute_result"
    }
   ],
   "source": [
    "sympy.integrate(sympy.sin(x), (x, a, b))"
   ]
  },
  {
   "cell_type": "code",
   "execution_count": 158,
   "metadata": {
    "colab": {
     "base_uri": "https://localhost:8080/",
     "height": 40
    },
    "executionInfo": {
     "elapsed": 7004,
     "status": "ok",
     "timestamp": 1611071773090,
     "user": {
      "displayName": "Boris Garbuzov",
      "photoUrl": "",
      "userId": "08851466340381164023"
     },
     "user_tz": 300
    },
    "id": "tQfNFZ0UTZb2",
    "outputId": "15ffc394-5c72-47a5-a1d3-b1462700744f"
   },
   "outputs": [
    {
     "data": {
      "image/png": "[encoded data removed]",
      "text/latex": [
       "$$\\frac{\\sqrt{\\pi}}{2}$$"
      ],
      "text/plain": [
       "√π\n",
       "──\n",
       "2 "
      ]
     },
     "execution_count": 158,
     "metadata": {},
     "output_type": "execute_result"
    }
   ],
   "source": [
    "sympy.integrate(sympy.exp(-x**2), (x, 0, oo))"
   ]
  },
  {
   "cell_type": "code",
   "execution_count": 159,
   "metadata": {
    "executionInfo": {
     "elapsed": 7004,
     "status": "ok",
     "timestamp": 1611071773091,
     "user": {
      "displayName": "Boris Garbuzov",
      "photoUrl": "",
      "userId": "08851466340381164023"
     },
     "user_tz": 300
    },
    "id": "_qBpH2_GTZb2"
   },
   "outputs": [],
   "source": [
    "a, b, c = sympy.symbols(\"a, b, c\", positive=True)"
   ]
  },
  {
   "cell_type": "code",
   "execution_count": 160,
   "metadata": {
    "colab": {
     "base_uri": "https://localhost:8080/",
     "height": 39
    },
    "executionInfo": {
     "elapsed": 6996,
     "status": "ok",
     "timestamp": 1611071773091,
     "user": {
      "displayName": "Boris Garbuzov",
      "photoUrl": "",
      "userId": "08851466340381164023"
     },
     "user_tz": 300
    },
    "id": "XhvaMDj_TZb2",
    "outputId": "6b02816e-ecb4-47b9-c95c-adb0b33149bd"
   },
   "outputs": [
    {
     "data": {
      "image/png": "[encoded data removed]",
      "text/latex": [
       "$$\\sqrt{\\pi} a c$$"
      ],
      "text/plain": [
       "√π⋅a⋅c"
      ]
     },
     "execution_count": 160,
     "metadata": {},
     "output_type": "execute_result"
    }
   ],
   "source": [
    "sympy.integrate(a * sympy.exp(-((x-b)/c)**2), (x, -oo, oo))"
   ]
  },
  {
   "cell_type": "code",
   "execution_count": 161,
   "metadata": {
    "colab": {
     "base_uri": "https://localhost:8080/",
     "height": 39
    },
    "executionInfo": {
     "elapsed": 7698,
     "status": "ok",
     "timestamp": 1611071773801,
     "user": {
      "displayName": "Boris Garbuzov",
      "photoUrl": "",
      "userId": "08851466340381164023"
     },
     "user_tz": 300
    },
    "id": "He0DIlpXTZb2",
    "outputId": "77a9b7d3-1470-45d0-b935-af5dbb08260b"
   },
   "outputs": [
    {
     "data": {
      "image/png": "[encoded data removed]",
      "text/latex": [
       "$$\\int \\sin{\\left (x \\cos{\\left (x \\right )} \\right )}\\, dx$$"
      ],
      "text/plain": [
       "⌠                 \n",
       "⎮ sin(x⋅cos(x)) dx\n",
       "⌡                 "
      ]
     },
     "execution_count": 161,
     "metadata": {},
     "output_type": "execute_result"
    }
   ],
   "source": [
    "sympy.integrate(sympy.sin(x * sympy.cos(x)))"
   ]
  },
  {
   "cell_type": "code",
   "execution_count": 162,
   "metadata": {
    "colab": {
     "base_uri": "https://localhost:8080/",
     "height": 39
    },
    "executionInfo": {
     "elapsed": 7692,
     "status": "ok",
     "timestamp": 1611071773802,
     "user": {
      "displayName": "Boris Garbuzov",
      "photoUrl": "",
      "userId": "08851466340381164023"
     },
     "user_tz": 300
    },
    "id": "1BJEY9D8OyzE",
    "outputId": "7408775f-6ff0-4ee2-a1c7-e82b5e9cf827"
   },
   "outputs": [
    {
     "data": {
      "image/png": "[encoded data removed]",
      "text/latex": [
       "$$\\int \\sin{\\left (x \\cos{\\left (x \\right )} \\right )}\\, dx$$"
      ],
      "text/plain": [
       "⌠                 \n",
       "⎮ sin(x⋅cos(x)) dx\n",
       "⌡                 "
      ]
     },
     "execution_count": 162,
     "metadata": {},
     "output_type": "execute_result"
    }
   ],
   "source": [
    "sympy.integrate(sympy.sin(x * sympy.cos(x))).doit()"
   ]
  },
  {
   "cell_type": "code",
   "execution_count": 163,
   "metadata": {
    "colab": {
     "base_uri": "https://localhost:8080/",
     "height": 39
    },
    "executionInfo": {
     "elapsed": 9323,
     "status": "ok",
     "timestamp": 1611071775445,
     "user": {
      "displayName": "Boris Garbuzov",
      "photoUrl": "",
      "userId": "08851466340381164023"
     },
     "user_tz": 300
    },
    "id": "QkVakz-iPE1-",
    "outputId": "77d71e2d-726b-4f1f-af18-771e4cb95126"
   },
   "outputs": [
    {
     "data": {
      "image/png": "[encoded data removed]",
      "text/latex": [
       "$$\\operatorname{Si}{\\left (x \\right )}$$"
      ],
      "text/plain": [
       "Si(x)"
      ]
     },
     "execution_count": 163,
     "metadata": {},
     "output_type": "execute_result"
    }
   ],
   "source": [
    "sympy.integrate(sympy.sin(x)/x).doit()\n",
    "# stopped here"
   ]
  },
  {
   "cell_type": "code",
   "execution_count": 164,
   "metadata": {
    "executionInfo": {
     "elapsed": 9322,
     "status": "ok",
     "timestamp": 1611071775446,
     "user": {
      "displayName": "Boris Garbuzov",
      "photoUrl": "",
      "userId": "08851466340381164023"
     },
     "user_tz": 300
    },
    "id": "o5zkks7sTZb2"
   },
   "outputs": [],
   "source": [
    "expr = sympy.sin(x*sympy.exp(y))"
   ]
  },
  {
   "cell_type": "code",
   "execution_count": 165,
   "metadata": {
    "colab": {
     "base_uri": "https://localhost:8080/",
     "height": 39
    },
    "executionInfo": {
     "elapsed": 9315,
     "status": "ok",
     "timestamp": 1611071775447,
     "user": {
      "displayName": "Boris Garbuzov",
      "photoUrl": "",
      "userId": "08851466340381164023"
     },
     "user_tz": 300
    },
    "id": "zguUxG1JTZb2",
    "outputId": "718370a2-bede-46c5-92c7-6675c3a99c92"
   },
   "outputs": [
    {
     "data": {
      "image/png": "[encoded data removed]",
      "text/latex": [
       "$$- e^{- y} \\cos{\\left (x e^{y} \\right )}$$"
      ],
      "text/plain": [
       "  -y    ⎛   y⎞\n",
       "-ℯ  ⋅cos⎝x⋅ℯ ⎠"
      ]
     },
     "execution_count": 165,
     "metadata": {},
     "output_type": "execute_result"
    }
   ],
   "source": [
    "sympy.integrate(expr, x)"
   ]
  },
  {
   "cell_type": "code",
   "execution_count": 166,
   "metadata": {
    "executionInfo": {
     "elapsed": 9315,
     "status": "ok",
     "timestamp": 1611071775447,
     "user": {
      "displayName": "Boris Garbuzov",
      "photoUrl": "",
      "userId": "08851466340381164023"
     },
     "user_tz": 300
    },
    "id": "zPOObWVsTZb2"
   },
   "outputs": [],
   "source": [
    "expr = (x + y)**2"
   ]
  },
  {
   "cell_type": "code",
   "execution_count": 167,
   "metadata": {
    "colab": {
     "base_uri": "https://localhost:8080/",
     "height": 40
    },
    "executionInfo": {
     "elapsed": 9306,
     "status": "ok",
     "timestamp": 1611071775448,
     "user": {
      "displayName": "Boris Garbuzov",
      "photoUrl": "",
      "userId": "08851466340381164023"
     },
     "user_tz": 300
    },
    "id": "raQMG_VqTZb3",
    "outputId": "0d845dcc-b08e-4ed4-a91b-cc83a8b4d4c6"
   },
   "outputs": [
    {
     "data": {
      "image/png": "[encoded data removed]",
      "text/latex": [
       "$$\\frac{x^{3}}{3} + x^{2} y + x y^{2}$$"
      ],
      "text/plain": [
       " 3              \n",
       "x     2        2\n",
       "── + x ⋅y + x⋅y \n",
       "3               "
      ]
     },
     "execution_count": 167,
     "metadata": {},
     "output_type": "execute_result"
    }
   ],
   "source": [
    "sympy.integrate(expr, x)"
   ]
  },
  {
   "cell_type": "code",
   "execution_count": 168,
   "metadata": {
    "colab": {
     "base_uri": "https://localhost:8080/",
     "height": 41
    },
    "executionInfo": {
     "elapsed": 9298,
     "status": "ok",
     "timestamp": 1611071775448,
     "user": {
      "displayName": "Boris Garbuzov",
      "photoUrl": "",
      "userId": "08851466340381164023"
     },
     "user_tz": 300
    },
    "id": "HpcSntdGTZb3",
    "outputId": "78288106-b9aa-4d2c-8e2b-45ff7d7199c8"
   },
   "outputs": [
    {
     "data": {
      "image/png": "[encoded data removed]",
      "text/latex": [
       "$$\\frac{x^{3} y}{3} + \\frac{x^{2} y^{2}}{2} + \\frac{x y^{3}}{3}$$"
      ],
      "text/plain": [
       " 3      2  2      3\n",
       "x ⋅y   x ⋅y    x⋅y \n",
       "──── + ───── + ────\n",
       " 3       2      3  "
      ]
     },
     "execution_count": 168,
     "metadata": {},
     "output_type": "execute_result"
    }
   ],
   "source": [
    "sympy.integrate(expr, x, y)"
   ]
  },
  {
   "cell_type": "code",
   "execution_count": 169,
   "metadata": {
    "colab": {
     "base_uri": "https://localhost:8080/",
     "height": 38
    },
    "executionInfo": {
     "elapsed": 9285,
     "status": "ok",
     "timestamp": 1611071775449,
     "user": {
      "displayName": "Boris Garbuzov",
      "photoUrl": "",
      "userId": "08851466340381164023"
     },
     "user_tz": 300
    },
    "id": "V-uuvrm7TZb3",
    "outputId": "71215353-042e-4004-8834-7feafbe7eb6f"
   },
   "outputs": [
    {
     "data": {
      "image/png": "[encoded data removed]",
      "text/latex": [
       "$$\\frac{7}{6}$$"
      ],
      "text/plain": [
       "7/6"
      ]
     },
     "execution_count": 169,
     "metadata": {},
     "output_type": "execute_result"
    }
   ],
   "source": [
    "sympy.integrate(expr, (x, 0, 1), (y, 0, 1))"
   ]
  },
  {
   "cell_type": "markdown",
   "metadata": {
    "id": "1W0gaMQMTZb3"
   },
   "source": [
    "## Series"
   ]
  },
  {
   "cell_type": "code",
   "execution_count": 170,
   "metadata": {
    "executionInfo": {
     "elapsed": 9283,
     "status": "ok",
     "timestamp": 1611071775450,
     "user": {
      "displayName": "Boris Garbuzov",
      "photoUrl": "",
      "userId": "08851466340381164023"
     },
     "user_tz": 300
    },
    "id": "zxvMP0sSTZb3"
   },
   "outputs": [],
   "source": [
    "x = sympy.Symbol(\"x\")"
   ]
  },
  {
   "cell_type": "code",
   "execution_count": 171,
   "metadata": {
    "executionInfo": {
     "elapsed": 9281,
     "status": "ok",
     "timestamp": 1611071775450,
     "user": {
      "displayName": "Boris Garbuzov",
      "photoUrl": "",
      "userId": "08851466340381164023"
     },
     "user_tz": 300
    },
    "id": "Fsd5KgHzTZb3"
   },
   "outputs": [],
   "source": [
    "f = sympy.Function(\"f\")(x)"
   ]
  },
  {
   "cell_type": "code",
   "execution_count": 172,
   "metadata": {
    "colab": {
     "base_uri": "https://localhost:8080/",
     "height": 51
    },
    "executionInfo": {
     "elapsed": 9269,
     "status": "ok",
     "timestamp": 1611071775450,
     "user": {
      "displayName": "Boris Garbuzov",
      "photoUrl": "",
      "userId": "08851466340381164023"
     },
     "user_tz": 300
    },
    "id": "zqbXxQwwTZb3",
    "outputId": "ab954dbb-685f-4191-d663-3c076a403835"
   },
   "outputs": [
    {
     "data": {
      "text/latex": [
       "$$f{\\left (0 \\right )} + x \\left. \\frac{d}{d x} f{\\left (x \\right )} \\right|_{\\substack{ x=0 }} + \\frac{x^{2} \\left. \\frac{d^{2}}{d x^{2}} f{\\left (x \\right )} \\right|_{\\substack{ x=0 }}}{2} + \\frac{x^{3} \\left. \\frac{d^{3}}{d x^{3}} f{\\left (x \\right )} \\right|_{\\substack{ x=0 }}}{6} + \\frac{x^{4} \\left. \\frac{d^{4}}{d x^{4}} f{\\left (x \\right )} \\right|_{\\substack{ x=0 }}}{24} + \\frac{x^{5} \\left. \\frac{d^{5}}{d x^{5}} f{\\left (x \\right )} \\right|_{\\substack{ x=0 }}}{120} + O\\left(x^{6}\\right)$$"
      ],
      "text/plain": [
       "                             ⎛  2      ⎞│         ⎛  3      ⎞│         ⎛  4   \n",
       "                           2 ⎜ d       ⎟│       3 ⎜ d       ⎟│       4 ⎜ d    \n",
       "                          x ⋅⎜───(f(x))⎟│      x ⋅⎜───(f(x))⎟│      x ⋅⎜───(f(\n",
       "                             ⎜  2      ⎟│         ⎜  3      ⎟│         ⎜  4   \n",
       "         ⎛d       ⎞│         ⎝dx       ⎠│x=0      ⎝dx       ⎠│x=0      ⎝dx    \n",
       "f(0) + x⋅⎜──(f(x))⎟│    + ────────────────── + ────────────────── + ──────────\n",
       "         ⎝dx      ⎠│x=0           2                    6                    24\n",
       "\n",
       "   ⎞│         ⎛  5      ⎞│           \n",
       "   ⎟│       5 ⎜ d       ⎟│           \n",
       "x))⎟│      x ⋅⎜───(f(x))⎟│           \n",
       "   ⎟│         ⎜  5      ⎟│           \n",
       "   ⎠│x=0      ⎝dx       ⎠│x=0    ⎛ 6⎞\n",
       "──────── + ────────────────── + O⎝x ⎠\n",
       "                  120                "
      ]
     },
     "execution_count": 172,
     "metadata": {},
     "output_type": "execute_result"
    }
   ],
   "source": [
    "sympy.series(f, x)"
   ]
  },
  {
   "cell_type": "code",
   "execution_count": 173,
   "metadata": {
    "executionInfo": {
     "elapsed": 9266,
     "status": "ok",
     "timestamp": 1611071775450,
     "user": {
      "displayName": "Boris Garbuzov",
      "photoUrl": "",
      "userId": "08851466340381164023"
     },
     "user_tz": 300
    },
    "id": "qCNcoW6rTZb3"
   },
   "outputs": [],
   "source": [
    "x0 = sympy.Symbol(\"{x_0}\")"
   ]
  },
  {
   "cell_type": "code",
   "execution_count": 174,
   "metadata": {
    "colab": {
     "base_uri": "https://localhost:8080/",
     "height": 51
    },
    "executionInfo": {
     "elapsed": 9255,
     "status": "ok",
     "timestamp": 1611071775452,
     "user": {
      "displayName": "Boris Garbuzov",
      "photoUrl": "",
      "userId": "08851466340381164023"
     },
     "user_tz": 300
    },
    "id": "ks75Om-STZb3",
    "outputId": "b3997298-2bea-4322-a086-b05822574682"
   },
   "outputs": [
    {
     "data": {
      "text/latex": [
       "$$f{\\left ({x_0} \\right )} + \\left(x - {x_0}\\right) \\left. \\frac{d}{d \\xi_{1}} f{\\left (\\xi_{1} \\right )} \\right|_{\\substack{ \\xi_{1}={x_0} }} + O\\left(\\left(x - {x_0}\\right)^{2}; x\\rightarrow {x_0}\\right)$$"
      ],
      "text/plain": [
       "                       ⎛ d        ⎞│            ⎛           2           ⎞\n",
       "f({x_0}) + (x - {x_0})⋅⎜───(f(ξ₁))⎟│         + O⎝(x - {x_0}) ; x → {x_0}⎠\n",
       "                       ⎝dξ₁       ⎠│ξ₁={x_0}                             "
      ]
     },
     "execution_count": 174,
     "metadata": {},
     "output_type": "execute_result"
    }
   ],
   "source": [
    "f.series(x, x0, n=2)"
   ]
  },
  {
   "cell_type": "code",
   "execution_count": 175,
   "metadata": {
    "colab": {
     "base_uri": "https://localhost:8080/",
     "height": 51
    },
    "executionInfo": {
     "elapsed": 9248,
     "status": "ok",
     "timestamp": 1611071775452,
     "user": {
      "displayName": "Boris Garbuzov",
      "photoUrl": "",
      "userId": "08851466340381164023"
     },
     "user_tz": 300
    },
    "id": "se5Fg9hZTZb3",
    "outputId": "fbeebb5d-6979-442a-b69d-3f81c2fab6fb"
   },
   "outputs": [
    {
     "data": {
      "text/latex": [
       "$$\\left(x - {x_0}\\right) \\left. \\frac{d}{d \\xi_{1}} f{\\left (\\xi_{1} \\right )} \\right|_{\\substack{ \\xi_{1}={x_0} }} + f{\\left ({x_0} \\right )}$$"
      ],
      "text/plain": [
       "            ⎛ d        ⎞│                   \n",
       "(x - {x_0})⋅⎜───(f(ξ₁))⎟│         + f({x_0})\n",
       "            ⎝dξ₁       ⎠│ξ₁={x_0}           "
      ]
     },
     "execution_count": 175,
     "metadata": {},
     "output_type": "execute_result"
    }
   ],
   "source": [
    "f.series(x, x0, n=2).removeO()"
   ]
  },
  {
   "cell_type": "code",
   "execution_count": 176,
   "metadata": {
    "colab": {
     "base_uri": "https://localhost:8080/",
     "height": 40
    },
    "executionInfo": {
     "elapsed": 9240,
     "status": "ok",
     "timestamp": 1611071775453,
     "user": {
      "displayName": "Boris Garbuzov",
      "photoUrl": "",
      "userId": "08851466340381164023"
     },
     "user_tz": 300
    },
    "id": "598N-JnuTZb4",
    "outputId": "e18410c6-984d-4ba6-938b-2bb5f7219106"
   },
   "outputs": [
    {
     "data": {
      "image/png": "[encoded data removed]",
      "text/latex": [
       "$$1 - \\frac{x^{2}}{2} + \\frac{x^{4}}{24} + O\\left(x^{6}\\right)$$"
      ],
      "text/plain": [
       "     2    4        \n",
       "    x    x     ⎛ 6⎞\n",
       "1 - ── + ── + O⎝x ⎠\n",
       "    2    24        "
      ]
     },
     "execution_count": 176,
     "metadata": {},
     "output_type": "execute_result"
    }
   ],
   "source": [
    "sympy.cos(x).series()"
   ]
  },
  {
   "cell_type": "code",
   "execution_count": 177,
   "metadata": {
    "colab": {
     "base_uri": "https://localhost:8080/",
     "height": 40
    },
    "executionInfo": {
     "elapsed": 10048,
     "status": "ok",
     "timestamp": 1611071776269,
     "user": {
      "displayName": "Boris Garbuzov",
      "photoUrl": "",
      "userId": "08851466340381164023"
     },
     "user_tz": 300
    },
    "id": "QVUSAKm7TZb4",
    "outputId": "0a34a835-f305-4df2-e933-9fc011843f8e"
   },
   "outputs": [
    {
     "data": {
      "image/png": "[encoded data removed]",
      "text/latex": [
       "$$x - \\frac{x^{3}}{6} + \\frac{x^{5}}{120} + O\\left(x^{6}\\right)$$"
      ],
      "text/plain": [
       "     3     5        \n",
       "    x     x     ⎛ 6⎞\n",
       "x - ── + ─── + O⎝x ⎠\n",
       "    6    120        "
      ]
     },
     "execution_count": 177,
     "metadata": {},
     "output_type": "execute_result"
    }
   ],
   "source": [
    "sympy.sin(x).series()"
   ]
  },
  {
   "cell_type": "code",
   "execution_count": 178,
   "metadata": {
    "colab": {
     "base_uri": "https://localhost:8080/",
     "height": 40
    },
    "executionInfo": {
     "elapsed": 10038,
     "status": "ok",
     "timestamp": 1611071776271,
     "user": {
      "displayName": "Boris Garbuzov",
      "photoUrl": "",
      "userId": "08851466340381164023"
     },
     "user_tz": 300
    },
    "id": "bk6_PyF0TZb4",
    "outputId": "0f00ede5-27d8-4da3-cbcd-1c11656b6939"
   },
   "outputs": [
    {
     "data": {
      "image/png": "[encoded data removed]",
      "text/latex": [
       "$$1 + x + \\frac{x^{2}}{2} + \\frac{x^{3}}{6} + \\frac{x^{4}}{24} + \\frac{x^{5}}{120} + O\\left(x^{6}\\right)$$"
      ],
      "text/plain": [
       "         2    3    4     5        \n",
       "        x    x    x     x     ⎛ 6⎞\n",
       "1 + x + ── + ── + ── + ─── + O⎝x ⎠\n",
       "        2    6    24   120        "
      ]
     },
     "execution_count": 178,
     "metadata": {},
     "output_type": "execute_result"
    }
   ],
   "source": [
    "sympy.exp(x).series()"
   ]
  },
  {
   "cell_type": "code",
   "execution_count": 179,
   "metadata": {
    "colab": {
     "base_uri": "https://localhost:8080/",
     "height": 39
    },
    "executionInfo": {
     "elapsed": 10029,
     "status": "ok",
     "timestamp": 1611071776272,
     "user": {
      "displayName": "Boris Garbuzov",
      "photoUrl": "",
      "userId": "08851466340381164023"
     },
     "user_tz": 300
    },
    "id": "XJAJmsFGTZb4",
    "outputId": "b8ba4f4d-c754-4027-af88-20d4d27590c0"
   },
   "outputs": [
    {
     "data": {
      "image/png": "[encoded data removed]",
      "text/latex": [
       "$$1 - x + x^{2} - x^{3} + x^{4} - x^{5} + O\\left(x^{6}\\right)$$"
      ],
      "text/plain": [
       "         2    3    4    5    ⎛ 6⎞\n",
       "1 - x + x  - x  + x  - x  + O⎝x ⎠"
      ]
     },
     "execution_count": 179,
     "metadata": {},
     "output_type": "execute_result"
    }
   ],
   "source": [
    "(1/(1+x)).series()"
   ]
  },
  {
   "cell_type": "code",
   "execution_count": 180,
   "metadata": {
    "executionInfo": {
     "elapsed": 10029,
     "status": "ok",
     "timestamp": 1611071776273,
     "user": {
      "displayName": "Boris Garbuzov",
      "photoUrl": "",
      "userId": "08851466340381164023"
     },
     "user_tz": 300
    },
    "id": "HthkWdH-TZb4"
   },
   "outputs": [],
   "source": [
    "expr = sympy.cos(x) / (1 + sympy.sin(x * y))"
   ]
  },
  {
   "cell_type": "code",
   "execution_count": 181,
   "metadata": {
    "colab": {
     "base_uri": "https://localhost:8080/",
     "height": 48
    },
    "executionInfo": {
     "elapsed": 10022,
     "status": "ok",
     "timestamp": 1611071776274,
     "user": {
      "displayName": "Boris Garbuzov",
      "photoUrl": "",
      "userId": "08851466340381164023"
     },
     "user_tz": 300
    },
    "id": "TSZvxicZTZb4",
    "outputId": "87bebbfd-dc8e-4072-e386-8a8f4c1892d7"
   },
   "outputs": [
    {
     "data": {
      "image/png": "[encoded data removed]",
      "text/latex": [
       "$$1 - x y + x^{2} \\left(y^{2} - \\frac{1}{2}\\right) + x^{3} \\left(- \\frac{5 y^{3}}{6} + \\frac{y}{2}\\right) + O\\left(x^{4}\\right)$$"
      ],
      "text/plain": [
       "                           ⎛     3    ⎞        \n",
       "           2 ⎛ 2   1⎞    3 ⎜  5⋅y    y⎟    ⎛ 4⎞\n",
       "1 - x⋅y + x ⋅⎜y  - ─⎟ + x ⋅⎜- ──── + ─⎟ + O⎝x ⎠\n",
       "             ⎝     2⎠      ⎝   6     2⎠        "
      ]
     },
     "execution_count": 181,
     "metadata": {},
     "output_type": "execute_result"
    }
   ],
   "source": [
    "expr.series(x, n=4)"
   ]
  },
  {
   "cell_type": "code",
   "execution_count": 182,
   "metadata": {
    "colab": {
     "base_uri": "https://localhost:8080/",
     "height": 40
    },
    "executionInfo": {
     "elapsed": 11161,
     "status": "ok",
     "timestamp": 1611071777422,
     "user": {
      "displayName": "Boris Garbuzov",
      "photoUrl": "",
      "userId": "08851466340381164023"
     },
     "user_tz": 300
    },
    "id": "C80TZtc2TZb4",
    "outputId": "0ff723ac-a39f-4bfc-81aa-d403efd8c09d"
   },
   "outputs": [
    {
     "data": {
      "image/png": "[encoded data removed]",
      "text/latex": [
       "$$\\cos{\\left (x \\right )} - x y \\cos{\\left (x \\right )} + x^{2} y^{2} \\cos{\\left (x \\right )} - \\frac{5 x^{3} y^{3} \\cos{\\left (x \\right )}}{6} + O\\left(y^{4}\\right)$$"
      ],
      "text/plain": [
       "                                        3  3               \n",
       "                       2  2          5⋅x ⋅y ⋅cos(x)    ⎛ 4⎞\n",
       "cos(x) - x⋅y⋅cos(x) + x ⋅y ⋅cos(x) - ────────────── + O⎝y ⎠\n",
       "                                           6               "
      ]
     },
     "execution_count": 182,
     "metadata": {},
     "output_type": "execute_result"
    }
   ],
   "source": [
    "expr.series(y, n=4)"
   ]
  },
  {
   "cell_type": "code",
   "execution_count": 183,
   "metadata": {
    "colab": {
     "base_uri": "https://localhost:8080/",
     "height": 41
    },
    "executionInfo": {
     "elapsed": 11902,
     "status": "ok",
     "timestamp": 1611071778172,
     "user": {
      "displayName": "Boris Garbuzov",
      "photoUrl": "",
      "userId": "08851466340381164023"
     },
     "user_tz": 300
    },
    "id": "jKck2-lKTZb4",
    "outputId": "dd98d42e-a5cb-45eb-ea6e-50fa122ddb68"
   },
   "outputs": [
    {
     "data": {
      "image/png": "[encoded data removed]",
      "text/latex": [
       "$$- \\frac{61 x^{5} y^{5}}{120} + \\frac{5 x^{5} y^{3}}{12} - \\frac{x^{5} y}{24} + \\frac{2 x^{4} y^{4}}{3} - \\frac{x^{4} y^{2}}{2} + \\frac{x^{4}}{24} - \\frac{5 x^{3} y^{3}}{6} + \\frac{x^{3} y}{2} + x^{2} y^{2} - \\frac{x^{2}}{2} - x y + 1$$"
      ],
      "text/plain": [
       "      5  5      5  3    5        4  4    4  2    4      3  3    3             \n",
       "  61⋅x ⋅y    5⋅x ⋅y    x ⋅y   2⋅x ⋅y    x ⋅y    x    5⋅x ⋅y    x ⋅y    2  2   \n",
       "- ──────── + ─────── - ──── + ─────── - ───── + ── - ─────── + ──── + x ⋅y  - \n",
       "    120         12      24       3        2     24      6       2             \n",
       "\n",
       " 2          \n",
       "x           \n",
       "── - x⋅y + 1\n",
       "2           "
      ]
     },
     "execution_count": 183,
     "metadata": {},
     "output_type": "execute_result"
    }
   ],
   "source": [
    "expr.series(y).removeO().series(x).removeO().expand()"
   ]
  },
  {
   "cell_type": "markdown",
   "metadata": {
    "id": "x7mUdeZUTZb5"
   },
   "source": [
    "## Limits"
   ]
  },
  {
   "cell_type": "code",
   "execution_count": 184,
   "metadata": {
    "colab": {
     "base_uri": "https://localhost:8080/",
     "height": 37
    },
    "executionInfo": {
     "elapsed": 11891,
     "status": "ok",
     "timestamp": 1611071778173,
     "user": {
      "displayName": "Boris Garbuzov",
      "photoUrl": "",
      "userId": "08851466340381164023"
     },
     "user_tz": 300
    },
    "id": "5lsVuZvUTZb5",
    "outputId": "3a14e070-adc0-40a6-b4fc-6b277de44747"
   },
   "outputs": [
    {
     "data": {
      "image/png": "[encoded data removed]",
      "text/latex": [
       "$$1$$"
      ],
      "text/plain": [
       "1"
      ]
     },
     "execution_count": 184,
     "metadata": {},
     "output_type": "execute_result"
    }
   ],
   "source": [
    "sympy.limit(sympy.sin(x) / x, x, 0)"
   ]
  },
  {
   "cell_type": "code",
   "execution_count": 185,
   "metadata": {
    "executionInfo": {
     "elapsed": 11891,
     "status": "ok",
     "timestamp": 1611071778174,
     "user": {
      "displayName": "Boris Garbuzov",
      "photoUrl": "",
      "userId": "08851466340381164023"
     },
     "user_tz": 300
    },
    "id": "ziz8ShR0TZb5"
   },
   "outputs": [],
   "source": [
    "f = sympy.Function('f')\n",
    "x, h = sympy.symbols(\"x, h\")"
   ]
  },
  {
   "cell_type": "code",
   "execution_count": 186,
   "metadata": {
    "executionInfo": {
     "elapsed": 11891,
     "status": "ok",
     "timestamp": 1611071778175,
     "user": {
      "displayName": "Boris Garbuzov",
      "photoUrl": "",
      "userId": "08851466340381164023"
     },
     "user_tz": 300
    },
    "id": "aajcQFGYTZb5"
   },
   "outputs": [],
   "source": [
    "diff_limit = (f(x + h) - f(x))/h"
   ]
  },
  {
   "cell_type": "code",
   "execution_count": 187,
   "metadata": {
    "colab": {
     "base_uri": "https://localhost:8080/",
     "height": 39
    },
    "executionInfo": {
     "elapsed": 11884,
     "status": "ok",
     "timestamp": 1611071778176,
     "user": {
      "displayName": "Boris Garbuzov",
      "photoUrl": "",
      "userId": "08851466340381164023"
     },
     "user_tz": 300
    },
    "id": "SQCCkqxDTZb5",
    "outputId": "4907257a-0d95-4f10-f173-c59a4ed49db6"
   },
   "outputs": [
    {
     "data": {
      "image/png": "[encoded data removed]",
      "text/latex": [
       "$$- \\sin{\\left (x \\right )}$$"
      ],
      "text/plain": [
       "-sin(x)"
      ]
     },
     "execution_count": 187,
     "metadata": {},
     "output_type": "execute_result"
    }
   ],
   "source": [
    "sympy.limit(diff_limit.subs(f, sympy.cos), h, 0)"
   ]
  },
  {
   "cell_type": "code",
   "execution_count": 188,
   "metadata": {
    "colab": {
     "base_uri": "https://localhost:8080/",
     "height": 39
    },
    "executionInfo": {
     "elapsed": 11878,
     "status": "ok",
     "timestamp": 1611071778177,
     "user": {
      "displayName": "Boris Garbuzov",
      "photoUrl": "",
      "userId": "08851466340381164023"
     },
     "user_tz": 300
    },
    "id": "ib8miRZiTZb5",
    "outputId": "f16a1cd9-70a7-4840-f9d3-96b7bfb8ce91"
   },
   "outputs": [
    {
     "data": {
      "image/png": "[encoded data removed]",
      "text/latex": [
       "$$\\cos{\\left (x \\right )}$$"
      ],
      "text/plain": [
       "cos(x)"
      ]
     },
     "execution_count": 188,
     "metadata": {},
     "output_type": "execute_result"
    }
   ],
   "source": [
    "sympy.limit(diff_limit.subs(f, sympy.sin), h, 0)"
   ]
  },
  {
   "cell_type": "code",
   "execution_count": 189,
   "metadata": {
    "executionInfo": {
     "elapsed": 11876,
     "status": "ok",
     "timestamp": 1611071778177,
     "user": {
      "displayName": "Boris Garbuzov",
      "photoUrl": "",
      "userId": "08851466340381164023"
     },
     "user_tz": 300
    },
    "id": "WHhJ76XxTZb6"
   },
   "outputs": [],
   "source": [
    "expr = (x**2 - 3*x) / (2*x - 2)"
   ]
  },
  {
   "cell_type": "code",
   "execution_count": 190,
   "metadata": {
    "executionInfo": {
     "elapsed": 11875,
     "status": "ok",
     "timestamp": 1611071778177,
     "user": {
      "displayName": "Boris Garbuzov",
      "photoUrl": "",
      "userId": "08851466340381164023"
     },
     "user_tz": 300
    },
    "id": "Yy6nOmMYTZb6"
   },
   "outputs": [],
   "source": [
    "p = sympy.limit(expr/x, x, oo)"
   ]
  },
  {
   "cell_type": "code",
   "execution_count": 191,
   "metadata": {
    "executionInfo": {
     "elapsed": 11874,
     "status": "ok",
     "timestamp": 1611071778178,
     "user": {
      "displayName": "Boris Garbuzov",
      "photoUrl": "",
      "userId": "08851466340381164023"
     },
     "user_tz": 300
    },
    "id": "rnet3ZmSTZb6"
   },
   "outputs": [],
   "source": [
    "q = sympy.limit(expr - p*x, x, oo)"
   ]
  },
  {
   "cell_type": "code",
   "execution_count": 192,
   "metadata": {
    "colab": {
     "base_uri": "https://localhost:8080/",
     "height": 38
    },
    "executionInfo": {
     "elapsed": 11866,
     "status": "ok",
     "timestamp": 1611071778178,
     "user": {
      "displayName": "Boris Garbuzov",
      "photoUrl": "",
      "userId": "08851466340381164023"
     },
     "user_tz": 300
    },
    "id": "p0sbZY7BTZb6",
    "outputId": "9cc44984-5a8b-4404-8d53-a7d8f3215a65"
   },
   "outputs": [
    {
     "data": {
      "image/png": "[encoded data removed]",
      "text/latex": [
       "$$\\left ( \\frac{1}{2}, \\quad -1\\right )$$"
      ],
      "text/plain": [
       "(1/2, -1)"
      ]
     },
     "execution_count": 192,
     "metadata": {},
     "output_type": "execute_result"
    }
   ],
   "source": [
    "p, q"
   ]
  },
  {
   "cell_type": "markdown",
   "metadata": {
    "id": "pQycFjmTTZb6"
   },
   "source": [
    "## Sums and products"
   ]
  },
  {
   "cell_type": "code",
   "execution_count": 193,
   "metadata": {
    "executionInfo": {
     "elapsed": 11863,
     "status": "ok",
     "timestamp": 1611071778178,
     "user": {
      "displayName": "Boris Garbuzov",
      "photoUrl": "",
      "userId": "08851466340381164023"
     },
     "user_tz": 300
    },
    "id": "vb_s3FoyTZb6"
   },
   "outputs": [],
   "source": [
    "n = sympy.symbols(\"n\", integer=True)"
   ]
  },
  {
   "cell_type": "code",
   "execution_count": 194,
   "metadata": {
    "executionInfo": {
     "elapsed": 11863,
     "status": "ok",
     "timestamp": 1611071778179,
     "user": {
      "displayName": "Boris Garbuzov",
      "photoUrl": "",
      "userId": "08851466340381164023"
     },
     "user_tz": 300
    },
    "id": "MWVEg7YdTZb6"
   },
   "outputs": [],
   "source": [
    "x = sympy.Sum(1/(n**2), (n, 1, oo))"
   ]
  },
  {
   "cell_type": "code",
   "execution_count": 195,
   "metadata": {
    "colab": {
     "base_uri": "https://localhost:8080/",
     "height": 38
    },
    "executionInfo": {
     "elapsed": 11854,
     "status": "ok",
     "timestamp": 1611071778179,
     "user": {
      "displayName": "Boris Garbuzov",
      "photoUrl": "",
      "userId": "08851466340381164023"
     },
     "user_tz": 300
    },
    "id": "_LcQkhhqTZb6",
    "outputId": "65549b80-d829-43d5-a9a2-81258b732c2d"
   },
   "outputs": [
    {
     "data": {
      "image/png": "[encoded data removed]",
      "text/latex": [
       "$$\\sum_{n=1}^{\\infty} \\frac{1}{n^{2}}$$"
      ],
      "text/plain": [
       "  ∞     \n",
       " ____   \n",
       " ╲      \n",
       "  ╲   1 \n",
       "   ╲  ──\n",
       "   ╱   2\n",
       "  ╱   n \n",
       " ╱      \n",
       " ‾‾‾‾   \n",
       "n = 1   "
      ]
     },
     "execution_count": 195,
     "metadata": {},
     "output_type": "execute_result"
    }
   ],
   "source": [
    "x"
   ]
  },
  {
   "cell_type": "code",
   "execution_count": 196,
   "metadata": {
    "colab": {
     "base_uri": "https://localhost:8080/",
     "height": 40
    },
    "executionInfo": {
     "elapsed": 11849,
     "status": "ok",
     "timestamp": 1611071778181,
     "user": {
      "displayName": "Boris Garbuzov",
      "photoUrl": "",
      "userId": "08851466340381164023"
     },
     "user_tz": 300
    },
    "id": "bFy_kLJATZb6",
    "outputId": "043c009d-93c7-4187-8091-c759113cccbb"
   },
   "outputs": [
    {
     "data": {
      "image/png": "[encoded data removed]",
      "text/latex": [
       "$$\\frac{\\pi^{2}}{6}$$"
      ],
      "text/plain": [
       " 2\n",
       "π \n",
       "──\n",
       "6 "
      ]
     },
     "execution_count": 196,
     "metadata": {},
     "output_type": "execute_result"
    }
   ],
   "source": [
    "x.doit()"
   ]
  },
  {
   "cell_type": "code",
   "execution_count": 197,
   "metadata": {
    "executionInfo": {
     "elapsed": 11847,
     "status": "ok",
     "timestamp": 1611071778181,
     "user": {
      "displayName": "Boris Garbuzov",
      "photoUrl": "",
      "userId": "08851466340381164023"
     },
     "user_tz": 300
    },
    "id": "ZZlXNgTFTZb7"
   },
   "outputs": [],
   "source": [
    "x = sympy.Product(n, (n, 1, 7))"
   ]
  },
  {
   "cell_type": "code",
   "execution_count": 198,
   "metadata": {
    "colab": {
     "base_uri": "https://localhost:8080/",
     "height": 39
    },
    "executionInfo": {
     "elapsed": 11838,
     "status": "ok",
     "timestamp": 1611071778181,
     "user": {
      "displayName": "Boris Garbuzov",
      "photoUrl": "",
      "userId": "08851466340381164023"
     },
     "user_tz": 300
    },
    "id": "-YR7lm-ITZb7",
    "outputId": "1048ba45-f9e9-4ba3-bd74-43f2df6dbbac"
   },
   "outputs": [
    {
     "data": {
      "image/png": "[encoded data removed]",
      "text/latex": [
       "$$\\prod_{n=1}^{7} n$$"
      ],
      "text/plain": [
       "  7    \n",
       "┬───┬  \n",
       "│   │ n\n",
       "│   │  \n",
       "n = 1  "
      ]
     },
     "execution_count": 198,
     "metadata": {},
     "output_type": "execute_result"
    }
   ],
   "source": [
    "x"
   ]
  },
  {
   "cell_type": "code",
   "execution_count": 199,
   "metadata": {
    "colab": {
     "base_uri": "https://localhost:8080/",
     "height": 37
    },
    "executionInfo": {
     "elapsed": 11830,
     "status": "ok",
     "timestamp": 1611071778182,
     "user": {
      "displayName": "Boris Garbuzov",
      "photoUrl": "",
      "userId": "08851466340381164023"
     },
     "user_tz": 300
    },
    "id": "QWi49CyITZb7",
    "outputId": "3cd35632-324c-4692-f05c-faa5037eea42"
   },
   "outputs": [
    {
     "data": {
      "image/png": "[encoded data removed]",
      "text/latex": [
       "$$5040$$"
      ],
      "text/plain": [
       "5040"
      ]
     },
     "execution_count": 199,
     "metadata": {},
     "output_type": "execute_result"
    }
   ],
   "source": [
    "x.doit()"
   ]
  },
  {
   "cell_type": "code",
   "execution_count": 200,
   "metadata": {
    "executionInfo": {
     "elapsed": 11826,
     "status": "ok",
     "timestamp": 1611071778182,
     "user": {
      "displayName": "Boris Garbuzov",
      "photoUrl": "",
      "userId": "08851466340381164023"
     },
     "user_tz": 300
    },
    "id": "vnQHtyYMTZb7"
   },
   "outputs": [],
   "source": [
    "x = sympy.Symbol(\"x\")"
   ]
  },
  {
   "cell_type": "code",
   "execution_count": 201,
   "metadata": {
    "colab": {
     "base_uri": "https://localhost:8080/",
     "height": 39
    },
    "executionInfo": {
     "elapsed": 11820,
     "status": "ok",
     "timestamp": 1611071778186,
     "user": {
      "displayName": "Boris Garbuzov",
      "photoUrl": "",
      "userId": "08851466340381164023"
     },
     "user_tz": 300
    },
    "id": "5KxmzyFOTZb7",
    "outputId": "0e031e04-42ed-441b-85a3-fce5b0991517"
   },
   "outputs": [
    {
     "data": {
      "image/png": "[encoded data removed]",
      "text/latex": [
       "$$e^{x} - 1$$"
      ],
      "text/plain": [
       " x    \n",
       "ℯ  - 1"
      ]
     },
     "execution_count": 201,
     "metadata": {},
     "output_type": "execute_result"
    }
   ],
   "source": [
    "sympy.Sum((x)**n/(sympy.factorial(n)), (n, 1, oo)).doit().simplify()"
   ]
  },
  {
   "cell_type": "markdown",
   "metadata": {
    "id": "of1ekHoJTZb7"
   },
   "source": [
    "## Equations"
   ]
  },
  {
   "cell_type": "code",
   "execution_count": 202,
   "metadata": {
    "executionInfo": {
     "elapsed": 11819,
     "status": "ok",
     "timestamp": 1611071778187,
     "user": {
      "displayName": "Boris Garbuzov",
      "photoUrl": "",
      "userId": "08851466340381164023"
     },
     "user_tz": 300
    },
    "id": "47z4zT08TZb7"
   },
   "outputs": [],
   "source": [
    "x = sympy.symbols(\"x\")"
   ]
  },
  {
   "cell_type": "code",
   "execution_count": 203,
   "metadata": {
    "colab": {
     "base_uri": "https://localhost:8080/",
     "height": 37
    },
    "executionInfo": {
     "elapsed": 11811,
     "status": "ok",
     "timestamp": 1611071778187,
     "user": {
      "displayName": "Boris Garbuzov",
      "photoUrl": "",
      "userId": "08851466340381164023"
     },
     "user_tz": 300
    },
    "id": "kYUoCiAvTZb7",
    "outputId": "cd51ad64-470d-4e33-bfb1-2da113d7c997"
   },
   "outputs": [
    {
     "data": {
      "image/png": "[encoded data removed]",
      "text/latex": [
       "$$\\left [ -3, \\quad 1\\right ]$$"
      ],
      "text/plain": [
       "[-3, 1]"
      ]
     },
     "execution_count": 203,
     "metadata": {},
     "output_type": "execute_result"
    }
   ],
   "source": [
    "sympy.solve(x**2 + 2*x - 3)"
   ]
  },
  {
   "cell_type": "code",
   "execution_count": 204,
   "metadata": {
    "executionInfo": {
     "elapsed": 11810,
     "status": "ok",
     "timestamp": 1611071778187,
     "user": {
      "displayName": "Boris Garbuzov",
      "photoUrl": "",
      "userId": "08851466340381164023"
     },
     "user_tz": 300
    },
    "id": "6aTnrSCvTZb8"
   },
   "outputs": [],
   "source": [
    "a, b, c = sympy.symbols(\"a, b, c\")"
   ]
  },
  {
   "cell_type": "code",
   "execution_count": 205,
   "metadata": {
    "colab": {
     "base_uri": "https://localhost:8080/",
     "height": 39
    },
    "executionInfo": {
     "elapsed": 12440,
     "status": "ok",
     "timestamp": 1611071778824,
     "user": {
      "displayName": "Boris Garbuzov",
      "photoUrl": "",
      "userId": "08851466340381164023"
     },
     "user_tz": 300
    },
    "id": "sYNTx4b0TZb8",
    "outputId": "8e4e3bf2-de6e-47be-97a5-af2cc1d1e848"
   },
   "outputs": [
    {
     "data": {
      "image/png": "[encoded data removed]",
      "text/latex": [
       "$$\\left [ \\frac{- b + \\sqrt{- 4 a c + b^{2}}}{2 a}, \\quad - \\frac{b + \\sqrt{- 4 a c + b^{2}}}{2 a}\\right ]$$"
      ],
      "text/plain": [
       "⎡        _____________   ⎛       _____________⎞ ⎤\n",
       "⎢       ╱           2    ⎜      ╱           2 ⎟ ⎥\n",
       "⎢-b + ╲╱  -4⋅a⋅c + b    -⎝b + ╲╱  -4⋅a⋅c + b  ⎠ ⎥\n",
       "⎢─────────────────────, ────────────────────────⎥\n",
       "⎣         2⋅a                     2⋅a           ⎦"
      ]
     },
     "execution_count": 205,
     "metadata": {},
     "output_type": "execute_result"
    }
   ],
   "source": [
    "sympy.solve(a * x**2 + b * x + c, x)"
   ]
  },
  {
   "cell_type": "code",
   "execution_count": 206,
   "metadata": {
    "colab": {
     "base_uri": "https://localhost:8080/",
     "height": 38
    },
    "executionInfo": {
     "elapsed": 12428,
     "status": "ok",
     "timestamp": 1611071778825,
     "user": {
      "displayName": "Boris Garbuzov",
      "photoUrl": "",
      "userId": "08851466340381164023"
     },
     "user_tz": 300
    },
    "id": "7Xt5X81aTZb8",
    "outputId": "372d8daa-54e1-4954-dd32-058429de7191"
   },
   "outputs": [
    {
     "data": {
      "image/png": "[encoded data removed]",
      "text/latex": [
       "$$\\left [ - \\frac{3 \\pi}{4}, \\quad \\frac{\\pi}{4}\\right ]$$"
      ],
      "text/plain": [
       "⎡-3⋅π   π⎤\n",
       "⎢─────, ─⎥\n",
       "⎣  4    4⎦"
      ]
     },
     "execution_count": 206,
     "metadata": {},
     "output_type": "execute_result"
    }
   ],
   "source": [
    "sympy.solve(sympy.sin(x) - sympy.cos(x), x)"
   ]
  },
  {
   "cell_type": "code",
   "execution_count": 207,
   "metadata": {
    "colab": {
     "base_uri": "https://localhost:8080/",
     "height": 38
    },
    "executionInfo": {
     "elapsed": 12422,
     "status": "ok",
     "timestamp": 1611071778826,
     "user": {
      "displayName": "Boris Garbuzov",
      "photoUrl": "",
      "userId": "08851466340381164023"
     },
     "user_tz": 300
    },
    "id": "BRDvUMppTZb8",
    "outputId": "87fa437a-4c85-486a-a2c8-e86160bb91a3"
   },
   "outputs": [
    {
     "data": {
      "image/png": "[encoded data removed]",
      "text/latex": [
       "$$\\left [ - \\operatorname{LambertW}{\\left (\\frac{1}{2} \\right )}\\right ]$$"
      ],
      "text/plain": [
       "[-LambertW(1/2)]"
      ]
     },
     "execution_count": 207,
     "metadata": {},
     "output_type": "execute_result"
    }
   ],
   "source": [
    "sympy.solve(sympy.exp(x) + 2 * x, x)"
   ]
  },
  {
   "cell_type": "code",
   "execution_count": 208,
   "metadata": {
    "colab": {
     "base_uri": "https://localhost:8080/",
     "height": 39
    },
    "executionInfo": {
     "elapsed": 12412,
     "status": "ok",
     "timestamp": 1611071778826,
     "user": {
      "displayName": "Boris Garbuzov",
      "photoUrl": "",
      "userId": "08851466340381164023"
     },
     "user_tz": 300
    },
    "id": "gCnnIU0aTZb8",
    "outputId": "5449d86f-c5c2-4752-df60-9e659650f15e"
   },
   "outputs": [
    {
     "data": {
      "image/png": "[encoded data removed]",
      "text/latex": [
       "$$\\left [ \\operatorname{CRootOf} {\\left(x^{5} - x^{2} + 1, 0\\right)}, \\quad \\operatorname{CRootOf} {\\left(x^{5} - x^{2} + 1, 1\\right)}, \\quad \\operatorname{CRootOf} {\\left(x^{5} - x^{2} + 1, 2\\right)}, \\quad \\operatorname{CRootOf} {\\left(x^{5} - x^{2} + 1, 3\\right)}, \\quad \\operatorname{CRootOf} {\\left(x^{5} - x^{2} + 1, 4\\right)}\\right ]$$"
      ],
      "text/plain": [
       "⎡       ⎛ 5    2       ⎞         ⎛ 5    2       ⎞         ⎛ 5    2       ⎞    \n",
       "⎣CRootOf⎝x  - x  + 1, 0⎠, CRootOf⎝x  - x  + 1, 1⎠, CRootOf⎝x  - x  + 1, 2⎠, CR\n",
       "\n",
       "     ⎛ 5    2       ⎞         ⎛ 5    2       ⎞⎤\n",
       "ootOf⎝x  - x  + 1, 3⎠, CRootOf⎝x  - x  + 1, 4⎠⎦"
      ]
     },
     "execution_count": 208,
     "metadata": {},
     "output_type": "execute_result"
    }
   ],
   "source": [
    "sympy.solve(x**5 - x**2 + 1, x)"
   ]
  },
  {
   "cell_type": "code",
   "execution_count": 209,
   "metadata": {
    "colab": {
     "base_uri": "https://localhost:8080/",
     "height": 37
    },
    "executionInfo": {
     "elapsed": 12401,
     "status": "ok",
     "timestamp": 1611071778826,
     "user": {
      "displayName": "Boris Garbuzov",
      "photoUrl": "",
      "userId": "08851466340381164023"
     },
     "user_tz": 300
    },
    "id": "hv0FaGj5TZb8",
    "outputId": "f4d49d2c-e8a3-4973-99f6-7059b53444ac"
   },
   "outputs": [
    {
     "data": {
      "image/png": "[encoded data removed]",
      "text/latex": [
       "$$1$$"
      ],
      "text/plain": [
       "1"
      ]
     },
     "execution_count": 209,
     "metadata": {},
     "output_type": "execute_result"
    }
   ],
   "source": [
    "1 #s.solve(s.tan(x) - x, x)"
   ]
  },
  {
   "cell_type": "code",
   "execution_count": 210,
   "metadata": {
    "executionInfo": {
     "elapsed": 12400,
     "status": "ok",
     "timestamp": 1611071778827,
     "user": {
      "displayName": "Boris Garbuzov",
      "photoUrl": "",
      "userId": "08851466340381164023"
     },
     "user_tz": 300
    },
    "id": "bVcL_4w2TZb8"
   },
   "outputs": [],
   "source": [
    "eq1 = x + 2 * y - 1\n",
    "eq2 = x - y + 1"
   ]
  },
  {
   "cell_type": "code",
   "execution_count": 211,
   "metadata": {
    "colab": {
     "base_uri": "https://localhost:8080/",
     "height": 39
    },
    "executionInfo": {
     "elapsed": 12390,
     "status": "ok",
     "timestamp": 1611071778827,
     "user": {
      "displayName": "Boris Garbuzov",
      "photoUrl": "",
      "userId": "08851466340381164023"
     },
     "user_tz": 300
    },
    "id": "PtHvTa_TTZb8",
    "outputId": "70cadc40-923c-4689-bfe3-83bf4f8144d3"
   },
   "outputs": [
    {
     "data": {
      "image/png": "[encoded data removed]",
      "text/latex": [
       "$$\\left [ \\left \\{ x : - \\frac{1}{3}, \\quad y : \\frac{2}{3}\\right \\}\\right ]$$"
      ],
      "text/plain": [
       "[{x: -1/3, y: 2/3}]"
      ]
     },
     "execution_count": 211,
     "metadata": {},
     "output_type": "execute_result"
    }
   ],
   "source": [
    "sympy.solve([eq1, eq2], [x, y], dict=True)"
   ]
  },
  {
   "cell_type": "code",
   "execution_count": 212,
   "metadata": {
    "executionInfo": {
     "elapsed": 12390,
     "status": "ok",
     "timestamp": 1611071778828,
     "user": {
      "displayName": "Boris Garbuzov",
      "photoUrl": "",
      "userId": "08851466340381164023"
     },
     "user_tz": 300
    },
    "id": "E4s25NvcTZb8"
   },
   "outputs": [],
   "source": [
    "eq1 = x**2 - y\n",
    "eq2 = y**2 - x"
   ]
  },
  {
   "cell_type": "code",
   "execution_count": 213,
   "metadata": {
    "executionInfo": {
     "elapsed": 12390,
     "status": "ok",
     "timestamp": 1611071778829,
     "user": {
      "displayName": "Boris Garbuzov",
      "photoUrl": "",
      "userId": "08851466340381164023"
     },
     "user_tz": 300
    },
    "id": "UCO6ynppTZb8"
   },
   "outputs": [],
   "source": [
    "sols = sympy.solve([eq1, eq2], [x, y], dict=True)"
   ]
  },
  {
   "cell_type": "code",
   "execution_count": 214,
   "metadata": {
    "colab": {
     "base_uri": "https://localhost:8080/",
     "height": 58
    },
    "executionInfo": {
     "elapsed": 12381,
     "status": "ok",
     "timestamp": 1611071778830,
     "user": {
      "displayName": "Boris Garbuzov",
      "photoUrl": "",
      "userId": "08851466340381164023"
     },
     "user_tz": 300
    },
    "id": "gY5pwDLHTZb8",
    "outputId": "1ff43b01-5d6d-4ded-c110-0d411c30551c"
   },
   "outputs": [
    {
     "data": {
      "image/png": "[encoded data removed]",
      "text/latex": [
       "$$\\left [ \\left \\{ x : 0, \\quad y : 0\\right \\}, \\quad \\left \\{ x : 1, \\quad y : 1\\right \\}, \\quad \\left \\{ x : \\left(- \\frac{1}{2} - \\frac{\\sqrt{3} i}{2}\\right)^{2}, \\quad y : - \\frac{1}{2} - \\frac{\\sqrt{3} i}{2}\\right \\}, \\quad \\left \\{ x : \\left(- \\frac{1}{2} + \\frac{\\sqrt{3} i}{2}\\right)^{2}, \\quad y : - \\frac{1}{2} + \\frac{\\sqrt{3} i}{2}\\right \\}\\right ]$$"
      ],
      "text/plain": [
       "⎡                            ⎧               2               ⎫  ⎧             \n",
       "⎢                            ⎪   ⎛  1   √3⋅ⅈ⎞        1   √3⋅ⅈ⎪  ⎪   ⎛  1   √3⋅\n",
       "⎢{x: 0, y: 0}, {x: 1, y: 1}, ⎨x: ⎜- ─ - ────⎟ , y: - ─ - ────⎬, ⎨x: ⎜- ─ + ───\n",
       "⎢                            ⎪   ⎝  2    2  ⎠        2    2  ⎪  ⎪   ⎝  2    2 \n",
       "⎣                            ⎩                               ⎭  ⎩             \n",
       "\n",
       "  2               ⎫⎤\n",
       "ⅈ⎞        1   √3⋅ⅈ⎪⎥\n",
       "─⎟ , y: - ─ + ────⎬⎥\n",
       " ⎠        2    2  ⎪⎥\n",
       "                  ⎭⎦"
      ]
     },
     "execution_count": 214,
     "metadata": {},
     "output_type": "execute_result"
    }
   ],
   "source": [
    "sols"
   ]
  },
  {
   "cell_type": "code",
   "execution_count": 215,
   "metadata": {
    "colab": {
     "base_uri": "https://localhost:8080/"
    },
    "executionInfo": {
     "elapsed": 12373,
     "status": "ok",
     "timestamp": 1611071778831,
     "user": {
      "displayName": "Boris Garbuzov",
      "photoUrl": "",
      "userId": "08851466340381164023"
     },
     "user_tz": 300
    },
    "id": "8CRjhwBtTZb9",
    "outputId": "abef53b0-15f9-44b6-da48-f654a7f2f57b"
   },
   "outputs": [
    {
     "data": {
      "text/plain": [
       "[True, True, True, True]"
      ]
     },
     "execution_count": 215,
     "metadata": {},
     "output_type": "execute_result"
    }
   ],
   "source": [
    "[eq1.subs(sol).simplify() == 0 and eq2.subs(sol).simplify() == 0 for sol in sols]"
   ]
  },
  {
   "cell_type": "markdown",
   "metadata": {
    "id": "q-L5zgbQTZb9"
   },
   "source": [
    "## Linear algebra"
   ]
  },
  {
   "cell_type": "code",
   "execution_count": 216,
   "metadata": {
    "colab": {
     "base_uri": "https://localhost:8080/",
     "height": 58
    },
    "executionInfo": {
     "elapsed": 12366,
     "status": "ok",
     "timestamp": 1611071778831,
     "user": {
      "displayName": "Boris Garbuzov",
      "photoUrl": "",
      "userId": "08851466340381164023"
     },
     "user_tz": 300
    },
    "id": "TJpbKdTWTZb9",
    "outputId": "a4bea7c9-99b9-4f10-f9c7-3074dad88902"
   },
   "outputs": [
    {
     "data": {
      "text/latex": [
       "$$\\left[\\begin{matrix}1\\\\2\\end{matrix}\\right]$$"
      ],
      "text/plain": [
       "⎡1⎤\n",
       "⎢ ⎥\n",
       "⎣2⎦"
      ]
     },
     "execution_count": 216,
     "metadata": {},
     "output_type": "execute_result"
    }
   ],
   "source": [
    "sympy.Matrix([1,2])"
   ]
  },
  {
   "cell_type": "code",
   "execution_count": 217,
   "metadata": {
    "colab": {
     "base_uri": "https://localhost:8080/",
     "height": 38
    },
    "executionInfo": {
     "elapsed": 12736,
     "status": "ok",
     "timestamp": 1611071779212,
     "user": {
      "displayName": "Boris Garbuzov",
      "photoUrl": "",
      "userId": "08851466340381164023"
     },
     "user_tz": 300
    },
    "id": "orVz8_qUTZb9",
    "outputId": "49652e1c-5872-4899-c41f-142f1daa72d8"
   },
   "outputs": [
    {
     "data": {
      "text/latex": [
       "$$\\left[\\begin{matrix}1 & 2\\end{matrix}\\right]$$"
      ],
      "text/plain": [
       "[1  2]"
      ]
     },
     "execution_count": 217,
     "metadata": {},
     "output_type": "execute_result"
    }
   ],
   "source": [
    "sympy.Matrix([[1,2]])"
   ]
  },
  {
   "cell_type": "code",
   "execution_count": 218,
   "metadata": {
    "colab": {
     "base_uri": "https://localhost:8080/",
     "height": 58
    },
    "executionInfo": {
     "elapsed": 12726,
     "status": "ok",
     "timestamp": 1611071779213,
     "user": {
      "displayName": "Boris Garbuzov",
      "photoUrl": "",
      "userId": "08851466340381164023"
     },
     "user_tz": 300
    },
    "id": "CgisqH2zTZb9",
    "outputId": "790e4eea-6494-4478-84b2-afd7d6e51e3d"
   },
   "outputs": [
    {
     "data": {
      "text/latex": [
       "$$\\left[\\begin{matrix}1 & 2\\\\3 & 4\\end{matrix}\\right]$$"
      ],
      "text/plain": [
       "⎡1  2⎤\n",
       "⎢    ⎥\n",
       "⎣3  4⎦"
      ]
     },
     "execution_count": 218,
     "metadata": {},
     "output_type": "execute_result"
    }
   ],
   "source": [
    "sympy.Matrix([[1, 2], [3, 4]])"
   ]
  },
  {
   "cell_type": "code",
   "execution_count": 219,
   "metadata": {
    "colab": {
     "base_uri": "https://localhost:8080/",
     "height": 78
    },
    "executionInfo": {
     "elapsed": 12718,
     "status": "ok",
     "timestamp": 1611071779213,
     "user": {
      "displayName": "Boris Garbuzov",
      "photoUrl": "",
      "userId": "08851466340381164023"
     },
     "user_tz": 300
    },
    "id": "XtB_EShbTZb9",
    "outputId": "25ef4d0a-770c-4097-93c6-e6aa3f2d2556"
   },
   "outputs": [
    {
     "data": {
      "text/latex": [
       "$$\\left[\\begin{matrix}0 & 1 & 2 & 3\\\\10 & 11 & 12 & 13\\\\20 & 21 & 22 & 23\\end{matrix}\\right]$$"
      ],
      "text/plain": [
       "⎡0   1   2   3 ⎤\n",
       "⎢              ⎥\n",
       "⎢10  11  12  13⎥\n",
       "⎢              ⎥\n",
       "⎣20  21  22  23⎦"
      ]
     },
     "execution_count": 219,
     "metadata": {},
     "output_type": "execute_result"
    }
   ],
   "source": [
    "sympy.Matrix(3, 4, lambda m,n: 10 * m + n)"
   ]
  },
  {
   "cell_type": "code",
   "execution_count": 220,
   "metadata": {
    "executionInfo": {
     "elapsed": 12717,
     "status": "ok",
     "timestamp": 1611071779213,
     "user": {
      "displayName": "Boris Garbuzov",
      "photoUrl": "",
      "userId": "08851466340381164023"
     },
     "user_tz": 300
    },
    "id": "HEYW2EH_TZb9"
   },
   "outputs": [],
   "source": [
    "a, b, c, d = sympy.symbols(\"a, b, c, d\")"
   ]
  },
  {
   "cell_type": "code",
   "execution_count": 221,
   "metadata": {
    "executionInfo": {
     "elapsed": 12718,
     "status": "ok",
     "timestamp": 1611071779215,
     "user": {
      "displayName": "Boris Garbuzov",
      "photoUrl": "",
      "userId": "08851466340381164023"
     },
     "user_tz": 300
    },
    "id": "7aXL9cy_TZb9"
   },
   "outputs": [],
   "source": [
    "M = sympy.Matrix([[a, b], [c, d]])"
   ]
  },
  {
   "cell_type": "code",
   "execution_count": 222,
   "metadata": {
    "colab": {
     "base_uri": "https://localhost:8080/",
     "height": 58
    },
    "executionInfo": {
     "elapsed": 12710,
     "status": "ok",
     "timestamp": 1611071779215,
     "user": {
      "displayName": "Boris Garbuzov",
      "photoUrl": "",
      "userId": "08851466340381164023"
     },
     "user_tz": 300
    },
    "id": "0MAv2E1fTZb9",
    "outputId": "f36e4ef6-5619-4024-c403-35485fbf5030"
   },
   "outputs": [
    {
     "data": {
      "text/latex": [
       "$$\\left[\\begin{matrix}a & b\\\\c & d\\end{matrix}\\right]$$"
      ],
      "text/plain": [
       "⎡a  b⎤\n",
       "⎢    ⎥\n",
       "⎣c  d⎦"
      ]
     },
     "execution_count": 222,
     "metadata": {},
     "output_type": "execute_result"
    }
   ],
   "source": [
    "M"
   ]
  },
  {
   "cell_type": "code",
   "execution_count": 223,
   "metadata": {
    "colab": {
     "base_uri": "https://localhost:8080/",
     "height": 58
    },
    "executionInfo": {
     "elapsed": 12700,
     "status": "ok",
     "timestamp": 1611071779216,
     "user": {
      "displayName": "Boris Garbuzov",
      "photoUrl": "",
      "userId": "08851466340381164023"
     },
     "user_tz": 300
    },
    "id": "Z8FhlUgpTZb9",
    "outputId": "ff981f4a-ad0e-495e-d57c-7b6376e6adf2"
   },
   "outputs": [
    {
     "data": {
      "text/latex": [
       "$$\\left[\\begin{matrix}a^{2} + b c & a b + b d\\\\a c + c d & b c + d^{2}\\end{matrix}\\right]$$"
      ],
      "text/plain": [
       "⎡ 2                  ⎤\n",
       "⎢a  + b⋅c   a⋅b + b⋅d⎥\n",
       "⎢                    ⎥\n",
       "⎢                  2 ⎥\n",
       "⎣a⋅c + c⋅d  b⋅c + d  ⎦"
      ]
     },
     "execution_count": 223,
     "metadata": {},
     "output_type": "execute_result"
    }
   ],
   "source": [
    "M * M"
   ]
  },
  {
   "cell_type": "code",
   "execution_count": 224,
   "metadata": {
    "executionInfo": {
     "elapsed": 12698,
     "status": "ok",
     "timestamp": 1611071779216,
     "user": {
      "displayName": "Boris Garbuzov",
      "photoUrl": "",
      "userId": "08851466340381164023"
     },
     "user_tz": 300
    },
    "id": "Y15BnQG7TZb-"
   },
   "outputs": [],
   "source": [
    "x = sympy.Matrix(sympy.symbols(\"x_1, x_2\"))"
   ]
  },
  {
   "cell_type": "code",
   "execution_count": 225,
   "metadata": {
    "colab": {
     "base_uri": "https://localhost:8080/",
     "height": 58
    },
    "executionInfo": {
     "elapsed": 12690,
     "status": "ok",
     "timestamp": 1611071779216,
     "user": {
      "displayName": "Boris Garbuzov",
      "photoUrl": "",
      "userId": "08851466340381164023"
     },
     "user_tz": 300
    },
    "id": "5p6lO1MjTZb-",
    "outputId": "e4d5933d-1353-4258-9d1c-4d11a574d404"
   },
   "outputs": [
    {
     "data": {
      "text/latex": [
       "$$\\left[\\begin{matrix}a x_{1} + b x_{2}\\\\c x_{1} + d x_{2}\\end{matrix}\\right]$$"
      ],
      "text/plain": [
       "⎡a⋅x₁ + b⋅x₂⎤\n",
       "⎢           ⎥\n",
       "⎣c⋅x₁ + d⋅x₂⎦"
      ]
     },
     "execution_count": 225,
     "metadata": {},
     "output_type": "execute_result"
    }
   ],
   "source": [
    "M * x"
   ]
  },
  {
   "cell_type": "code",
   "execution_count": 226,
   "metadata": {
    "executionInfo": {
     "elapsed": 12689,
     "status": "ok",
     "timestamp": 1611071779217,
     "user": {
      "displayName": "Boris Garbuzov",
      "photoUrl": "",
      "userId": "08851466340381164023"
     },
     "user_tz": 300
    },
    "id": "i12LftnUTZb-"
   },
   "outputs": [],
   "source": [
    "p, q = sympy.symbols(\"p, q\")"
   ]
  },
  {
   "cell_type": "code",
   "execution_count": 227,
   "metadata": {
    "executionInfo": {
     "elapsed": 12689,
     "status": "ok",
     "timestamp": 1611071779218,
     "user": {
      "displayName": "Boris Garbuzov",
      "photoUrl": "",
      "userId": "08851466340381164023"
     },
     "user_tz": 300
    },
    "id": "1qLmfUmtTZb-"
   },
   "outputs": [],
   "source": [
    "M = sympy.Matrix([[1, p], [q, 1]])"
   ]
  },
  {
   "cell_type": "code",
   "execution_count": 228,
   "metadata": {
    "colab": {
     "base_uri": "https://localhost:8080/",
     "height": 58
    },
    "executionInfo": {
     "elapsed": 12686,
     "status": "ok",
     "timestamp": 1611071779221,
     "user": {
      "displayName": "Boris Garbuzov",
      "photoUrl": "",
      "userId": "08851466340381164023"
     },
     "user_tz": 300
    },
    "id": "ZnRD1IiITZb-",
    "outputId": "6a3a9e89-fb64-420a-fec8-00ad132447c4"
   },
   "outputs": [
    {
     "data": {
      "text/latex": [
       "$$\\left[\\begin{matrix}1 & p\\\\q & 1\\end{matrix}\\right]$$"
      ],
      "text/plain": [
       "⎡1  p⎤\n",
       "⎢    ⎥\n",
       "⎣q  1⎦"
      ]
     },
     "execution_count": 228,
     "metadata": {},
     "output_type": "execute_result"
    }
   ],
   "source": [
    "M"
   ]
  },
  {
   "cell_type": "code",
   "execution_count": 229,
   "metadata": {
    "executionInfo": {
     "elapsed": 12685,
     "status": "ok",
     "timestamp": 1611071779222,
     "user": {
      "displayName": "Boris Garbuzov",
      "photoUrl": "",
      "userId": "08851466340381164023"
     },
     "user_tz": 300
    },
    "id": "AoFlP65sTZb-"
   },
   "outputs": [],
   "source": [
    "b = sympy.Matrix(sympy.symbols(\"b_1, b_2\"))"
   ]
  },
  {
   "cell_type": "code",
   "execution_count": 230,
   "metadata": {
    "colab": {
     "base_uri": "https://localhost:8080/",
     "height": 58
    },
    "executionInfo": {
     "elapsed": 12677,
     "status": "ok",
     "timestamp": 1611071779223,
     "user": {
      "displayName": "Boris Garbuzov",
      "photoUrl": "",
      "userId": "08851466340381164023"
     },
     "user_tz": 300
    },
    "id": "N-y2uKR2TZb-",
    "outputId": "37eb7aae-4971-43df-ff6d-b22f517e1a94"
   },
   "outputs": [
    {
     "data": {
      "text/latex": [
       "$$\\left[\\begin{matrix}b_{1}\\\\b_{2}\\end{matrix}\\right]$$"
      ],
      "text/plain": [
       "⎡b₁⎤\n",
       "⎢  ⎥\n",
       "⎣b₂⎦"
      ]
     },
     "execution_count": 230,
     "metadata": {},
     "output_type": "execute_result"
    }
   ],
   "source": [
    "b"
   ]
  },
  {
   "cell_type": "code",
   "execution_count": 231,
   "metadata": {
    "colab": {
     "base_uri": "https://localhost:8080/",
     "height": 68
    },
    "executionInfo": {
     "elapsed": 12667,
     "status": "ok",
     "timestamp": 1611071779224,
     "user": {
      "displayName": "Boris Garbuzov",
      "photoUrl": "",
      "userId": "08851466340381164023"
     },
     "user_tz": 300
    },
    "id": "bciD7Rk_TZb-",
    "outputId": "5e24e25d-c589-456f-e89c-ff6b4d6bd9ad"
   },
   "outputs": [
    {
     "data": {
      "text/latex": [
       "$$\\left[\\begin{matrix}\\frac{b_{1}}{- p q + 1} - \\frac{b_{2} p}{- p q + 1}\\\\- \\frac{b_{1} q}{- p q + 1} + \\frac{b_{2}}{- p q + 1}\\end{matrix}\\right]$$"
      ],
      "text/plain": [
       "⎡    b₁        b₂⋅p   ⎤\n",
       "⎢ ──────── - ──────── ⎥\n",
       "⎢ -p⋅q + 1   -p⋅q + 1 ⎥\n",
       "⎢                     ⎥\n",
       "⎢    b₁⋅q        b₂   ⎥\n",
       "⎢- ──────── + ────────⎥\n",
       "⎣  -p⋅q + 1   -p⋅q + 1⎦"
      ]
     },
     "execution_count": 231,
     "metadata": {},
     "output_type": "execute_result"
    }
   ],
   "source": [
    "x = M.solve(b)\n",
    "x"
   ]
  },
  {
   "cell_type": "code",
   "execution_count": 232,
   "metadata": {
    "executionInfo": {
     "elapsed": 12664,
     "status": "ok",
     "timestamp": 1611071779225,
     "user": {
      "displayName": "Boris Garbuzov",
      "photoUrl": "",
      "userId": "08851466340381164023"
     },
     "user_tz": 300
    },
    "id": "Lp8HI4zNTZb-"
   },
   "outputs": [],
   "source": [
    "x = M.LUsolve(b)"
   ]
  },
  {
   "cell_type": "code",
   "execution_count": 233,
   "metadata": {
    "colab": {
     "base_uri": "https://localhost:8080/",
     "height": 68
    },
    "executionInfo": {
     "elapsed": 12657,
     "status": "ok",
     "timestamp": 1611071779226,
     "user": {
      "displayName": "Boris Garbuzov",
      "photoUrl": "",
      "userId": "08851466340381164023"
     },
     "user_tz": 300
    },
    "id": "afudAEEFTZb-",
    "outputId": "df48ba0c-99d8-47ee-94e3-5bd53323d4c9"
   },
   "outputs": [
    {
     "data": {
      "text/latex": [
       "$$\\left[\\begin{matrix}b_{1} - \\frac{p \\left(- b_{1} q + b_{2}\\right)}{- p q + 1}\\\\\\frac{- b_{1} q + b_{2}}{- p q + 1}\\end{matrix}\\right]$$"
      ],
      "text/plain": [
       "⎡     p⋅(-b₁⋅q + b₂)⎤\n",
       "⎢b₁ - ──────────────⎥\n",
       "⎢        -p⋅q + 1   ⎥\n",
       "⎢                   ⎥\n",
       "⎢    -b₁⋅q + b₂     ⎥\n",
       "⎢    ──────────     ⎥\n",
       "⎣     -p⋅q + 1      ⎦"
      ]
     },
     "execution_count": 233,
     "metadata": {},
     "output_type": "execute_result"
    }
   ],
   "source": [
    "x"
   ]
  },
  {
   "cell_type": "code",
   "execution_count": 234,
   "metadata": {
    "executionInfo": {
     "elapsed": 12657,
     "status": "ok",
     "timestamp": 1611071779227,
     "user": {
      "displayName": "Boris Garbuzov",
      "photoUrl": "",
      "userId": "08851466340381164023"
     },
     "user_tz": 300
    },
    "id": "J3vlhq4JTZb-"
   },
   "outputs": [],
   "source": [
    "x = M.inv() * b"
   ]
  },
  {
   "cell_type": "code",
   "execution_count": 235,
   "metadata": {
    "colab": {
     "base_uri": "https://localhost:8080/",
     "height": 68
    },
    "executionInfo": {
     "elapsed": 12648,
     "status": "ok",
     "timestamp": 1611071779227,
     "user": {
      "displayName": "Boris Garbuzov",
      "photoUrl": "",
      "userId": "08851466340381164023"
     },
     "user_tz": 300
    },
    "id": "Yp2f9LT6TZb-",
    "outputId": "056a4fa6-fc40-4f1b-aec8-cad38e9a61b9"
   },
   "outputs": [
    {
     "data": {
      "text/latex": [
       "$$\\left[\\begin{matrix}\\frac{b_{1}}{- p q + 1} - \\frac{b_{2} p}{- p q + 1}\\\\- \\frac{b_{1} q}{- p q + 1} + \\frac{b_{2}}{- p q + 1}\\end{matrix}\\right]$$"
      ],
      "text/plain": [
       "⎡    b₁        b₂⋅p   ⎤\n",
       "⎢ ──────── - ──────── ⎥\n",
       "⎢ -p⋅q + 1   -p⋅q + 1 ⎥\n",
       "⎢                     ⎥\n",
       "⎢    b₁⋅q        b₂   ⎥\n",
       "⎢- ──────── + ────────⎥\n",
       "⎣  -p⋅q + 1   -p⋅q + 1⎦"
      ]
     },
     "execution_count": 235,
     "metadata": {},
     "output_type": "execute_result"
    }
   ],
   "source": [
    "x"
   ]
  }
 ],
 "metadata": {
  "colab": {
   "collapsed_sections": [],
   "name": "ch03 sympy.ipynb",
   "provenance": []
  },
  "kernelspec": {
   "display_name": "Python 3",
   "language": "python",
   "name": "python3"
  },
  "language_info": {
   "codemirror_mode": {
    "name": "ipython",
    "version": 3
   },
   "file_extension": ".py",
   "mimetype": "text/x-python",
   "name": "python",
   "nbconvert_exporter": "python",
   "pygments_lexer": "ipython3",
   "version": "3.7.3"
  }
 },
 "nbformat": 4,
 "nbformat_minor": 1
}
